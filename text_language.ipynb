{
 "cells": [
  {
   "cell_type": "code",
   "execution_count": null,
   "id": "2451548b",
   "metadata": {},
   "outputs": [],
   "source": [
    "from all_processes.basic_process_okru import BasicProcessOkru"
   ]
  },
  {
   "cell_type": "code",
   "execution_count": null,
   "id": "0f09308e",
   "metadata": {},
   "outputs": [],
   "source": [
    "basic_process_object = BasicProcessOkru(links_path='/Users/timdunn/Desktop/converted_movie_project_data/merged_imdb_links.csv',\n",
    "                directory='/Users/timdunn/Desktop/link_extra_progress/', \n",
    "                 outputdirectory='/Users/timdunn/Desktop/converted_movie_project_data/')"
   ]
  },
  {
   "cell_type": "code",
   "execution_count": null,
   "id": "51975f73",
   "metadata": {},
   "outputs": [],
   "source": [
    "from all_processes.proxy_collector import ProxyCollector"
   ]
  },
  {
   "cell_type": "code",
   "execution_count": null,
   "id": "576288b4",
   "metadata": {},
   "outputs": [],
   "source": []
  },
  {
   "cell_type": "code",
   "execution_count": null,
   "id": "d7f0c173",
   "metadata": {},
   "outputs": [],
   "source": [
    "from proxybroker import Broker"
   ]
  },
  {
   "cell_type": "code",
   "execution_count": null,
   "id": "b5f6b216",
   "metadata": {},
   "outputs": [],
   "source": [
    "Broker()"
   ]
  },
  {
   "cell_type": "code",
   "execution_count": null,
   "id": "38112f58",
   "metadata": {},
   "outputs": [],
   "source": [
    "Broker"
   ]
  },
  {
   "cell_type": "code",
   "execution_count": null,
   "id": "c2b054b6",
   "metadata": {},
   "outputs": [],
   "source": [
    "proxy_collector.verified_proxies"
   ]
  },
  {
   "cell_type": "code",
   "execution_count": null,
   "id": "8e629c38",
   "metadata": {},
   "outputs": [],
   "source": [
    "proxy_collector = ProxyCollector('/Users/timdunn/Desktop/converted_movie_project_data/merged_imdb_links.csv', 100)"
   ]
  },
  {
   "cell_type": "code",
   "execution_count": null,
   "id": "5e417c6a",
   "metadata": {},
   "outputs": [],
   "source": [
    "len(verified_proxies)"
   ]
  },
  {
   "cell_type": "code",
   "execution_count": null,
   "id": "126e84b6",
   "metadata": {},
   "outputs": [],
   "source": [
    "verified_proxies = proxy_collector.find_verify()"
   ]
  },
  {
   "cell_type": "code",
   "execution_count": null,
   "id": "5fcae2e3",
   "metadata": {},
   "outputs": [],
   "source": [
    "proxies = await ProxyCollector('/Users/timdunn/Desktop/converted_movie_project_data/merged_imdb_links.csv', 100).find_verify()"
   ]
  },
  {
   "cell_type": "code",
   "execution_count": null,
   "id": "c95a56aa",
   "metadata": {},
   "outputs": [],
   "source": [
    "proxies = get_verify_proxies('/Users/timdunn/Desktop/converted_movie_project_data/merged_imdb_links.csv', 100)"
   ]
  },
  {
   "cell_type": "code",
   "execution_count": null,
   "id": "2296caa2",
   "metadata": {},
   "outputs": [],
   "source": [
    "collector_object = ProxyCollector('/Users/timdunn/Desktop/converted_movie_project_data/merged_imdb_links.csv', 100)"
   ]
  },
  {
   "cell_type": "code",
   "execution_count": null,
   "id": "3380ba6a",
   "metadata": {},
   "outputs": [],
   "source": [
    "import asyncio"
   ]
  },
  {
   "cell_type": "code",
   "execution_count": null,
   "id": "c7519df6",
   "metadata": {},
   "outputs": [],
   "source": [
    "asyncio.run(collector_object.find_all_proxies())"
   ]
  },
  {
   "cell_type": "code",
   "execution_count": null,
   "id": "390025e0",
   "metadata": {},
   "outputs": [],
   "source": [
    "proxy_object = ProxyCollector('/Users/timdunn/Desktop/converted_movie_project_data/merged_imdb_links.csv', 100)"
   ]
  },
  {
   "cell_type": "code",
   "execution_count": null,
   "id": "6c9e0adf",
   "metadata": {},
   "outputs": [],
   "source": [
    "proxies = proxy_object.find_verify()"
   ]
  },
  {
   "cell_type": "code",
   "execution_count": null,
   "id": "b0035b6a",
   "metadata": {},
   "outputs": [],
   "source": [
    "broker, tasks, loop = get_proxies(100)"
   ]
  },
  {
   "cell_type": "code",
   "execution_count": null,
   "id": "bc2b561b",
   "metadata": {},
   "outputs": [],
   "source": [
    "tasks.done()"
   ]
  },
  {
   "cell_type": "code",
   "execution_count": null,
   "id": "6cbb546c",
   "metadata": {},
   "outputs": [],
   "source": [
    "broker.unique_proxies"
   ]
  },
  {
   "cell_type": "code",
   "execution_count": null,
   "id": "7f624024",
   "metadata": {},
   "outputs": [],
   "source": [
    "import time"
   ]
  },
  {
   "cell_type": "code",
   "execution_count": null,
   "id": "45371eb8",
   "metadata": {},
   "outputs": [],
   "source": [
    "broker = get_proxies(100)"
   ]
  },
  {
   "cell_type": "code",
   "execution_count": null,
   "id": "166acf7f",
   "metadata": {},
   "outputs": [],
   "source": [
    "len(list(broker.unique_proxies.keys()))"
   ]
  },
  {
   "cell_type": "code",
   "execution_count": null,
   "id": "286a0108",
   "metadata": {},
   "outputs": [],
   "source": [
    "broker, tasks, loop = get_proxies(100)\n",
    "while not tasks.done():\n",
    "    pass\n",
    "proxies = broker.unique_proxies"
   ]
  },
  {
   "cell_type": "code",
   "execution_count": null,
   "id": "4aea5676",
   "metadata": {},
   "outputs": [],
   "source": [
    "broker = get_proxies(100)"
   ]
  },
  {
   "cell_type": "code",
   "execution_count": null,
   "id": "7603e4c4",
   "metadata": {},
   "outputs": [],
   "source": [
    "proxy_object = ProxyCollector('/Users/timdunn/Desktop/converted_movie_project_data/merged_imdb_links.csv', 100)"
   ]
  },
  {
   "cell_type": "code",
   "execution_count": null,
   "id": "0c84827e",
   "metadata": {},
   "outputs": [],
   "source": [
    "proxy_object.find_verify()"
   ]
  },
  {
   "cell_type": "code",
   "execution_count": null,
   "id": "927340dd",
   "metadata": {},
   "outputs": [],
   "source": [
    "proxy_object.find_all_proxies()"
   ]
  },
  {
   "cell_type": "code",
   "execution_count": null,
   "id": "ea9914b0",
   "metadata": {},
   "outputs": [],
   "source": [
    "proxy_object.broker.show_stats()"
   ]
  },
  {
   "cell_type": "code",
   "execution_count": null,
   "id": "0059ba67",
   "metadata": {},
   "outputs": [],
   "source": [
    "proxy_object.working_proxies"
   ]
  },
  {
   "cell_type": "code",
   "execution_count": null,
   "id": "2a10e15f",
   "metadata": {},
   "outputs": [],
   "source": [
    "proxy_object.working_proxies"
   ]
  },
  {
   "cell_type": "code",
   "execution_count": null,
   "id": "dd725188",
   "metadata": {},
   "outputs": [],
   "source": [
    "proxy_object.find_all_proxies()\n",
    "proxy_object.double_verify()\n",
    "print(proxy_object.verified_proxies)"
   ]
  },
  {
   "cell_type": "code",
   "execution_count": null,
   "id": "2fc59ec1",
   "metadata": {},
   "outputs": [],
   "source": [
    "async_loop = asyncio.get_event_loop()"
   ]
  },
  {
   "cell_type": "code",
   "execution_count": null,
   "id": "f8fbae94",
   "metadata": {},
   "outputs": [],
   "source": [
    "proxy_object.working_proxies"
   ]
  },
  {
   "cell_type": "code",
   "execution_count": null,
   "id": "824204a3",
   "metadata": {},
   "outputs": [],
   "source": [
    "dfs = basic_process_object.get_dfs()"
   ]
  },
  {
   "cell_type": "code",
   "execution_count": null,
   "id": "d8b5e69b",
   "metadata": {},
   "outputs": [],
   "source": [
    "dfs"
   ]
  },
  {
   "cell_type": "code",
   "execution_count": null,
   "id": "17e4c9d6",
   "metadata": {},
   "outputs": [],
   "source": [
    "basic_process_object.process_and_combine()"
   ]
  },
  {
   "cell_type": "code",
   "execution_count": null,
   "id": "5ebc2634",
   "metadata": {},
   "outputs": [],
   "source": [
    "from all_processes.process_top_movies import ProcessTopMovies"
   ]
  },
  {
   "cell_type": "code",
   "execution_count": null,
   "id": "d1d5dcf9",
   "metadata": {},
   "outputs": [],
   "source": [
    "from common_methods import *"
   ]
  },
  {
   "cell_type": "code",
   "execution_count": null,
   "id": "d04178b3",
   "metadata": {},
   "outputs": [],
   "source": [
    "links = pd.read_csv('/Users/timdunn/Desktop/converted_movie_project_data/merged_imdb_links.csv')"
   ]
  },
  {
   "cell_type": "code",
   "execution_count": null,
   "id": "b1289f23",
   "metadata": {},
   "outputs": [],
   "source": [
    "links = links.loc[~links['movie'].isnull()]"
   ]
  },
  {
   "cell_type": "code",
   "execution_count": null,
   "id": "d622400a",
   "metadata": {},
   "outputs": [],
   "source": [
    "links = links.loc[links['link_url'].str.contains('ok.ru')]"
   ]
  },
  {
   "cell_type": "code",
   "execution_count": null,
   "id": "d637fcd8",
   "metadata": {},
   "outputs": [],
   "source": [
    "from common_methods import get_list_proxies"
   ]
  },
  {
   "cell_type": "code",
   "execution_count": null,
   "id": "2b4394a2",
   "metadata": {},
   "outputs": [],
   "source": [
    "from fp.fp import FreeProxy"
   ]
  },
  {
   "cell_type": "code",
   "execution_count": null,
   "id": "1f301531",
   "metadata": {},
   "outputs": [],
   "source": [
    "proxy = FreeProxy().get()"
   ]
  },
  {
   "cell_type": "code",
   "execution_count": null,
   "id": "28cf76db",
   "metadata": {},
   "outputs": [],
   "source": [
    "proxies = {\n",
    "   'http': 'http://103.167.135.111:80',\n",
    "   'https': 'http://116.98.229.237:10003'\n",
    "}"
   ]
  },
  {
   "cell_type": "code",
   "execution_count": null,
   "id": "16c567f3",
   "metadata": {},
   "outputs": [],
   "source": [
    "from common_methods import *"
   ]
  },
  {
   "cell_type": "code",
   "execution_count": null,
   "id": "04b9c741",
   "metadata": {},
   "outputs": [],
   "source": [
    "proxies = get_list_proxies(20, https=False)"
   ]
  },
  {
   "cell_type": "code",
   "execution_count": null,
   "id": "2198e819",
   "metadata": {},
   "outputs": [],
   "source": [
    "working_proxies = list()"
   ]
  },
  {
   "cell_type": "code",
   "execution_count": null,
   "id": "a63e6440",
   "metadata": {},
   "outputs": [],
   "source": [
    "sample"
   ]
  },
  {
   "cell_type": "code",
   "execution_count": null,
   "id": "3a8341c7",
   "metadata": {
    "scrolled": true
   },
   "outputs": [],
   "source": [
    "indexes = sample(3, list(links.index))"
   ]
  },
  {
   "cell_type": "code",
   "execution_count": null,
   "id": "2a58b386",
   "metadata": {},
   "outputs": [],
   "source": [
    "from common_methods import *"
   ]
  },
  {
   "cell_type": "code",
   "execution_count": null,
   "id": "0e9c0751",
   "metadata": {},
   "outputs": [],
   "source": [
    "double_checked = list()"
   ]
  },
  {
   "cell_type": "code",
   "execution_count": null,
   "id": "8a36d2ed",
   "metadata": {},
   "outputs": [],
   "source": [
    "for proxy in working_proxies:\n",
    "    try:\n",
    "        indexes = sample(list(links.index), 3)\n",
    "        for index, row in links.loc[indexes].iterrows():\n",
    "            request_obj = requests.get(row['link_url'], proxies={'http': f'http://{proxy.host}'})\n",
    "            soup = BeautifulSoup(request_obj.content.decode('utf-8', 'ignore'))\n",
    "        double_checked.append(proxy)\n",
    "    except:\n",
    "        pass"
   ]
  },
  {
   "cell_type": "code",
   "execution_count": null,
   "id": "ace100b4",
   "metadata": {},
   "outputs": [],
   "source": [
    "request_obj = requests.get(row['link_url'], proxies={'http': f'http://{working_proxies[0].host}'})"
   ]
  },
  {
   "cell_type": "code",
   "execution_count": null,
   "id": "e71c0c14",
   "metadata": {},
   "outputs": [],
   "source": [
    "soup = BeautifulSoup(request_obj.content.decode('utf-8', 'ignore'))"
   ]
  },
  {
   "cell_type": "code",
   "execution_count": null,
   "id": "2990b65f",
   "metadata": {},
   "outputs": [],
   "source": [
    "soup"
   ]
  },
  {
   "cell_type": "code",
   "execution_count": null,
   "id": "b9f036f9",
   "metadata": {},
   "outputs": [],
   "source": [
    "request_obj = requests.get(row['link_url'], proxies=working_proxies[0].host})"
   ]
  },
  {
   "cell_type": "code",
   "execution_count": null,
   "id": "7cc7babd",
   "metadata": {},
   "outputs": [],
   "source": [
    "soup = BeautifulSoup(request_obj.content.decode('utf-8', 'ignore'))"
   ]
  },
  {
   "cell_type": "code",
   "execution_count": null,
   "id": "ab7b48a3",
   "metadata": {},
   "outputs": [],
   "source": [
    "soup"
   ]
  },
  {
   "cell_type": "code",
   "execution_count": null,
   "id": "d43c87ec",
   "metadata": {},
   "outputs": [],
   "source": [
    "row['link_url']"
   ]
  },
  {
   "cell_type": "code",
   "execution_count": null,
   "id": "2dcb4d74",
   "metadata": {},
   "outputs": [],
   "source": [
    "working_proxies[0].host"
   ]
  },
  {
   "cell_type": "code",
   "execution_count": null,
   "id": "631e57ca",
   "metadata": {},
   "outputs": [],
   "source": [
    "indexes"
   ]
  },
  {
   "cell_type": "code",
   "execution_count": null,
   "id": "e2b26c67",
   "metadata": {},
   "outputs": [],
   "source": [
    "double_checked"
   ]
  },
  {
   "cell_type": "code",
   "execution_count": null,
   "id": "7345c2c5",
   "metadata": {},
   "outputs": [],
   "source": [
    "import asyncio\n",
    "from proxybroker import Broker"
   ]
  },
  {
   "cell_type": "code",
   "execution_count": null,
   "id": "f9cf274d",
   "metadata": {},
   "outputs": [],
   "source": [
    "working_proxies = []"
   ]
  },
  {
   "cell_type": "code",
   "execution_count": null,
   "id": "9b1fbbc8",
   "metadata": {},
   "outputs": [],
   "source": []
  },
  {
   "cell_type": "code",
   "execution_count": null,
   "id": "8b7945e1",
   "metadata": {},
   "outputs": [],
   "source": [
    "working_proxies[0].host"
   ]
  },
  {
   "cell_type": "code",
   "execution_count": 1,
   "id": "a345d8dd",
   "metadata": {},
   "outputs": [],
   "source": [
    "import asyncio\n",
    "from common_methods import *"
   ]
  },
  {
   "cell_type": "code",
   "execution_count": 2,
   "id": "14dad4dc",
   "metadata": {},
   "outputs": [],
   "source": [
    "from proxybroker import Broker"
   ]
  },
  {
   "cell_type": "code",
   "execution_count": 12,
   "id": "08d9b9f2",
   "metadata": {},
   "outputs": [],
   "source": [
    "async def show(proxies):\n",
    "    while True:\n",
    "        proxy = await proxies.get()\n",
    "        if proxy is not None: \n",
    "            print('Found proxy: %s' % proxy)\n",
    "        else:\n",
    "            print('proxy is none')"
   ]
  },
  {
   "cell_type": "code",
   "execution_count": 13,
   "id": "c2a44699",
   "metadata": {},
   "outputs": [],
   "source": [
    "proxies = asyncio.Queue()"
   ]
  },
  {
   "cell_type": "code",
   "execution_count": 14,
   "id": "db17e64c",
   "metadata": {},
   "outputs": [],
   "source": [
    "broker = Broker(proxies)"
   ]
  },
  {
   "cell_type": "code",
   "execution_count": 15,
   "id": "f2d78fdf",
   "metadata": {},
   "outputs": [
    {
     "name": "stdout",
     "output_type": "stream",
     "text": [
      "Found proxy: <Proxy IR 0.57s [HTTPS] 5.161.216.43:8080>\n",
      "Found proxy: <Proxy DE 0.65s [HTTPS] 95.217.238.76:8080>\n",
      "Found proxy: <Proxy US 0.84s [HTTPS] 65.108.48.14:8080>\n",
      "Found proxy: <Proxy IR 0.96s [HTTPS] 128.140.59.58:8080>\n",
      "Found proxy: <Proxy US 1.10s [HTTPS] 65.109.136.123:8080>\n"
     ]
    },
    {
     "name": "stderr",
     "output_type": "stream",
     "text": [
      "1.09.74.59:476: Error at creating: \n"
     ]
    },
    {
     "name": "stdout",
     "output_type": "stream",
     "text": [
      "Found proxy: <Proxy VN 1.17s [HTTPS] 202.134.19.50:3128>\n",
      "Found proxy: <Proxy DE 0.56s [HTTPS] 95.216.162.20:8080>\n",
      "Found proxy: <Proxy US 0.88s [HTTPS] 65.109.132.234:8080>\n",
      "Found proxy: <Proxy IR 1.03s [HTTPS] 5.161.192.56:8080>\n",
      "Found proxy: <Proxy IR 0.51s [HTTPS] 5.75.179.170:8080>\n",
      "Found proxy: <Proxy CA 0.60s [HTTPS] 135.181.95.192:8080>\n",
      "Found proxy: <Proxy DE 0.64s [HTTPS] 95.217.208.133:8080>\n",
      "Found proxy: <Proxy IR 0.85s [HTTPS] 5.78.72.234:8080>\n",
      "Found proxy: <Proxy US 1.98s [HTTPS] 159.223.24.160:8080>\n"
     ]
    }
   ],
   "source": [
    "tasks = asyncio.gather(broker.find(types=['HTTPS'], limit=100), show(proxies))"
   ]
  },
  {
   "cell_type": "code",
   "execution_count": 19,
   "id": "cc50e24c",
   "metadata": {},
   "outputs": [],
   "source": [
    "data = [{'host': key[0], 'port': key[1]} for key in broker.unique_proxies.keys()]"
   ]
  },
  {
   "cell_type": "code",
   "execution_count": 21,
   "id": "3f9e893c",
   "metadata": {},
   "outputs": [],
   "source": [
    "import pandas as pd"
   ]
  },
  {
   "cell_type": "code",
   "execution_count": 22,
   "id": "b3d70976",
   "metadata": {},
   "outputs": [],
   "source": [
    "from all_processes.load_yaml_vars import LoadYamlVars"
   ]
  },
  {
   "cell_type": "code",
   "execution_count": 23,
   "id": "d333eaf3",
   "metadata": {},
   "outputs": [],
   "source": [
    "proxy_file = LoadYamlVars(yaml_file_path='/Users/timdunn/movie_project/all_processes/movie_configuration.yaml').proxies_path"
   ]
  },
  {
   "cell_type": "code",
   "execution_count": 24,
   "id": "e13d7e53",
   "metadata": {},
   "outputs": [
    {
     "data": {
      "text/plain": [
       "'/Users/timdunn/Desktop/proxies.csv'"
      ]
     },
     "execution_count": 24,
     "metadata": {},
     "output_type": "execute_result"
    }
   ],
   "source": [
    "proxy_file"
   ]
  },
  {
   "cell_type": "code",
   "execution_count": 25,
   "id": "029f1365",
   "metadata": {},
   "outputs": [],
   "source": [
    "pd.DataFrame(data=data).to_csv(proxy_file, index=False)"
   ]
  },
  {
   "cell_type": "code",
   "execution_count": null,
   "id": "d6a25ecf",
   "metadata": {},
   "outputs": [],
   "source": [
    "async def show(proxies):\n",
    "    while True:\n",
    "        proxy = await proxies.get()\n",
    "        if proxy is None: break\n",
    "        print('Found proxy: %s' % proxy)\n",
    "\n",
    "proxies = asyncio.Queue()\n",
    "broker = Broker(proxies)\n",
    "tasks = asyncio.gather(\n",
    "    broker.find(types=['HTTP', 'HTTPS'], limit=10),\n",
    "    show(proxies))\n",
    "\n",
    "loop = asyncio.get_event_loop()\n",
    "loop.run_until_complete(tasks)"
   ]
  },
  {
   "cell_type": "code",
   "execution_count": null,
   "id": "9b2227f7",
   "metadata": {},
   "outputs": [],
   "source": [
    "loop.run_until_complete(tasks)"
   ]
  },
  {
   "cell_type": "code",
   "execution_count": null,
   "id": "6db1b512",
   "metadata": {},
   "outputs": [],
   "source": [
    "from all_processes.basic_process_okru import BasicProcessOkru"
   ]
  },
  {
   "cell_type": "code",
   "execution_count": null,
   "id": "93d2e554",
   "metadata": {},
   "outputs": [],
   "source": [
    "basic_process_object = BasicProcessOkru(links_path='/Users/timdunn/Desktop/converted_movie_project_data/merged_imdb_links.csv',\n",
    "                directory='/Users/timdunn/Desktop/link_extra_progress/', \n",
    "                 outputdirectory='/Users/timdunn/Desktop/converted_movie_project_data/')"
   ]
  },
  {
   "cell_type": "code",
   "execution_count": null,
   "id": "a077f42e",
   "metadata": {},
   "outputs": [],
   "source": [
    "proxies = basic_process_object.proxies"
   ]
  },
  {
   "cell_type": "code",
   "execution_count": null,
   "id": "3effdbfe",
   "metadata": {},
   "outputs": [],
   "source": [
    "proxies"
   ]
  },
  {
   "cell_type": "code",
   "execution_count": null,
   "id": "a82a9a9d",
   "metadata": {},
   "outputs": [],
   "source": [
    "basic_process_object.process_and_combine()"
   ]
  },
  {
   "cell_type": "code",
   "execution_count": null,
   "id": "bd8e173e",
   "metadata": {},
   "outputs": [],
   "source": [
    "data = list()"
   ]
  },
  {
   "cell_type": "code",
   "execution_count": null,
   "id": "5ef07ab4",
   "metadata": {},
   "outputs": [],
   "source": [
    "import time"
   ]
  },
  {
   "cell_type": "code",
   "execution_count": null,
   "id": "34f73252",
   "metadata": {},
   "outputs": [],
   "source": [
    "starting_time = int(time.time())"
   ]
  },
  {
   "cell_type": "code",
   "execution_count": null,
   "id": "fb9f3f2f",
   "metadata": {},
   "outputs": [],
   "source": [
    "directory = '/Users/timdunn/Desktop/link_extra_progress/'"
   ]
  },
  {
   "cell_type": "code",
   "execution_count": null,
   "id": "0b1056b8",
   "metadata": {},
   "outputs": [],
   "source": [
    "from common_methods import *"
   ]
  },
  {
   "cell_type": "code",
   "execution_count": null,
   "id": "a3e42c8b",
   "metadata": {},
   "outputs": [],
   "source": [
    "def get_directory_df(file):\n",
    "    try:\n",
    "        return pd.read_csv(file)\n",
    "    except:\n",
    "        return\n",
    "\n",
    "def get_directory_dfs(directory):\n",
    "    return [get_directory_df(file) for file in listdir_nohidden(directory) \n",
    "            if get_directory_df(file) is not None]"
   ]
  },
  {
   "cell_type": "code",
   "execution_count": null,
   "id": "3b195efb",
   "metadata": {},
   "outputs": [],
   "source": [
    "dfs = get_directory_dfs(directory)"
   ]
  },
  {
   "cell_type": "code",
   "execution_count": null,
   "id": "0a7a8469",
   "metadata": {},
   "outputs": [],
   "source": [
    "process_links(links)"
   ]
  },
  {
   "cell_type": "code",
   "execution_count": null,
   "id": "ede6b6cf",
   "metadata": {},
   "outputs": [],
   "source": [
    "import time"
   ]
  },
  {
   "cell_type": "code",
   "execution_count": null,
   "id": "6ac570f0",
   "metadata": {},
   "outputs": [],
   "source": [
    "from common_methods import *"
   ]
  },
  {
   "cell_type": "code",
   "execution_count": null,
   "id": "82860418",
   "metadata": {},
   "outputs": [],
   "source": [
    "int(time.time())"
   ]
  },
  {
   "cell_type": "code",
   "execution_count": null,
   "id": "2fa54f17",
   "metadata": {},
   "outputs": [],
   "source": [
    "links = pd.read_csv('/Users/timdunn/Desktop/converted_movie_project_data/merged_imdb_links.csv', nrows=100)"
   ]
  },
  {
   "cell_type": "code",
   "execution_count": null,
   "id": "699f652a",
   "metadata": {},
   "outputs": [],
   "source": [
    "from all_processes.basic_process_okru import ProcessOkruLink"
   ]
  },
  {
   "cell_type": "code",
   "execution_count": null,
   "id": "0bcf045e",
   "metadata": {},
   "outputs": [],
   "source": [
    "def get_all_info(row, proxies):\n",
    "    return ProcessOkruLink(row, proxies=proxies).get_all_info()"
   ]
  },
  {
   "cell_type": "code",
   "execution_count": null,
   "id": "d787f3b8",
   "metadata": {},
   "outputs": [],
   "source": [
    "request = requests.get(links.loc[0]['link_url'], proxies={'https': 'http://61.28.233.217:3128'})"
   ]
  },
  {
   "cell_type": "code",
   "execution_count": null,
   "id": "c8eb6ae5",
   "metadata": {},
   "outputs": [],
   "source": [
    "links.loc[0]['link_url']"
   ]
  },
  {
   "cell_type": "code",
   "execution_count": null,
   "id": "620c51c5",
   "metadata": {},
   "outputs": [],
   "source": [
    "request.content"
   ]
  },
  {
   "cell_type": "code",
   "execution_count": null,
   "id": "239b9fcb",
   "metadata": {},
   "outputs": [],
   "source": [
    "data = list()"
   ]
  },
  {
   "cell_type": "code",
   "execution_count": null,
   "id": "a110cb2d",
   "metadata": {},
   "outputs": [],
   "source": [
    "request_obj = requests.get(current_row['link_url'], proxies={'http': sample(proxies, 1), 'https': sample(proxies, 1)})"
   ]
  },
  {
   "cell_type": "code",
   "execution_count": null,
   "id": "84b03c23",
   "metadata": {},
   "outputs": [],
   "source": [
    "current_row = None\n",
    "for index, row in links.iterrows():\n",
    "    current_row = row\n",
    "    data.append(get_all_info(row, proxies))\n",
    "    if index % 10 == 0:\n",
    "        print('on index', index)"
   ]
  },
  {
   "cell_type": "code",
   "execution_count": null,
   "id": "4b4cb0e9",
   "metadata": {},
   "outputs": [],
   "source": [
    "current_row['link_url']"
   ]
  },
  {
   "cell_type": "code",
   "execution_count": null,
   "id": "c1d05609",
   "metadata": {},
   "outputs": [],
   "source": [
    "request_obj = requests.get(current_row['link_url'], {'http': sample(proxies, 1), 'https': sample(proxies, 1)})"
   ]
  },
  {
   "cell_type": "code",
   "execution_count": null,
   "id": "0eafcddc",
   "metadata": {},
   "outputs": [],
   "source": [
    "soup = BeautifulSoup(request_obj.content, \"html.parser\")"
   ]
  },
  {
   "cell_type": "code",
   "execution_count": null,
   "id": "c34c3355",
   "metadata": {},
   "outputs": [],
   "source": [
    "soup = BeautifulSoup(request_obj.content.decode('utf-8', 'ignore'))"
   ]
  },
  {
   "cell_type": "code",
   "execution_count": null,
   "id": "0761831f",
   "metadata": {},
   "outputs": [],
   "source": [
    "soup"
   ]
  },
  {
   "cell_type": "code",
   "execution_count": null,
   "id": "24f04fac",
   "metadata": {},
   "outputs": [],
   "source": [
    "soup = get_soup_url(current_row['link_url'], proxies)"
   ]
  },
  {
   "cell_type": "code",
   "execution_count": null,
   "id": "fb32f299",
   "metadata": {},
   "outputs": [],
   "source": [
    "from common_methods import get_list_proxies"
   ]
  },
  {
   "cell_type": "code",
   "execution_count": null,
   "id": "cad255a3",
   "metadata": {},
   "outputs": [],
   "source": [
    "proxies = get_list_proxies(5)"
   ]
  },
  {
   "cell_type": "code",
   "execution_count": null,
   "id": "71b71653",
   "metadata": {},
   "outputs": [],
   "source": [
    "links"
   ]
  },
  {
   "cell_type": "code",
   "execution_count": null,
   "id": "0c387854",
   "metadata": {},
   "outputs": [],
   "source": [
    "soup = get_soup_url('https://ok.ru/video//')"
   ]
  },
  {
   "cell_type": "code",
   "execution_count": null,
   "id": "8b044cd4",
   "metadata": {},
   "outputs": [],
   "source": [
    "divs = soup.find_all('div', {'class': 'video-card_duration'})"
   ]
  },
  {
   "cell_type": "code",
   "execution_count": null,
   "id": "ce2e8409",
   "metadata": {},
   "outputs": [],
   "source": [
    "main_divs = soup.find_all('div', {'data-l': \"t,movie\"})"
   ]
  },
  {
   "cell_type": "code",
   "execution_count": null,
   "id": "fa000c0b",
   "metadata": {},
   "outputs": [],
   "source": [
    "main_parent = soup.find_all('div', {\"class\": \"loader-container h-mod\"})"
   ]
  },
  {
   "cell_type": "code",
   "execution_count": null,
   "id": "70502e6d",
   "metadata": {},
   "outputs": [],
   "source": [
    "divs = soup.find_all('div', {'class': 'video-card_duration'})"
   ]
  },
  {
   "cell_type": "code",
   "execution_count": null,
   "id": "3167b233",
   "metadata": {},
   "outputs": [],
   "source": [
    "soup.find('img', {'class': 'vid-card_img'})"
   ]
  },
  {
   "cell_type": "code",
   "execution_count": null,
   "id": "790d1148",
   "metadata": {},
   "outputs": [],
   "source": [
    "len(divs)"
   ]
  },
  {
   "cell_type": "code",
   "execution_count": null,
   "id": "530e5217",
   "metadata": {},
   "outputs": [],
   "source": [
    "len(main_divs)"
   ]
  },
  {
   "cell_type": "code",
   "execution_count": null,
   "id": "47451824",
   "metadata": {},
   "outputs": [],
   "source": [
    "divs[-2].parent.parent.parent.parent.parent.parent"
   ]
  },
  {
   "cell_type": "code",
   "execution_count": null,
   "id": "4a2ee1ee",
   "metadata": {},
   "outputs": [],
   "source": [
    "div = soup.find_all('div', {'class': 'html5-vpl_dropdown'})"
   ]
  },
  {
   "cell_type": "code",
   "execution_count": null,
   "id": "a7ea37e2",
   "metadata": {},
   "outputs": [],
   "source": [
    "divs = soup.find_all('div', {'class': \"vid-card_cnt h-mod\"})"
   ]
  },
  {
   "cell_type": "code",
   "execution_count": null,
   "id": "1b64cfee",
   "metadata": {},
   "outputs": [],
   "source": [
    "len(divs)"
   ]
  },
  {
   "cell_type": "code",
   "execution_count": null,
   "id": "a9d11d05",
   "metadata": {},
   "outputs": [],
   "source": [
    "import json"
   ]
  },
  {
   "cell_type": "code",
   "execution_count": null,
   "id": "5b417bf5",
   "metadata": {},
   "outputs": [],
   "source": [
    "div_object = json.loads( divs[0]['data-options'])"
   ]
  },
  {
   "cell_type": "code",
   "execution_count": null,
   "id": "5616bdd7",
   "metadata": {},
   "outputs": [],
   "source": [
    "divs[0].find('div', {'class': 'vid-card_duration'}).text"
   ]
  },
  {
   "cell_type": "code",
   "execution_count": null,
   "id": "929850ce",
   "metadata": {},
   "outputs": [],
   "source": [
    "div_object"
   ]
  },
  {
   "cell_type": "code",
   "execution_count": null,
   "id": "6aa531d3",
   "metadata": {},
   "outputs": [],
   "source": [
    "import json"
   ]
  },
  {
   "cell_type": "code",
   "execution_count": null,
   "id": "b1e3f458",
   "metadata": {},
   "outputs": [],
   "source": [
    "def get_quality(soup):\n",
    "    try:\n",
    "        div = soup.find('div', {'class': \"vid-card_cnt h-mod\"})\n",
    "        div_object = json.loads( div.get('data-options'))\n",
    "        flashvars = div_object['flashvars']\n",
    "        metadata = json.loads(flashvars['metadata'])\n",
    "        return metadata['videos'][-1]['name']\n",
    "    except:\n",
    "        return None"
   ]
  },
  {
   "cell_type": "code",
   "execution_count": null,
   "id": "b4bf2442",
   "metadata": {},
   "outputs": [],
   "source": [
    "def get_description(soup):\n",
    "    try:\n",
    "        div = soup.find('div', {\"class\": 'vp-layer-description'})\n",
    "        return div.text\n",
    "    except:\n",
    "        return None"
   ]
  },
  {
   "cell_type": "code",
   "execution_count": null,
   "id": "0f9c44be",
   "metadata": {},
   "outputs": [],
   "source": [
    "def get_duration(soup):\n",
    "    try:\n",
    "        div = soup.find('div', {'class': \"vid-card_cnt h-mod\"})\n",
    "        return div.find('div', {'class': 'vid-card_duration'}).text\n",
    "    except:\n",
    "        return None"
   ]
  },
  {
   "cell_type": "code",
   "execution_count": null,
   "id": "7d39fc14",
   "metadata": {},
   "outputs": [],
   "source": [
    "def get_all_info(okru_link):\n",
    "    try:\n",
    "        soup = get_soup_url(okru_link)\n",
    "        description = get_description(soup)\n",
    "        quality = get_quality(soup)\n",
    "        return {'link_url': okru_link, \n",
    "                'description': description, \n",
    "                'quality': quality, \n",
    "                'duration': minutes_from_string(get_duration(soup)),\n",
    "                'active': (description is not None and quality is not None)}\n",
    "    except:\n",
    "        return {'link_url': okru_link, 'active': False}"
   ]
  },
  {
   "cell_type": "code",
   "execution_count": null,
   "id": "014f40b9",
   "metadata": {},
   "outputs": [],
   "source": [
    "def process_links(links):\n",
    "    data = []\n",
    "    for index, row in links.iterrows():\n",
    "        try:\n",
    "            data.append(get_all_info(row['link_url']))\n",
    "            if index % 1000 == 0:\n",
    "                print(index)\n",
    "                pd.DataFrame(data=data).to_csv(f'/Users/timdunn/Desktop/link_soups_{index}.csv', index=False)\n",
    "        except:\n",
    "            print('there was an exception')\n",
    "            pd.DataFrame(data=data).to_csv('/Users/timdunn/Desktop/link_soups.csv', index=False)   \n",
    "    pd.DataFrame(data=data).to_csv('/Users/timdunn/Desktop/link_soups.csv', index=False)   "
   ]
  },
  {
   "cell_type": "code",
   "execution_count": null,
   "id": "8944cd0b",
   "metadata": {},
   "outputs": [],
   "source": [
    "soup = get_soup_url(url)"
   ]
  },
  {
   "cell_type": "code",
   "execution_count": null,
   "id": "58689c12",
   "metadata": {},
   "outputs": [],
   "source": [
    "link_object = get_all_info('https://ok.ru/video/10000139536')"
   ]
  },
  {
   "cell_type": "code",
   "execution_count": null,
   "id": "fa3d7016",
   "metadata": {},
   "outputs": [],
   "source": [
    "process_links(links.loc[0:3])"
   ]
  },
  {
   "cell_type": "code",
   "execution_count": null,
   "id": "da599806",
   "metadata": {},
   "outputs": [],
   "source": [
    "minutes_from_string(link_object['duration'])"
   ]
  },
  {
   "cell_type": "code",
   "execution_count": null,
   "id": "bf6b5e19",
   "metadata": {},
   "outputs": [],
   "source": [
    "flashvars = div_object['flashvars']"
   ]
  },
  {
   "cell_type": "code",
   "execution_count": null,
   "id": "d05cb22e",
   "metadata": {},
   "outputs": [],
   "source": [
    "metadata = json.loads(flashvars['metadata'])"
   ]
  },
  {
   "cell_type": "code",
   "execution_count": null,
   "id": "8379ba2d",
   "metadata": {},
   "outputs": [],
   "source": [
    "metadata['videos'][-1]['name']"
   ]
  },
  {
   "cell_type": "code",
   "execution_count": null,
   "id": "03786a44",
   "metadata": {},
   "outputs": [],
   "source": [
    "top_object = ProcessTopMovies(\"/Users/timdunn/movie_project/all_processes/movie_configuration.yaml\")"
   ]
  },
  {
   "cell_type": "code",
   "execution_count": null,
   "id": "e3a92207",
   "metadata": {},
   "outputs": [],
   "source": [
    "top_object.update_top_movies()"
   ]
  },
  {
   "cell_type": "code",
   "execution_count": null,
   "id": "bc8ad97b",
   "metadata": {},
   "outputs": [],
   "source": [
    "obj_data = top_object.process_okru_object.data"
   ]
  },
  {
   "cell_type": "code",
   "execution_count": null,
   "id": "5e823ac5",
   "metadata": {},
   "outputs": [],
   "source": [
    "import youtube_dl"
   ]
  },
  {
   "cell_type": "code",
   "execution_count": null,
   "id": "7bcf14d8",
   "metadata": {},
   "outputs": [],
   "source": [
    "data = list()"
   ]
  },
  {
   "cell_type": "code",
   "execution_count": null,
   "id": "b4f86edc",
   "metadata": {},
   "outputs": [],
   "source": [
    "def download_okru_video_info(video_link):\n",
    "    ydl_opts = {'skip_download': True, 'match_filter': add_to_df}\n",
    "    with youtube_dl.YoutubeDL(ydl_opts) as ydl:\n",
    "        try:\n",
    "            ydl.download([video_link])\n",
    "        except Exception as e:\n",
    "            print(\"there was an exception\")\n",
    "            data.append({'link': video_link, 'error': str(e)})"
   ]
  },
  {
   "cell_type": "code",
   "execution_count": null,
   "id": "ac124c8b",
   "metadata": {},
   "outputs": [],
   "source": [
    "def add_to_df(info_dict):\n",
    "    data.append(self.add_okru_info(info_dict))"
   ]
  },
  {
   "cell_type": "code",
   "execution_count": null,
   "id": "a0b22385",
   "metadata": {},
   "outputs": [],
   "source": [
    "download_okru_video_info('https://ok.ru/video/4353461521147')"
   ]
  },
  {
   "cell_type": "code",
   "execution_count": null,
   "id": "3159cee1",
   "metadata": {},
   "outputs": [],
   "source": [
    "data"
   ]
  },
  {
   "cell_type": "code",
   "execution_count": null,
   "id": "50a71092",
   "metadata": {},
   "outputs": [],
   "source": [
    "relevant_data = obj_data[:11591]"
   ]
  },
  {
   "cell_type": "code",
   "execution_count": null,
   "id": "0a40543d",
   "metadata": {},
   "outputs": [],
   "source": [
    "def process_data(data):\n",
    "        return [{**link_data, **{\"active\": not ('error' in list(link_data.keys()))}}  for link_data in data]"
   ]
  },
  {
   "cell_type": "code",
   "execution_count": null,
   "id": "4a12116c",
   "metadata": {},
   "outputs": [],
   "source": [
    "relevant_data = process_data(relevant_data)"
   ]
  },
  {
   "cell_type": "code",
   "execution_count": null,
   "id": "8bcf0ead",
   "metadata": {},
   "outputs": [],
   "source": [
    "import pandas as pd"
   ]
  },
  {
   "cell_type": "code",
   "execution_count": null,
   "id": "a2196c58",
   "metadata": {},
   "outputs": [],
   "source": [
    "pd.DataFrame(data=relevant_data).to_csv('/Users/timdunn/Desktop/top_movies_progress.csv', index=False)"
   ]
  },
  {
   "cell_type": "code",
   "execution_count": null,
   "id": "3dd0c526",
   "metadata": {},
   "outputs": [],
   "source": [
    "relevant_data[-1]"
   ]
  },
  {
   "cell_type": "code",
   "execution_count": null,
   "id": "3871b512",
   "metadata": {},
   "outputs": [],
   "source": [
    "#43544414893"
   ]
  },
  {
   "cell_type": "code",
   "execution_count": null,
   "id": "5ecead05",
   "metadata": {},
   "outputs": [],
   "source": [
    "right_index = [index for index, data in enumerate(obj_data) if data.get('id') == '4354425817708']"
   ]
  },
  {
   "cell_type": "code",
   "execution_count": null,
   "id": "693ac23d",
   "metadata": {},
   "outputs": [],
   "source": [
    "right_index"
   ]
  },
  {
   "cell_type": "code",
   "execution_count": null,
   "id": "7f4cd471",
   "metadata": {},
   "outputs": [],
   "source": [
    "obj_data.index()"
   ]
  },
  {
   "cell_type": "code",
   "execution_count": null,
   "id": "d3e7564c",
   "metadata": {},
   "outputs": [],
   "source": [
    "len(obj_data)"
   ]
  },
  {
   "cell_type": "code",
   "execution_count": null,
   "id": "a0c4e5f2",
   "metadata": {},
   "outputs": [],
   "source": [
    "obj_data"
   ]
  },
  {
   "cell_type": "code",
   "execution_count": null,
   "id": "e4ab7083",
   "metadata": {},
   "outputs": [],
   "source": [
    "indian_movies = top_object.update_top_movie_object.movie_object"
   ]
  },
  {
   "cell_type": "code",
   "execution_count": null,
   "id": "a975b8b6",
   "metadata": {},
   "outputs": [],
   "source": [
    "indian_movies"
   ]
  },
  {
   "cell_type": "code",
   "execution_count": null,
   "id": "f8ea6cfa",
   "metadata": {},
   "outputs": [],
   "source": [
    "top_object.update_top_movie_object.movie_dict.keys()"
   ]
  },
  {
   "cell_type": "code",
   "execution_count": null,
   "id": "fa7923ee",
   "metadata": {},
   "outputs": [],
   "source": [
    "top_object.update_top_movie_object.movie_dict['top_indian_movies']"
   ]
  },
  {
   "cell_type": "code",
   "execution_count": null,
   "id": "e08842b9",
   "metadata": {},
   "outputs": [],
   "source": [
    "from lingua import Language, LanguageDetectorBuilder"
   ]
  },
  {
   "cell_type": "code",
   "execution_count": null,
   "id": "1980d27f",
   "metadata": {},
   "outputs": [],
   "source": [
    "import pandas as pd"
   ]
  },
  {
   "cell_type": "code",
   "execution_count": null,
   "id": "f0491692",
   "metadata": {},
   "outputs": [],
   "source": [
    "merged_df = pd.merge(imdb_df, links, left_on=\"tconst\", right_on=\"movie\")"
   ]
  },
  {
   "cell_type": "code",
   "execution_count": null,
   "id": "892534ac",
   "metadata": {},
   "outputs": [],
   "source": [
    "from imdb import Cinemagoer"
   ]
  },
  {
   "cell_type": "code",
   "execution_count": null,
   "id": "cd79a53f",
   "metadata": {},
   "outputs": [],
   "source": [
    "ia = Cinemagoer()"
   ]
  },
  {
   "cell_type": "code",
   "execution_count": null,
   "id": "11e9f488",
   "metadata": {},
   "outputs": [],
   "source": [
    "imdb_df.loc[imdb_df['language'] == 'None', \"language\"] = imdb_df['tconst'].apply(\n",
    "    lambda tconst: ia.get_movie(tconst.split('tt')[-1]).guessLanguage())"
   ]
  },
  {
   "cell_type": "code",
   "execution_count": null,
   "id": "30fa9e5a",
   "metadata": {},
   "outputs": [],
   "source": [
    "cols = pd.read_csv(\"/Users/timdunn/Desktop/everything_merged.csv\", nrows=1)"
   ]
  },
  {
   "cell_type": "code",
   "execution_count": null,
   "id": "3672c4f0",
   "metadata": {},
   "outputs": [],
   "source": [
    "cols"
   ]
  },
  {
   "cell_type": "code",
   "execution_count": null,
   "id": "c8eeed06",
   "metadata": {},
   "outputs": [],
   "source": [
    "merged_df.loc[merged_df['language'] == 'None']"
   ]
  },
  {
   "cell_type": "code",
   "execution_count": null,
   "id": "2fc6d59a",
   "metadata": {},
   "outputs": [],
   "source": [
    "languages = Language.__members__.values()"
   ]
  },
  {
   "cell_type": "code",
   "execution_count": null,
   "id": "e23de693",
   "metadata": {},
   "outputs": [],
   "source": [
    "Language.__members__.values()"
   ]
  },
  {
   "cell_type": "code",
   "execution_count": null,
   "id": "eebe985f",
   "metadata": {},
   "outputs": [],
   "source": [
    "detector = LanguageDetectorBuilder.from_languages(*languages).build()"
   ]
  },
  {
   "cell_type": "code",
   "execution_count": null,
   "id": "bc92ed9a",
   "metadata": {},
   "outputs": [],
   "source": [
    "sentence = \"Parlez-vous français? \" + \\\n",
    "\"Ich spreche Französisch nur ein bisschen. \" + \\\n",
    "\"A little bit is better than nothing.\""
   ]
  },
  {
   "cell_type": "code",
   "execution_count": null,
   "id": "5cf3c5db",
   "metadata": {},
   "outputs": [],
   "source": [
    "import numpy as np"
   ]
  },
  {
   "cell_type": "code",
   "execution_count": null,
   "id": "4b02c8ba",
   "metadata": {},
   "outputs": [],
   "source": [
    "langs = detector.detect_multiple_languages_of(df.loc[0, 'fulltitle'])"
   ]
  },
  {
   "cell_type": "code",
   "execution_count": null,
   "id": "3fef4406",
   "metadata": {},
   "outputs": [],
   "source": [
    "title = df.loc[0, 'fulltitle']"
   ]
  },
  {
   "cell_type": "code",
   "execution_count": null,
   "id": "dc20d3f8",
   "metadata": {},
   "outputs": [],
   "source": [
    "import numpy as np"
   ]
  },
  {
   "cell_type": "code",
   "execution_count": null,
   "id": "b0d60a33",
   "metadata": {},
   "outputs": [],
   "source": [
    "\",\".join(np.unique([result.language.name.lower().capitalize() \n",
    "                         for result in detector.detect_multiple_languages_of(title)]))"
   ]
  },
  {
   "cell_type": "code",
   "execution_count": null,
   "id": "9d947952",
   "metadata": {},
   "outputs": [],
   "source": [
    "def detect_language(title):\n",
    "    try:\n",
    "#         print('inside the try')\n",
    "#         print('detected results are', detector.detect_multiple_languages_of(title))\n",
    "        return np.unique([result.language.name.lower().capitalize() \n",
    "                         for result in detector.detect_multiple_languages_of(title)])\n",
    "    except:\n",
    "        return []"
   ]
  },
  {
   "cell_type": "code",
   "execution_count": null,
   "id": "5a1817cd",
   "metadata": {},
   "outputs": [],
   "source": [
    "for result in detector.detect_multiple_languages_of(sentence):\n",
    "    print(f\"{result.language.name}: '{sentence[result.start_index:result.end_index]}'\")"
   ]
  },
  {
   "cell_type": "code",
   "execution_count": null,
   "id": "f918f90f",
   "metadata": {},
   "outputs": [],
   "source": [
    "import pandas as pd"
   ]
  },
  {
   "cell_type": "code",
   "execution_count": null,
   "id": "c52e721a",
   "metadata": {},
   "outputs": [],
   "source": [
    "links = pd.read_csv('/Users/timdunn/Desktop/converted_movie_project_data/merged_imdb_links.csv')"
   ]
  },
  {
   "cell_type": "code",
   "execution_count": null,
   "id": "b4bd781f",
   "metadata": {},
   "outputs": [],
   "source": [
    "links = links.loc[links['audio_language'].isnull()]"
   ]
  },
  {
   "cell_type": "code",
   "execution_count": null,
   "id": "8a280369",
   "metadata": {},
   "outputs": [],
   "source": [
    "links.to_csv('/Users/timdunn/Desktop/maybe_language.csv', index=False)"
   ]
  },
  {
   "cell_type": "code",
   "execution_count": null,
   "id": "4405f8e6",
   "metadata": {},
   "outputs": [],
   "source": [
    "from all_processes.process_okru_links import ProcessOkruLinks"
   ]
  },
  {
   "cell_type": "code",
   "execution_count": null,
   "id": "1a3f0176",
   "metadata": {},
   "outputs": [],
   "source": [
    "process_object = ProcessOkruLinks(only_tconsts=[\"tt0073195\"], data_path=\"/Users/timdunn/Desktop/sample_okru_extra.csv\")"
   ]
  },
  {
   "cell_type": "code",
   "execution_count": null,
   "id": "d37b21d5",
   "metadata": {},
   "outputs": [],
   "source": [
    "process_object.update_okru_extra_info()"
   ]
  },
  {
   "cell_type": "code",
   "execution_count": null,
   "id": "26be6396",
   "metadata": {},
   "outputs": [],
   "source": []
  },
  {
   "cell_type": "code",
   "execution_count": null,
   "id": "6665e86c",
   "metadata": {},
   "outputs": [],
   "source": [
    "#TO determine the language\n",
    "#title is of one language or mixed\n",
    "#if mixed and 2 then non guess language is assumed\n",
    "#if title is one language but description another its description language\n",
    "#if title and description same language it is that language\n"
   ]
  },
  {
   "cell_type": "code",
   "execution_count": null,
   "id": "769300f6",
   "metadata": {},
   "outputs": [],
   "source": [
    "from common_methods import reset_and_copy"
   ]
  },
  {
   "cell_type": "code",
   "execution_count": null,
   "id": "42a003ad",
   "metadata": {},
   "outputs": [],
   "source": [
    "link_file_path = \"/Users/timdunn/Desktop/everything_merged.csv\""
   ]
  },
  {
   "cell_type": "code",
   "execution_count": null,
   "id": "07ca531b",
   "metadata": {},
   "outputs": [],
   "source": [
    "imdb_path = '/Users/timdunn/Desktop/converted_movie_project_data/merged_imdb.csv'"
   ]
  },
  {
   "cell_type": "code",
   "execution_count": null,
   "id": "441996bb",
   "metadata": {},
   "outputs": [],
   "source": [
    "cols = pd.read_csv(link_file_path, nrows=1).columns"
   ]
  },
  {
   "cell_type": "code",
   "execution_count": null,
   "id": "cf9c6c94",
   "metadata": {},
   "outputs": [],
   "source": [
    "language = detect_audio_language(df.loc[7])"
   ]
  },
  {
   "cell_type": "code",
   "execution_count": null,
   "id": "9fd59555",
   "metadata": {},
   "outputs": [],
   "source": [
    "language"
   ]
  },
  {
   "cell_type": "code",
   "execution_count": null,
   "id": "60efc861",
   "metadata": {},
   "outputs": [],
   "source": [
    "df = verify_test_audio_link(link_file_path=link_file_path, movie_file_path=imdb_path)"
   ]
  },
  {
   "cell_type": "code",
   "execution_count": null,
   "id": "7033cf76",
   "metadata": {},
   "outputs": [],
   "source": [
    "df"
   ]
  },
  {
   "cell_type": "code",
   "execution_count": null,
   "id": "88d35346",
   "metadata": {},
   "outputs": [],
   "source": [
    "df"
   ]
  },
  {
   "cell_type": "code",
   "execution_count": null,
   "id": "007131ba",
   "metadata": {},
   "outputs": [],
   "source": [
    "desc_lan_objs = detector.detect_multiple_languages_of(df.loc[6, 'description'])"
   ]
  },
  {
   "cell_type": "code",
   "execution_count": null,
   "id": "4c5efd4e",
   "metadata": {},
   "outputs": [],
   "source": [
    "get_frequent_language(df.loc[6, 'description'])"
   ]
  },
  {
   "cell_type": "code",
   "execution_count": null,
   "id": "73b3dbb0",
   "metadata": {},
   "outputs": [],
   "source": [
    "lang_objs = [{lang.language.name.lower().capitalize(): lang.word_count} for lang in desc_lan_objs]"
   ]
  },
  {
   "cell_type": "code",
   "execution_count": null,
   "id": "5fb96e54",
   "metadata": {},
   "outputs": [],
   "source": [
    "def get_frequent_language(title):\n",
    "    title_language_objects = detector.detect_multiple_languages_of(title)\n",
    "    lang_objs = [{lang.language.name.lower().capitalize(): lang.word_count} for lang in title_language_objects]\n",
    "    new_dict = dict()\n",
    "    different_keys = np.unique([list(lang_obj.keys())[0] for lang_obj in lang_objs])\n",
    "    max_val = 0\n",
    "    max_keys = list()\n",
    "    for key in different_keys:\n",
    "        new_dict[key] = sum([lang_obj.get(key) for lang_obj in lang_objs if list(lang_obj.keys())[0] == key])\n",
    "        if new_dict[key] > max_val:\n",
    "            max_val = new_dict[key]\n",
    "            max_keys.append(key)\n",
    "        elif new_dict[key] == max_val:\n",
    "            max_keys.append(key)\n",
    "    if len(max_keys) == 1:\n",
    "        return max_keys[0]\n",
    "    return None"
   ]
  },
  {
   "cell_type": "code",
   "execution_count": null,
   "id": "b9d490c8",
   "metadata": {},
   "outputs": [],
   "source": [
    "list(lang_objs[0].keys())[0]"
   ]
  },
  {
   "cell_type": "code",
   "execution_count": null,
   "id": "97f15bf9",
   "metadata": {},
   "outputs": [],
   "source": [
    "[for a_dict in lang_objs]"
   ]
  },
  {
   "cell_type": "code",
   "execution_count": null,
   "id": "d9bce2a2",
   "metadata": {},
   "outputs": [],
   "source": [
    "desc_lan_objs"
   ]
  },
  {
   "cell_type": "code",
   "execution_count": null,
   "id": "1ffc0974",
   "metadata": {},
   "outputs": [],
   "source": [
    "desc_language = detect_audio_language(df.loc[6, 'description'])"
   ]
  },
  {
   "cell_type": "code",
   "execution_count": null,
   "id": "02bc9305",
   "metadata": {},
   "outputs": [],
   "source": [
    "language"
   ]
  },
  {
   "cell_type": "code",
   "execution_count": null,
   "id": "bad8e7e8",
   "metadata": {},
   "outputs": [],
   "source": [
    "def verify_test_audio_link(movie_file_path, link_file_path, tconsts=[\"tt0073195\"]):\n",
    "    movie_file = pd.read_csv(movie_file_path, usecols=['tconst', 'language', 'primary_title'])\n",
    "    movie_file = reset_and_copy(movie_file.loc[movie_file['tconst'].isin(tconsts)])\n",
    "    link_file = pd.read_csv(link_file_path, usecols=['tconst', 'new link url'])\n",
    "    link_file = reset_and_copy(link_file.loc[link_file['tconst'].isin(tconsts)])\n",
    "    merged_file = pd.merge(movie_file, link_file, left_on='tconst', right_on='tconst', how='inner')\n",
    "    process_object = ProcessOkruLinks(only_tconsts=tconsts, \n",
    "                                      data_path=\"/Users/timdunn/Desktop/sample_okru_extra.csv\")\n",
    "    process_object.update_okru_extra_info()\n",
    "    data = process_data(process_object.data)\n",
    "    df = pd.DataFrame(data=data)\n",
    "    merged_file = pd.merge(merged_file, df, left_on=\"new link url\", right_on=\"webpage_url\", how='inner')\n",
    "    merged_file['audio_language'] = merged_file.apply(lambda row: detect_audio_language(row), axis=1)\n",
    "    return merged_file"
   ]
  },
  {
   "cell_type": "code",
   "execution_count": null,
   "id": "bded0965",
   "metadata": {},
   "outputs": [],
   "source": [
    "df = pd.DataFrame(data=data)"
   ]
  },
  {
   "cell_type": "code",
   "execution_count": null,
   "id": "1eb17c73",
   "metadata": {},
   "outputs": [],
   "source": [
    "new_data = []\n",
    "for index, row in df.iterrows():\n",
    "    print(index)\n",
    "    new_data.append({**dict(row), **{'audio_language': detect_audio_language(row)}})"
   ]
  },
  {
   "cell_type": "code",
   "execution_count": null,
   "id": "298d10d4",
   "metadata": {},
   "outputs": [],
   "source": [
    "language = detect_audio_language(df.loc[16])"
   ]
  },
  {
   "cell_type": "code",
   "execution_count": null,
   "id": "54f7a112",
   "metadata": {},
   "outputs": [],
   "source": [
    "language"
   ]
  },
  {
   "cell_type": "code",
   "execution_count": null,
   "id": "6c45edf1",
   "metadata": {},
   "outputs": [],
   "source": [
    "def process_data(data):\n",
    "    return [{**link_data, **{\"active\": not ('error' in list(link_data.keys()))}}  for link_data in data]"
   ]
  },
  {
   "cell_type": "code",
   "execution_count": null,
   "id": "ddb13467",
   "metadata": {},
   "outputs": [],
   "source": [
    "def detect_audio_language(movie_link_df):\n",
    "    try:\n",
    "        language = get_original_language(movie_link_df)\n",
    "        title_languages = title_language(movie_link_df)\n",
    "        description_languages = description_language(movie_link_df)\n",
    "        print('title languages are', title_languages)\n",
    "        print('description languages are', description_languages)\n",
    "        descriptions_in_title = [lan for lan in description_languages if lan in title_languages]\n",
    "        if len(title_languages) > 0:\n",
    "            if len(description_languages) > 0:\n",
    "                if len(description_languages) == 1:\n",
    "                    if title_languages[0] == description_languages[0]\n",
    "                        return language\n",
    "                    else:\n",
    "                        return None\n",
    "                elif len(description_languages) > 1:\n",
    "                    return get_frequent_language(movie_link_df['description'])\n",
    "        elif ([language] == title_languages[0] == description_languages[0] \n",
    "                         and (len(title_languages) == 1) and (len(description_languages) == 1)):\n",
    "            return language\n",
    "        elif (len(title_languages) == 1) and (description_languages[0] == None):\n",
    "            return title_languages[0]\n",
    "        elif (len(title_languages) == 1 and title_languages[0] == description_languages[0] and len(description_languages) == 1):\n",
    "            return title_languages[0]\n",
    "        elif len(descriptions_in_title) == 1:\n",
    "            return descriptions_in_title[0]\n",
    "        elif len(title_languages) == 0 and len(description_languages) > 1:\n",
    "            return get_frequent_language(movie_link_df['description'])\n",
    "        elif (description_languages[0] != title_languages[0])  and (len(description_languages) == 1) and len(title_languages) == 1:\n",
    "            return description_languages[0]\n",
    "        elif (len(title_languages) == 2) and (len(description_languages) == 1) and (description_languages[0] in title_languages):\n",
    "            return description_languages[0]\n",
    "        else:\n",
    "            return None\n",
    "    except:\n",
    "        return None"
   ]
  },
  {
   "cell_type": "code",
   "execution_count": null,
   "id": "3d8a786a",
   "metadata": {},
   "outputs": [],
   "source": [
    "def detect_audio_language(movie_link_df):\n",
    "    try:\n",
    "        description_languages = description_language(movie_link_df)\n",
    "        print('after description languages')\n",
    "        print(description_languages)\n",
    "        count_description_languages = len(description_languages)\n",
    "        print(\"after getting the count\")\n",
    "        if count_description_languages == 0:\n",
    "            print('inside main if')\n",
    "            title_languages = title_language(movie_link_df)\n",
    "\n",
    "            if len(title_languages) == 1:\n",
    "                print('inside sub if')\n",
    "                if api.guessit(movie_link_df['fulltitle'])['title'] == movie_link_df['primary_title']:\n",
    "                    print('inside sub sub if')\n",
    "                    return get_original_language(movie_link_df)\n",
    "                return title_languages[0]\n",
    "            elif len(title_languages) == 2:\n",
    "                language = get_original_language(movie_link_df)\n",
    "                if language in title_languages:\n",
    "                    return [lan for lan in title_languages if lan != language][0]\n",
    "                return None\n",
    "            return None\n",
    "        else:\n",
    "            descriptions_max = get_frequent_language(movie_link_df['description'])\n",
    "            if descriptions_max is None:\n",
    "                title_languages = title_language(movie_link_df)\n",
    "                common_languages = [lan for lan in title_languages if lan in description_languages]\n",
    "                if len(common_languages) == 1:\n",
    "                    return common_languages[0]\n",
    "                elif len(title_languages) == 1:\n",
    "                    if title_languages[0] in common_languages:\n",
    "                        return title_languages[0]\n",
    "                else:\n",
    "                    description_frequent = get_frequent_language(movie_link_df['description'])\n",
    "                    title_frequent = get_frequent_language(movie_link_df['fulltitle'])\n",
    "                    return get_frequent_language(movie_link_df['description'])\n",
    "    except:\n",
    "        print(movie_link_df['fulltitle'])\n",
    "        print('went into exception')\n",
    "        return None"
   ]
  },
  {
   "cell_type": "code",
   "execution_count": null,
   "id": "3b3f5c80",
   "metadata": {},
   "outputs": [],
   "source": [
    "df"
   ]
  },
  {
   "cell_type": "code",
   "execution_count": null,
   "id": "aab28250",
   "metadata": {},
   "outputs": [],
   "source": [
    "df['audio_language'] = df.apply(detect_audio_language, axis=1)"
   ]
  },
  {
   "cell_type": "code",
   "execution_count": null,
   "id": "6d1c80d3",
   "metadata": {},
   "outputs": [],
   "source": [
    "from guessit import api"
   ]
  },
  {
   "cell_type": "code",
   "execution_count": null,
   "id": "dd41d657",
   "metadata": {},
   "outputs": [],
   "source": [
    "api.guessit(df.loc[10, 'fulltitle'])"
   ]
  },
  {
   "cell_type": "code",
   "execution_count": null,
   "id": "24ab4f1f",
   "metadata": {},
   "outputs": [],
   "source": [
    "def title_language(link):\n",
    "#     print('fulltitle is', link['fulltitle'])\n",
    "    return detect_language(link['fulltitle'])"
   ]
  },
  {
   "cell_type": "code",
   "execution_count": null,
   "id": "4066e485",
   "metadata": {},
   "outputs": [],
   "source": [
    "def description_language(link):\n",
    "#     print('description is', link['description'])\n",
    "    return detect_language(link['description'])"
   ]
  },
  {
   "cell_type": "code",
   "execution_count": null,
   "id": "659af66a",
   "metadata": {},
   "outputs": [],
   "source": [
    "def get_original_language(movie, cinemagoer_object=None):\n",
    "    if cinemagoer_object is None:\n",
    "        cinemagoer_object = Cinemagoer()\n",
    "    try:\n",
    "        if movie.get('language') not in ['None', None] and not pd.isnull(movie.get('language')):\n",
    "            return movie.get('language')\n",
    "        else:\n",
    "            ia.get_movie(movie.get('tconst').split('tt')[-1]).guessLanguage()\n",
    "    except:\n",
    "        return None"
   ]
  },
  {
   "cell_type": "code",
   "execution_count": null,
   "id": "6c212958",
   "metadata": {},
   "outputs": [],
   "source": [
    "okru_data = process_object.data"
   ]
  },
  {
   "cell_type": "code",
   "execution_count": null,
   "id": "e35cde39",
   "metadata": {},
   "outputs": [],
   "source": []
  },
  {
   "cell_type": "code",
   "execution_count": null,
   "id": "0e40d55f",
   "metadata": {},
   "outputs": [],
   "source": [
    "links_data = process_object.data"
   ]
  },
  {
   "cell_type": "code",
   "execution_count": null,
   "id": "41706960",
   "metadata": {},
   "outputs": [],
   "source": [
    "links_data[0].get('webpage_url')"
   ]
  },
  {
   "cell_type": "code",
   "execution_count": null,
   "id": "d8698a1a",
   "metadata": {},
   "outputs": [],
   "source": [
    "#description label vp-layer-description\n",
    "from bs4 import BeautifulSoup"
   ]
  },
  {
   "cell_type": "code",
   "execution_count": null,
   "id": "790eab1f",
   "metadata": {},
   "outputs": [],
   "source": [
    "from common_methods import get_soup_url"
   ]
  },
  {
   "cell_type": "code",
   "execution_count": null,
   "id": "61982c75",
   "metadata": {},
   "outputs": [],
   "source": [
    "soup = get_soup_url('https://ok.ru/video/1470926883349')"
   ]
  },
  {
   "cell_type": "code",
   "execution_count": null,
   "id": "5ddb0d5c",
   "metadata": {},
   "outputs": [],
   "source": [
    "div = soup.find('div', {\"class\": 'vp-layer-description'})"
   ]
  },
  {
   "cell_type": "code",
   "execution_count": null,
   "id": "3ad4e3c7",
   "metadata": {},
   "outputs": [],
   "source": [
    "div.text"
   ]
  },
  {
   "cell_type": "code",
   "execution_count": null,
   "id": "8a8b9293",
   "metadata": {},
   "outputs": [],
   "source": [
    "sorted_keys = list(data_keys).sort()"
   ]
  },
  {
   "cell_type": "code",
   "execution_count": null,
   "id": "80a73650",
   "metadata": {},
   "outputs": [],
   "source": [
    "data_keys = list(data_keys)"
   ]
  },
  {
   "cell_type": "code",
   "execution_count": null,
   "id": "d7fc740b",
   "metadata": {},
   "outputs": [],
   "source": [
    "data_keys.sort()"
   ]
  },
  {
   "cell_type": "code",
   "execution_count": null,
   "id": "17a57494",
   "metadata": {},
   "outputs": [],
   "source": [
    "data_keys"
   ]
  },
  {
   "cell_type": "code",
   "execution_count": null,
   "id": "6428a60e",
   "metadata": {},
   "outputs": [],
   "source": [
    "process_object.update_okru_extra_info()"
   ]
  },
  {
   "cell_type": "code",
   "execution_count": null,
   "id": "306d6b76",
   "metadata": {},
   "outputs": [],
   "source": [
    "def get_language(link):\n",
    "    try:\n",
    "        maybe_splits = link['maybe_language'].split(',')\n",
    "        print('link language is', language)\n",
    "        print('after split')\n",
    "        if len(maybe_splits) == 1 and maybe_splits[0] != \"English\":\n",
    "            print('inside if')\n",
    "            print('maybe splits first is', maybe_splits[0])\n",
    "            return maybe_splits[0]\n",
    "        elif len(maybe_splits) == 2 and link['language'] in maybe_splits:\n",
    "            print('inside of else if')\n",
    "            return [language for language in maybe_splits if language != link['language']][0]\n",
    "        print('link language is', link[language])\n",
    "        return None \n",
    "    except:\n",
    "        return None"
   ]
  },
  {
   "cell_type": "code",
   "execution_count": null,
   "id": "c3800bc1",
   "metadata": {},
   "outputs": [],
   "source": [
    "imdb_df = pd.read_csv('/Users/timdunn/Desktop/converted_movie_project_data/merged_imdb.csv',\n",
    "                      usecols=['tconst', 'language'])"
   ]
  },
  {
   "cell_type": "code",
   "execution_count": null,
   "id": "6715aa15",
   "metadata": {},
   "outputs": [],
   "source": [
    "no_language = imdb_df.loc[imdb_df['language'].isin([None, 'None']) & imdb_df['tconst'].isin(np.unique(merged_links['tconst']))]"
   ]
  },
  {
   "cell_type": "code",
   "execution_count": null,
   "id": "a78bfaff",
   "metadata": {},
   "outputs": [],
   "source": [
    "from imdb import Cinemagoer"
   ]
  },
  {
   "cell_type": "code",
   "execution_count": null,
   "id": "59fb657d",
   "metadata": {},
   "outputs": [],
   "source": [
    "ia = Cinemagoer()"
   ]
  },
  {
   "cell_type": "code",
   "execution_count": null,
   "id": "1d059f8b",
   "metadata": {},
   "outputs": [],
   "source": [
    "top_adventure = ia.get_top50_movies_by_genres(['Adventure'])"
   ]
  },
  {
   "cell_type": "code",
   "execution_count": null,
   "id": "a1678a0d",
   "metadata": {},
   "outputs": [],
   "source": [
    "#run service to get each top 50 of the genre list\n",
    "#run service to update movies and get top 250 of imdb top 250 list\n",
    "#run service to get top popular movies\n",
    "#run service to get top indian movies"
   ]
  },
  {
   "cell_type": "code",
   "execution_count": null,
   "id": "c11a78a2",
   "metadata": {},
   "outputs": [],
   "source": [
    "from all_processes.update_popular_imdb import UpdatePopularImdb"
   ]
  },
  {
   "cell_type": "code",
   "execution_count": null,
   "id": "ef0e66ba",
   "metadata": {},
   "outputs": [],
   "source": [
    "popular_object = UpdatePopularImdb()"
   ]
  },
  {
   "cell_type": "code",
   "execution_count": null,
   "id": "66fffb9e",
   "metadata": {},
   "outputs": [],
   "source": [
    "popular_object.run_and_generate_all()"
   ]
  },
  {
   "cell_type": "code",
   "execution_count": null,
   "id": "4e5c3688",
   "metadata": {},
   "outputs": [],
   "source": [
    "popular_object.top_imdb_destination"
   ]
  },
  {
   "cell_type": "code",
   "execution_count": null,
   "id": "576e0eee",
   "metadata": {},
   "outputs": [],
   "source": [
    "for genre in popular_object.genres:\n",
    "    try:\n",
    "        popular_object.get_top_genre(genre)\n",
    "    except:\n",
    "        print(\"There was an error getting the genre\", genre)"
   ]
  },
  {
   "cell_type": "code",
   "execution_count": null,
   "id": "9708d38f",
   "metadata": {},
   "outputs": [],
   "source": [
    "popular_object.get_top_genre(popular_object.genres[0])"
   ]
  },
  {
   "cell_type": "code",
   "execution_count": null,
   "id": "742e2cc1",
   "metadata": {},
   "outputs": [],
   "source": [
    "sample_movie = popular_object.movie_dict['Animation'][0]"
   ]
  },
  {
   "cell_type": "code",
   "execution_count": null,
   "id": "f597e623",
   "metadata": {},
   "outputs": [],
   "source": [
    "sample_movie.getID()"
   ]
  },
  {
   "cell_type": "code",
   "execution_count": null,
   "id": "5bd9e9bb",
   "metadata": {},
   "outputs": [],
   "source": [
    "box_office_movies = popular_object.movie_object.get_boxoffice_movies()"
   ]
  },
  {
   "cell_type": "code",
   "execution_count": null,
   "id": "d37f367b",
   "metadata": {},
   "outputs": [],
   "source": [
    "popular_object.movie_dict.keys()"
   ]
  },
  {
   "cell_type": "code",
   "execution_count": null,
   "id": "44af2fe6",
   "metadata": {},
   "outputs": [],
   "source": [
    "animation_movies = popular_object.movie_dict['Animation']"
   ]
  },
  {
   "cell_type": "code",
   "execution_count": null,
   "id": "2b617d39",
   "metadata": {},
   "outputs": [],
   "source": [
    "animation_movies[0].data"
   ]
  },
  {
   "cell_type": "code",
   "execution_count": null,
   "id": "c8fdc53c",
   "metadata": {},
   "outputs": [],
   "source": [
    "#tconst genre name ranking (1 genre file)\n",
    "#tconst topindian ranking (1 top indian file)\n",
    "#tconst popular ranking (1 popular file)"
   ]
  },
  {
   "cell_type": "code",
   "execution_count": null,
   "id": "d8963e82",
   "metadata": {},
   "outputs": [],
   "source": [
    "from movies.models import *"
   ]
  },
  {
   "cell_type": "code",
   "execution_count": null,
   "id": "7f08395b",
   "metadata": {},
   "outputs": [],
   "source": [
    "popular_object.run_all()"
   ]
  },
  {
   "cell_type": "code",
   "execution_count": null,
   "id": "bdef98f3",
   "metadata": {},
   "outputs": [],
   "source": [
    "top_adventure"
   ]
  },
  {
   "cell_type": "code",
   "execution_count": null,
   "id": "21ba5b09",
   "metadata": {},
   "outputs": [],
   "source": [
    "movie.data['language codes']"
   ]
  },
  {
   "cell_type": "code",
   "execution_count": null,
   "id": "46532f06",
   "metadata": {},
   "outputs": [],
   "source": [
    "no_language"
   ]
  },
  {
   "cell_type": "code",
   "execution_count": null,
   "id": "66cf67b5",
   "metadata": {},
   "outputs": [],
   "source": [
    "import numpy as np"
   ]
  },
  {
   "cell_type": "code",
   "execution_count": null,
   "id": "48b6defb",
   "metadata": {},
   "outputs": [],
   "source": [
    "np.unique(merged_links['tconst']).size"
   ]
  },
  {
   "cell_type": "code",
   "execution_count": null,
   "id": "d7ac5062",
   "metadata": {},
   "outputs": [],
   "source": [
    "merged_links = pd.merge(imdb_df.loc[~imdb_df['language'].isnull()], \n",
    "         links, left_on=\"tconst\", right_on=\"movie\")"
   ]
  },
  {
   "cell_type": "code",
   "execution_count": null,
   "id": "5caf24b1",
   "metadata": {},
   "outputs": [],
   "source": [
    "merged_links['audio_language'] = merged_links.apply(get_language, axis=1)"
   ]
  },
  {
   "cell_type": "code",
   "execution_count": null,
   "id": "b62b1cae",
   "metadata": {},
   "outputs": [],
   "source": [
    "merged_links.loc[merged_links['audio_language'].isnull()]"
   ]
  },
  {
   "cell_type": "code",
   "execution_count": null,
   "id": "beebe6f9",
   "metadata": {},
   "outputs": [],
   "source": [
    "language = get_language(merged_links.loc[0])"
   ]
  },
  {
   "cell_type": "code",
   "execution_count": null,
   "id": "c87dad16",
   "metadata": {},
   "outputs": [],
   "source": [
    "merged_links.loc[0, 'tconst']"
   ]
  },
  {
   "cell_type": "code",
   "execution_count": null,
   "id": "3d853906",
   "metadata": {},
   "outputs": [],
   "source": [
    "imdb_df.loc[imdb_df['language'] == 'None']"
   ]
  },
  {
   "cell_type": "code",
   "execution_count": null,
   "id": "a4d928b5",
   "metadata": {},
   "outputs": [],
   "source": [
    "imdb_df[imdb_df['tconst'] == 'tt0000502']"
   ]
  },
  {
   "cell_type": "code",
   "execution_count": null,
   "id": "4c0a3a1d",
   "metadata": {},
   "outputs": [],
   "source": [
    "language"
   ]
  },
  {
   "cell_type": "code",
   "execution_count": null,
   "id": "784d5544",
   "metadata": {},
   "outputs": [],
   "source": [
    "merged_links.loc[~merged_links['audio_language'].isnull()]"
   ]
  },
  {
   "cell_type": "code",
   "execution_count": null,
   "id": "b06c06cd",
   "metadata": {},
   "outputs": [],
   "source": [
    "links['maybe_language'] = links['fulltitle'].apply(detect_language)"
   ]
  },
  {
   "cell_type": "code",
   "execution_count": null,
   "id": "1d042b10",
   "metadata": {},
   "outputs": [],
   "source": [
    "text_content = links.loc[90, \"fulltitle\"]"
   ]
  },
  {
   "cell_type": "code",
   "execution_count": null,
   "id": "b4b941a8",
   "metadata": {},
   "outputs": [],
   "source": [
    "from langdetect import detect"
   ]
  },
  {
   "cell_type": "code",
   "execution_count": null,
   "id": "bf6c7feb",
   "metadata": {},
   "outputs": [],
   "source": [
    "links = links.loc[~links['movie'].isnull()]"
   ]
  },
  {
   "cell_type": "code",
   "execution_count": null,
   "id": "c0b46f3a",
   "metadata": {},
   "outputs": [],
   "source": [
    "from movies.languages import *"
   ]
  },
  {
   "cell_type": "code",
   "execution_count": null,
   "id": "e1e55a40",
   "metadata": {},
   "outputs": [],
   "source": [
    "def get_code_of_link(title):\n",
    "    try:\n",
    "        return LANGUAGES.get(detect(title)).capitalize()\n",
    "    except:\n",
    "        return None"
   ]
  },
  {
   "cell_type": "code",
   "execution_count": null,
   "id": "244de571",
   "metadata": {},
   "outputs": [],
   "source": [
    "merged['maybe_audio_language'] = merged['fulltitle'].apply(get_code_of_link)"
   ]
  },
  {
   "cell_type": "code",
   "execution_count": null,
   "id": "ca4b3d03",
   "metadata": {},
   "outputs": [],
   "source": [
    "text_content"
   ]
  },
  {
   "cell_type": "code",
   "execution_count": null,
   "id": "4eddfb61",
   "metadata": {},
   "outputs": [],
   "source": [
    "isReliable, textBytesFound, details = cld2.detect(\n",
    "    \"а неправильный формат идентификатора дн назад\", isPlainText=True\n",
    ")"
   ]
  },
  {
   "cell_type": "code",
   "execution_count": null,
   "id": "76a33464",
   "metadata": {},
   "outputs": [],
   "source": [
    "_, _, _, detected_language = cld2.detect(\"'Un Ballo in Maschera - Radvanovsky, Álvarez\",  returnVectors=True)"
   ]
  },
  {
   "cell_type": "code",
   "execution_count": null,
   "id": "481c0d73",
   "metadata": {},
   "outputs": [],
   "source": [
    "links = links.loc[links['audio_language'].isnull()]"
   ]
  },
  {
   "cell_type": "code",
   "execution_count": null,
   "id": "81c7d207",
   "metadata": {},
   "outputs": [],
   "source": [
    "import numpy as np"
   ]
  },
  {
   "cell_type": "code",
   "execution_count": null,
   "id": "b20ece54",
   "metadata": {},
   "outputs": [],
   "source": [
    "movies = pd.read_csv('/Users/timdunn/Desktop/converted_movie_project_data/merged_imdb.csv')"
   ]
  },
  {
   "cell_type": "code",
   "execution_count": null,
   "id": "1d64af67",
   "metadata": {},
   "outputs": [],
   "source": []
  },
  {
   "cell_type": "code",
   "execution_count": null,
   "id": "d342f4a6",
   "metadata": {},
   "outputs": [],
   "source": [
    "merged = pd.merge(movies, links, left_on=\"tconst\", right_on=\"movie\")"
   ]
  },
  {
   "cell_type": "code",
   "execution_count": null,
   "id": "1eef5be5",
   "metadata": {},
   "outputs": [],
   "source": [
    "merged['audio_language'] = merged['audio_language'].apply(lambda x: LANGUAGES.get(x))"
   ]
  },
  {
   "cell_type": "code",
   "execution_count": null,
   "id": "4ca54507",
   "metadata": {},
   "outputs": [],
   "source": [
    "def capitalize_language(language):\n",
    "    try:\n",
    "        return language.capitalize()\n",
    "    except:\n",
    "        return None"
   ]
  },
  {
   "cell_type": "code",
   "execution_count": null,
   "id": "9bb6f140",
   "metadata": {},
   "outputs": [],
   "source": [
    "merged['maybe_audio_language'] = merged['maybe_audio_language'].apply(capitalize_language)"
   ]
  },
  {
   "cell_type": "code",
   "execution_count": null,
   "id": "cafdb495",
   "metadata": {},
   "outputs": [],
   "source": [
    "merged_probably = merged.loc[~merged['language'].isnull()\n",
    "                             & ~(merged['maybe_audio_language'] == merged['language'])]"
   ]
  },
  {
   "cell_type": "code",
   "execution_count": null,
   "id": "cb15281b",
   "metadata": {},
   "outputs": [],
   "source": [
    "!pip install pycld2"
   ]
  },
  {
   "cell_type": "code",
   "execution_count": null,
   "id": "e73f50e6",
   "metadata": {},
   "outputs": [],
   "source": [
    "import pycld2 as cld2"
   ]
  },
  {
   "cell_type": "code",
   "execution_count": null,
   "id": "ae6a539e",
   "metadata": {},
   "outputs": [],
   "source": [
    "_, _, _, detected_language = cld2.detect(text_content,  returnVectors=True)"
   ]
  },
  {
   "cell_type": "code",
   "execution_count": null,
   "id": "5ed14b38",
   "metadata": {},
   "outputs": [],
   "source": [
    "text_content = merged_probably.loc[4, \"fulltitle\"]"
   ]
  },
  {
   "cell_type": "code",
   "execution_count": null,
   "id": "dae2b8ca",
   "metadata": {},
   "outputs": [],
   "source": [
    "merged_probably"
   ]
  },
  {
   "cell_type": "code",
   "execution_count": null,
   "id": "e728f2b9",
   "metadata": {},
   "outputs": [],
   "source": [
    "merged['maybe_audio_language']"
   ]
  },
  {
   "cell_type": "code",
   "execution_count": null,
   "id": "9f4af1d1",
   "metadata": {},
   "outputs": [],
   "source": [
    "merged.loc[~merged['language'].isnull() & ~merged['maybe_audio_language'].isnull()]"
   ]
  },
  {
   "cell_type": "code",
   "execution_count": null,
   "id": "b6e94cf5",
   "metadata": {},
   "outputs": [],
   "source": [
    "merged.loc[~merged['maybe_audio_language'].isnull()]"
   ]
  },
  {
   "cell_type": "code",
   "execution_count": null,
   "id": "25a5bb0d",
   "metadata": {},
   "outputs": [],
   "source": [
    "merged_probably"
   ]
  },
  {
   "cell_type": "code",
   "execution_count": null,
   "id": "f1820fae",
   "metadata": {},
   "outputs": [],
   "source": [
    "np.unique(links['maybe_audio_language'].astype(str))"
   ]
  },
  {
   "cell_type": "code",
   "execution_count": null,
   "id": "a5bca461",
   "metadata": {},
   "outputs": [],
   "source": [
    "links.to_csv('/Users/timdunn/Desktop/dubbing_help.csv', index=False)"
   ]
  },
  {
   "cell_type": "code",
   "execution_count": null,
   "id": "9e87160d",
   "metadata": {},
   "outputs": [],
   "source": [
    "links['maybe_audio_language'] = links['fulltitle'].apply(get_code_of_link)"
   ]
  },
  {
   "cell_type": "code",
   "execution_count": null,
   "id": "0bfc1bd0",
   "metadata": {},
   "outputs": [],
   "source": [
    "def get_code_of_link(title)"
   ]
  }
 ],
 "metadata": {
  "kernelspec": {
   "display_name": "Python 3 (ipykernel)",
   "language": "python",
   "name": "python3"
  },
  "language_info": {
   "codemirror_mode": {
    "name": "ipython",
    "version": 3
   },
   "file_extension": ".py",
   "mimetype": "text/x-python",
   "name": "python",
   "nbconvert_exporter": "python",
   "pygments_lexer": "ipython3",
   "version": "3.9.7"
  }
 },
 "nbformat": 4,
 "nbformat_minor": 5
}
