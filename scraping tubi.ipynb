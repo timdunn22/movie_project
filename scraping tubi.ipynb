{
 "cells": [
  {
   "cell_type": "code",
   "execution_count": null,
   "id": "13b3d7b2",
   "metadata": {},
   "outputs": [],
   "source": [
    "a = 5\n",
    "b = None"
   ]
  },
  {
   "cell_type": "code",
   "execution_count": null,
   "id": "d2d9eded",
   "metadata": {},
   "outputs": [],
   "source": [
    "['6'] or a"
   ]
  },
  {
   "cell_type": "code",
   "execution_count": null,
   "id": "414e8197",
   "metadata": {},
   "outputs": [],
   "source": [
    "from scraping.poster_scraper import PosterScraper"
   ]
  },
  {
   "cell_type": "code",
   "execution_count": null,
   "id": "8ed04c88",
   "metadata": {},
   "outputs": [],
   "source": [
    "scraping_object = PosterScraper(yaml_file_path='/Users/timdunn/movie_project/all_processes/movie_configuration.yaml')"
   ]
  },
  {
   "cell_type": "code",
   "execution_count": null,
   "id": "a19e10de",
   "metadata": {},
   "outputs": [],
   "source": [
    "from common_methods import *"
   ]
  },
  {
   "cell_type": "code",
   "execution_count": null,
   "id": "2f971c70",
   "metadata": {},
   "outputs": [],
   "source": [
    "options = uc.ChromeOptions()"
   ]
  },
  {
   "cell_type": "code",
   "execution_count": null,
   "id": "ec6ebf37",
   "metadata": {},
   "outputs": [],
   "source": [
    "options.add_argument(\"--headless\")"
   ]
  },
  {
   "cell_type": "code",
   "execution_count": null,
   "id": "db92b692",
   "metadata": {},
   "outputs": [],
   "source": [
    "!pip install -U undetected_chromedriver"
   ]
  },
  {
   "cell_type": "code",
   "execution_count": null,
   "id": "a456bb78",
   "metadata": {},
   "outputs": [],
   "source": [
    "import undetected_chromedriver as uc  "
   ]
  },
  {
   "cell_type": "code",
   "execution_count": null,
   "id": "34d96bbd",
   "metadata": {},
   "outputs": [],
   "source": [
    "uc.install(executable_path=\"/Users/timdunn/Desktop/\",)"
   ]
  },
  {
   "cell_type": "code",
   "execution_count": null,
   "id": "8a0facfe",
   "metadata": {},
   "outputs": [],
   "source": [
    "driver = uc.Chrome(options=options)"
   ]
  },
  {
   "cell_type": "code",
   "execution_count": null,
   "id": "ab69d847",
   "metadata": {},
   "outputs": [],
   "source": [
    "from common_methods import *"
   ]
  },
  {
   "cell_type": "code",
   "execution_count": null,
   "id": "42e0b2e4",
   "metadata": {},
   "outputs": [],
   "source": [
    "options = uc.ChromeOptions()\n",
    "options.add_argument(\"--headless\")\n",
    "driver = uc.Chrome(options=options)"
   ]
  },
  {
   "cell_type": "code",
   "execution_count": null,
   "id": "23fd18eb",
   "metadata": {},
   "outputs": [],
   "source": [
    "driver.get('https://www.imdb.com/title/tt0001892/')"
   ]
  },
  {
   "cell_type": "code",
   "execution_count": null,
   "id": "2922e596",
   "metadata": {},
   "outputs": [],
   "source": [
    "soup = get_selenium_soup(driver)"
   ]
  },
  {
   "cell_type": "code",
   "execution_count": null,
   "id": "10738e0a",
   "metadata": {},
   "outputs": [],
   "source": [
    "link_tags = soup.find_all('a', {'class': 'ipc-lockup-overlay', 'aria-label': re.compile('Poster')})"
   ]
  },
  {
   "cell_type": "code",
   "execution_count": null,
   "id": "df3cca76",
   "metadata": {},
   "outputs": [],
   "source": [
    "link_tags"
   ]
  },
  {
   "cell_type": "code",
   "execution_count": null,
   "id": "35e99843",
   "metadata": {},
   "outputs": [],
   "source": [
    "driver.quit()"
   ]
  },
  {
   "cell_type": "code",
   "execution_count": null,
   "id": "3c79836d",
   "metadata": {},
   "outputs": [],
   "source": [
    "from scraping.imdb_poster_scraper import ImdbPosterScraper"
   ]
  },
  {
   "cell_type": "code",
   "execution_count": null,
   "id": "d1a4cfe4",
   "metadata": {},
   "outputs": [],
   "source": [
    "from all_processes.load_yaml_vars import LoadYamlVars"
   ]
  },
  {
   "cell_type": "code",
   "execution_count": null,
   "id": "3fbf7c3d",
   "metadata": {},
   "outputs": [],
   "source": [
    "configuration = LoadYamlVars('/Users/timdunn/movie_project/all_processes/movie_configuration.yaml')"
   ]
  },
  {
   "cell_type": "code",
   "execution_count": null,
   "id": "0a087da3",
   "metadata": {},
   "outputs": [],
   "source": [
    "imdb_posters_object = ImdbPosterScraper(\n",
    "    output_file=configuration.scraper_paths.get('Imdb Poster').get('Combined Data Path'), \n",
    "                                output_directory=configuration.scraper_paths.get('Imdb Poster').get('Data Directory'),\n",
    "    movie_path=configuration.scraper_paths.get('Imdb Poster').get('Tconst Path'), instances=2,\n",
    "                                proxy_file=configuration.proxies_path)"
   ]
  },
  {
   "cell_type": "code",
   "execution_count": null,
   "id": "4d65e2f4",
   "metadata": {},
   "outputs": [],
   "source": [
    "imdb_posters_object.run_scraper(0, ['tt0000009'])"
   ]
  },
  {
   "cell_type": "code",
   "execution_count": null,
   "id": "e0ba229a",
   "metadata": {},
   "outputs": [],
   "source": [
    "imdb_posters_object.data_dict"
   ]
  },
  {
   "cell_type": "code",
   "execution_count": null,
   "id": "c4c337fd",
   "metadata": {},
   "outputs": [],
   "source": [
    "imdb_posters_object.run_instances_scraper()"
   ]
  },
  {
   "cell_type": "code",
   "execution_count": null,
   "id": "d330b3ee",
   "metadata": {},
   "outputs": [],
   "source": [
    "imdb_posters_object.data_dict"
   ]
  },
  {
   "cell_type": "code",
   "execution_count": null,
   "id": "9d3c23fc",
   "metadata": {},
   "outputs": [],
   "source": [
    "from common_methods import *"
   ]
  },
  {
   "cell_type": "code",
   "execution_count": null,
   "id": "27b48efb",
   "metadata": {},
   "outputs": [],
   "source": [
    "driver = get_selenium_driver(proxies=imdb_posters_object.proxies)"
   ]
  },
  {
   "cell_type": "code",
   "execution_count": null,
   "id": "94e52f2e",
   "metadata": {},
   "outputs": [],
   "source": [
    "driver.quit()"
   ]
  },
  {
   "cell_type": "code",
   "execution_count": null,
   "id": "6e644189",
   "metadata": {},
   "outputs": [],
   "source": [
    "from scraping.single_selenium_scraper import SingleSeleniumScraper"
   ]
  },
  {
   "cell_type": "code",
   "execution_count": null,
   "id": "38f2f043",
   "metadata": {},
   "outputs": [],
   "source": [
    "selenium_instance = SingleSeleniumScraper(proxies=imdb_posters_object.proxies)"
   ]
  },
  {
   "cell_type": "code",
   "execution_count": null,
   "id": "432b8089",
   "metadata": {},
   "outputs": [],
   "source": [
    "soup = selenium_instance.get_soup_url('https://www.imdb.com/title/tt0000009/')"
   ]
  },
  {
   "cell_type": "code",
   "execution_count": null,
   "id": "73a65953",
   "metadata": {},
   "outputs": [],
   "source": [
    "poster_href = soup.find('a', {'class': 'ipc-lockup-overlay', 'aria-label': re.compile('Poster')})['href']"
   ]
  },
  {
   "cell_type": "code",
   "execution_count": null,
   "id": "2730b61c",
   "metadata": {},
   "outputs": [],
   "source": [
    "poster_url = f'https://www.imdb.com{poster_href}'"
   ]
  },
  {
   "cell_type": "code",
   "execution_count": null,
   "id": "f0fe129b",
   "metadata": {},
   "outputs": [],
   "source": [
    "poster_url"
   ]
  },
  {
   "cell_type": "code",
   "execution_count": null,
   "id": "0c943289",
   "metadata": {},
   "outputs": [],
   "source": [
    "soup = selenium_instance.get_soup_url(poster_url)"
   ]
  },
  {
   "cell_type": "code",
   "execution_count": null,
   "id": "dffde54d",
   "metadata": {},
   "outputs": [],
   "source": [
    "soup.find('div', {'data-testid': 'media-viewer'}).find_all('img')[1]['src']"
   ]
  },
  {
   "cell_type": "code",
   "execution_count": null,
   "id": "a5ae9c56",
   "metadata": {},
   "outputs": [],
   "source": [
    "soup"
   ]
  },
  {
   "cell_type": "code",
   "execution_count": null,
   "id": "216501f6",
   "metadata": {},
   "outputs": [],
   "source": [
    "data, soup = imdb_posters_object.run_scraper(1, ['tt0206154'])"
   ]
  },
  {
   "cell_type": "code",
   "execution_count": null,
   "id": "9db242b1",
   "metadata": {},
   "outputs": [],
   "source": [
    "data"
   ]
  },
  {
   "cell_type": "code",
   "execution_count": null,
   "id": "10ad4cfe",
   "metadata": {},
   "outputs": [],
   "source": [
    "extra_data = imdb_posters_object.movies_info(soup, 'tt0206154')"
   ]
  },
  {
   "cell_type": "code",
   "execution_count": null,
   "id": "2c7c4d02",
   "metadata": {},
   "outputs": [],
   "source": [
    "extra_data"
   ]
  },
  {
   "cell_type": "code",
   "execution_count": null,
   "id": "0cc48447",
   "metadata": {},
   "outputs": [],
   "source": [
    "soup.find('div', {'data-testid': 'media-viewer'}).find_all('img')[1]['src']"
   ]
  },
  {
   "cell_type": "code",
   "execution_count": null,
   "id": "b4bd6665",
   "metadata": {},
   "outputs": [],
   "source": [
    "bmovies_object.driver"
   ]
  },
  {
   "cell_type": "code",
   "execution_count": null,
   "id": "a0cc9101",
   "metadata": {},
   "outputs": [],
   "source": [
    "data"
   ]
  },
  {
   "cell_type": "code",
   "execution_count": null,
   "id": "a8b9e933",
   "metadata": {},
   "outputs": [],
   "source": [
    "soup"
   ]
  },
  {
   "cell_type": "code",
   "execution_count": null,
   "id": "a070812b",
   "metadata": {},
   "outputs": [],
   "source": [
    "bmovies_object.run_instances_scraper()"
   ]
  },
  {
   "cell_type": "code",
   "execution_count": null,
   "id": "81a2d37a",
   "metadata": {},
   "outputs": [],
   "source": []
  },
  {
   "cell_type": "code",
   "execution_count": null,
   "id": "b61b3fe9",
   "metadata": {},
   "outputs": [],
   "source": [
    "bmovies_object.driver.quit()"
   ]
  },
  {
   "cell_type": "code",
   "execution_count": null,
   "id": "4ab614ba",
   "metadata": {},
   "outputs": [],
   "source": [
    "bmovies_object.driver = bmovies_object.get_selenium_driver()"
   ]
  },
  {
   "cell_type": "code",
   "execution_count": null,
   "id": "54583f7f",
   "metadata": {},
   "outputs": [],
   "source": [
    "tags = bmovies_object.get_movie_tags(soup)"
   ]
  },
  {
   "cell_type": "code",
   "execution_count": null,
   "id": "eff662ef",
   "metadata": {},
   "outputs": [],
   "source": [
    "url = bmovies_object.movie_link_url(tags[0])"
   ]
  },
  {
   "cell_type": "code",
   "execution_count": null,
   "id": "ffff20b9",
   "metadata": {},
   "outputs": [],
   "source": [
    "url"
   ]
  },
  {
   "cell_type": "code",
   "execution_count": null,
   "id": "55c03520",
   "metadata": {},
   "outputs": [],
   "source": [
    "soup = bmovies_object.get_alternative_soup(tags[0])"
   ]
  },
  {
   "cell_type": "code",
   "execution_count": null,
   "id": "ee9fe38b",
   "metadata": {},
   "outputs": [],
   "source": [
    "div = soup.find('div', {'class': 'chartdescriptionRight'})"
   ]
  },
  {
   "cell_type": "code",
   "execution_count": null,
   "id": "81ca6a3e",
   "metadata": {},
   "outputs": [],
   "source": [
    "lis = div.find_all('li')"
   ]
  },
  {
   "cell_type": "code",
   "execution_count": null,
   "id": "ed0e77c5",
   "metadata": {},
   "outputs": [],
   "source": [
    "li = [li for li in lis if 'quality' in li.find('strong').text.lower()][0]"
   ]
  },
  {
   "cell_type": "code",
   "execution_count": null,
   "id": "796708e5",
   "metadata": {},
   "outputs": [],
   "source": [
    "li.find('a').text"
   ]
  },
  {
   "cell_type": "code",
   "execution_count": null,
   "id": "408e0996",
   "metadata": {},
   "outputs": [],
   "source": [
    "soup = bmovies_object.get_selenium_soup()"
   ]
  },
  {
   "cell_type": "code",
   "execution_count": null,
   "id": "5c5cda62",
   "metadata": {},
   "outputs": [],
   "source": [
    "soup = bmovies_object.get_alternative_soup(bmovies_object.get_movie_tags())"
   ]
  },
  {
   "cell_type": "code",
   "execution_count": null,
   "id": "6b256ef7",
   "metadata": {},
   "outputs": [],
   "source": [
    "bmovies_object.data"
   ]
  },
  {
   "cell_type": "code",
   "execution_count": null,
   "id": "bb3c46f8",
   "metadata": {},
   "outputs": [],
   "source": [
    "bmovies_object.run_scraper()"
   ]
  },
  {
   "cell_type": "code",
   "execution_count": null,
   "id": "a78f1332",
   "metadata": {},
   "outputs": [],
   "source": [
    "bmovies_object.movies_info(1)"
   ]
  },
  {
   "cell_type": "code",
   "execution_count": null,
   "id": "0b06fc32",
   "metadata": {},
   "outputs": [],
   "source": []
  },
  {
   "cell_type": "code",
   "execution_count": null,
   "id": "f28b521c",
   "metadata": {},
   "outputs": [],
   "source": [
    "tags = bmovies_object.get_movie_tags(bmovies_object.get_selenium_soup())"
   ]
  },
  {
   "cell_type": "code",
   "execution_count": null,
   "id": "c0d7a69b",
   "metadata": {},
   "outputs": [],
   "source": [
    "data = [bmovies_object.movie_info(tag) for tag in tags]"
   ]
  },
  {
   "cell_type": "code",
   "execution_count": null,
   "id": "edea707f",
   "metadata": {},
   "outputs": [],
   "source": [
    "tag = tags[0]"
   ]
  },
  {
   "cell_type": "code",
   "execution_count": null,
   "id": "ac6d05fa",
   "metadata": {},
   "outputs": [],
   "source": [
    "jt_infos = bmovies_object.jt_info_tags(tag)"
   ]
  },
  {
   "cell_type": "code",
   "execution_count": null,
   "id": "1835f04d",
   "metadata": {},
   "outputs": [],
   "source": [
    "soup = bmovies_object.get_soup_url(bmovies_object.movie_link_url(tag))"
   ]
  },
  {
   "cell_type": "code",
   "execution_count": null,
   "id": "4ca47f69",
   "metadata": {},
   "outputs": [],
   "source": [
    "jt_infos = info_tags(tag)"
   ]
  },
  {
   "cell_type": "code",
   "execution_count": null,
   "id": "5bbe6b1e",
   "metadata": {},
   "outputs": [],
   "source": [
    "def info_tags(tag):\n",
    "    return [jt_info_tag.text.strip() for jt_info_tag in \n",
    "            bmovies_object.div_info_tag(tag).find_all('div', {'class': 'jt-info'})]"
   ]
  },
  {
   "cell_type": "code",
   "execution_count": null,
   "id": "10576574",
   "metadata": {},
   "outputs": [],
   "source": [
    "jt_infos"
   ]
  },
  {
   "cell_type": "code",
   "execution_count": null,
   "id": "48035587",
   "metadata": {},
   "outputs": [],
   "source": [
    "from common_methods import *"
   ]
  },
  {
   "cell_type": "code",
   "execution_count": null,
   "id": "a0a88f4e",
   "metadata": {},
   "outputs": [],
   "source": [
    "'18[8-9][0-9]|19[0-9]{2}|20[0-1][0-9]|202[0-3]' in jt_infos[0].text.strip"
   ]
  },
  {
   "cell_type": "code",
   "execution_count": null,
   "id": "1ebf05ad",
   "metadata": {},
   "outputs": [],
   "source": [
    "flatten([re.findall(year(), jt_info) for jt_info in jt_infos])[0]"
   ]
  },
  {
   "cell_type": "code",
   "execution_count": null,
   "id": "e49ff18e",
   "metadata": {},
   "outputs": [],
   "source": [
    "years = re.compile(year(), jt_info)"
   ]
  },
  {
   "cell_type": "code",
   "execution_count": null,
   "id": "e6414413",
   "metadata": {},
   "outputs": [],
   "source": [
    "data"
   ]
  },
  {
   "cell_type": "code",
   "execution_count": null,
   "id": "a432b6ea",
   "metadata": {},
   "outputs": [],
   "source": []
  },
  {
   "cell_type": "code",
   "execution_count": null,
   "id": "9c907150",
   "metadata": {},
   "outputs": [],
   "source": [
    "bmovies_object.run_scraper()"
   ]
  },
  {
   "cell_type": "code",
   "execution_count": null,
   "id": "b2e3e3ce",
   "metadata": {},
   "outputs": [],
   "source": [
    "soup = BeautifulSoup(bmovies_object.driver.page_source, \"html.parser\")"
   ]
  },
  {
   "cell_type": "code",
   "execution_count": null,
   "id": "f2da4511",
   "metadata": {},
   "outputs": [],
   "source": [
    "last_page = int(soup.find('div', {'class': 'pagination'}).find_all('li')[-2].find('a').text)"
   ]
  },
  {
   "cell_type": "code",
   "execution_count": null,
   "id": "901c0b81",
   "metadata": {},
   "outputs": [],
   "source": [
    "last_page"
   ]
  },
  {
   "cell_type": "code",
   "execution_count": null,
   "id": "05303647",
   "metadata": {},
   "outputs": [],
   "source": [
    "bmovies_object.soup.find('div', {'class': 'pagination'}).find_all('li')[-1].find('a').text"
   ]
  },
  {
   "cell_type": "code",
   "execution_count": null,
   "id": "9007f950",
   "metadata": {},
   "outputs": [],
   "source": [
    "url = bmovies_object.get_page_url(1)\n",
    "bmovies_object.driver.get(url)\n",
    "time.sleep(15)"
   ]
  },
  {
   "cell_type": "code",
   "execution_count": null,
   "id": "972df3b0",
   "metadata": {},
   "outputs": [],
   "source": [
    "driver = bmovies_object.driver"
   ]
  },
  {
   "cell_type": "code",
   "execution_count": null,
   "id": "b0449989",
   "metadata": {},
   "outputs": [],
   "source": [
    "element = driver.find_element(By.PARTIAL_LINK_TEXT, 'Next')"
   ]
  },
  {
   "cell_type": "code",
   "execution_count": null,
   "id": "b27dd55e",
   "metadata": {},
   "outputs": [],
   "source": [
    "element.click_safe()"
   ]
  },
  {
   "cell_type": "code",
   "execution_count": null,
   "id": "74870a30",
   "metadata": {},
   "outputs": [],
   "source": [
    "bmovies_object.driver.save_screenshot('/Users/timdunn/Downloads/screenshot_test.png')"
   ]
  },
  {
   "cell_type": "code",
   "execution_count": null,
   "id": "56bf2bdf",
   "metadata": {},
   "outputs": [],
   "source": [
    "from common_methods import *"
   ]
  },
  {
   "cell_type": "code",
   "execution_count": null,
   "id": "d442d1ba",
   "metadata": {},
   "outputs": [],
   "source": [
    "proxy_df = pd.read_csv('/Users/timdunn/Desktop/proxies.csv')"
   ]
  },
  {
   "cell_type": "code",
   "execution_count": null,
   "id": "7481bff2",
   "metadata": {},
   "outputs": [],
   "source": [
    "proxies = [{'host': row['host'], 'port': row['port']} for index, row in proxy_df.iterrows()]"
   ]
  },
  {
   "cell_type": "code",
   "execution_count": null,
   "id": "a80c34ee",
   "metadata": {},
   "outputs": [],
   "source": [
    "proxy = sample(proxies, 1)[0]"
   ]
  },
  {
   "cell_type": "code",
   "execution_count": null,
   "id": "bba89aac",
   "metadata": {},
   "outputs": [],
   "source": [
    "from scripts.load_yaml_vars import LoadYamlVars as NewLoad"
   ]
  },
  {
   "cell_type": "code",
   "execution_count": null,
   "id": "44716215",
   "metadata": {},
   "outputs": [],
   "source": [
    "configuration = NewLoad(yaml_file_path='/Users/timdunn/freely_watch/movie_configuration.yaml')"
   ]
  },
  {
   "cell_type": "code",
   "execution_count": null,
   "id": "f894dab0",
   "metadata": {},
   "outputs": [],
   "source": [
    "configuration.chromedriver_path"
   ]
  },
  {
   "cell_type": "code",
   "execution_count": null,
   "id": "0ea7f8dd",
   "metadata": {},
   "outputs": [],
   "source": [
    "driver = get_driver(use_proxy=False, window_size=\"1920,1080\",chromedriver_path=configuration.chromedriver_path)"
   ]
  },
  {
   "cell_type": "code",
   "execution_count": null,
   "id": "9946b967",
   "metadata": {},
   "outputs": [],
   "source": [
    "from selenium import webdriver \n",
    "import chromedriver_autoinstaller "
   ]
  },
  {
   "cell_type": "code",
   "execution_count": null,
   "id": "5f9770e7",
   "metadata": {},
   "outputs": [],
   "source": [
    "chromedriver_autoinstaller.install()"
   ]
  },
  {
   "cell_type": "code",
   "execution_count": null,
   "id": "ebf3bd8e",
   "metadata": {},
   "outputs": [],
   "source": [
    "options = webdriver.ChromeOptions()"
   ]
  },
  {
   "cell_type": "code",
   "execution_count": null,
   "id": "b63d42b4",
   "metadata": {},
   "outputs": [],
   "source": [
    "proxy = sample(proxies, 1)[0]\n",
    "options.add_argument(\"--proxy-server=%s\" % PROXY)\n",
    "options.add_argument(\"--disable-blink-features=AutomationControlled\") \n",
    "options.add_experimental_option(\"excludeSwitches\", [\"enable-automation\"]) \n",
    "options.add_experimental_option(\"useAutomationExtension\", False)\n",
    "driver = webdriver.Chrome(options=options)\n",
    "driver.execute_script(\"Object.defineProperty(navigator, 'webdriver', {get: () => undefined})\") "
   ]
  },
  {
   "cell_type": "code",
   "execution_count": null,
   "id": "9b8a37d6",
   "metadata": {},
   "outputs": [],
   "source": [
    "useragentarray = [ \n",
    "\"Mozilla/5.0 (Windows NT 10.0; Win64; x64) AppleWebKit/537.36 (KHTML, like Gecko) Chrome/108.0.0.0 Safari/537.36\", \n",
    "\"Mozilla/5.0 (Windows NT 10.0; Win64; x64) AppleWebKit/537.36 (KHTML, like Gecko) Chrome/107.0.0.0 Safari/537.36\", \n",
    "] "
   ]
  },
  {
   "cell_type": "code",
   "execution_count": null,
   "id": "9db5ddd1",
   "metadata": {},
   "outputs": [],
   "source": [
    "for i in range(len(useragentarray)): \n",
    "    # Setting user agent iteratively as Chrome 108 and 107 \n",
    "    driver.execute_cdp_cmd(\"Network.setUserAgentOverride\", {\"userAgent\": useragentarray[i]}) \n",
    "    print(driver.execute_script(\"return navigator.userAgent;\")) \n",
    "    driver.get(bmovies_object.get_page_url(1)) "
   ]
  },
  {
   "cell_type": "code",
   "execution_count": null,
   "id": "79ef87a9",
   "metadata": {},
   "outputs": [],
   "source": [
    "!pip install undetected-chromedriver"
   ]
  },
  {
   "cell_type": "code",
   "execution_count": null,
   "id": "f240acb1",
   "metadata": {},
   "outputs": [],
   "source": [
    "import undetected_chromedriver as uc "
   ]
  },
  {
   "cell_type": "code",
   "execution_count": null,
   "id": "d7f58efd",
   "metadata": {},
   "outputs": [],
   "source": [
    "driver = uc.Chrome() "
   ]
  },
  {
   "cell_type": "code",
   "execution_count": null,
   "id": "1940ab23",
   "metadata": {},
   "outputs": [],
   "source": [
    "driver.get('https://www.imdb.com/title/tt10366206/mediaviewer/')"
   ]
  },
  {
   "cell_type": "code",
   "execution_count": null,
   "id": "61c6b63f",
   "metadata": {},
   "outputs": [],
   "source": [
    "driver.quit()"
   ]
  },
  {
   "cell_type": "code",
   "execution_count": null,
   "id": "7533d1de",
   "metadata": {},
   "outputs": [],
   "source": [
    "proxy = sample(proxies, 1)[0]"
   ]
  },
  {
   "cell_type": "code",
   "execution_count": null,
   "id": "bd0fb81f",
   "metadata": {},
   "outputs": [],
   "source": [
    "from scraping.chill_scraper import ChillScraper"
   ]
  },
  {
   "cell_type": "code",
   "execution_count": null,
   "id": "b57305cc",
   "metadata": {},
   "outputs": [],
   "source": [
    "from scraping.bmovies_scraper import BmoviesScraper"
   ]
  },
  {
   "cell_type": "code",
   "execution_count": null,
   "id": "fc80b7d5",
   "metadata": {},
   "outputs": [],
   "source": [
    "bmovies_object = BmoviesScraper()"
   ]
  },
  {
   "cell_type": "code",
   "execution_count": null,
   "id": "1cf15b1b",
   "metadata": {},
   "outputs": [],
   "source": [
    "bmovies_object.driver"
   ]
  },
  {
   "cell_type": "code",
   "execution_count": null,
   "id": "0b7cc019",
   "metadata": {},
   "outputs": [],
   "source": [
    "data = BmoviesScraper().movies_info(1)"
   ]
  },
  {
   "cell_type": "code",
   "execution_count": null,
   "id": "e660c14f",
   "metadata": {},
   "outputs": [],
   "source": [
    "data"
   ]
  },
  {
   "cell_type": "code",
   "execution_count": null,
   "id": "a284429d",
   "metadata": {},
   "outputs": [],
   "source": [
    "proxy = sample(proxies, 1)[0]\n",
    "options = uc.ChromeOptions()\n",
    "# options.add_argument(\"--headless\")\n",
    "options.add_argument(f\"--proxy-server={proxy['host']}:{proxy['port']}\")\n",
    "driver = uc.Chrome(options=options) \n",
    "driver.get(\"https://123chill.to\")\n",
    "soup = "
   ]
  },
  {
   "cell_type": "code",
   "execution_count": null,
   "id": "4562dc2d",
   "metadata": {},
   "outputs": [],
   "source": [
    "driver.quit()"
   ]
  },
  {
   "cell_type": "code",
   "execution_count": null,
   "id": "48d1fcb0",
   "metadata": {},
   "outputs": [],
   "source": [
    "driver = uc.Chrome(options=options) "
   ]
  },
  {
   "cell_type": "code",
   "execution_count": null,
   "id": "986a3a85",
   "metadata": {},
   "outputs": [],
   "source": [
    "driver.get(bmovies_object.get_page_url(1))"
   ]
  },
  {
   "cell_type": "code",
   "execution_count": null,
   "id": "0916168c",
   "metadata": {},
   "outputs": [],
   "source": [
    "bmovies_object.get_page_url(1)"
   ]
  },
  {
   "cell_type": "code",
   "execution_count": null,
   "id": "fb9bc78a",
   "metadata": {},
   "outputs": [],
   "source": [
    "soup = bmovies_object.get_selenium_soup()"
   ]
  },
  {
   "cell_type": "code",
   "execution_count": null,
   "id": "4949ff31",
   "metadata": {},
   "outputs": [],
   "source": [
    "bmovies_object.set_pages()"
   ]
  },
  {
   "cell_type": "code",
   "execution_count": null,
   "id": "d9a02b08",
   "metadata": {},
   "outputs": [],
   "source": [
    "bmovies_object.pages"
   ]
  },
  {
   "cell_type": "code",
   "execution_count": null,
   "id": "43044e7d",
   "metadata": {},
   "outputs": [],
   "source": [
    "soup.find('div', {'class': 'pagination'})"
   ]
  },
  {
   "cell_type": "code",
   "execution_count": null,
   "id": "fac316f1",
   "metadata": {},
   "outputs": [],
   "source": [
    "bmovies_object.driver.save_screenshot('/Users/timdunn/Downloads/screenshot.png')"
   ]
  },
  {
   "cell_type": "code",
   "execution_count": null,
   "id": "743d816d",
   "metadata": {},
   "outputs": [],
   "source": [
    "elements = driver.find_elements(By.XPATH, '//div[@class=\"featuredItems\"]')"
   ]
  },
  {
   "cell_type": "code",
   "execution_count": null,
   "id": "95ce46e5",
   "metadata": {},
   "outputs": [],
   "source": [
    "driver.page_source"
   ]
  },
  {
   "cell_type": "code",
   "execution_count": null,
   "id": "890203d3",
   "metadata": {},
   "outputs": [],
   "source": [
    "soup = BeautifulSoup(driver.page_source, 'html.parser')"
   ]
  },
  {
   "cell_type": "code",
   "execution_count": null,
   "id": "b2741c9c",
   "metadata": {},
   "outputs": [],
   "source": [
    "element = soup.find('div', {'class': 'pagination'}).find_all('li')[-1].find('a')"
   ]
  },
  {
   "cell_type": "code",
   "execution_count": null,
   "id": "8e3c8990",
   "metadata": {},
   "outputs": [],
   "source": [
    "pag_element = driver.find_element(By.CLASS_NAME,  'pagination')"
   ]
  },
  {
   "cell_type": "code",
   "execution_count": null,
   "id": "9b6e54cb",
   "metadata": {},
   "outputs": [],
   "source": [
    "driver.find_element(By.CLASS_NAME, )"
   ]
  },
  {
   "cell_type": "code",
   "execution_count": null,
   "id": "9dc91eaf",
   "metadata": {},
   "outputs": [],
   "source": [
    "movie_tags = soup.find_all('div', {'class': 'featuredItems'})"
   ]
  },
  {
   "cell_type": "code",
   "execution_count": null,
   "id": "78656354",
   "metadata": {},
   "outputs": [],
   "source": [
    "len(movie_tags)"
   ]
  },
  {
   "cell_type": "code",
   "execution_count": null,
   "id": "0238bfe6",
   "metadata": {},
   "outputs": [],
   "source": [
    "!pip install chromedriver-autoinstaller"
   ]
  },
  {
   "cell_type": "code",
   "execution_count": null,
   "id": "7df3b23e",
   "metadata": {},
   "outputs": [],
   "source": [
    "driver.get(bmovies_object.get_page_url(1))"
   ]
  },
  {
   "cell_type": "code",
   "execution_count": null,
   "id": "2e284717",
   "metadata": {},
   "outputs": [],
   "source": [
    "driver.find_elements(By.TAG_NAME, 'body')[0].text"
   ]
  },
  {
   "cell_type": "code",
   "execution_count": null,
   "id": "17613940",
   "metadata": {},
   "outputs": [],
   "source": [
    "driver.save_screenshot('/Users/timdunn/Downloads/screenshot.png')"
   ]
  },
  {
   "cell_type": "code",
   "execution_count": null,
   "id": "390102e1",
   "metadata": {},
   "outputs": [],
   "source": [
    "!pip install lxml"
   ]
  },
  {
   "cell_type": "code",
   "execution_count": null,
   "id": "06235e7d",
   "metadata": {},
   "outputs": [],
   "source": [
    "soup = get_soup_url_w_proxy(bmovies_object.get_page_url(1), proxy)"
   ]
  },
  {
   "cell_type": "code",
   "execution_count": null,
   "id": "e8b202cf",
   "metadata": {},
   "outputs": [],
   "source": [
    "soup"
   ]
  },
  {
   "cell_type": "code",
   "execution_count": null,
   "id": "71c3af44",
   "metadata": {},
   "outputs": [],
   "source": [
    "data = bmovies_object.run_scraper()"
   ]
  },
  {
   "cell_type": "code",
   "execution_count": null,
   "id": "0bb7ad19",
   "metadata": {},
   "outputs": [],
   "source": [
    "scraping_object"
   ]
  },
  {
   "cell_type": "code",
   "execution_count": null,
   "id": "2230bf18",
   "metadata": {},
   "outputs": [],
   "source": [
    "PosterScraper(yaml_file_path='/Users/timdunn/movie_project/all_processes/movie_configuration.yaml').process_posters()"
   ]
  },
  {
   "cell_type": "code",
   "execution_count": null,
   "id": "2b9415ff",
   "metadata": {},
   "outputs": [],
   "source": [
    "list1 = ['a', 'b', 'c']\n",
    "list2 = ['b']"
   ]
  },
  {
   "cell_type": "code",
   "execution_count": null,
   "id": "2fef792b",
   "metadata": {},
   "outputs": [],
   "source": [
    "list(set(list1).intersection(list2))"
   ]
  },
  {
   "cell_type": "code",
   "execution_count": null,
   "id": "b288b5b1",
   "metadata": {},
   "outputs": [],
   "source": [
    "from common_methods import get_soup_url"
   ]
  },
  {
   "cell_type": "code",
   "execution_count": null,
   "id": "dac95af0",
   "metadata": {},
   "outputs": [],
   "source": [
    "soup = get_soup_url('http://www.impawards.com/gallery.html')"
   ]
  },
  {
   "cell_type": "code",
   "execution_count": null,
   "id": "5afeaac2",
   "metadata": {},
   "outputs": [],
   "source": [
    "soup = get_soup_url('https://www.imdb.com/title/tt0064116/mediaviewer/')"
   ]
  },
  {
   "cell_type": "code",
   "execution_count": null,
   "id": "c0351d9d",
   "metadata": {},
   "outputs": [],
   "source": [
    "starting_page = 'http://www.impawards.com/gallery.html'"
   ]
  },
  {
   "cell_type": "code",
   "execution_count": null,
   "id": "fe085f2f",
   "metadata": {},
   "outputs": [],
   "source": [
    "#1912 -2022\n",
    "#http://www.impawards.com/2022/alpha1.html"
   ]
  },
  {
   "cell_type": "code",
   "execution_count": null,
   "id": "9cda7745",
   "metadata": {},
   "outputs": [],
   "source": [
    "def get_page_year(year):\n",
    "    return f'http://www.impawards.com/{year}/alpha1.html'"
   ]
  },
  {
   "cell_type": "code",
   "execution_count": null,
   "id": "67e7cadb",
   "metadata": {},
   "outputs": [],
   "source": [
    "soup = get_soup_url('http://www.impawards.com/2022/alpha1.html')"
   ]
  },
  {
   "cell_type": "code",
   "execution_count": null,
   "id": "d4aced54",
   "metadata": {},
   "outputs": [],
   "source": [
    "def get_poster_divs(soup, year):\n",
    "    divs = soup.find_all('div', {'class': 'constant_thumb'})\n",
    "    return [get_poster_info(div, year) for div in divs if '_ver' not in div.find('img')['src']]"
   ]
  },
  {
   "cell_type": "code",
   "execution_count": null,
   "id": "1f6d13fd",
   "metadata": {},
   "outputs": [],
   "source": [
    "def get_poster_info(div, year):\n",
    "    link_url = get_poster_link(div, year)\n",
    "    return {'link_url': link_url, 'image_link': get_image_link(div, year), 'movie': get_tconst(link_url)}"
   ]
  },
  {
   "cell_type": "code",
   "execution_count": null,
   "id": "98818bf3",
   "metadata": {},
   "outputs": [],
   "source": [
    "def get_poster_link(div, year):\n",
    "    return f\"http://www.impawards.com/{year}/{div.find('a')['href']}\""
   ]
  },
  {
   "cell_type": "code",
   "execution_count": null,
   "id": "1a7821bd",
   "metadata": {},
   "outputs": [],
   "source": [
    "def get_image_link(div, year):\n",
    "    return f\"http://www.impawards.com/{year}/{div.find('img')['src']}\""
   ]
  },
  {
   "cell_type": "code",
   "execution_count": null,
   "id": "dffd2b9f",
   "metadata": {},
   "outputs": [],
   "source": [
    "def get_tconst(link_url):\n",
    "    new_soup = get_soup_url(link_url)\n",
    "    return f\"tt{new_soup.find('a', {'href': re.compile('imdb.com')})['href'].split('tt')[-1]}\""
   ]
  },
  {
   "cell_type": "code",
   "execution_count": null,
   "id": "f3b2685c",
   "metadata": {},
   "outputs": [],
   "source": [
    "from common_methods import divide_chunks"
   ]
  },
  {
   "cell_type": "code",
   "execution_count": null,
   "id": "b8871877",
   "metadata": {},
   "outputs": [],
   "source": [
    "arry = ['a', 'b', 'c']"
   ]
  },
  {
   "cell_type": "code",
   "execution_count": null,
   "id": "5e121861",
   "metadata": {},
   "outputs": [],
   "source": [
    "years = list(range(1922, 2023))"
   ]
  },
  {
   "cell_type": "code",
   "execution_count": null,
   "id": "0d12b540",
   "metadata": {},
   "outputs": [],
   "source": [
    "instances = 5"
   ]
  },
  {
   "cell_type": "code",
   "execution_count": null,
   "id": "b71cec1a",
   "metadata": {},
   "outputs": [],
   "source": [
    "chunked_years = [years[indexes[0]: indexes[-1]] for indexes in divide_chunks(years,\n",
    "                                                                      round(len(years) / instances))]"
   ]
  },
  {
   "cell_type": "code",
   "execution_count": null,
   "id": "8fe0202e",
   "metadata": {},
   "outputs": [],
   "source": [
    "starting_chunks = divide_chunks(years, round(len(years) / instances))"
   ]
  },
  {
   "cell_type": "code",
   "execution_count": null,
   "id": "8f752961",
   "metadata": {},
   "outputs": [],
   "source": [
    "[year for year in starting_chunks]"
   ]
  },
  {
   "cell_type": "code",
   "execution_count": null,
   "id": "1d4de21f",
   "metadata": {},
   "outputs": [],
   "source": [
    "arry[0:2]"
   ]
  },
  {
   "cell_type": "code",
   "execution_count": null,
   "id": "4dfe270b",
   "metadata": {},
   "outputs": [],
   "source": [
    "import re"
   ]
  },
  {
   "cell_type": "code",
   "execution_count": null,
   "id": "cc817761",
   "metadata": {},
   "outputs": [],
   "source": [
    "soup = get_soup_url('http://www.impawards.com/2022/abandoned.html')\n",
    "imdb_matches = soup.find_all('a', {'href': re.compile('imdb.com')})"
   ]
  },
  {
   "cell_type": "code",
   "execution_count": null,
   "id": "6cfd305d",
   "metadata": {},
   "outputs": [],
   "source": [
    "imdb_matches"
   ]
  },
  {
   "cell_type": "code",
   "execution_count": null,
   "id": "fd29c8bd",
   "metadata": {},
   "outputs": [],
   "source": [
    "get_poster_divs(soup, 2022)"
   ]
  },
  {
   "cell_type": "code",
   "execution_count": null,
   "id": "7eb3b85e",
   "metadata": {},
   "outputs": [],
   "source": [
    "divs = soup.find_all('div', {'class': 'constant_thumb'})"
   ]
  },
  {
   "cell_type": "code",
   "execution_count": null,
   "id": "24290484",
   "metadata": {},
   "outputs": [],
   "source": [
    "len(divs)"
   ]
  },
  {
   "cell_type": "code",
   "execution_count": null,
   "id": "5a6c7a61",
   "metadata": {},
   "outputs": [],
   "source": [
    "divs = soup.find_all('div', {'class': 'container hidden-xs'})"
   ]
  },
  {
   "cell_type": "code",
   "execution_count": null,
   "id": "408fd9a9",
   "metadata": {},
   "outputs": [],
   "source": [
    "get_page_count(soup)"
   ]
  },
  {
   "cell_type": "code",
   "execution_count": null,
   "id": "646527e8",
   "metadata": {},
   "outputs": [],
   "source": [
    "def get_page_count(soup):\n",
    "    div = soup.find('div', {'class': 'container hidden-xs'})\n",
    "    page_count = div.text.split('of')[-1].split(']')[0].strip()\n",
    "    return int(page_count)"
   ]
  },
  {
   "cell_type": "code",
   "execution_count": null,
   "id": "fb8cffa0",
   "metadata": {},
   "outputs": [],
   "source": [
    "divs[0].text.split('of')[-1].split(']')[0].strip()"
   ]
  },
  {
   "cell_type": "code",
   "execution_count": null,
   "id": "92334c99",
   "metadata": {},
   "outputs": [],
   "source": [
    "divs[0].text.split()"
   ]
  },
  {
   "cell_type": "code",
   "execution_count": null,
   "id": "025ad917",
   "metadata": {},
   "outputs": [],
   "source": [
    "divs = soup.find_all('div', {'class': })"
   ]
  },
  {
   "cell_type": "code",
   "execution_count": null,
   "id": "a696069a",
   "metadata": {},
   "outputs": [],
   "source": [
    "soup"
   ]
  },
  {
   "cell_type": "code",
   "execution_count": null,
   "id": "8292d2c3",
   "metadata": {},
   "outputs": [],
   "source": [
    "from common_methods import get_driver"
   ]
  },
  {
   "cell_type": "code",
   "execution_count": null,
   "id": "7a627e79",
   "metadata": {},
   "outputs": [],
   "source": [
    "from all_processes.load_yaml_vars import LoadYamlVars"
   ]
  },
  {
   "cell_type": "code",
   "execution_count": null,
   "id": "147556ab",
   "metadata": {},
   "outputs": [],
   "source": [
    "configuration = LoadYamlVars(yaml_file_path='/Users/timdunn/freely_watch/movie_configuration.yaml')"
   ]
  },
  {
   "cell_type": "code",
   "execution_count": null,
   "id": "f97b3938",
   "metadata": {},
   "outputs": [],
   "source": [
    "driver = get_driver(use_proxy=True, window_size=\"1920,1080\", chromedriver_path=configuration.chromedriver_path)"
   ]
  },
  {
   "cell_type": "code",
   "execution_count": null,
   "id": "082a6989",
   "metadata": {},
   "outputs": [],
   "source": [
    "driver.get('https://www.imdb.com/title/tt0064116/mediaviewer/')"
   ]
  },
  {
   "cell_type": "code",
   "execution_count": null,
   "id": "0f9e2ece",
   "metadata": {},
   "outputs": [],
   "source": [
    "driver.get_screenshot_as_file('/Users/timdunn/sample_screen.png')"
   ]
  },
  {
   "cell_type": "code",
   "execution_count": null,
   "id": "b696208d",
   "metadata": {},
   "outputs": [],
   "source": [
    "element = driver.find_element(by='id', value='__next')"
   ]
  },
  {
   "cell_type": "code",
   "execution_count": null,
   "id": "c8030ace",
   "metadata": {},
   "outputs": [],
   "source": [
    "viewers = soup.find_all('div', {'data-testid': 'media-viewer'})"
   ]
  },
  {
   "cell_type": "code",
   "execution_count": null,
   "id": "87f3f08a",
   "metadata": {},
   "outputs": [],
   "source": [
    "len(viewers)"
   ]
  },
  {
   "cell_type": "code",
   "execution_count": 1,
   "id": "c6ecd3ca",
   "metadata": {},
   "outputs": [],
   "source": [
    "from __future__ import unicode_literals\n",
    "import youtube_dl\n",
    "import pandas as pd\n",
    "import numpy as np\n",
    "import glob\n",
    "import os\n",
    "from bs4 import BeautifulSoup\n",
    "import requests\n",
    "import re"
   ]
  },
  {
   "cell_type": "code",
   "execution_count": 2,
   "id": "9e179417",
   "metadata": {},
   "outputs": [],
   "source": [
    "def download_a_video(video_link, ydl_opts={}):\n",
    "    with youtube_dl.YoutubeDL(ydl_opts) as ydl:\n",
    "            ydl.download([video_link])"
   ]
  },
  {
   "cell_type": "code",
   "execution_count": 3,
   "id": "402f8e90",
   "metadata": {},
   "outputs": [
    {
     "name": "stdout",
     "output_type": "stream",
     "text": [
      "[Odnoklassniki] 2130210917098: Downloading webpage\n",
      "[Odnoklassniki] 2130210917098: Downloading m3u8 information\n",
      "[hlsnative] Downloading m3u8 manifest\n",
      "[hlsnative] Total fragments: 499\n",
      "[download] Destination: Dark Amazon (2014) -_ 480p _- English-2130210917098.mp4\n",
      "[download] 100% of 850.33MiB in 19:377.68KiB/s ETA 00:00406\n",
      "[ffmpeg] Fixing malformed AAC bitstream in \"Dark Amazon (2014) -_ 480p _- English-2130210917098.mp4\"\n"
     ]
    }
   ],
   "source": [
    "download_a_video('https://ok.ru/video/2130210917098')"
   ]
  },
  {
   "cell_type": "code",
   "execution_count": null,
   "id": "96eb67a4",
   "metadata": {},
   "outputs": [],
   "source": [
    "\"\""
   ]
  },
  {
   "cell_type": "code",
   "execution_count": null,
   "id": "5d3bc713",
   "metadata": {},
   "outputs": [],
   "source": [
    "import imdb\n",
    "i = imdb.Cinemagoer()"
   ]
  },
  {
   "cell_type": "code",
   "execution_count": null,
   "id": "c022231d",
   "metadata": {},
   "outputs": [],
   "source": [
    "from imdb.Movie import Movie"
   ]
  },
  {
   "cell_type": "code",
   "execution_count": null,
   "id": "8de7f6b7",
   "metadata": {},
   "outputs": [],
   "source": [
    "photo_sites = i.get_movie_photo_sites('0111161')"
   ]
  },
  {
   "cell_type": "code",
   "execution_count": null,
   "id": "c12a4a26",
   "metadata": {},
   "outputs": [],
   "source": [
    "movie = Movie(data=['photo sites'])"
   ]
  },
  {
   "cell_type": "code",
   "execution_count": null,
   "id": "78c149c3",
   "metadata": {},
   "outputs": [],
   "source": []
  },
  {
   "cell_type": "code",
   "execution_count": null,
   "id": "884dae33",
   "metadata": {},
   "outputs": [],
   "source": [
    "photo_sites"
   ]
  },
  {
   "cell_type": "code",
   "execution_count": null,
   "id": "8d12b625",
   "metadata": {},
   "outputs": [],
   "source": [
    "movie.data"
   ]
  },
  {
   "cell_type": "code",
   "execution_count": null,
   "id": "5de04b11",
   "metadata": {},
   "outputs": [],
   "source": [
    "movie['information']"
   ]
  },
  {
   "cell_type": "code",
   "execution_count": null,
   "id": "d6c7c509",
   "metadata": {},
   "outputs": [],
   "source": [
    "movie = i.get_movie(\"0062622\")"
   ]
  },
  {
   "cell_type": "code",
   "execution_count": null,
   "id": "721c04f7",
   "metadata": {},
   "outputs": [],
   "source": [
    "movie = i.get_movie('0062622', info=['photo sites'])"
   ]
  },
  {
   "cell_type": "code",
   "execution_count": null,
   "id": "2fdd0cf1",
   "metadata": {},
   "outputs": [],
   "source": [
    "movie.infoset2keys"
   ]
  },
  {
   "cell_type": "code",
   "execution_count": null,
   "id": "11d201a4",
   "metadata": {},
   "outputs": [],
   "source": []
  },
  {
   "cell_type": "code",
   "execution_count": null,
   "id": "7941a7eb",
   "metadata": {},
   "outputs": [],
   "source": [
    "for video in [\"https://ok.ru/video/3655241239238\", \"https://ok.ru/video/452684090096\", \n",
    "              \"https://ok.ru/video/1609552759520\"]:\n",
    "    download_a_video(video)"
   ]
  },
  {
   "cell_type": "code",
   "execution_count": null,
   "id": "3785dd9b",
   "metadata": {},
   "outputs": [],
   "source": [
    "extra_imdb = pd.concat([pd.read_csv('/Users/timdunn/extra.csv'), \n",
    "                        pd.read_csv('/Users/timdunn/Desktop/extra_data_imdb.csv')])"
   ]
  },
  {
   "cell_type": "code",
   "execution_count": null,
   "id": "256ea6be",
   "metadata": {},
   "outputs": [],
   "source": [
    "extra_imdb.drop_duplicates(inplace=True)"
   ]
  },
  {
   "cell_type": "code",
   "execution_count": null,
   "id": "498f18a2",
   "metadata": {},
   "outputs": [],
   "source": [
    "nondups = extra_imdb.loc[~extra_imdb.duplicated(subset=['tconst'])]"
   ]
  },
  {
   "cell_type": "code",
   "execution_count": null,
   "id": "673e3220",
   "metadata": {},
   "outputs": [],
   "source": [
    "nondups.reset_index(drop=True, inplace=True)"
   ]
  },
  {
   "cell_type": "code",
   "execution_count": null,
   "id": "9ddb9ef2",
   "metadata": {},
   "outputs": [],
   "source": [
    "nondups.to_csv('/Users/timdunn/Desktop/imdb_extras.csv', index=False)"
   ]
  },
  {
   "cell_type": "code",
   "execution_count": null,
   "id": "32606c67",
   "metadata": {},
   "outputs": [],
   "source": [
    "np.unique(extra_imdb['poster'].astype(str)).size"
   ]
  },
  {
   "cell_type": "code",
   "execution_count": null,
   "id": "c34ad91f",
   "metadata": {},
   "outputs": [],
   "source": [
    "np.unique(extra_imdb['tconst'].astype(str)).size"
   ]
  },
  {
   "cell_type": "code",
   "execution_count": null,
   "id": "2b301ec3",
   "metadata": {},
   "outputs": [],
   "source": [
    "import sys"
   ]
  },
  {
   "cell_type": "code",
   "execution_count": null,
   "id": "299323ab",
   "metadata": {},
   "outputs": [],
   "source": [
    "sys.path.append('/Users/timdunn/freely_watch/movies/')"
   ]
  },
  {
   "cell_type": "code",
   "execution_count": null,
   "id": "18b8db46",
   "metadata": {},
   "outputs": [],
   "source": [
    "from models"
   ]
  },
  {
   "cell_type": "code",
   "execution_count": null,
   "id": "d600c11a",
   "metadata": {},
   "outputs": [],
   "source": [
    "from playlist_extractor.many_videos_extractor import *"
   ]
  },
  {
   "cell_type": "code",
   "execution_count": null,
   "id": "49d31d50",
   "metadata": {},
   "outputs": [],
   "source": [
    "from syncing_movie_data.create_movie_data import *"
   ]
  },
  {
   "cell_type": "code",
   "execution_count": null,
   "id": "f3eff2b9",
   "metadata": {},
   "outputs": [],
   "source": [
    "pd.read_csv(\"/Users/timdunn/Desktop/everything_merged.csv\")"
   ]
  },
  {
   "cell_type": "code",
   "execution_count": null,
   "id": "90614a09",
   "metadata": {},
   "outputs": [],
   "source": [
    "relevant = everything.loc[everything['new link url'].apply(lambda x: type(x) == str) & everything['link url'].apply(\n",
    "    lambda x: type(x) == float), 'new link url']"
   ]
  },
  {
   "cell_type": "code",
   "execution_count": null,
   "id": "de37b555",
   "metadata": {},
   "outputs": [],
   "source": [
    "from all_processes.update_movie_data import *"
   ]
  },
  {
   "cell_type": "code",
   "execution_count": null,
   "id": "43630c48",
   "metadata": {},
   "outputs": [],
   "source": [
    "from all_processes.process_okru_links import *"
   ]
  },
  {
   "cell_type": "code",
   "execution_count": null,
   "id": "edcb6ae7",
   "metadata": {},
   "outputs": [],
   "source": [
    "process_object = ProcessOkruLinks()"
   ]
  },
  {
   "cell_type": "code",
   "execution_count": null,
   "id": "fbae9cbd",
   "metadata": {},
   "outputs": [],
   "source": [
    "process_object.update_okru_extra_info()"
   ]
  },
  {
   "cell_type": "code",
   "execution_count": null,
   "id": "4ff8a3c5",
   "metadata": {},
   "outputs": [],
   "source": [
    "imdb_df = UpdateMovieData().get_latest_imdb()"
   ]
  },
  {
   "cell_type": "code",
   "execution_count": null,
   "id": "122503eb",
   "metadata": {},
   "outputs": [],
   "source": [
    "ratings_df = pd.read_csv('/Users/timdunn/Desktop/imdb_latest/title.ratings.tsv', sep='\\t')"
   ]
  },
  {
   "cell_type": "code",
   "execution_count": null,
   "id": "8454194d",
   "metadata": {},
   "outputs": [],
   "source": [
    "ratings_df"
   ]
  },
  {
   "cell_type": "code",
   "execution_count": null,
   "id": "446e3872",
   "metadata": {},
   "outputs": [],
   "source": [
    "movie = Cinemagoer().get_movie('0096193', info=Cinemagoer().get_movie_infoset())"
   ]
  },
  {
   "cell_type": "code",
   "execution_count": null,
   "id": "aef51ee1",
   "metadata": {},
   "outputs": [],
   "source": [
    "everything_data = pd.read_csv('/Users/timdunn/Desktop/everything_merged.csv')"
   ]
  },
  {
   "cell_type": "code",
   "execution_count": null,
   "id": "be727990",
   "metadata": {},
   "outputs": [],
   "source": [
    "everything_data.loc[everything_data['tconst'] == 'tt4005402']"
   ]
  },
  {
   "cell_type": "code",
   "execution_count": null,
   "id": "d2c43ef0",
   "metadata": {},
   "outputs": [],
   "source": [
    "colonia_movies = [\"https://ok.ru/video/4408086039128\", \"https://ok.ru/video/3734339521113\" ]"
   ]
  },
  {
   "cell_type": "code",
   "execution_count": null,
   "id": "ad8bc1cc",
   "metadata": {},
   "outputs": [],
   "source": [
    "for movie in colonia_movies:\n",
    "    try:\n",
    "        download_a_video(movie)\n",
    "    except:\n",
    "        pass"
   ]
  },
  {
   "cell_type": "code",
   "execution_count": null,
   "id": "7ab40365",
   "metadata": {},
   "outputs": [],
   "source": [
    "download_a_video('https://ok.ru/video/2657120684582')"
   ]
  },
  {
   "cell_type": "code",
   "execution_count": null,
   "id": "0a4bc527",
   "metadata": {},
   "outputs": [],
   "source": [
    "movie.get_current_info()"
   ]
  },
  {
   "cell_type": "code",
   "execution_count": null,
   "id": "47904de3",
   "metadata": {},
   "outputs": [],
   "source": [
    "simple_movie = Cinemagoer().get_movie('0096193')"
   ]
  },
  {
   "cell_type": "code",
   "execution_count": null,
   "id": "e943306b",
   "metadata": {},
   "outputs": [],
   "source": [
    "simple_movie.infoset2keys"
   ]
  },
  {
   "cell_type": "code",
   "execution_count": null,
   "id": "bf87afd3",
   "metadata": {},
   "outputs": [],
   "source": [
    "movie.get('keywords')"
   ]
  },
  {
   "cell_type": "code",
   "execution_count": null,
   "id": "769f4f35",
   "metadata": {},
   "outputs": [],
   "source": [
    "def get_video_poster()"
   ]
  },
  {
   "cell_type": "code",
   "execution_count": null,
   "id": "3c9aefa0",
   "metadata": {},
   "outputs": [],
   "source": [
    "movie.data.get('color info')"
   ]
  },
  {
   "cell_type": "code",
   "execution_count": null,
   "id": "5e4d9dcd",
   "metadata": {},
   "outputs": [],
   "source": [
    "movie.items()"
   ]
  },
  {
   "cell_type": "code",
   "execution_count": null,
   "id": "36ccfb53",
   "metadata": {},
   "outputs": [],
   "source": [
    "average = ratings_df['averageRating'].mean()"
   ]
  },
  {
   "cell_type": "code",
   "execution_count": null,
   "id": "a8ab74e6",
   "metadata": {},
   "outputs": [],
   "source": [
    "m = ratings_df['numVotes'].quantile(0.80)"
   ]
  },
  {
   "cell_type": "code",
   "execution_count": null,
   "id": "a7756ed5",
   "metadata": {},
   "outputs": [],
   "source": [
    "def weighted_rating(row, C=average, m=m):\n",
    "    v = row['numVotes']\n",
    "    R = row['averageRating']\n",
    "    ## Compute the weighted score\n",
    "    return (v/(v+m) * R) + (m/(m+v) * C)"
   ]
  },
  {
   "cell_type": "code",
   "execution_count": null,
   "id": "ca514135",
   "metadata": {},
   "outputs": [],
   "source": [
    "def get_movie_id(tconst):\n",
    "    return tconst.split('tt')[-1]"
   ]
  },
  {
   "cell_type": "code",
   "execution_count": null,
   "id": "2325629b",
   "metadata": {},
   "outputs": [],
   "source": []
  },
  {
   "cell_type": "code",
   "execution_count": null,
   "id": "a2438276",
   "metadata": {},
   "outputs": [],
   "source": [
    "ratings_df['score'] = ratings_df.apply(weighted_rating, axis=1)"
   ]
  },
  {
   "cell_type": "code",
   "execution_count": null,
   "id": "72812a48",
   "metadata": {},
   "outputs": [],
   "source": [
    "merged_df = pd.merge(imdb_df, ratings_df, on=['tconst']).drop_duplicates(subset=['tconst', 'searchable_alias_title'])"
   ]
  },
  {
   "cell_type": "code",
   "execution_count": null,
   "id": "a487b1c1",
   "metadata": {},
   "outputs": [],
   "source": [
    "merged_df.loc[merged_df['genres'].str.contains('Adventure') & ~merged_df['genres'].str.contains('Animation') & ~merged_df['genres'].str.contains('Musical')].sort_values(by=['score'], ascending=False)"
   ]
  },
  {
   "cell_type": "code",
   "execution_count": null,
   "id": "600e8ad0",
   "metadata": {},
   "outputs": [],
   "source": [
    "\n",
    "The following apply:\n",
    "\n",
    "v is the number of votes garnered by the movie\n",
    "m is the minimum number of votes required for the movie to be in the chart (the prerequisite)\n",
    "R is the mean rating of the movie\n",
    "C is the mean rating of all the movies in the dataset"
   ]
  },
  {
   "cell_type": "code",
   "execution_count": null,
   "id": "77cffe86",
   "metadata": {},
   "outputs": [],
   "source": [
    "movie_keys = [key for key in movie.iterkeys]"
   ]
  },
  {
   "cell_type": "code",
   "execution_count": null,
   "id": "55936468",
   "metadata": {},
   "outputs": [],
   "source": [
    "movie_project_files = listdir_nohidden('/Users/timdunn/movie_project/')"
   ]
  },
  {
   "cell_type": "code",
   "execution_count": null,
   "id": "cceadcdf",
   "metadata": {},
   "outputs": [],
   "source": [
    "part_files = list(filter(lambda file: '.part' in file, movie_project_files))"
   ]
  },
  {
   "cell_type": "code",
   "execution_count": null,
   "id": "9d45663a",
   "metadata": {},
   "outputs": [],
   "source": [
    "def get_url_number(file):\n",
    "    try:\n",
    "        return file.split('/')[-1].split('Welcome to the movies and television')[-1].split('-')[1].split('.')[0]\n",
    "    except:\n",
    "        return 'not got'"
   ]
  },
  {
   "cell_type": "code",
   "execution_count": null,
   "id": "202dc9f2",
   "metadata": {},
   "outputs": [],
   "source": [
    "url_numbers = [get_url_number(file) for file in part_files]"
   ]
  },
  {
   "cell_type": "code",
   "execution_count": null,
   "id": "0c2678af",
   "metadata": {},
   "outputs": [],
   "source": [
    "movie = Cinemagoer().get_movie('4728386')"
   ]
  },
  {
   "cell_type": "code",
   "execution_count": null,
   "id": "5dbf5fc1",
   "metadata": {},
   "outputs": [],
   "source": [
    "movie.infoset2keys"
   ]
  },
  {
   "cell_type": "code",
   "execution_count": null,
   "id": "c6cce744",
   "metadata": {},
   "outputs": [],
   "source": [
    "download_a_video(heavenly_creatures_url)"
   ]
  },
  {
   "cell_type": "code",
   "execution_count": null,
   "id": "ad4e1aef",
   "metadata": {},
   "outputs": [],
   "source": [
    "merged_youtube = UpdateYoutubeData()"
   ]
  },
  {
   "cell_type": "code",
   "execution_count": null,
   "id": "0d1c9a3d",
   "metadata": {},
   "outputs": [],
   "source": [
    "link_sample = 'https://click.justwatch.com/a?r=https%3A%2F%2Ftubitv.com%2Fmovies%2F15589%3Futm_source%3Djustwatch-feed%26tracking%3Djustwatch-feed&cx=eyJzY2hlbWEiOiJpZ2x1OmNvbS5zbm93cGxvd2FuYWx5dGljcy5zbm93cGxvdy9jb250ZXh0cy9qc29uc2NoZW1hLzEtMC0wIiwiZGF0YSI6W3sic2NoZW1hIjoiaWdsdTpjb20uanVzdHdhdGNoL3RpdGxlX2NvbnRleHQvanNvbnNjaGVtYS8xLTEtMCIsImRhdGEiOnsidGl0bGVJZCI6ODQ3NTksIm9iamVjdFR5cGUiOiJtb3ZpZSIsImp3RW50aXR5SWQiOiJ0bTg0NzU5In19LHsic2NoZW1hIjoiaWdsdTpjb20uanVzdHdhdGNoL2NsaWNrb3V0X2NvbnRleHQvanNvbnNjaGVtYS8xLTItMCIsImRhdGEiOnsicHJvdmlkZXIiOiJUdWJpIFRWIiwicHJvdmlkZXJJZCI6NzMsIm1vbmV0aXphdGlvblR5cGUiOiJhZHMiLCJwcmVzZW50YXRpb25UeXBlIjoic2QiLCJjdXJyZW5jeSI6IlVTRCIsInBhcnRuZXJJZCI6MX19XX0&uct_country=US&uct_buybox=normal&uct_sport=&sid='"
   ]
  },
  {
   "cell_type": "code",
   "execution_count": null,
   "id": "d196bade",
   "metadata": {},
   "outputs": [],
   "source": [
    "split_str = 'tubitv.com%2Fmovies%2F'"
   ]
  },
  {
   "cell_type": "code",
   "execution_count": null,
   "id": "02acb9ac",
   "metadata": {},
   "outputs": [],
   "source": [
    "link_sample.split(split_str)[1].split('%')[0]"
   ]
  },
  {
   "cell_type": "code",
   "execution_count": null,
   "id": "f069f512",
   "metadata": {},
   "outputs": [],
   "source": [
    "amazon_url = 'https://www.amazon.com/gp/video/detail/0FFL25D0ZVS5LF0PJNBPYCQCRF/ref=atv_pr_sw_sc?tag=justus1ktp-20'"
   ]
  },
  {
   "cell_type": "code",
   "execution_count": null,
   "id": "73229106",
   "metadata": {},
   "outputs": [],
   "source": [
    "soup = get_soup_url('https://www.justwatch.com/us/movie/the-key-to-christmas')"
   ]
  },
  {
   "cell_type": "code",
   "execution_count": null,
   "id": "3592edfb",
   "metadata": {},
   "outputs": [],
   "source": [
    "divs = soup.find_all('div', {'class': 'presentation-type price-comparison__grid__row__element__icon'})"
   ]
  },
  {
   "cell_type": "code",
   "execution_count": null,
   "id": "73664328",
   "metadata": {},
   "outputs": [],
   "source": [
    "len(divs)"
   ]
  },
  {
   "cell_type": "code",
   "execution_count": null,
   "id": "6c37d24e",
   "metadata": {},
   "outputs": [],
   "source": [
    "from scraping.just_watch_tubi_scraper import *"
   ]
  },
  {
   "cell_type": "code",
   "execution_count": null,
   "id": "6568f22c",
   "metadata": {},
   "outputs": [],
   "source": [
    "from common_methods import *"
   ]
  },
  {
   "cell_type": "code",
   "execution_count": null,
   "id": "d0f7b59e",
   "metadata": {},
   "outputs": [],
   "source": [
    "tubi_data_path = '/Users/timdunn/Downloads/just_watch_data/tubi_data/'"
   ]
  },
  {
   "cell_type": "code",
   "execution_count": null,
   "id": "7d12dda9",
   "metadata": {},
   "outputs": [],
   "source": [
    "all_tubi_htmls = list(filter(lambda file: '.html' in file, listdir_nohidden(tubi_data_path)))"
   ]
  },
  {
   "cell_type": "code",
   "execution_count": null,
   "id": "483dc759",
   "metadata": {},
   "outputs": [],
   "source": [
    "def just_watch_url(link_tag):\n",
    "    return 'https://www.justwatch.com{}'.format(link_tag.get('href'))"
   ]
  },
  {
   "cell_type": "code",
   "execution_count": null,
   "id": "8b6694d6",
   "metadata": {},
   "outputs": [],
   "source": [
    "def just_watch_link(soup):\n",
    "    return [just_watch_url(link_tag) for link_tag in soup.find_all('a', {'class': 'title-list-grid__item--link'})]"
   ]
  },
  {
   "cell_type": "code",
   "execution_count": null,
   "id": "fdcf8fa5",
   "metadata": {},
   "outputs": [],
   "source": [
    "urls = just_watch_link(soup_from_path(all_tubi_htmls[0]))"
   ]
  },
  {
   "cell_type": "code",
   "execution_count": null,
   "id": "8ae60056",
   "metadata": {},
   "outputs": [],
   "source": [
    "the_class = JustWatchTubiScraper"
   ]
  },
  {
   "cell_type": "code",
   "execution_count": null,
   "id": "9c22ebd8",
   "metadata": {},
   "outputs": [],
   "source": [
    "JustWatchTubiScraper('https://www.justwatch.com/us/movie/the-key-to-christmas').get_movie_info()"
   ]
  },
  {
   "cell_type": "code",
   "execution_count": null,
   "id": "074e7232",
   "metadata": {},
   "outputs": [],
   "source": [
    "JustWatchTubiScraper()"
   ]
  },
  {
   "cell_type": "code",
   "execution_count": null,
   "id": "7ff95c95",
   "metadata": {},
   "outputs": [],
   "source": [
    "from common_methods import *"
   ]
  },
  {
   "cell_type": "code",
   "execution_count": null,
   "id": "1ec6b9ad",
   "metadata": {},
   "outputs": [],
   "source": [
    "proxy = FreeProxy().get()"
   ]
  },
  {
   "cell_type": "code",
   "execution_count": null,
   "id": "befa3db0",
   "metadata": {},
   "outputs": [],
   "source": [
    "get_list_proxies(1)"
   ]
  },
  {
   "cell_type": "code",
   "execution_count": null,
   "id": "34ebed75",
   "metadata": {},
   "outputs": [],
   "source": [
    "proxies = get_list_proxies(10)"
   ]
  },
  {
   "cell_type": "code",
   "execution_count": null,
   "id": "cf1a6890",
   "metadata": {},
   "outputs": [],
   "source": [
    "soup = get_soup_url('https://www.justwatch.com/us/movie/the-key-to-christmas', proxies=proxies)"
   ]
  },
  {
   "cell_type": "code",
   "execution_count": null,
   "id": "ba9188a4",
   "metadata": {},
   "outputs": [],
   "source": [
    "from scraping.just_watch_links_scraper import *"
   ]
  },
  {
   "cell_type": "code",
   "execution_count": null,
   "id": "3582370c",
   "metadata": {},
   "outputs": [],
   "source": [
    "def get_filtered_folders(directory):\n",
    "    files_in_output_directory = listdir_nohidden('/Users/timdunn/Desktop/just_watch_data/')\n",
    "    files_in_directory = listdir_nohidden('/Users/timdunn/Downloads/just_watch_data/')\n",
    "    converted_outputs = [get_data_source_from_file(file_path) for file_path in files_in_directory]\n",
    "    converted_inputs = [get_data_source_from_file(file_path) for file_path in files_in_output_directory]\n",
    "    array, counts = np.unique(flatten([converted_outputs, converted_inputs]), return_counts=True)\n",
    "    already_got = list(array[counts>1])\n",
    "    return list(filter(lambda folder: ('tubi' not in folder) and (get_data_source_from_file(folder) not in already_got), \n",
    "                       listdir_nohidden(directory)))"
   ]
  },
  {
   "cell_type": "code",
   "execution_count": null,
   "id": "c7142226",
   "metadata": {},
   "outputs": [],
   "source": [
    "def get_links_directory(directory):\n",
    "    files = list(filter(lambda file: '.csv' in file, listdir_nohidden(directory)))\n",
    "    dfs = [pd.read_csv(file, usecols=['just_watch_url']) for file in files]\n",
    "    if len(dfs) > 0:\n",
    "        return list(pd.concat(dfs).loc[:, 'just_watch_url'].values)\n",
    "    return list()        "
   ]
  },
  {
   "cell_type": "code",
   "execution_count": null,
   "id": "e138b65d",
   "metadata": {},
   "outputs": [],
   "source": [
    "def get_data_source_from_file(file_path):\n",
    "    return file_path.split('/')[-1].split('just_watch_')[-1].split('_data.csv')[0]"
   ]
  },
  {
   "cell_type": "code",
   "execution_count": null,
   "id": "f801be9b",
   "metadata": {},
   "outputs": [],
   "source": [
    "def get_link_type(folder):\n",
    "    return folder.split('/')[-1]"
   ]
  },
  {
   "cell_type": "code",
   "execution_count": null,
   "id": "9ff8f589",
   "metadata": {},
   "outputs": [],
   "source": [
    "def process_all_just_watch_data(directory='/Users/timdunn/Downloads/just_watch_data/'):\n",
    "    folders_in_directory = listdir_nohidden(directory)\n",
    "    folders = get_filtered_folders(directory)\n",
    "    for data_folder in folders:\n",
    "        JustWatchLinksScraper(data_folder, link_type=get_link_type(data_folder), \n",
    "                              number_proxies=10).get_all_movies_info()\n",
    "    for data_folder in folders_in_directory:\n",
    "        JustWatchLinksScraper(data_folder, link_type=get_link_type(data_folder), \n",
    "                              number_proxies=0, already_downloaded=get_links_directory('/Users/timdunn/Desktop/just_watch_data/')\n",
    "                             ).get_all_movies_info()"
   ]
  },
  {
   "cell_type": "code",
   "execution_count": null,
   "id": "f2514923",
   "metadata": {},
   "outputs": [],
   "source": [
    "get_links_directory('/Users/timdunn/Desktop/just_watch_data/')"
   ]
  },
  {
   "cell_type": "code",
   "execution_count": null,
   "id": "c4af9955",
   "metadata": {},
   "outputs": [],
   "source": [
    "directory = '/Users/timdunn/Downloads/just_watch_data/'\n",
    "folders_in_directory = listdir_nohidden(directory)\n",
    "for data_folder in folders_in_directory:\n",
    "    JustWatchLinksScraper(data_folder, link_type=get_link_type(data_folder), \n",
    "                          number_proxies=0, already_downloaded=get_links_directory('/Users/timdunn/Desktop/just_watch_data/')\n",
    "                         ).get_all_movies_info()"
   ]
  },
  {
   "cell_type": "code",
   "execution_count": null,
   "id": "800e2956",
   "metadata": {},
   "outputs": [],
   "source": [
    "sflix_base_url = 'https://sflix.to/movie'"
   ]
  },
  {
   "cell_type": "code",
   "execution_count": null,
   "id": "edbffcfe",
   "metadata": {},
   "outputs": [],
   "source": [
    "from scraping.scraper import *"
   ]
  },
  {
   "cell_type": "code",
   "execution_count": null,
   "id": "e1237f55",
   "metadata": {},
   "outputs": [],
   "source": [
    "from scraping.sflix_scraper import *"
   ]
  },
  {
   "cell_type": "code",
   "execution_count": null,
   "id": "2bdafbab",
   "metadata": {},
   "outputs": [],
   "source": [
    "sflix_object = SflixScraper()"
   ]
  },
  {
   "cell_type": "code",
   "execution_count": null,
   "id": "09117eb3",
   "metadata": {},
   "outputs": [],
   "source": [
    "last_soup = sflix_object.get_page_soup(1196)"
   ]
  },
  {
   "cell_type": "code",
   "execution_count": null,
   "id": "b467d6ea",
   "metadata": {},
   "outputs": [],
   "source": [
    "last_soup.find('a', {'title': 'Last'}) == None"
   ]
  },
  {
   "cell_type": "code",
   "execution_count": null,
   "id": "b3d1e2c8",
   "metadata": {},
   "outputs": [],
   "source": [
    "sflix_object.is_last_page(1197)"
   ]
  },
  {
   "cell_type": "code",
   "execution_count": null,
   "id": "afe374a9",
   "metadata": {},
   "outputs": [],
   "source": [
    "data = sflix_object.run_scraper()"
   ]
  },
  {
   "cell_type": "code",
   "execution_count": null,
   "id": "79633e6e",
   "metadata": {},
   "outputs": [],
   "source": [
    "df = pd.DataFrame(data=flatten(data)).drop_duplicates()"
   ]
  },
  {
   "cell_type": "code",
   "execution_count": null,
   "id": "af2a6554",
   "metadata": {},
   "outputs": [],
   "source": [
    "from all_processes.update_movie_data import *"
   ]
  },
  {
   "cell_type": "code",
   "execution_count": null,
   "id": "59dd1d5a",
   "metadata": {},
   "outputs": [],
   "source": [
    "imdb_df = pd.read_csv('/Users/timdunn/Desktop/imdb_latest/merged_imdb.csv')"
   ]
  },
  {
   "cell_type": "code",
   "execution_count": null,
   "id": "d900c5c4",
   "metadata": {},
   "outputs": [],
   "source": [
    "year_present = df.loc[nonnull_columns(df, 'year')]"
   ]
  },
  {
   "cell_type": "code",
   "execution_count": null,
   "id": "124dbc66",
   "metadata": {},
   "outputs": [],
   "source": [
    "def previous_year(year):\n",
    "    try:\n",
    "        return str(int(year) - 1)\n",
    "    except:\n",
    "        return '0'"
   ]
  },
  {
   "cell_type": "code",
   "execution_count": null,
   "id": "98a05231",
   "metadata": {},
   "outputs": [],
   "source": [
    "def next_year(year):\n",
    "    try:\n",
    "        return str(int(year) + 1)\n",
    "    except:\n",
    "        return '0'"
   ]
  },
  {
   "cell_type": "code",
   "execution_count": null,
   "id": "a5ccd1c5",
   "metadata": {},
   "outputs": [],
   "source": [
    "year_present"
   ]
  },
  {
   "cell_type": "code",
   "execution_count": null,
   "id": "9e507619",
   "metadata": {},
   "outputs": [],
   "source": [
    "df['next year'] = df['year'].apply(next_year)"
   ]
  },
  {
   "cell_type": "code",
   "execution_count": null,
   "id": "96180550",
   "metadata": {},
   "outputs": [],
   "source": [
    "df"
   ]
  },
  {
   "cell_type": "code",
   "execution_count": null,
   "id": "484954b4",
   "metadata": {},
   "outputs": [],
   "source": [
    "df['previous year'] = df['year'].apply(previous_year)"
   ]
  },
  {
   "cell_type": "code",
   "execution_count": null,
   "id": "f3d84af8",
   "metadata": {},
   "outputs": [],
   "source": [
    "previous_merge = pd.merge(df[~df['link url'].isin(merged_df['link url'])], imdb_df,left_on=['searchable_movie_name', 'previous year'], \n",
    "         right_on=['searchable_alias_title', 'startYear'])"
   ]
  },
  {
   "cell_type": "code",
   "execution_count": null,
   "id": "a95e89f6",
   "metadata": {},
   "outputs": [],
   "source": [
    "next_merge = pd.merge(df[~df['link url'].isin(merged_df['link url'])], imdb_df,left_on=['searchable_movie_name', 'next year'], \n",
    "         right_on=['searchable_alias_title', 'startYear'])"
   ]
  },
  {
   "cell_type": "code",
   "execution_count": null,
   "id": "334bf697",
   "metadata": {},
   "outputs": [],
   "source": [
    "all_merges = pd.concat([merged_df, previous_merge, next_merge]).drop_duplicates(subset=['link url'])"
   ]
  },
  {
   "cell_type": "code",
   "execution_count": null,
   "id": "e209bb7b",
   "metadata": {},
   "outputs": [],
   "source": [
    "unmerged_df = df.loc[~df['link url'].isin(concated_df['link url'])]"
   ]
  },
  {
   "cell_type": "code",
   "execution_count": null,
   "id": "f29a1938",
   "metadata": {},
   "outputs": [],
   "source": [
    "unmerged_df.loc[18]"
   ]
  },
  {
   "cell_type": "code",
   "execution_count": null,
   "id": "78ebbcbb",
   "metadata": {},
   "outputs": [],
   "source": [
    "unmerged_df[18]"
   ]
  },
  {
   "cell_type": "code",
   "execution_count": null,
   "id": "8791fc4f",
   "metadata": {},
   "outputs": [],
   "source": [
    "merged_df.loc[merged_df.searchable_movie_name == 'a foreign affair']"
   ]
  },
  {
   "cell_type": "code",
   "execution_count": null,
   "id": "2ffed011",
   "metadata": {},
   "outputs": [],
   "source": [
    "previous_merge"
   ]
  },
  {
   "cell_type": "code",
   "execution_count": null,
   "id": "0e79e1c9",
   "metadata": {},
   "outputs": [],
   "source": [
    "concated_df = pd.concat([merged_df, previous_merge, next_merge, others_merged]).drop_duplicates(subset=['link url'])"
   ]
  },
  {
   "cell_type": "code",
   "execution_count": null,
   "id": "604cd8d8",
   "metadata": {},
   "outputs": [],
   "source": [
    "concated_df"
   ]
  },
  {
   "cell_type": "code",
   "execution_count": null,
   "id": "454fdbab",
   "metadata": {},
   "outputs": [],
   "source": [
    "others_merged = pd.merge(unmerged_df, imdb_df, left_on='searchable_movie_name', \n",
    "                         right_on='searchable_alias_title').drop_duplicates(subset=['link url'])"
   ]
  },
  {
   "cell_type": "code",
   "execution_count": null,
   "id": "47c4e1cc",
   "metadata": {},
   "outputs": [],
   "source": [
    "others_merged"
   ]
  },
  {
   "cell_type": "code",
   "execution_count": null,
   "id": "01fcd41d",
   "metadata": {},
   "outputs": [],
   "source": [
    "imdb_df.loc[143307, 'searchable_alias_title']"
   ]
  },
  {
   "cell_type": "code",
   "execution_count": null,
   "id": "d52b0ccf",
   "metadata": {},
   "outputs": [],
   "source": [
    "df.loc[(df['searchable_movie_name'] == 'a foreign affair') & (df['year'] == '1948')]"
   ]
  },
  {
   "cell_type": "code",
   "execution_count": null,
   "id": "b55b6055",
   "metadata": {},
   "outputs": [],
   "source": [
    "imdb_df['startYear'] = imdb_df['startYear'].astype(str)"
   ]
  },
  {
   "cell_type": "code",
   "execution_count": null,
   "id": "aff38a3f",
   "metadata": {},
   "outputs": [],
   "source": [
    "imdb_df.loc[(imdb_df['searchable_alias_title'] == 'a foreign affair') & (imdb_df['startYear'] == '1948')]"
   ]
  },
  {
   "cell_type": "code",
   "execution_count": null,
   "id": "804caa4e",
   "metadata": {},
   "outputs": [],
   "source": [
    "imdb_df.loc[imdb_df['tconst'] == 'tt0040367']"
   ]
  },
  {
   "cell_type": "code",
   "execution_count": null,
   "id": "916f3f81",
   "metadata": {},
   "outputs": [],
   "source": [
    "df['searchable_movie_name'] = df['movie_title'].astype(str).apply(searchable_movie_name)"
   ]
  },
  {
   "cell_type": "code",
   "execution_count": null,
   "id": "4e7eb8ba",
   "metadata": {},
   "outputs": [],
   "source": [
    "merged_df = pd.merge(df, imdb_df, left_on=['searchable_movie_name', 'year'], right_on=['searchable_alias_title', 'startYear'])"
   ]
  },
  {
   "cell_type": "code",
   "execution_count": null,
   "id": "866803a7",
   "metadata": {},
   "outputs": [],
   "source": [
    "merged_df"
   ]
  },
  {
   "cell_type": "code",
   "execution_count": null,
   "id": "fd42aa4e",
   "metadata": {},
   "outputs": [],
   "source": [
    "concated_df.to_csv('/Users/timdunn/Desktop/merged_sflix.csv', index=False)"
   ]
  },
  {
   "cell_type": "code",
   "execution_count": null,
   "id": "c1428e2e",
   "metadata": {},
   "outputs": [],
   "source": [
    "def convert_year(year, num):\n",
    "    try:\n",
    "        return str(int(year) + num)\n",
    "    except:\n",
    "        return '0'"
   ]
  },
  {
   "cell_type": "code",
   "execution_count": null,
   "id": "95e7bf44",
   "metadata": {},
   "outputs": [],
   "source": [
    "def previous_year(year):\n",
    "    return convert_year(year, -1)"
   ]
  },
  {
   "cell_type": "code",
   "execution_count": null,
   "id": "0ae8d91d",
   "metadata": {},
   "outputs": [],
   "source": [
    "def next_year(year):\n",
    "    return convert_year(year, 1)"
   ]
  },
  {
   "cell_type": "code",
   "execution_count": null,
   "id": "624be1a7",
   "metadata": {},
   "outputs": [],
   "source": [
    "def year_regex():\n",
    "    return r'(18[8-9][0-9]|19[0-9]{2}|20[0-1][0-9]|202[0-3])'"
   ]
  },
  {
   "cell_type": "code",
   "execution_count": null,
   "id": "921c1720",
   "metadata": {},
   "outputs": [],
   "source": [
    "def remove_year_apply_searchable(title):\n",
    "    year = r'\\((18[8-9][0-9]|19[0-9]{2}|20[0-1][0-9]|202[0-3])\\)'\n",
    "    return searchable_movie_name(re.split(year, title)[0])"
   ]
  },
  {
   "cell_type": "code",
   "execution_count": null,
   "id": "f1e92cb4",
   "metadata": {},
   "outputs": [],
   "source": [
    "def basic_merging(file_path, imdb_df=None):\n",
    "    df = pd.read_csv(file_path)\n",
    "    if imdb_df is None:\n",
    "        imdb_df = UpdateMovieData().get_latest_imdb()\n",
    "    if 'searchable_movie_name' not in df.columns:\n",
    "        df['searchable_movie_name'] = df['movie_title'].astype(str).apply(remove_year_apply_searchable)\n",
    "    imdb_df['startYear'] = imdb_df['startYear'].astype(str)\n",
    "    df['year'] = df['year'].astype(str)\n",
    "    df['previous year'] = df['year'].apply(previous_year)\n",
    "    df['next year'] = df['year'].apply(next_year)\n",
    "    df['link url'] = df['link url'].astype(str)\n",
    "    exact_mege = pd.merge(df, imdb_df, left_on=['searchable_movie_name', 'year'], \n",
    "                                      right_on=['searchable_alias_title', 'startYear']).drop_duplicates(subset='link url')\n",
    "    previous_merge = pd.merge(df.loc[~df['link url'].isin(exact_mege['link url'])], imdb_df, left_on=['searchable_movie_name', 'previous year'], \n",
    "                                          right_on=['searchable_alias_title', 'startYear']).drop_duplicates(subset='link url')\n",
    "    next_merge = pd.merge(df, imdb_df, left_on=['searchable_movie_name', 'next year'], \n",
    "                                          right_on=['searchable_alias_title', 'startYear']).drop_duplicates(subset='link url')\n",
    "    concat_df = pd.concat([exact_mege, previous_merge, next_merge]).drop_duplicates(subset='link url')\n",
    "    unmerged_df = df.loc[~df['link url'].isin(concat_df['link url'])].drop_duplicates(subset='link url')\n",
    "    others_merged = pd.merge(unmerged_df, imdb_df, left_on='searchable_movie_name', \n",
    "                         right_on='searchable_alias_title').drop_duplicates(subset=['link url'])\n",
    "    return pd.concat([exact_mege, previous_merge, next_merge, others_merged]).drop_duplicates(subset='link url')    "
   ]
  },
  {
   "cell_type": "code",
   "execution_count": null,
   "id": "78eee38f",
   "metadata": {},
   "outputs": [],
   "source": [
    "go_df = pd.read_csv('/Users/timdunn/Desktop/go_data_2_2_23.csv')"
   ]
  },
  {
   "cell_type": "code",
   "execution_count": null,
   "id": "26cca599",
   "metadata": {},
   "outputs": [],
   "source": [
    "go_df.loc[~go_df['link url'].isin(final_go['link url'])]"
   ]
  },
  {
   "cell_type": "code",
   "execution_count": null,
   "id": "c573539e",
   "metadata": {},
   "outputs": [],
   "source": [
    "np.unique(first_go_df['link url']).size"
   ]
  },
  {
   "cell_type": "code",
   "execution_count": null,
   "id": "c1ec69bd",
   "metadata": {},
   "outputs": [],
   "source": [
    "first_go_df = pd.read_csv('/Users/timdunn/Desktop/scraped movie info/')"
   ]
  },
  {
   "cell_type": "code",
   "execution_count": null,
   "id": "590c3837",
   "metadata": {},
   "outputs": [],
   "source": [
    "first_go_df"
   ]
  },
  {
   "cell_type": "code",
   "execution_count": null,
   "id": "9d852c7e",
   "metadata": {},
   "outputs": [],
   "source": [
    "final_look = basic_merging('/Users/timdunn/Desktop/scraped movie info/look_movie_info.csv', imdb_df)"
   ]
  },
  {
   "cell_type": "code",
   "execution_count": null,
   "id": "a80b05ad",
   "metadata": {},
   "outputs": [],
   "source": [
    "final_look.to_csv('/Users/timdunn/Desktop/merged_look.csv', index=False)"
   ]
  },
  {
   "cell_type": "code",
   "execution_count": null,
   "id": "5a428720",
   "metadata": {},
   "outputs": [],
   "source": [
    "def merge_all_scraped(imdb_df=None, directory='/Users/timdunn/Desktop/scraped movie info/'):\n",
    "    if imdb_df is None:\n",
    "        imdb_df = UpdateMovieData().get_latest_imdb()\n",
    "    for file_path in listdir_nohidden(directory):\n",
    "        if 'year' in pd.read_csv(file_path).columns:\n",
    "            print(\"on folder\", file_path)\n",
    "            basic_merging(file_path, imdb_df).to_csv('/Users/timdunn/Desktop/merged_{}.csv'.format(\n",
    "                file_path.split('/')[-1].split('.csv')[0]), index=False)"
   ]
  },
  {
   "cell_type": "code",
   "execution_count": null,
   "id": "bc034199",
   "metadata": {},
   "outputs": [],
   "source": [
    "pd.read_csv('/Users/timdunn/Desktop/scraped movie info/modern_movies.csv')"
   ]
  },
  {
   "cell_type": "code",
   "execution_count": null,
   "id": "e8afc10e",
   "metadata": {},
   "outputs": [],
   "source": [
    "other_dfs = list(filter(lambda file_df: 'year' not in file_df.columns, [pd.read_csv(file_path) for \n",
    "                                                       file_path in listdir_nohidden('/Users/timdunn/Desktop/scraped movie info/')]))"
   ]
  },
  {
   "cell_type": "code",
   "execution_count": null,
   "id": "eb2d9af2",
   "metadata": {},
   "outputs": [],
   "source": [
    "def yes_movie_year_conversion(year):\n",
    "    if ',' in str(year):\n",
    "        return str(year).split(',')[-1].strip()\n",
    "    else:\n",
    "        return str(year)"
   ]
  },
  {
   "cell_type": "code",
   "execution_count": null,
   "id": "a75cac48",
   "metadata": {},
   "outputs": [],
   "source": [
    "other_dfs[2].to_csv('/Users/timdunn/Desktop/merged_archive.csv', index=False)"
   ]
  },
  {
   "cell_type": "code",
   "execution_count": null,
   "id": "c099d0cb",
   "metadata": {},
   "outputs": [],
   "source": [
    "year_regex()"
   ]
  },
  {
   "cell_type": "code",
   "execution_count": null,
   "id": "417c9a10",
   "metadata": {},
   "outputs": [],
   "source": [
    "def chill_year(year):\n",
    "    try:\n",
    "        return re.split(year_regex(), year)[-2]\n",
    "    except:\n",
    "        return '0'"
   ]
  },
  {
   "cell_type": "code",
   "execution_count": null,
   "id": "f264027c",
   "metadata": {},
   "outputs": [],
   "source": [
    "def look_year(year):\n",
    "    try:\n",
    "        return re.findall(year_regex(), year)[0]\n",
    "    except:\n",
    "        return '0'"
   ]
  },
  {
   "cell_type": "code",
   "execution_count": null,
   "id": "e09d041e",
   "metadata": {},
   "outputs": [],
   "source": [
    "chill_df['year'] = chill_df['link url'].astype(str).apply(chill_year)"
   ]
  },
  {
   "cell_type": "code",
   "execution_count": null,
   "id": "5f779ccf",
   "metadata": {},
   "outputs": [],
   "source": [
    "chill_df.to_csv('/Users/timdunn/Desktop/scraped movie info/movie_chill.csv', index=False)"
   ]
  },
  {
   "cell_type": "code",
   "execution_count": null,
   "id": "f5a6b9dd",
   "metadata": {},
   "outputs": [],
   "source": [
    "soap_df = other_dfs[7]"
   ]
  },
  {
   "cell_type": "code",
   "execution_count": null,
   "id": "c02afd89",
   "metadata": {},
   "outputs": [],
   "source": [
    "soap_df['year'] = soap_df['link url'].astype(str).apply(look_year)"
   ]
  },
  {
   "cell_type": "code",
   "execution_count": null,
   "id": "48061428",
   "metadata": {},
   "outputs": [],
   "source": [
    "soap_df.to_csv('/Users/timdunn/Desktop/scraped movie info/soap_movies.csv', index=False)"
   ]
  },
  {
   "cell_type": "code",
   "execution_count": null,
   "id": "5f0abbdf",
   "metadata": {},
   "outputs": [],
   "source": [
    "merged_soap = basic_merging('/Users/timdunn/Desktop/scraped movie info/soap_movies.csv', imdb_df)"
   ]
  },
  {
   "cell_type": "code",
   "execution_count": null,
   "id": "5f14c35d",
   "metadata": {},
   "outputs": [],
   "source": [
    "merged_soap.to_csv('/Users/timdunn/Desktop/merged_soap.csv', index=False)"
   ]
  },
  {
   "cell_type": "code",
   "execution_count": null,
   "id": "668addea",
   "metadata": {},
   "outputs": [],
   "source": [
    "membed_df['searchable_movie_name'] = membed_df['movie_title'].astype(str).apply(searchable_movie_name)\n",
    "merged_membed = pd.merge(membed_df, imdb_df, left_on='searchable_movie_name', \n",
    "                         right_on='searchable_alias_title').drop_duplicates(subset=['link url'])"
   ]
  },
  {
   "cell_type": "code",
   "execution_count": null,
   "id": "d00e54be",
   "metadata": {},
   "outputs": [],
   "source": [
    "merged_membed.to_csv('/Users/timdunn/Desktop/merged_membed.csv', index=False)"
   ]
  },
  {
   "cell_type": "code",
   "execution_count": null,
   "id": "59b8c578",
   "metadata": {},
   "outputs": [],
   "source": [
    "def concated_merge_data(directory):\n",
    "    files = list(filter(lambda file: '.csv' in file, listdir_nohidden(directory)))\n",
    "    dfs = [pd.read_csv(file) for file in files]\n",
    "    return pd.concat(dfs).drop_duplicates(subset=['link url'])"
   ]
  },
  {
   "cell_type": "code",
   "execution_count": null,
   "id": "b38b81a1",
   "metadata": {},
   "outputs": [],
   "source": [
    "concated = concated_merge_data('/Users/timdunn/Desktop/merged_movie_data/')"
   ]
  },
  {
   "cell_type": "code",
   "execution_count": null,
   "id": "7e311f43",
   "metadata": {},
   "outputs": [],
   "source": [
    "just_watch_merged = concated_merge_data('/Users/timdunn/Desktop/merged_movie_data/just_watch_data/')"
   ]
  },
  {
   "cell_type": "code",
   "execution_count": null,
   "id": "6a380297",
   "metadata": {},
   "outputs": [],
   "source": [
    "just_watch_merged['tconst'] = just_watch_merged['tconst'].astype(str)"
   ]
  },
  {
   "cell_type": "code",
   "execution_count": null,
   "id": "d18785ed",
   "metadata": {},
   "outputs": [],
   "source": [
    "final_concat = pd.concat([concated, just_watch_merged]).drop_duplicates()"
   ]
  },
  {
   "cell_type": "code",
   "execution_count": null,
   "id": "b64b42c5",
   "metadata": {},
   "outputs": [],
   "source": [
    "other_final.to_csv('/Users/timdunn/Desktop/everything_merged.csv', index=False)"
   ]
  },
  {
   "cell_type": "code",
   "execution_count": null,
   "id": "09a095a9",
   "metadata": {},
   "outputs": [],
   "source": [
    "other_final = pd.concat([other_final, youtube_concat]).drop_duplicates(subset=['link url'])"
   ]
  },
  {
   "cell_type": "code",
   "execution_count": null,
   "id": "a9b12795",
   "metadata": {},
   "outputs": [],
   "source": [
    "def file_has_data(file_path):\n",
    "    return os.stat(file_path).st_size > 1"
   ]
  },
  {
   "cell_type": "code",
   "execution_count": null,
   "id": "b434d19f",
   "metadata": {},
   "outputs": [],
   "source": [
    "from common_methods import *"
   ]
  },
  {
   "cell_type": "code",
   "execution_count": null,
   "id": "ba3deb1c",
   "metadata": {},
   "outputs": [],
   "source": [
    "def concating_okru_data():\n",
    "    okru_progress_path = \"/Users/timdunn/Desktop/okru_progress.csv\"\n",
    "    dfs = [pd.read_csv(file_path) for file_path in filtered_file_paths(\"/Users/timdunn/Desktop/okru_checkpoints/\")]\n",
    "    dfs.append(pd.read_csv(okru_progress_path))\n",
    "    final_df = pd.concat(dfs).drop_duplicates().reset_index(drop=True)\n",
    "    final_df.to_csv(okru_progress_path)\n",
    "    return final_df"
   ]
  },
  {
   "cell_type": "code",
   "execution_count": null,
   "id": "7f98a601",
   "metadata": {},
   "outputs": [],
   "source": [
    "okru_data = concating_okru_data()"
   ]
  },
  {
   "cell_type": "code",
   "execution_count": null,
   "id": "00629415",
   "metadata": {},
   "outputs": [],
   "source": [
    "imdb_extra = pd.read_csv('/Users/timdunn/Desktop/extra_data_imdb.csv')"
   ]
  },
  {
   "cell_type": "code",
   "execution_count": null,
   "id": "aa795940",
   "metadata": {},
   "outputs": [],
   "source": [
    "okru_data = reset_and_copy(okru_data.drop_duplicates(subset=['link url']))"
   ]
  },
  {
   "cell_type": "code",
   "execution_count": null,
   "id": "cd25f6b6",
   "metadata": {},
   "outputs": [],
   "source": [
    "okru_data.loc[nonnull_columns(okru_data, 'tconst')]"
   ]
  },
  {
   "cell_type": "code",
   "execution_count": null,
   "id": "2bc4d82d",
   "metadata": {},
   "outputs": [],
   "source": [
    "everything = pd.read_csv('/Users/timdunn/Desktop/everything_merged.csv')"
   ]
  },
  {
   "cell_type": "code",
   "execution_count": null,
   "id": "d18cbbb6",
   "metadata": {},
   "outputs": [],
   "source": [
    "for video in [\"\"]"
   ]
  },
  {
   "cell_type": "code",
   "execution_count": null,
   "id": "9b007ea3",
   "metadata": {},
   "outputs": [],
   "source": [
    "download_a_video(\"https://ok.ru/video/984890346207\")"
   ]
  },
  {
   "cell_type": "code",
   "execution_count": null,
   "id": "0ccb9db3",
   "metadata": {},
   "outputs": [],
   "source": [
    "download_a_video(\"https://ok.ru/video/2204015594015\")"
   ]
  },
  {
   "cell_type": "code",
   "execution_count": null,
   "id": "0349ecb0",
   "metadata": {},
   "outputs": [],
   "source": [
    "download_a_video(\"https://ok.ru/video/2727676480085\")"
   ]
  },
  {
   "cell_type": "code",
   "execution_count": null,
   "id": "c1bcca83",
   "metadata": {},
   "outputs": [],
   "source": [
    "download_a_video(\"https://ok.ru/video/3995480033998\")"
   ]
  },
  {
   "cell_type": "code",
   "execution_count": null,
   "id": "c7f8e00d",
   "metadata": {},
   "outputs": [],
   "source": [
    "from all_processes.update_youtube_data import *"
   ]
  },
  {
   "cell_type": "code",
   "execution_count": null,
   "id": "59cb96b6",
   "metadata": {},
   "outputs": [],
   "source": [
    "youtube_object = UpdateYoutubeData()"
   ]
  },
  {
   "cell_type": "code",
   "execution_count": null,
   "id": "4c69d24b",
   "metadata": {},
   "outputs": [],
   "source": [
    "now = time.time()"
   ]
  },
  {
   "cell_type": "code",
   "execution_count": null,
   "id": "c6389561",
   "metadata": {},
   "outputs": [],
   "source": [
    "(now - file_updated_time)/3600/24"
   ]
  },
  {
   "cell_type": "code",
   "execution_count": null,
   "id": "771c7a16",
   "metadata": {},
   "outputs": [],
   "source": [
    "file_updated_time = os.path.getmtime(youtube_object.playlist_path)"
   ]
  },
  {
   "cell_type": "code",
   "execution_count": null,
   "id": "1a179c94",
   "metadata": {},
   "outputs": [],
   "source": [
    "youtube_object.not_latest_youtube_data()"
   ]
  },
  {
   "cell_type": "code",
   "execution_count": null,
   "id": "6e79c5db",
   "metadata": {},
   "outputs": [],
   "source": [
    "UpdateYoutubeData().run_all_processes()"
   ]
  },
  {
   "cell_type": "code",
   "execution_count": null,
   "id": "f49084e2",
   "metadata": {},
   "outputs": [],
   "source": [
    "def filtered_file_paths(directory):\n",
    "    return list(filter(file_has_data, listdir_nohidden(directory)))"
   ]
  },
  {
   "cell_type": "code",
   "execution_count": null,
   "id": "83eadda8",
   "metadata": {},
   "outputs": [],
   "source": [
    "final_okru = concating_okru_data()"
   ]
  },
  {
   "cell_type": "code",
   "execution_count": null,
   "id": "a15c47a0",
   "metadata": {},
   "outputs": [],
   "source": [
    "from syncing_movie_data.merge_guessit_data import *"
   ]
  },
  {
   "cell_type": "code",
   "execution_count": null,
   "id": "7ba6697b",
   "metadata": {},
   "outputs": [],
   "source": [
    "merge_object = MergeGuessitData(imdb_df=imdb_df, links_df=final_okru)"
   ]
  },
  {
   "cell_type": "code",
   "execution_count": null,
   "id": "b211d237",
   "metadata": {},
   "outputs": [],
   "source": []
  },
  {
   "cell_type": "code",
   "execution_count": null,
   "id": "f7157f79",
   "metadata": {},
   "outputs": [],
   "source": [
    "guess_it_df = merge_object.set_guess_it_df(final_okru)"
   ]
  },
  {
   "cell_type": "code",
   "execution_count": null,
   "id": "a7f282b0",
   "metadata": {},
   "outputs": [],
   "source": [
    "final_okru['searchable_movie_name'] = final_okru['link title'].astype(str).apply(searchable_movie_name)"
   ]
  },
  {
   "cell_type": "code",
   "execution_count": null,
   "id": "beaf179b",
   "metadata": {},
   "outputs": [],
   "source": [
    "np.unique(final_okru['tconst'].astype(str)).size"
   ]
  },
  {
   "cell_type": "code",
   "execution_count": null,
   "id": "90e1b6e7",
   "metadata": {},
   "outputs": [],
   "source": [
    "from syncing_movie_data.merge_guessit_data import *"
   ]
  },
  {
   "cell_type": "code",
   "execution_count": null,
   "id": "731b3c30",
   "metadata": {},
   "outputs": [],
   "source": [
    "soup = get_soup_url(\"https://fmovies.to/movies\")"
   ]
  },
  {
   "cell_type": "code",
   "execution_count": null,
   "id": "f8a09940",
   "metadata": {},
   "outputs": [],
   "source": [
    "page_url = 'https://fmovies.to/movies?page={}'"
   ]
  },
  {
   "cell_type": "code",
   "execution_count": null,
   "id": "08cd1e6c",
   "metadata": {},
   "outputs": [],
   "source": [
    "# div class filmlist\n",
    "# under this div class item\n",
    "# quality div class quality\n",
    "# href first a need format\n",
    "# title of the first a is movie name\n",
    "# in div class meta first text stripped is year\n",
    "# second text in div class meta is split by' min' and the duration\n",
    "# directions to scrape fmovies"
   ]
  },
  {
   "cell_type": "code",
   "execution_count": null,
   "id": "6aafdda0",
   "metadata": {},
   "outputs": [],
   "source": [
    "soup"
   ]
  },
  {
   "cell_type": "code",
   "execution_count": null,
   "id": "75ea4435",
   "metadata": {},
   "outputs": [],
   "source": [
    "links_df = pd.read_csv('/Users/timdunn/Desktop/okru_progress.csv')"
   ]
  },
  {
   "cell_type": "code",
   "execution_count": null,
   "id": "77ce4bf6",
   "metadata": {},
   "outputs": [],
   "source": [
    "imdb_df = pd.read_csv('/Users/timdunn/Desktop/imdb_latest/merged_imdb.csv')"
   ]
  },
  {
   "cell_type": "code",
   "execution_count": null,
   "id": "0ba0e45e",
   "metadata": {},
   "outputs": [],
   "source": [
    "merge_object = MergeGuessitData(imdb_df=imdb_df, links_df=links_df)\n",
    "df = merge_object.set_guess_it_df()"
   ]
  },
  {
   "cell_type": "code",
   "execution_count": null,
   "id": "7c8322e2",
   "metadata": {},
   "outputs": [],
   "source": [
    "links_df = merge_object.links_df"
   ]
  },
  {
   "cell_type": "code",
   "execution_count": null,
   "id": "1818c3f1",
   "metadata": {},
   "outputs": [],
   "source": [
    "cols_to_drop = list(filter(lambda column: 'Unnamed' in column, links_df.columns))"
   ]
  },
  {
   "cell_type": "code",
   "execution_count": null,
   "id": "07265fc5",
   "metadata": {},
   "outputs": [],
   "source": [
    "links_df.drop(cols_to_drop, inplace=True, axis=1)"
   ]
  },
  {
   "cell_type": "code",
   "execution_count": null,
   "id": "fbaafdc3",
   "metadata": {},
   "outputs": [],
   "source": [
    "links_df = reset_and_copy(links_df.drop_duplicates(subset=['link url']))"
   ]
  },
  {
   "cell_type": "code",
   "execution_count": null,
   "id": "a7ec3c75",
   "metadata": {},
   "outputs": [],
   "source": [
    "links_df.drop(['tconst'], inplace=True, axis=1)"
   ]
  },
  {
   "cell_type": "code",
   "execution_count": null,
   "id": "1c6a7ae0",
   "metadata": {},
   "outputs": [],
   "source": [
    "links_df = reset_and_copy(links_df.loc[nonnull_columns(links_df, 'searchable_movie_name')])"
   ]
  },
  {
   "cell_type": "code",
   "execution_count": null,
   "id": "dfbe8c74",
   "metadata": {},
   "outputs": [],
   "source": [
    "links_df"
   ]
  },
  {
   "cell_type": "code",
   "execution_count": null,
   "id": "ef1495ec",
   "metadata": {},
   "outputs": [],
   "source": [
    "all_guessit_dicts = merge_object.guessit_dicts"
   ]
  },
  {
   "cell_type": "code",
   "execution_count": null,
   "id": "3429ad9a",
   "metadata": {},
   "outputs": [],
   "source": [
    "all_guessit_dicts"
   ]
  },
  {
   "cell_type": "code",
   "execution_count": null,
   "id": "74e221d0",
   "metadata": {},
   "outputs": [],
   "source": [
    "final_df = pd.concat([pd.read_csv('/Users/timdunn/Desktop/everything_merged.csv'), df]).drop_duplicates(subset=['link url'])"
   ]
  },
  {
   "cell_type": "code",
   "execution_count": null,
   "id": "8d1c6ae6",
   "metadata": {},
   "outputs": [],
   "source": [
    "np.unique(final_df['tconst'].astype(str)).size"
   ]
  },
  {
   "cell_type": "code",
   "execution_count": null,
   "id": "46000b92",
   "metadata": {},
   "outputs": [],
   "source": [
    "df['tcsont']"
   ]
  },
  {
   "cell_type": "code",
   "execution_count": null,
   "id": "fee52908",
   "metadata": {},
   "outputs": [],
   "source": [
    "main_df = merge_object.links_df"
   ]
  },
  {
   "cell_type": "code",
   "execution_count": null,
   "id": "0699aade",
   "metadata": {},
   "outputs": [],
   "source": [
    "guessit_df = merge_object.links_df.loc[~(merge_object.years == '')]"
   ]
  },
  {
   "cell_type": "code",
   "execution_count": null,
   "id": "99c57b0c",
   "metadata": {},
   "outputs": [],
   "source": [
    "unique_years = np.unique(guessit_df['year'])"
   ]
  },
  {
   "cell_type": "code",
   "execution_count": null,
   "id": "29d3957d",
   "metadata": {},
   "outputs": [],
   "source": [
    "unique_years"
   ]
  },
  {
   "cell_type": "code",
   "execution_count": null,
   "id": "03a9be45",
   "metadata": {},
   "outputs": [],
   "source": [
    "merge_object.set_year_vals(guessit_df, 1)"
   ]
  },
  {
   "cell_type": "code",
   "execution_count": null,
   "id": "ddc626ba",
   "metadata": {},
   "outputs": [],
   "source": [
    "files = list(filter(lambda file: '.csv' in file, listdir_nohidden(directory)))\n",
    "dfs = [pd.read_csv(file) for file in files]"
   ]
  },
  {
   "cell_type": "code",
   "execution_count": null,
   "id": "a453315c",
   "metadata": {},
   "outputs": [],
   "source": [
    "for file in files:\n",
    "    df = pd.read_csv(file)\n",
    "    if 'link url' not in df.columns:\n",
    "        df['link url'] = df['just_watch_url']\n",
    "        df.to_csv(file)"
   ]
  },
  {
   "cell_type": "code",
   "execution_count": null,
   "id": "8815a003",
   "metadata": {},
   "outputs": [],
   "source": [
    "dfs[1]"
   ]
  },
  {
   "cell_type": "code",
   "execution_count": null,
   "id": "4ca109ff",
   "metadata": {},
   "outputs": [],
   "source": [
    "np.unique(concated['tconst']).size"
   ]
  },
  {
   "cell_type": "code",
   "execution_count": null,
   "id": "3c335f91",
   "metadata": {},
   "outputs": [],
   "source": [
    "solar_df.loc[5, 'link url']"
   ]
  },
  {
   "cell_type": "code",
   "execution_count": null,
   "id": "30f3d086",
   "metadata": {},
   "outputs": [],
   "source": [
    "solar_df.loc[0, 'link url']"
   ]
  },
  {
   "cell_type": "code",
   "execution_count": null,
   "id": "f3efc70f",
   "metadata": {},
   "outputs": [],
   "source": [
    "look_df['year'] = look_df['link url'].astype(str).apply(look_year)"
   ]
  },
  {
   "cell_type": "code",
   "execution_count": null,
   "id": "fc98b0e2",
   "metadata": {},
   "outputs": [],
   "source": [
    "re.findall(year_regex(), look_df.loc[0, 'link url'])[0]"
   ]
  },
  {
   "cell_type": "code",
   "execution_count": null,
   "id": "d202a748",
   "metadata": {},
   "outputs": [],
   "source": [
    "np.unique(look_df['year']).size"
   ]
  },
  {
   "cell_type": "code",
   "execution_count": null,
   "id": "861b466c",
   "metadata": {},
   "outputs": [],
   "source": [
    "look_df.to_csv('/Users/timdunn/Desktop/scraped movie info/look_movie_info.csv', index=False)"
   ]
  },
  {
   "cell_type": "code",
   "execution_count": null,
   "id": "e1076b52",
   "metadata": {},
   "outputs": [],
   "source": [
    "for file_path in listdir_nohidden('/Users/timdunn/Desktop/scraped movie info/'):\n",
    "    print(file_path)"
   ]
  },
  {
   "cell_type": "code",
   "execution_count": null,
   "id": "0805b7e3",
   "metadata": {},
   "outputs": [],
   "source": [
    "yes_df.to_csv('/Users/timdunn/Desktop/scraped movie info/yesmovies.csv', index=False)"
   ]
  },
  {
   "cell_type": "code",
   "execution_count": null,
   "id": "f298fa5b",
   "metadata": {},
   "outputs": [],
   "source": [
    "chill_merged = basic_merging('/Users/timdunn/Desktop/scraped movie info/movie_chill.csv', imdb_df)"
   ]
  },
  {
   "cell_type": "code",
   "execution_count": null,
   "id": "0e0f962e",
   "metadata": {},
   "outputs": [],
   "source": [
    "chill_merged"
   ]
  },
  {
   "cell_type": "code",
   "execution_count": null,
   "id": "51ada500",
   "metadata": {},
   "outputs": [],
   "source": [
    "chill_merged.to_csv('/Users/timdunn/Desktop/merged_chill_movies.csv', index=False)"
   ]
  },
  {
   "cell_type": "code",
   "execution_count": null,
   "id": "110fe63c",
   "metadata": {},
   "outputs": [],
   "source": [
    "streamlord_df = pd.read_csv('/Users/timdunn/Desktop/scraped movie info/streamloard_movies.csv')"
   ]
  },
  {
   "cell_type": "code",
   "execution_count": null,
   "id": "88f4efd2",
   "metadata": {},
   "outputs": [],
   "source": [
    "streamlord_df['movie_title'] = streamlord_df['movie_title'].astype(str).apply(streamlord_searchable)"
   ]
  },
  {
   "cell_type": "code",
   "execution_count": null,
   "id": "d1a70c10",
   "metadata": {},
   "outputs": [],
   "source": [
    "def streamlord_searchable(title):\n",
    "    return title.split('\\n')[0]"
   ]
  },
  {
   "cell_type": "code",
   "execution_count": null,
   "id": "bb06fcbd",
   "metadata": {},
   "outputs": [],
   "source": [
    "streamlord_df.to_csv('/Users/timdunn/Desktop/scraped movie info/streamloard_movies.csv')"
   ]
  },
  {
   "cell_type": "code",
   "execution_count": null,
   "id": "e0aa89a3",
   "metadata": {},
   "outputs": [],
   "source": [
    "merge_all_scraped(imdb_df)"
   ]
  },
  {
   "cell_type": "code",
   "execution_count": null,
   "id": "08897303",
   "metadata": {},
   "outputs": [],
   "source": [
    "streamlord_merged.drop(['Unnamed: 0'], axis=1, inplace=True)"
   ]
  },
  {
   "cell_type": "code",
   "execution_count": null,
   "id": "cb83545c",
   "metadata": {},
   "outputs": [],
   "source": [
    "streamlord_merged = streamlord_merged.reset_index(drop=True)"
   ]
  },
  {
   "cell_type": "code",
   "execution_count": null,
   "id": "01590d84",
   "metadata": {},
   "outputs": [],
   "source": [
    "streamlord_merged.to_csv('/Users/timdunn/Desktop/merged_streamloard_movies.csv')"
   ]
  },
  {
   "cell_type": "code",
   "execution_count": null,
   "id": "44fe5110",
   "metadata": {},
   "outputs": [],
   "source": [
    "folder = '/Users/timdunn/Desktop/scraped movie info/primewire.csv'"
   ]
  },
  {
   "cell_type": "code",
   "execution_count": null,
   "id": "b163a152",
   "metadata": {},
   "outputs": [],
   "source": [
    "folder.split['/']"
   ]
  },
  {
   "cell_type": "code",
   "execution_count": null,
   "id": "40b1fa22",
   "metadata": {},
   "outputs": [],
   "source": [
    "UpdateMovieData().get_latest_imdb()"
   ]
  },
  {
   "cell_type": "code",
   "execution_count": null,
   "id": "d46e2760",
   "metadata": {},
   "outputs": [],
   "source": [
    "imdb_df = pd.read_csv('/Users')"
   ]
  },
  {
   "cell_type": "code",
   "execution_count": null,
   "id": "1b06aff6",
   "metadata": {},
   "outputs": [],
   "source": [
    "df.to_csv('/Users/timdunn/Desktop/sflix_data.csv', index=False)"
   ]
  },
  {
   "cell_type": "code",
   "execution_count": null,
   "id": "1aeb318f",
   "metadata": {},
   "outputs": [],
   "source": [
    "def is_last_page(soup, page):\n",
    "    return str(page) == soup.find('a', {'title': 'Last'})"
   ]
  },
  {
   "cell_type": "code",
   "execution_count": null,
   "id": "5a196cfd",
   "metadata": {},
   "outputs": [],
   "source": [
    "def get_divs(soup):\n",
    "    return soup.find_all('div', {'class': 'film-detail'})"
   ]
  },
  {
   "cell_type": "code",
   "execution_count": null,
   "id": "cf5f19a0",
   "metadata": {},
   "outputs": [],
   "source": [
    "def resolution(div):\n",
    "    return div.find_all('span', {'class': 'fdi-item'})[1].find('strong').text.strip()"
   ]
  },
  {
   "cell_type": "code",
   "execution_count": null,
   "id": "ee35fa8f",
   "metadata": {},
   "outputs": [],
   "source": [
    "def year(div):\n",
    "    return div.find_all('span', {'class': 'fdi-item'})[-1].text.strip()"
   ]
  },
  {
   "cell_type": "code",
   "execution_count": null,
   "id": "d61f0e2c",
   "metadata": {},
   "outputs": [],
   "source": [
    "def link_tag(div):\n",
    "    return div.find('h2', {'class': 'film-name'}).find('a')"
   ]
  },
  {
   "cell_type": "code",
   "execution_count": null,
   "id": "33dbf68d",
   "metadata": {},
   "outputs": [],
   "source": [
    "def link_url(div):\n",
    "    return link_tag(div)['href']"
   ]
  },
  {
   "cell_type": "code",
   "execution_count": null,
   "id": "d10c7d68",
   "metadata": {},
   "outputs": [],
   "source": [
    "def movie_name(div):\n",
    "    return link_tag(div).text.strip()"
   ]
  },
  {
   "cell_type": "code",
   "execution_count": null,
   "id": "c30e4895",
   "metadata": {},
   "outputs": [],
   "source": [
    "sflix_page_format = \"https://sflix.to/movie?page={}\""
   ]
  },
  {
   "cell_type": "code",
   "execution_count": null,
   "id": "c8472c28",
   "metadata": {},
   "outputs": [],
   "source": [
    "soup = get_soup_url(\"https://tinyzonetv.to/movie?page=1196\")"
   ]
  },
  {
   "cell_type": "code",
   "execution_count": null,
   "id": "886533e0",
   "metadata": {},
   "outputs": [],
   "source": [
    "soup.find_all('div', {'class': 'flw-item'})"
   ]
  },
  {
   "cell_type": "code",
   "execution_count": null,
   "id": "1e0aecc9",
   "metadata": {},
   "outputs": [],
   "source": [
    "soup.prettify()"
   ]
  },
  {
   "cell_type": "code",
   "execution_count": null,
   "id": "85029dd0",
   "metadata": {},
   "outputs": [],
   "source": [
    "'/Users/timdunn/Downloads/just_watch_data/indie_flix_data'"
   ]
  },
  {
   "cell_type": "code",
   "execution_count": null,
   "id": "25dd8430",
   "metadata": {},
   "outputs": [],
   "source": [
    "samples = pd.read_csv('/Users/timdunn/Desktop/just_watch_data/just_watch_boomerang_data.csv')"
   ]
  },
  {
   "cell_type": "code",
   "execution_count": null,
   "id": "ca9c381f",
   "metadata": {},
   "outputs": [],
   "source": [
    "def tubi_url(url):\n",
    "    return \"https://tubitv.com/movies/{}\".format(int(float(url)))"
   ]
  },
  {
   "cell_type": "code",
   "execution_count": null,
   "id": "a48884b6",
   "metadata": {},
   "outputs": [],
   "source": [
    "from random import sample"
   ]
  },
  {
   "cell_type": "code",
   "execution_count": null,
   "id": "a0943deb",
   "metadata": {},
   "outputs": [],
   "source": [
    "def get_imdb_tconst(soup):\n",
    "    return soup.find('div', {'v-uib-tooltip': 'IMDB'}).find('a').get('href').split('title/')[1].split('/')[0]"
   ]
  },
  {
   "cell_type": "code",
   "execution_count": null,
   "id": "317016f3",
   "metadata": {},
   "outputs": [],
   "source": [
    "def movie_runtime(soup):\n",
    "    return soup.find_all('h3', string=re.compile(\"Runtime\"))[0].parent.next_sibling.text"
   ]
  },
  {
   "cell_type": "code",
   "execution_count": null,
   "id": "21b77e11",
   "metadata": {},
   "outputs": [],
   "source": [
    "def movie_year(soup):\n",
    "    text = soup.find('div', {'class': 'title-block'}).find('span').text.strip()\n",
    "    text = re.sub('\\(', '', text)\n",
    "    text = re.sub('\\)', '', text)\n",
    "    return text"
   ]
  },
  {
   "cell_type": "code",
   "execution_count": null,
   "id": "e8a8b31c",
   "metadata": {},
   "outputs": [],
   "source": [
    "def movie_title(soup):\n",
    "    return soup.find('div', {'class': 'title-block'}).find('h1').text.strip()"
   ]
  },
  {
   "cell_type": "code",
   "execution_count": null,
   "id": "8bece6ce",
   "metadata": {},
   "outputs": [],
   "source": [
    "def imdb_rating(soup):\n",
    "    return soup.find('div', {'v-uib-tooltip': 'IMDB'}).text.strip()"
   ]
  },
  {
   "cell_type": "code",
   "execution_count": null,
   "id": "6cc3feb3",
   "metadata": {},
   "outputs": [],
   "source": [
    "def just_watch_rating(soup):\n",
    "    return soup.find('div', {'v-uib-tooltip': 'JustWatch Rating'}).text.strip()"
   ]
  },
  {
   "cell_type": "code",
   "execution_count": null,
   "id": "dcc7c18a",
   "metadata": {},
   "outputs": [],
   "source": [
    "def get_all_links(soup):\n",
    "    divs = soup.find_all('div', {'class': 'presentation-type price-comparison__grid__row__element__icon'})\n",
    "    return [div.find('a').get('href') for div in divs]"
   ]
  },
  {
   "cell_type": "code",
   "execution_count": null,
   "id": "86c708ed",
   "metadata": {},
   "outputs": [],
   "source": [
    "def get_tubi_link(links):\n",
    "    return list(filter(lambda link: 'tubi' in link, links))[0]"
   ]
  },
  {
   "cell_type": "code",
   "execution_count": null,
   "id": "2f864984",
   "metadata": {},
   "outputs": [],
   "source": [
    "def get_tubi_link(link):\n",
    "    return link.split(split_str)[1].split('%')[0]"
   ]
  },
  {
   "cell_type": "code",
   "execution_count": null,
   "id": "7ea1db34",
   "metadata": {},
   "outputs": [],
   "source": [
    "merged_youtube.youtube_data"
   ]
  },
  {
   "cell_type": "code",
   "execution_count": null,
   "id": "a4a66bfc",
   "metadata": {},
   "outputs": [],
   "source": [
    "merged_youtube.run_all_processes()"
   ]
  },
  {
   "cell_type": "code",
   "execution_count": null,
   "id": "2d798092",
   "metadata": {},
   "outputs": [],
   "source": [
    "merged_youtube.youtube_data"
   ]
  },
  {
   "cell_type": "code",
   "execution_count": null,
   "id": "ebf69ca4",
   "metadata": {},
   "outputs": [],
   "source": [
    "merged_youtube = UpdateYoutubeData().run_all_processes().merged_df"
   ]
  },
  {
   "cell_type": "code",
   "execution_count": null,
   "id": "0c561b0a",
   "metadata": {},
   "outputs": [],
   "source": [
    "'/Users/timdunn/Desktop/youtube_latest/'"
   ]
  },
  {
   "cell_type": "code",
   "execution_count": null,
   "id": "fd4efcf4",
   "metadata": {},
   "outputs": [],
   "source": [
    "def associate_okru_imdb(imdb_df, okru_df):\n",
    "    return MergeMovieData(imdb_df=imdb_df, links_df=okru_df).set_merge_dfs()"
   ]
  },
  {
   "cell_type": "code",
   "execution_count": null,
   "id": "02924722",
   "metadata": {},
   "outputs": [],
   "source": [
    "def associate_youtube_imdb(imdb_df, youtube_df):\n",
    "    return MergeMovieData(imdb_df=imdb_df, links_df=okru_df).set_merge_dfs()"
   ]
  },
  {
   "cell_type": "code",
   "execution_count": null,
   "id": "4602fa59",
   "metadata": {},
   "outputs": [],
   "source": [
    "def combine_all_data():\n",
    "    set_all_data()\n",
    "    merge_all_data()"
   ]
  },
  {
   "cell_type": "code",
   "execution_count": null,
   "id": "13ede33d",
   "metadata": {},
   "outputs": [],
   "source": [
    "imdb_data_url = 'https://datasets.imdbws.com/'"
   ]
  },
  {
   "cell_type": "code",
   "execution_count": null,
   "id": "bff0f8a6",
   "metadata": {},
   "outputs": [],
   "source": [
    "final_imdb = get_latest_imdb()"
   ]
  },
  {
   "cell_type": "code",
   "execution_count": null,
   "id": "5208d808",
   "metadata": {},
   "outputs": [],
   "source": [
    "final_imdb"
   ]
  },
  {
   "cell_type": "code",
   "execution_count": null,
   "id": "55a3c3ef",
   "metadata": {},
   "outputs": [],
   "source": [
    "def get_latest_imdb():\n",
    "    if imdb_file_not_updated():\n",
    "        soup = go_to_imdb_page()\n",
    "        links = get_all_links(soup)\n",
    "        download_all_links(links)\n",
    "        extract_all_links()\n",
    "        remove_archive_links()\n",
    "    return set_imdb_data()"
   ]
  },
  {
   "cell_type": "code",
   "execution_count": null,
   "id": "36a7d093",
   "metadata": {},
   "outputs": [],
   "source": [
    "merged_imdb = get_latest_imdb()"
   ]
  },
  {
   "cell_type": "code",
   "execution_count": null,
   "id": "f597533e",
   "metadata": {},
   "outputs": [],
   "source": [
    "links = get_all_links(soup)"
   ]
  },
  {
   "cell_type": "code",
   "execution_count": null,
   "id": "e82bd034",
   "metadata": {},
   "outputs": [],
   "source": [
    "download_all_links([links[0]])"
   ]
  },
  {
   "cell_type": "code",
   "execution_count": null,
   "id": "0fe012ff",
   "metadata": {},
   "outputs": [],
   "source": [
    "os.remove('/Users/timdunn/Desktop/imdb_latest/title.akas.tsv.gz')"
   ]
  },
  {
   "cell_type": "code",
   "execution_count": null,
   "id": "92aa1799",
   "metadata": {},
   "outputs": [],
   "source": [
    "remove_archive_links()"
   ]
  },
  {
   "cell_type": "code",
   "execution_count": null,
   "id": "7ec68fdd",
   "metadata": {},
   "outputs": [],
   "source": [
    "def remove_archive_links(main_path='/Users/timdunn/Desktop/imdb_latest/'):\n",
    "    for file in files_to_extract():\n",
    "        os.remove(file)"
   ]
  },
  {
   "cell_type": "code",
   "execution_count": null,
   "id": "80e8955e",
   "metadata": {},
   "outputs": [],
   "source": [
    "def imdb_merge_not_updated(merged_path=\"{}merged_imdb.csv\".format('/Users/timdunn/Desktop/imdb_latest/')):\n",
    "    "
   ]
  },
  {
   "cell_type": "code",
   "execution_count": null,
   "id": "376a099c",
   "metadata": {},
   "outputs": [],
   "source": [
    "def imdb_merge_not_updated(main_path='/Users/timdunn/Desktop/imdb_latest/'):\n",
    "    return file_not_updated(file_path=\"{}merged_imdb.csv\".format(main_path))"
   ]
  },
  {
   "cell_type": "code",
   "execution_count": null,
   "id": "cd0eeb42",
   "metadata": {},
   "outputs": [],
   "source": [
    "def file_not_updated(file_path=\"/Users/timdunn/Desktop/imdb_latest/title.basics.tsv\"):\n",
    "    try:\n",
    "        update_time = os.path.getmtime(file_path)\n",
    "        days = ((time.time() - update_time)/3600)/24\n",
    "        print(days)\n",
    "        return days > 1\n",
    "    except:\n",
    "        print('went into bad exception')\n",
    "        return True"
   ]
  },
  {
   "cell_type": "code",
   "execution_count": null,
   "id": "d25a41dc",
   "metadata": {},
   "outputs": [],
   "source": [
    "def set_imdb_data(main_path='/Users/timdunn/Desktop/imdb_latest/'):\n",
    "    merged_imdb_path = \"{}merged_imdb.csv\".format(main_path)\n",
    "    if imdb_merge_not_updated():\n",
    "        print('went into wrong if')\n",
    "        df = CreateMovieData(movies_from_file_path='{}title.basics.tsv'.format(main_path), \n",
    "                             alias_file_path='{}title.akas.tsv'.format(main_path)).create_imdb_df()\n",
    "        df.to_csv(merged_imdb_path.format(main_path), index=False)\n",
    "        return df\n",
    "    else:\n",
    "        return pd.read_csv(merged_imdb_path)"
   ]
  },
  {
   "cell_type": "code",
   "execution_count": null,
   "id": "5bd8368f",
   "metadata": {},
   "outputs": [],
   "source": [
    "def get_soup_url(url):\n",
    "    return BeautifulSoup(get_page_url(url).content, \"html.parser\")"
   ]
  },
  {
   "cell_type": "code",
   "execution_count": null,
   "id": "9745e056",
   "metadata": {},
   "outputs": [],
   "source": [
    "def get_page_url(url):\n",
    "    return requests.get(url)"
   ]
  },
  {
   "cell_type": "code",
   "execution_count": null,
   "id": "4bdc731b",
   "metadata": {},
   "outputs": [],
   "source": [
    "def go_to_imdb_page():\n",
    "    return get_soup_url('https://datasets.imdbws.com/')"
   ]
  },
  {
   "cell_type": "code",
   "execution_count": null,
   "id": "1ce93bd5",
   "metadata": {},
   "outputs": [],
   "source": [
    "def get_uls(soup):\n",
    "    return soup.find_all('a')"
   ]
  },
  {
   "cell_type": "code",
   "execution_count": null,
   "id": "e0cf13fe",
   "metadata": {},
   "outputs": [],
   "source": [
    "def get_all_links(soup):\n",
    "    return [ul.find('a').get('href') for ul in soup.find_all('ul')]"
   ]
  },
  {
   "cell_type": "code",
   "execution_count": null,
   "id": "8ec10719",
   "metadata": {},
   "outputs": [],
   "source": [
    "def get_output_file(file_name):\n",
    "    return \"{}\".format(file_name.split('.gz')[0])"
   ]
  },
  {
   "cell_type": "code",
   "execution_count": null,
   "id": "54257d4d",
   "metadata": {},
   "outputs": [],
   "source": [
    "soup = go_to_imdb_page()\n",
    "links = get_all_links(soup)"
   ]
  },
  {
   "cell_type": "code",
   "execution_count": null,
   "id": "9d5cc62c",
   "metadata": {},
   "outputs": [],
   "source": [
    "links[0].split(\"https://datasets.imdbws.com/\")[-1]"
   ]
  },
  {
   "cell_type": "code",
   "execution_count": null,
   "id": "f280ad5f",
   "metadata": {},
   "outputs": [],
   "source": [
    "file_name_of_link(links[0])"
   ]
  },
  {
   "cell_type": "code",
   "execution_count": null,
   "id": "113fd771",
   "metadata": {},
   "outputs": [],
   "source": [
    "from common_methods import *"
   ]
  },
  {
   "cell_type": "code",
   "execution_count": null,
   "id": "7700d6fe",
   "metadata": {},
   "outputs": [],
   "source": [
    "def extract_all_links(main_path=\"/Users/timdunn/Desktop/imdb_latest/\"):\n",
    "    for file in files_to_extract(main_path):\n",
    "        extract_file(file, get_output_file(file))"
   ]
  },
  {
   "cell_type": "code",
   "execution_count": null,
   "id": "0f3880b1",
   "metadata": {},
   "outputs": [],
   "source": [
    "def files_to_extract(path=\"/Users/timdunn/Desktop/imdb_latest/\"):\n",
    "    return list(filter(lambda x: '.gz' in x, listdir_nohidden(path)))"
   ]
  },
  {
   "cell_type": "code",
   "execution_count": null,
   "id": "b366bd28",
   "metadata": {},
   "outputs": [],
   "source": [
    "def file_name_of_link(link, main_path=\"/Users/timdunn/Desktop/imdb_latest/\"):\n",
    "    return \"{}{}\".format(main_path, link.split(\"https://datasets.imdbws.com/\")[-1])"
   ]
  },
  {
   "cell_type": "code",
   "execution_count": null,
   "id": "4272d113",
   "metadata": {},
   "outputs": [],
   "source": [
    "def extract_file(file_to_extract, output_file):\n",
    "    with gzip.open(file_to_extract, 'rb') as f_in:\n",
    "        with open(output_file, 'wb') as f_out:\n",
    "            shutil.copyfileobj(f_in, f_out)"
   ]
  },
  {
   "cell_type": "code",
   "execution_count": null,
   "id": "617b11dc",
   "metadata": {},
   "outputs": [],
   "source": [
    "def download_all_links(links):\n",
    "    for link in links:\n",
    "        download_file(file_name_of_link(link), link)"
   ]
  },
  {
   "cell_type": "code",
   "execution_count": null,
   "id": "370fab72",
   "metadata": {},
   "outputs": [],
   "source": [
    "def download_file(file_name, url):\n",
    "    try:\n",
    "        r = requests.get(url, stream = True)\n",
    "        with open(file_name, 'wb') as f:\n",
    "            for chunk in r.iter_content(chunk_size = 1024*1024):\n",
    "                if chunk:\n",
    "                    f.write(chunk)\n",
    "        print (\"%s downloaded!\\n\"%file_name)\n",
    "    except:\n",
    "        print(\"An Error Downloading %s\"%file_name)"
   ]
  },
  {
   "cell_type": "code",
   "execution_count": null,
   "id": "eba48dbc",
   "metadata": {},
   "outputs": [],
   "source": [
    "links"
   ]
  },
  {
   "cell_type": "code",
   "execution_count": null,
   "id": "c5403339",
   "metadata": {},
   "outputs": [],
   "source": [
    "import os"
   ]
  },
  {
   "cell_type": "code",
   "execution_count": null,
   "id": "7805d5bb",
   "metadata": {},
   "outputs": [],
   "source": [
    "path = \"/Users/timdunn/Downloads/title.akas (1)-1.tsv\"\n",
    "update_time = os.path.getmtime(path)"
   ]
  },
  {
   "cell_type": "code",
   "execution_count": null,
   "id": "4c48a9d2",
   "metadata": {},
   "outputs": [],
   "source": [
    "(time.time() - update_time)/3600"
   ]
  },
  {
   "cell_type": "code",
   "execution_count": null,
   "id": "3a226db5",
   "metadata": {},
   "outputs": [],
   "source": [
    "time.time()"
   ]
  },
  {
   "cell_type": "code",
   "execution_count": null,
   "id": "756895ae",
   "metadata": {},
   "outputs": [],
   "source": [
    "imdb_file_not_updated()"
   ]
  },
  {
   "cell_type": "code",
   "execution_count": null,
   "id": "50b492b9",
   "metadata": {},
   "outputs": [],
   "source": [
    "def imdb_file_not_updated(file_path=\"/Users/timdunn/Desktop/imdb_latest/title.basics.tsv\"):\n",
    "    try:\n",
    "        update_time = os.path.getmtime(file_path)\n",
    "        days = ((time.time() - update_time)/3600)/24\n",
    "        return days > 1\n",
    "    except:\n",
    "        return True"
   ]
  },
  {
   "cell_type": "code",
   "execution_count": null,
   "id": "181d04a3",
   "metadata": {},
   "outputs": [],
   "source": [
    "def set_all_data()\n",
    "    imdb_df = get_latest_imdb()\n",
    "    youtube_df = get_latest_youtube()\n",
    "    archive_df = get_latest_archive()\n",
    "    chill_df = get_latest_chill()\n",
    "    look_df = get_latest_look()\n",
    "    okru_df = get_latest_okru()\n",
    "    tubi_df = get_latest_tubi()\n",
    "    go_df = get_latest_go()\n",
    "    membed_df = get_latest_membed()\n",
    "    movie_123_df = get_movie_123_df()\n",
    "    prime_df = get_prime_df()\n",
    "    soap_df = get_soap_df()\n",
    "    streamlord_df = get_streamlord_df()\n",
    "    vex_df = get_vex_df()\n",
    "    yes_df = get_yes_df()"
   ]
  },
  {
   "cell_type": "code",
   "execution_count": null,
   "id": "47168904",
   "metadata": {},
   "outputs": [],
   "source": [
    "youtube_directory = '/Users/timdunn/Desktop/youtube_latest/'"
   ]
  },
  {
   "cell_type": "code",
   "execution_count": null,
   "id": "cf5ffa46",
   "metadata": {},
   "outputs": [],
   "source": [
    "youtube_main_path = '/Users/timdunn/Desktop/youtube_movies.csv'"
   ]
  },
  {
   "cell_type": "code",
   "execution_count": null,
   "id": "0e6405be",
   "metadata": {},
   "outputs": [],
   "source": [
    "from syncing_movie_data.movie_data_row import *"
   ]
  },
  {
   "cell_type": "code",
   "execution_count": null,
   "id": "d6373993",
   "metadata": {},
   "outputs": [],
   "source": [
    "youtube_df = pd.read_csv(youtube_main_path)"
   ]
  },
  {
   "cell_type": "code",
   "execution_count": null,
   "id": "db809f4f",
   "metadata": {},
   "outputs": [],
   "source": [
    "def convert_youtube_df(df):\n",
    "    add_url_column_to_df(df)\n",
    "    df = add_year_column_to_df(df)\n",
    "    add_title_column_to_df(df)\n",
    "    add_searchable_column_to_df(df)\n",
    "    return df"
   ]
  },
  {
   "cell_type": "code",
   "execution_count": null,
   "id": "80c9d279",
   "metadata": {},
   "outputs": [],
   "source": [
    "def add_url_column_to_df(df):\n",
    "    df['link url'] = df['url']"
   ]
  },
  {
   "cell_type": "code",
   "execution_count": null,
   "id": "d41b6a21",
   "metadata": {},
   "outputs": [],
   "source": [
    "def add_year_column_to_df(df):\n",
    "    return MovieDataRow(df).add_year_to_df(input_year='title').df"
   ]
  },
  {
   "cell_type": "code",
   "execution_count": null,
   "id": "e30d783f",
   "metadata": {},
   "outputs": [],
   "source": [
    "def add_title_column_to_df(df):\n",
    "    df['link title'] = df['title']"
   ]
  },
  {
   "cell_type": "code",
   "execution_count": null,
   "id": "09f850c0",
   "metadata": {},
   "outputs": [],
   "source": [
    "def add_searchable_column_to_df(df):\n",
    "    df['searchable_movie_name'] = MovieDataRow(df).apply_searchable_column('title', searchable_movie_name)"
   ]
  },
  {
   "cell_type": "code",
   "execution_count": null,
   "id": "8c5ec32c",
   "metadata": {},
   "outputs": [],
   "source": [
    "youtube_df"
   ]
  },
  {
   "cell_type": "code",
   "execution_count": null,
   "id": "6295c01e",
   "metadata": {},
   "outputs": [],
   "source": [
    "from all_processes.update_movie_data import *"
   ]
  },
  {
   "cell_type": "code",
   "execution_count": null,
   "id": "3c1c6040",
   "metadata": {},
   "outputs": [],
   "source": [
    "extractor_object = ManyVideosExtractor(playlists = ['https://www.youtube.com/watch?list=PL0QA9DhVfQyifzLSD1nh6AZ80ZM3i6X8v'])"
   ]
  },
  {
   "cell_type": "code",
   "execution_count": null,
   "id": "71837ba5",
   "metadata": {},
   "outputs": [],
   "source": [
    "extractor_object.extract()"
   ]
  },
  {
   "cell_type": "code",
   "execution_count": null,
   "id": "03b8f965",
   "metadata": {},
   "outputs": [],
   "source": [
    "extractor_object.get_playlists_file()"
   ]
  },
  {
   "cell_type": "code",
   "execution_count": null,
   "id": "9b46ddf3",
   "metadata": {},
   "outputs": [],
   "source": [
    "extractor_object.already_downloaded_playlists()"
   ]
  },
  {
   "cell_type": "code",
   "execution_count": null,
   "id": "71ccae53",
   "metadata": {},
   "outputs": [],
   "source": [
    "len([playlist.split('list=')[-1].split('&')[0] for playlist in extractor_object.playlists])"
   ]
  },
  {
   "cell_type": "code",
   "execution_count": null,
   "id": "ef3f8adb",
   "metadata": {},
   "outputs": [],
   "source": [
    "def playlist_in_list(itema, listb):\n",
    "    return get_playlist_id(itema) in [get_playlist_id(item) for item in listb]"
   ]
  },
  {
   "cell_type": "code",
   "execution_count": null,
   "id": "80a77ae6",
   "metadata": {},
   "outputs": [],
   "source": [
    "def get_playlist_id(item):\n",
    "    return item.split('list=')[-1].split('&')[0]"
   ]
  },
  {
   "cell_type": "code",
   "execution_count": null,
   "id": "fe9425d0",
   "metadata": {},
   "outputs": [],
   "source": [
    "all_playlists = extractor_object.playlists"
   ]
  },
  {
   "cell_type": "code",
   "execution_count": null,
   "id": "28019f04",
   "metadata": {},
   "outputs": [],
   "source": [
    "mask = [not playlist_in_list(playlist, main_list) for playlist in all_playlists]"
   ]
  },
  {
   "cell_type": "code",
   "execution_count": null,
   "id": "336fb84c",
   "metadata": {},
   "outputs": [],
   "source": [
    "len(list(filter(lambda playlist: not playlist_in_list(playlist, main_list), all_playlists)))"
   ]
  },
  {
   "cell_type": "code",
   "execution_count": null,
   "id": "be237a05",
   "metadata": {},
   "outputs": [],
   "source": [
    "all_playlists[not playlist_in_list(playlist, item_list) for playlist in all_playlists]"
   ]
  },
  {
   "cell_type": "code",
   "execution_count": null,
   "id": "1d6bd4e6",
   "metadata": {},
   "outputs": [],
   "source": [
    "extractor_object.playlists[25]"
   ]
  },
  {
   "cell_type": "code",
   "execution_count": null,
   "id": "387e6da0",
   "metadata": {},
   "outputs": [],
   "source": [
    "main_list = list(extractor_object.playlists_data()['playlist_url'])"
   ]
  },
  {
   "cell_type": "code",
   "execution_count": null,
   "id": "890173c3",
   "metadata": {},
   "outputs": [],
   "source": [
    "extractor_object.get_playlists_file()"
   ]
  },
  {
   "cell_type": "code",
   "execution_count": null,
   "id": "fbeb5390",
   "metadata": {},
   "outputs": [],
   "source": [
    "np.unique(extractor_object.playlists).size"
   ]
  },
  {
   "cell_type": "code",
   "execution_count": null,
   "id": "409bf27c",
   "metadata": {},
   "outputs": [],
   "source": [
    "playlsits_var = list(extractor_object.playlists)"
   ]
  },
  {
   "cell_type": "code",
   "execution_count": null,
   "id": "b2d78982",
   "metadata": {},
   "outputs": [],
   "source": [
    "[has_any_for playlist_id in playlists_var]"
   ]
  },
  {
   "cell_type": "code",
   "execution_count": null,
   "id": "6bb05b0f",
   "metadata": {},
   "outputs": [],
   "source": [
    "any(lambda x: 'PL0-xSP7dwE4LA8ZBbG4a8Jcldp7x9avou' in x, playlsits_var)"
   ]
  },
  {
   "cell_type": "code",
   "execution_count": null,
   "id": "d90d8e32",
   "metadata": {},
   "outputs": [],
   "source": [
    "len(list(filter(lambda x: x not in main_list, playlsits_var)))"
   ]
  },
  {
   "cell_type": "code",
   "execution_count": null,
   "id": "69efa780",
   "metadata": {},
   "outputs": [],
   "source": [
    "extractor_object.playlists - main_list"
   ]
  },
  {
   "cell_type": "code",
   "execution_count": null,
   "id": "3ed0482a",
   "metadata": {},
   "outputs": [],
   "source": [
    "extractor_object.playlists"
   ]
  },
  {
   "cell_type": "code",
   "execution_count": null,
   "id": "ae1f5ac2",
   "metadata": {},
   "outputs": [],
   "source": [
    "def list_val(val):\n",
    "    return val.split('list=')[-1]"
   ]
  },
  {
   "cell_type": "code",
   "execution_count": null,
   "id": "a3248e76",
   "metadata": {},
   "outputs": [],
   "source": [
    "[list_val(val) for val in main_list]"
   ]
  },
  {
   "cell_type": "code",
   "execution_count": null,
   "id": "f4f5bcb2",
   "metadata": {},
   "outputs": [],
   "source": [
    "main_list = list(np.unique(list(filter(lambda x: type(x) == str, main_list))))"
   ]
  },
  {
   "cell_type": "code",
   "execution_count": null,
   "id": "83a8f1b5",
   "metadata": {},
   "outputs": [],
   "source": [
    "list(map(lambda x: val.split('list=')[-1], main_list))"
   ]
  },
  {
   "cell_type": "code",
   "execution_count": null,
   "id": "54099670",
   "metadata": {},
   "outputs": [],
   "source": [
    "main_list"
   ]
  },
  {
   "cell_type": "code",
   "execution_count": null,
   "id": "6318ea3b",
   "metadata": {},
   "outputs": [],
   "source": [
    "np.array(extractor_object.playlists, dtype=str) - np.array(main_list, dtype=str)"
   ]
  },
  {
   "cell_type": "code",
   "execution_count": null,
   "id": "fd3564d7",
   "metadata": {},
   "outputs": [],
   "source": [
    "np.unique(main_list).size"
   ]
  },
  {
   "cell_type": "code",
   "execution_count": null,
   "id": "691f222a",
   "metadata": {},
   "outputs": [],
   "source": [
    "len(extractor_object.playlists)"
   ]
  },
  {
   "cell_type": "code",
   "execution_count": null,
   "id": "4400ad45",
   "metadata": {},
   "outputs": [],
   "source": [
    "data = extractor_object.extract()"
   ]
  },
  {
   "cell_type": "code",
   "execution_count": null,
   "id": "09f410fd",
   "metadata": {},
   "outputs": [],
   "source": [
    "data"
   ]
  },
  {
   "cell_type": "code",
   "execution_count": null,
   "id": "a267fa9c",
   "metadata": {},
   "outputs": [],
   "source": [
    "single_extractor_object.data[0].keys()"
   ]
  },
  {
   "cell_type": "code",
   "execution_count": null,
   "id": "52647604",
   "metadata": {},
   "outputs": [],
   "source": [
    "single_extractor_object.data[0]['playlist_id']"
   ]
  },
  {
   "cell_type": "code",
   "execution_count": null,
   "id": "907904f7",
   "metadata": {},
   "outputs": [],
   "source": [
    "flatten(extractor_object.data)[0].has_key('duration')"
   ]
  },
  {
   "cell_type": "code",
   "execution_count": null,
   "id": "5bcd2949",
   "metadata": {},
   "outputs": [],
   "source": [
    "sample_data = flatten(extractor_object.data)[0]"
   ]
  },
  {
   "cell_type": "code",
   "execution_count": null,
   "id": "29da05b7",
   "metadata": {},
   "outputs": [],
   "source": [
    "'duraton' in sample_data"
   ]
  },
  {
   "cell_type": "code",
   "execution_count": null,
   "id": "db82506a",
   "metadata": {},
   "outputs": [],
   "source": [
    "list(sample_data.keys())"
   ]
  },
  {
   "cell_type": "code",
   "execution_count": null,
   "id": "db896e3a",
   "metadata": {},
   "outputs": [],
   "source": [
    "'duration' in flatten(extractor_object.data)[0]"
   ]
  },
  {
   "cell_type": "code",
   "execution_count": null,
   "id": "1937046f",
   "metadata": {},
   "outputs": [],
   "source": [
    "data = extractor_object.extract()"
   ]
  },
  {
   "cell_type": "code",
   "execution_count": null,
   "id": "3b8d4863",
   "metadata": {},
   "outputs": [],
   "source": [
    "data"
   ]
  },
  {
   "cell_type": "code",
   "execution_count": null,
   "id": "3f85f1f7",
   "metadata": {},
   "outputs": [],
   "source": [
    "sample_data = single_extractor_object.data[0]"
   ]
  },
  {
   "cell_type": "code",
   "execution_count": null,
   "id": "706ec3cd",
   "metadata": {},
   "outputs": [],
   "source": [
    "YoutubeParser(sample_data).info()"
   ]
  },
  {
   "cell_type": "code",
   "execution_count": null,
   "id": "4667301f",
   "metadata": {},
   "outputs": [],
   "source": [
    "single_extractor_object.download_get_dicts()"
   ]
  },
  {
   "cell_type": "code",
   "execution_count": null,
   "id": "c64fa8e1",
   "metadata": {},
   "outputs": [],
   "source": [
    "some_data = single_extractor_object.download_get_dicts()"
   ]
  },
  {
   "cell_type": "code",
   "execution_count": null,
   "id": "5de83479",
   "metadata": {},
   "outputs": [],
   "source": [
    "extractor_object = ManyVideosExtractor()\n",
    "extractor_object.get_playlists_file()\n",
    "data = extractor_object.extract()"
   ]
  },
  {
   "cell_type": "code",
   "execution_count": null,
   "id": "d0860919",
   "metadata": {},
   "outputs": [],
   "source": [
    "data[0]"
   ]
  },
  {
   "cell_type": "code",
   "execution_count": null,
   "id": "c730fbc0",
   "metadata": {},
   "outputs": [],
   "source": [
    "playlist_url = \"https://www.youtube.com/playlist?list=PLT_Rvk7JRZnIQKb9jQ7NkXzGGW_CEgJ9X\""
   ]
  },
  {
   "cell_type": "code",
   "execution_count": null,
   "id": "a6857923",
   "metadata": {},
   "outputs": [],
   "source": [
    "video_url = \"https://www.youtube.com/watch?v=bRg-12_cXsM\""
   ]
  },
  {
   "cell_type": "code",
   "execution_count": null,
   "id": "c4d267f7",
   "metadata": {},
   "outputs": [],
   "source": []
  },
  {
   "cell_type": "code",
   "execution_count": null,
   "id": "019538ec",
   "metadata": {},
   "outputs": [],
   "source": [
    "!pip install --upgrade youtube-dl"
   ]
  },
  {
   "cell_type": "code",
   "execution_count": null,
   "id": "36f3a56a",
   "metadata": {},
   "outputs": [],
   "source": [
    "youtube_dl.YoutubeDL({}).extract_info(playlist_url)"
   ]
  },
  {
   "cell_type": "code",
   "execution_count": null,
   "id": "010db924",
   "metadata": {},
   "outputs": [],
   "source": [
    "youtube_dl.YoutubeDL({}).extract_info(playlist_url)"
   ]
  },
  {
   "cell_type": "code",
   "execution_count": null,
   "id": "a50ec5ff",
   "metadata": {},
   "outputs": [],
   "source": [
    "okru_soup = soup_from_path(\"/Users/timdunn/Downloads/okru crime.html\")"
   ]
  },
  {
   "cell_type": "code",
   "execution_count": null,
   "id": "3e347b12",
   "metadata": {},
   "outputs": [],
   "source": [
    "movies_123_url = \"https://123moviesgoto.com/movies?page1\""
   ]
  },
  {
   "cell_type": "code",
   "execution_count": null,
   "id": "8994ad5c",
   "metadata": {},
   "outputs": [],
   "source": [
    "page_soup = get_soup_url(\"https://ok.ru/video/c4235521\")"
   ]
  },
  {
   "cell_type": "code",
   "execution_count": null,
   "id": "72f6f520",
   "metadata": {},
   "outputs": [],
   "source": [
    "len(page_soup.find_all(\"div\", {\"class\": \"ugrid_i js-seen-item-movie\"}))"
   ]
  },
  {
   "cell_type": "code",
   "execution_count": null,
   "id": "a6be38f2",
   "metadata": {},
   "outputs": [],
   "source": [
    "def download_videos(video_links, ydl_opts={}):\n",
    "    for video_link in video_links:\n",
    "        try:\n",
    "            download_a_video(video_link, ydl_opts)\n",
    "        except:\n",
    "            print(\"there was an exception so trying the next video now\")"
   ]
  },
  {
   "cell_type": "code",
   "execution_count": null,
   "id": "eebb832a",
   "metadata": {},
   "outputs": [],
   "source": [
    "ydl_opts = {'skip_download': True, 'match_filter': add_to_df, 'age_limit': 10}"
   ]
  },
  {
   "cell_type": "code",
   "execution_count": null,
   "id": "089dc9f1",
   "metadata": {},
   "outputs": [],
   "source": [
    "def playlist_start():\n",
    "    try:\n",
    "        return data[-1]['playlist_index'] + 1\n",
    "    except:\n",
    "        print(\"Play start error\")\n",
    "        return 1        "
   ]
  },
  {
   "cell_type": "code",
   "execution_count": null,
   "id": "8c7a6a83",
   "metadata": {},
   "outputs": [],
   "source": [
    "def playlist_over_last_index():\n",
    "    try:\n",
    "        return list(filter(lambda x: 'n_entries' in x.keys(), data))[0]['n_entries']\n",
    "    except:\n",
    "        print(\"over list index error\")\n",
    "        return 5"
   ]
  },
  {
   "cell_type": "code",
   "execution_count": null,
   "id": "e7baa3d0",
   "metadata": {},
   "outputs": [],
   "source": [
    "def downoad_playlist_info(playlist_url):\n",
    "    while playlist_start() < playlist_over_last_index():\n",
    "        ydl_opts = {'skip_download': True, 'match_filter': add_to_df, \"playliststart\": playlist_start()}\n",
    "        download_video_info(playlist_url, ydl_opts=ydl_opts)\n",
    "    return data"
   ]
  },
  {
   "cell_type": "code",
   "execution_count": null,
   "id": "25b01311",
   "metadata": {},
   "outputs": [],
   "source": [
    "download_video_info(video_url, ydl_opts={'skip_download': True, 'match_filter': add_to_df})"
   ]
  },
  {
   "cell_type": "code",
   "execution_count": null,
   "id": "1811c201",
   "metadata": {},
   "outputs": [],
   "source": [
    "data[0].keys()"
   ]
  },
  {
   "cell_type": "code",
   "execution_count": null,
   "id": "3704a77e",
   "metadata": {},
   "outputs": [],
   "source": [
    "data[0]['webpage_url']"
   ]
  },
  {
   "cell_type": "code",
   "execution_count": null,
   "id": "80bcbd73",
   "metadata": {},
   "outputs": [],
   "source": [
    "data = []"
   ]
  },
  {
   "cell_type": "code",
   "execution_count": null,
   "id": "c72af5d9",
   "metadata": {},
   "outputs": [],
   "source": [
    "playlist_url = \"https://www.youtube.com/watch?v=mRKfdGqTwvw&list=PLYjU0qrr0pZ0EPEBM9WoY-w59ftS6nXrR\""
   ]
  },
  {
   "cell_type": "code",
   "execution_count": null,
   "id": "ef915bad",
   "metadata": {},
   "outputs": [],
   "source": [
    "data = downoad_playlist_info(playlist_url)"
   ]
  },
  {
   "cell_type": "code",
   "execution_count": null,
   "id": "59aeee51",
   "metadata": {},
   "outputs": [],
   "source": [
    "from playlist_extractor.many_videos_extractor import *"
   ]
  },
  {
   "cell_type": "code",
   "execution_count": null,
   "id": "db4386d0",
   "metadata": {},
   "outputs": [],
   "source": [
    "extractor_object = ManyVideosExtractor()\n",
    "extractor_object.get_playlists_file()\n",
    "data = extractor_object.extract()"
   ]
  },
  {
   "cell_type": "code",
   "execution_count": null,
   "id": "88186203",
   "metadata": {},
   "outputs": [],
   "source": [
    "extractor_object.data"
   ]
  },
  {
   "cell_type": "code",
   "execution_count": null,
   "id": "4e27cd1b",
   "metadata": {},
   "outputs": [],
   "source": [
    "extractor_object.playlists"
   ]
  },
  {
   "cell_type": "code",
   "execution_count": null,
   "id": "2e23b5d0",
   "metadata": {},
   "outputs": [],
   "source": [
    "playlist_file = '/Users/timdunn/Desktop/playlists.rtf'"
   ]
  },
  {
   "cell_type": "code",
   "execution_count": null,
   "id": "e6dd84b0",
   "metadata": {},
   "outputs": [],
   "source": [
    "playlists = list(filter(lambda line: \"list\" in line, open(playlist_file, 'r').readlines()))"
   ]
  },
  {
   "cell_type": "code",
   "execution_count": null,
   "id": "b1981f2f",
   "metadata": {},
   "outputs": [],
   "source": [
    "playlists = [convert_line(line) for line in lines]"
   ]
  },
  {
   "cell_type": "code",
   "execution_count": null,
   "id": "7ac88d90",
   "metadata": {},
   "outputs": [],
   "source": [
    "def set_playlists(playlist_file):\n",
    "    playlists = list(filter(lambda line: \"list\" in line, open(playlist_file, 'r').readlines()))\n",
    "    playlists = [convert_line(line) for line in lines]\n",
    "    playlists = list(filter(lambda x: type(x) == str, playlists))\n",
    "    return list(filter(lambda x: 'list=' in x, playlists))"
   ]
  },
  {
   "cell_type": "code",
   "execution_count": null,
   "id": "4bea440f",
   "metadata": {},
   "outputs": [],
   "source": [
    "playlists = set_playlists(playlist_file)"
   ]
  },
  {
   "cell_type": "code",
   "execution_count": null,
   "id": "f7040d34",
   "metadata": {},
   "outputs": [],
   "source": [
    "len(playlists)"
   ]
  },
  {
   "cell_type": "code",
   "execution_count": null,
   "id": "5faa8103",
   "metadata": {},
   "outputs": [],
   "source": [
    "playlists"
   ]
  },
  {
   "cell_type": "code",
   "execution_count": null,
   "id": "4012d775",
   "metadata": {},
   "outputs": [],
   "source": [
    "def convert_line(line):\n",
    "    if \"HYPERLINK\" in line.strip() and 'list' in line.strip():\n",
    "        line_splits = line.strip().split(\"HYPERLINK\")\n",
    "        return list(filter(lambda x: 'list' in x, line_splits))[0].split('\"')[1]\n",
    "    else:\n",
    "        return None"
   ]
  },
  {
   "cell_type": "code",
   "execution_count": null,
   "id": "993a90ca",
   "metadata": {},
   "outputs": [],
   "source": []
  },
  {
   "cell_type": "code",
   "execution_count": null,
   "id": "a1d7364f",
   "metadata": {},
   "outputs": [],
   "source": [
    "sampe_data = data[0]"
   ]
  },
  {
   "cell_type": "code",
   "execution_count": null,
   "id": "cff31a0e",
   "metadata": {},
   "outputs": [],
   "source": [
    "sampe_data['duration']"
   ]
  },
  {
   "cell_type": "code",
   "execution_count": null,
   "id": "f97cb673",
   "metadata": {},
   "outputs": [],
   "source": [
    "sampe_data.keys()"
   ]
  },
  {
   "cell_type": "code",
   "execution_count": null,
   "id": "14532a11",
   "metadata": {},
   "outputs": [],
   "source": [
    "list(sampe_data['subtitles'].keys())[0]"
   ]
  },
  {
   "cell_type": "code",
   "execution_count": null,
   "id": "f7d1dc18",
   "metadata": {},
   "outputs": [],
   "source": [
    "sampe_data['width']"
   ]
  },
  {
   "cell_type": "code",
   "execution_count": null,
   "id": "25cca462",
   "metadata": {},
   "outputs": [],
   "source": [
    "video_url = 'https://www.youtube.com/watch?v=Xm7z2oXvQDY'"
   ]
  },
  {
   "cell_type": "code",
   "execution_count": null,
   "id": "843dd145",
   "metadata": {},
   "outputs": [],
   "source": [
    "ydl_opts = {'skip_download': True, 'match_filter': add_to_df}\n",
    "download_video_info(video_url, ydl_opts=ydl_opts)"
   ]
  },
  {
   "cell_type": "code",
   "execution_count": null,
   "id": "4501d009",
   "metadata": {},
   "outputs": [],
   "source": [
    "list(filter(lambda x: 'n_entries' in x.keys(), data))[0]['n_entries']"
   ]
  },
  {
   "cell_type": "code",
   "execution_count": null,
   "id": "59cccdf6",
   "metadata": {},
   "outputs": [],
   "source": [
    "data = []"
   ]
  },
  {
   "cell_type": "code",
   "execution_count": null,
   "id": "dfc9bc60",
   "metadata": {},
   "outputs": [],
   "source": [
    "len(data)"
   ]
  },
  {
   "cell_type": "code",
   "execution_count": null,
   "id": "ad330ea8",
   "metadata": {},
   "outputs": [],
   "source": [
    "downoad_playlist_info(playlist_url)"
   ]
  },
  {
   "cell_type": "code",
   "execution_count": null,
   "id": "553e3b31",
   "metadata": {},
   "outputs": [],
   "source": [
    "downoad_playlist_info(playlist_url)"
   ]
  },
  {
   "cell_type": "code",
   "execution_count": null,
   "id": "07bec3a1",
   "metadata": {},
   "outputs": [],
   "source": [
    "data"
   ]
  },
  {
   "cell_type": "code",
   "execution_count": null,
   "id": "e2aaacf5",
   "metadata": {},
   "outputs": [],
   "source": [
    "def add_to_df(info_dict):\n",
    "    data.append(info_dict)\n",
    "    return None"
   ]
  },
  {
   "cell_type": "code",
   "execution_count": null,
   "id": "051a81f1",
   "metadata": {},
   "outputs": [],
   "source": [
    "data = []"
   ]
  },
  {
   "cell_type": "code",
   "execution_count": null,
   "id": "746862f6",
   "metadata": {},
   "outputs": [],
   "source": [
    "def duration_video(data_object):\n",
    "    return data_object.get('duration')"
   ]
  },
  {
   "cell_type": "code",
   "execution_count": null,
   "id": "6a51d5b1",
   "metadata": {},
   "outputs": [],
   "source": [
    "data[-1]['_filename']"
   ]
  },
  {
   "cell_type": "code",
   "execution_count": null,
   "id": "f1feb79c",
   "metadata": {},
   "outputs": [],
   "source": [
    "opts = {'match_filter': add_to_df, 'start_time': 300, 'fromTime': 300}"
   ]
  },
  {
   "cell_type": "code",
   "execution_count": null,
   "id": "3ea80f96",
   "metadata": {},
   "outputs": [],
   "source": [
    "download_okru_video_info(\"https://ok.ru/video/6063785240?fromTime=300\", ydl_opts=opts)"
   ]
  },
  {
   "cell_type": "code",
   "execution_count": null,
   "id": "6b986eaf",
   "metadata": {},
   "outputs": [],
   "source": [
    "\"https://ok.ru/video/6063785240?fromTime=300\"\n",
    "duration = "
   ]
  },
  {
   "cell_type": "code",
   "execution_count": null,
   "id": "d523fc0b",
   "metadata": {},
   "outputs": [],
   "source": [
    "def download_okru_video_info(video_link, ydl_opts={'skip_download': True, 'match_filter': add_to_df}):\n",
    "    with youtube_dl.YoutubeDL(ydl_opts) as ydl:\n",
    "        try:\n",
    "            ydl.download([video_link])\n",
    "        except:\n",
    "            print(\"there was an exception\")"
   ]
  },
  {
   "cell_type": "code",
   "execution_count": null,
   "id": "94873795",
   "metadata": {},
   "outputs": [],
   "source": [
    "download_video_info(video_url, ydl_opts={'skip_download': True, 'playliststart': data[-1]['playlist_index'], \n",
    "                                            'match_filter': add_to_df})"
   ]
  },
  {
   "cell_type": "code",
   "execution_count": null,
   "id": "07f83692",
   "metadata": {},
   "outputs": [],
   "source": [
    "def download_video_info(video_link, ydl_opts={'skip_download': True}):\n",
    "    with youtube_dl.YoutubeDL(ydl_opts) as ydl:\n",
    "        try:\n",
    "            ydl.download([video_link])\n",
    "        except:\n",
    "            data.append({'playlist_index': data[-1]['playlist_index'] + 1})\n",
    "            print(\"there was an exception\")"
   ]
  },
  {
   "cell_type": "code",
   "execution_count": null,
   "id": "257bb8aa",
   "metadata": {},
   "outputs": [],
   "source": [
    "class MyLogger(object):\n",
    "    def debug(self, msg):\n",
    "        pass\n",
    "\n",
    "    def warning(self, msg):\n",
    "        pass\n",
    "\n",
    "    def error(self, msg):\n",
    "        print(msg)"
   ]
  },
  {
   "cell_type": "code",
   "execution_count": null,
   "id": "141cedbe",
   "metadata": {},
   "outputs": [],
   "source": [
    "opts = {'formats': 'm4a'}"
   ]
  },
  {
   "cell_type": "code",
   "execution_count": null,
   "id": "df917ae0",
   "metadata": {},
   "outputs": [],
   "source": [
    "https://www.youtube.com/watch?v=gGQjqfZHdeo"
   ]
  },
  {
   "cell_type": "code",
   "execution_count": null,
   "id": "a51446ff",
   "metadata": {},
   "outputs": [],
   "source": [
    "opts = {'format': 'worst', 'outtmpl': 'some sample.mp4'}"
   ]
  },
  {
   "cell_type": "code",
   "execution_count": null,
   "id": "2d96f07d",
   "metadata": {},
   "outputs": [],
   "source": [
    "# data = []\n",
    "download_a_video(\"https://ok.ru/video/4961453154164\", ydl_opts=opts)"
   ]
  },
  {
   "cell_type": "code",
   "execution_count": null,
   "id": "0b5f69e5",
   "metadata": {},
   "outputs": [],
   "source": [
    "format_objs = data[0]['formats']"
   ]
  },
  {
   "cell_type": "code",
   "execution_count": null,
   "id": "b008ac27",
   "metadata": {},
   "outputs": [],
   "source": [
    "from all_processes.process_okru_links import *"
   ]
  },
  {
   "cell_type": "code",
   "execution_count": null,
   "id": "e78daa85",
   "metadata": {},
   "outputs": [],
   "source": [
    "process_object = ProcessOkruLinks()"
   ]
  },
  {
   "cell_type": "code",
   "execution_count": null,
   "id": "5be8bce0",
   "metadata": {},
   "outputs": [],
   "source": [
    "process_object.update_okru_extra_info()"
   ]
  },
  {
   "cell_type": "code",
   "execution_count": null,
   "id": "360db2c7",
   "metadata": {},
   "outputs": [],
   "source": [
    "format_objs"
   ]
  },
  {
   "cell_type": "code",
   "execution_count": null,
   "id": "1b87a3c1",
   "metadata": {},
   "outputs": [],
   "source": [
    "for obj in format_objs:\n",
    "    print(obj.get('ext'))\n",
    "    print(obj.get('acodec'))"
   ]
  },
  {
   "cell_type": "code",
   "execution_count": null,
   "id": "cbff211b",
   "metadata": {},
   "outputs": [],
   "source": [
    "from scraping.okru_scraper import *"
   ]
  },
  {
   "cell_type": "code",
   "execution_count": null,
   "id": "7ec12487",
   "metadata": {},
   "outputs": [],
   "source": [
    "for video in [\"https://ok.ru/video/2738458331675\", \"https://ok.ru/video/1232361556704\"]:\n",
    "    download_a_video(video)"
   ]
  },
  {
   "cell_type": "code",
   "execution_count": null,
   "id": "130ebea2",
   "metadata": {},
   "outputs": [],
   "source": [
    "for video in [\"https://ok.ru/video/28437645854\", \"https://ok.ru/video/3964678638183\", \n",
    "                 \"https://ok.ru/video/4151525247696\", \"https://ok.ru/video/3712887294491\",\n",
    "             \"https://ok.ru/video/2738458331675\", \"https://ok.ru/video/1232361556704\"]:\n",
    "    download_a_video(video)"
   ]
  },
  {
   "cell_type": "code",
   "execution_count": null,
   "id": "85bc1301",
   "metadata": {},
   "outputs": [],
   "source": [
    "for video in [\"https://ok.ru/video/1232361556704\"]:\n",
    "    download_a_video(video)"
   ]
  },
  {
   "cell_type": "code",
   "execution_count": null,
   "id": "bf5ff2ad",
   "metadata": {},
   "outputs": [],
   "source": []
  },
  {
   "cell_type": "code",
   "execution_count": null,
   "id": "8312c8b6",
   "metadata": {},
   "outputs": [],
   "source": [
    "def okru_links(okru_soup):\n",
    "    return [link_tag[\"href\"] for link_tag in okru_soup.find_all(\"a\", {\"class\": \"video-card_lk\"})]"
   ]
  },
  {
   "cell_type": "code",
   "execution_count": null,
   "id": "4c9bf8c5",
   "metadata": {},
   "outputs": [],
   "source": [
    "links = okru_links(okru_soup)"
   ]
  },
  {
   "cell_type": "code",
   "execution_count": null,
   "id": "be0b46f2",
   "metadata": {},
   "outputs": [],
   "source": [
    "download_videos(links[links.index('https://ok.ru/video/4457672870438'):], {\"retries\": 5})"
   ]
  },
  {
   "cell_type": "code",
   "execution_count": null,
   "id": "3799169e",
   "metadata": {},
   "outputs": [],
   "source": [
    "download_videos(links[links.index('https://ok.ru/video/1880515742246'):], {\"retries\": 5})"
   ]
  },
  {
   "cell_type": "code",
   "execution_count": null,
   "id": "4c19415d",
   "metadata": {},
   "outputs": [],
   "source": [
    "def flatten(some_list):\n",
    "    return [item for sublist in some_list for item in sublist]"
   ]
  },
  {
   "cell_type": "code",
   "execution_count": null,
   "id": "29c72ddd",
   "metadata": {},
   "outputs": [],
   "source": [
    "def df_from_path(path):\n",
    "    soup = soup_from_path(path)\n",
    "    df = tubi_df(soup)\n",
    "    df = df.dropna()\n",
    "    return df.drop_duplicates()"
   ]
  },
  {
   "cell_type": "code",
   "execution_count": null,
   "id": "14ac2dd1",
   "metadata": {},
   "outputs": [],
   "source": [
    "def soup_from_path(path):\n",
    "    with open(path) as fp:\n",
    "        soup = BeautifulSoup(fp, 'html.parser')\n",
    "    return soup"
   ]
  },
  {
   "cell_type": "code",
   "execution_count": null,
   "id": "a81b677f",
   "metadata": {},
   "outputs": [],
   "source": [
    "def a_tags_movies(soup):\n",
    "    return soup.find_all('a', {\"class\": \"web-content-tile__title\"})"
   ]
  },
  {
   "cell_type": "code",
   "execution_count": null,
   "id": "960101b0",
   "metadata": {},
   "outputs": [],
   "source": [
    "def url_title_a_tags(a_tags):\n",
    "    title_urls = [{\"url\": a_tag['href'], \"movie_title\": a_tag.text } for a_tag in a_tags]\n",
    "    return pd.DataFrame(data=title_urls)"
   ]
  },
  {
   "cell_type": "code",
   "execution_count": null,
   "id": "fa72904d",
   "metadata": {},
   "outputs": [],
   "source": [
    "def info_divs(soup):\n",
    "    return soup.find_all('div', {\"class\": \"web-content-tile__content-digest\"})"
   ]
  },
  {
   "cell_type": "code",
   "execution_count": null,
   "id": "3a42dbe9",
   "metadata": {},
   "outputs": [],
   "source": [
    "def tubi_df(soup):\n",
    "    data_dicts = [info_from_info_div(info_div) for info_div in info_divs(soup)]\n",
    "    return pd.DataFrame(data=data_dicts)"
   ]
  },
  {
   "cell_type": "code",
   "execution_count": null,
   "id": "6c0ef12b",
   "metadata": {},
   "outputs": [],
   "source": [
    "def year_from_info_div(info_div):\n",
    "    return info_div.find(\"div\", {\"class\": \"web-content-tile__year\"}).text"
   ]
  },
  {
   "cell_type": "code",
   "execution_count": null,
   "id": "d5f6b66f",
   "metadata": {},
   "outputs": [],
   "source": [
    "def info_from_info_div(info_div):\n",
    "    try:\n",
    "        link_tag = info_div.find(\"a\")\n",
    "        return {\n",
    "            \"url\": link_tag[\"href\"],\n",
    "            \"movie_title\": link_tag.text,\n",
    "            \"movie_year\": year_from_info_div(info_div)\n",
    "        }\n",
    "    except:\n",
    "        return {\n",
    "            \"url\": pd.NA,\n",
    "            \"movie_title\": pd.NA,\n",
    "            \"movie_year\": pd.NA\n",
    "        }"
   ]
  },
  {
   "cell_type": "code",
   "execution_count": null,
   "id": "7c47c5cb",
   "metadata": {},
   "outputs": [],
   "source": [
    "def get_full_df_from_paths(paths):\n",
    "    dfs = [df_from_path(path) for path in paths]\n",
    "    for path in paths[1:]:\n",
    "        df = pd.concat(dfs).drop_duplicates().reset_index(drop=True)\n",
    "    return df"
   ]
  },
  {
   "cell_type": "code",
   "execution_count": null,
   "id": "ffd1d575",
   "metadata": {},
   "outputs": [],
   "source": [
    "def listdir_nohidden(path):\n",
    "    return glob.glob(os.path.join(path, '*'))"
   ]
  },
  {
   "cell_type": "code",
   "execution_count": null,
   "id": "cc6dbd43",
   "metadata": {},
   "outputs": [],
   "source": [
    "def get_files_from_paths(paths):\n",
    "    return flatten([listdir_nohidden(path) for path in paths])"
   ]
  },
  {
   "cell_type": "code",
   "execution_count": null,
   "id": "b6bea5a8",
   "metadata": {},
   "outputs": [],
   "source": [
    "def unique_tubi_urls(df, paths_to_search):\n",
    "    return df.loc[df[\"url\"].isin(get_files_from_paths(paths_to_search))]"
   ]
  },
  {
   "cell_type": "code",
   "execution_count": null,
   "id": "22d62cd0",
   "metadata": {},
   "outputs": [],
   "source": [
    "def movie_has_a_path(movie_title, path):\n",
    "    return movie_title.split(\"(\")[0] in path"
   ]
  },
  {
   "cell_type": "code",
   "execution_count": null,
   "id": "e943f1b9",
   "metadata": {},
   "outputs": [],
   "source": [
    "def movie_has_any_path(movie_title, paths):\n",
    "    try:\n",
    "        return any([movie_has_a_path(movie_title, path) for path in paths])\n",
    "    except:\n",
    "        return False"
   ]
  },
  {
   "cell_type": "code",
   "execution_count": null,
   "id": "a2dde122",
   "metadata": {},
   "outputs": [],
   "source": [
    "def divs_for_archives(archives_soup):\n",
    "    return archives_soup.find_all(\"div\", {\"class\": \"item-ttl\"})"
   ]
  },
  {
   "cell_type": "code",
   "execution_count": null,
   "id": "7cb74b04",
   "metadata": {},
   "outputs": [],
   "source": [
    "def link_tags_archives(archives_soup):\n",
    "    return [div.find(\"a\") for div in divs_for_archives(archives_soup)]"
   ]
  },
  {
   "cell_type": "code",
   "execution_count": null,
   "id": "cce0682b",
   "metadata": {},
   "outputs": [],
   "source": [
    "def dict_for_archives(a_tag):\n",
    "    try:\n",
    "        return {\"url\": a_tag[\"href\"], \"movie_title\": a_tag[\"title\"]}\n",
    "    except:\n",
    "        return {\"url\": np.nan, \"movie_title\": np.nan}"
   ]
  },
  {
   "cell_type": "code",
   "execution_count": null,
   "id": "ae9748e2",
   "metadata": {},
   "outputs": [],
   "source": [
    "def df_for_archives(archives_soup):\n",
    "    data_dicts = [dict_for_archives(a_tag) for a_tag in link_tags_archives(archives_soup)]\n",
    "    df = pd.DataFrame(data=data_dicts)\n",
    "    df = df.dropna()\n",
    "    return df.drop_duplicates()"
   ]
  },
  {
   "cell_type": "code",
   "execution_count": null,
   "id": "9b375deb",
   "metadata": {},
   "outputs": [],
   "source": [
    "def get_page_url(url):\n",
    "    return requests.get(url)"
   ]
  },
  {
   "cell_type": "code",
   "execution_count": null,
   "id": "e7647376",
   "metadata": {},
   "outputs": [],
   "source": [
    "def get_soup_url(url):\n",
    "    return BeautifulSoup(get_page_url(url).content, \"html.parser\")"
   ]
  },
  {
   "cell_type": "code",
   "execution_count": null,
   "id": "753aa5c1",
   "metadata": {},
   "outputs": [],
   "source": [
    "def get_download_tag(url):\n",
    "    try:\n",
    "        soup = get_soup_url(url)\n",
    "        return soup.find(\"a\", {\"class\": \"format-summary download-pill\", \"href\": re.compile(\"\\.mp4\")})\n",
    "    except:\n",
    "        return None"
   ]
  },
  {
   "cell_type": "code",
   "execution_count": null,
   "id": "ea003e26",
   "metadata": {},
   "outputs": [],
   "source": [
    "def archive_download_link(url):\n",
    "    download_tag = get_download_tag(url)\n",
    "#     print(\"after we get download tag\")\n",
    "    if download_tag is not None:\n",
    "#         print(\"inside download tag thing\")\n",
    "#         print(download_tag)\n",
    "#         print(download_tag[\"href\"])\n",
    "        return \"https://archive.org{}\".format(download_tag[\"href\"])\n",
    "    else:\n",
    "        return None"
   ]
  },
  {
   "cell_type": "code",
   "execution_count": null,
   "id": "e50aa2b3",
   "metadata": {},
   "outputs": [],
   "source": [
    "def download_video(file_name, url):\n",
    "    try:\n",
    "#         print(\"url is {}\".format(url))\n",
    "        r = requests.get(url, stream = True)\n",
    "        #download started\n",
    "#         print(\"entered after requests\")\n",
    "        with open(file_name, 'wb') as f:\n",
    "            for chunk in r.iter_content(chunk_size = 1024*1024):\n",
    "                if chunk:\n",
    "                    f.write(chunk)\n",
    "        print (\"%s downloaded!\\n\"%file_name)\n",
    "    except:\n",
    "        print(\"An Error Downloading %s\"%file_name)"
   ]
  },
  {
   "cell_type": "code",
   "execution_count": null,
   "id": "b9b9c264",
   "metadata": {},
   "outputs": [],
   "source": [
    "def download_videos_from_df(df, path):\n",
    "    try:\n",
    "        for index, row in df.iterrows():\n",
    "            movie_path = \"{}/{}.mp4\".format(path, row[\"movie_title\"])\n",
    "            download_video(movie_path, archive_download_link(row[\"url\"]))\n",
    "        print(\"All videos Downloaded successfully\")\n",
    "    except:\n",
    "        print(\"There was an error downloaded all the movies\")"
   ]
  },
  {
   "cell_type": "code",
   "execution_count": null,
   "id": "6e34d641",
   "metadata": {},
   "outputs": [],
   "source": [
    "path = \"/Users/timdunn/Downloads/Feature Films _ Free Movies _ Free Download, Borrow and Streaming _ Internet Archive.html\"\n",
    "archives_soup = soup_from_path(path)"
   ]
  },
  {
   "cell_type": "code",
   "execution_count": null,
   "id": "62d76982",
   "metadata": {},
   "outputs": [],
   "source": [
    "archives_df = df_for_archives(archives_soup)"
   ]
  },
  {
   "cell_type": "code",
   "execution_count": null,
   "id": "39804997",
   "metadata": {},
   "outputs": [],
   "source": [
    "archives_df.loc[archives_df[\"movie_title\"] == \"Desperate Cargo\"].index[0]"
   ]
  },
  {
   "cell_type": "code",
   "execution_count": null,
   "id": "da58356a",
   "metadata": {},
   "outputs": [],
   "source": [
    "download_videos_from_df(archives_df.loc[2162:4000], \"/Users/timdunn/Desktop/archive movie downloads\")"
   ]
  },
  {
   "cell_type": "code",
   "execution_count": null,
   "id": "874432a7",
   "metadata": {},
   "outputs": [],
   "source": [
    "tubi_paths = [\n",
    "    \"/Users/timdunn/Downloads/tubi anime.html\",\n",
    "    \"/Users/timdunn/Downloads/tubi award.html\",\n",
    "    \"/Users/timdunn/Downloads/tubi bollywood.html\",\n",
    "    \"/Users/timdunn/Downloads/tubi classics.html\",\n",
    "    \"/Users/timdunn/Downloads/tubi comedy.html\",\n",
    "    \"/Users/timdunn/Downloads/tubi crime.html\",\n",
    "    \"/Users/timdunn/Downloads/tubi cult.html\",\n",
    "    \"/Users/timdunn/Downloads/tubi drama.html\",\n",
    "    \"/Users/timdunn/Downloads/tubi faith.html\",\n",
    "    \"/Users/timdunn/Downloads/tubi family.html\",\n",
    "    \"/Users/timdunn/Downloads/tubi featured.html\",\n",
    "    \"/Users/timdunn/Downloads/tubi foreign.html\",\n",
    "    \"/Users/timdunn/Downloads/tubi holiday.html\",\n",
    "    \"/Users/timdunn/Downloads/tubi indie.html\",\n",
    "    \"/Users/timdunn/Downloads/tubi kids.html\",\n",
    "    \"/Users/timdunn/Downloads/tubi lgbtq.html\",\n",
    "    \"/Users/timdunn/Downloads/tubi lifestyle.html\",\n",
    "    \"/Users/timdunn/Downloads/tubi martial arts.html\",\n",
    "    \"/Users/timdunn/Downloads/tubi music.html\",\n",
    "    \"/Users/timdunn/Downloads/tubi other spanish.html\",\n",
    "    \"/Users/timdunn/Downloads/tubi popular.html\",\n",
    "    \"/Users/timdunn/Downloads/tubi preschool.html\",\n",
    "    \"/Users/timdunn/Downloads/tubi reality tv.html\",\n",
    "    \"/Users/timdunn/Downloads/tubi sci fi.html\",\n",
    "    \"/Users/timdunn/Downloads/tubi spanish family.html\",\n",
    "    \"/Users/timdunn/Downloads/tubi sports.html\",\n",
    "    \"/Users/timdunn/Downloads/tubi thriller.html\",\n",
    "    \"/Users/timdunn/Downloads/tubi weekly.html\",\n",
    "    \"/Users/timdunn/Downloads/tubi westerns.html\"\n",
    "]"
   ]
  },
  {
   "cell_type": "code",
   "execution_count": null,
   "id": "038b53f0",
   "metadata": {},
   "outputs": [],
   "source": [
    "divs[0].find(\"div\", {\"class\": \"web-content-tile__year\"}).text"
   ]
  },
  {
   "cell_type": "code",
   "execution_count": null,
   "id": "3e86bcc5",
   "metadata": {},
   "outputs": [],
   "source": [
    "searching_paths = [\n",
    "    \"/Volumes/Transcend/\",\n",
    "    \"/Volumes/Transcend/2010s - 2020s movies/\",\n",
    "    \"/Volumes/Transcend/2010s - 2020s new movies/\",\n",
    "    \"/Volumes/Backup Plus/1940s-50s-60s movies/\",\n",
    "    \"/Volumes/Backup Plus/1940s-50s-60s new movies/\",\n",
    "    \"/Volumes/Elements/in between foreign films/\",\n",
    "    \"/Volumes/Elements/1970s - 2000s movies /\",\n",
    "    \"/Volumes/Elements/1970s - 2000s new movies /\"\n",
    "]"
   ]
  }
 ],
 "metadata": {
  "kernelspec": {
   "display_name": "Python 3 (ipykernel)",
   "language": "python",
   "name": "python3"
  },
  "language_info": {
   "codemirror_mode": {
    "name": "ipython",
    "version": 3
   },
   "file_extension": ".py",
   "mimetype": "text/x-python",
   "name": "python",
   "nbconvert_exporter": "python",
   "pygments_lexer": "ipython3",
   "version": "3.9.7"
  }
 },
 "nbformat": 4,
 "nbformat_minor": 5
}
