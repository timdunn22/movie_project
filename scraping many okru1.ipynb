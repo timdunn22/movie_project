{
 "cells": [
  {
   "cell_type": "code",
   "execution_count": null,
   "id": "49f4c48d",
   "metadata": {},
   "outputs": [],
   "source": [
    "okru_soup = soup_from_path(\"/Users/timdunn/Downloads/okru comedy.html\")"
   ]
  },
  {
   "cell_type": "code",
   "execution_count": 107,
   "id": "932ebe83",
   "metadata": {},
   "outputs": [],
   "source": [
    "all_links = okru_soup.find_all(\"a\", {\"class\": \"video-card_lk\"})"
   ]
  },
  {
   "cell_type": "code",
   "execution_count": 108,
   "id": "5b62329d",
   "metadata": {},
   "outputs": [
    {
     "data": {
      "text/plain": [
       "967"
      ]
     },
     "execution_count": 108,
     "metadata": {},
     "output_type": "execute_result"
    }
   ],
   "source": [
    "len(all_links)"
   ]
  },
  {
   "cell_type": "code",
   "execution_count": 102,
   "id": "67a4cd1c",
   "metadata": {},
   "outputs": [],
   "source": [
    "from __future__ import unicode_literals\n",
    "import youtube_dl"
   ]
  },
  {
   "cell_type": "code",
   "execution_count": 103,
   "id": "50176902",
   "metadata": {},
   "outputs": [],
   "source": [
    "def download_videos(video_links, ydl_opts={}):\n",
    "    for video_link in video_links:\n",
    "        download_a_video(video_link, ydl_opts)"
   ]
  },
  {
   "cell_type": "code",
   "execution_count": 104,
   "id": "a66722a4",
   "metadata": {},
   "outputs": [],
   "source": [
    "def download_a_video(video_link, ydl_opts={}):\n",
    "    with youtube_dl.YoutubeDL(ydl_opts) as ydl:\n",
    "            ydl.download([video_link])"
   ]
  },
  {
   "cell_type": "code",
   "execution_count": 105,
   "id": "4c1d2889",
   "metadata": {},
   "outputs": [],
   "source": [
    "def okru_links(okru_soup):\n",
    "    return [link_tag[\"href\"] for link_tag in okru_soup.find_all(\"a\", {\"class\": \"video-card_lk\"})]"
   ]
  },
  {
   "cell_type": "code",
   "execution_count": 73,
   "id": "ac3f22bd",
   "metadata": {},
   "outputs": [
    {
     "name": "stdout",
     "output_type": "stream",
     "text": [
      "[Odnoklassniki] 4088176511578: Downloading webpage\n",
      "[Odnoklassniki] 4088176511578: Downloading m3u8 information\n",
      "[hlsnative] Downloading m3u8 manifest\n",
      "[hlsnative] Total fragments: 616\n",
      "[download] Destination: Pin... 1988, Sandor Stern VOSE-4088176511578.mp4\n",
      "[download] 100% of 923.83MiB in 25:304.32KiB/s ETA 00:00204\n"
     ]
    },
    {
     "name": "stderr",
     "output_type": "stream",
     "text": [
      "WARNING: 4088176511578: malformed AAC bitstream detected. Install ffmpeg or avconv to fix this automatically.\n"
     ]
    }
   ],
   "source": [
    "download_a_video(\"https://ok.ru/video/4088176511578\")"
   ]
  },
  {
   "cell_type": "code",
   "execution_count": null,
   "id": "89357fd3",
   "metadata": {},
   "outputs": [],
   "source": [
    "okru_links(okru_soup)"
   ]
  },
  {
   "cell_type": "code",
   "execution_count": null,
   "id": "dba2e17f",
   "metadata": {},
   "outputs": [],
   "source": [
    "links = okru_links(okru_soup)"
   ]
  },
  {
   "cell_type": "code",
   "execution_count": 99,
   "id": "ee90e9d5",
   "metadata": {},
   "outputs": [
    {
     "data": {
      "text/plain": [
       "162"
      ]
     },
     "execution_count": 99,
     "metadata": {},
     "output_type": "execute_result"
    }
   ],
   "source": [
    "links.index('https://ok.ru/video/3693927074342')"
   ]
  },
  {
   "cell_type": "code",
   "execution_count": null,
   "id": "a3056c0e",
   "metadata": {},
   "outputs": [],
   "source": [
    "download_videos(links, {\"retries\": 5})"
   ]
  },
  {
   "cell_type": "code",
   "execution_count": 39,
   "id": "5428bac4",
   "metadata": {},
   "outputs": [
    {
     "name": "stdout",
     "output_type": "stream",
     "text": [
      "[Odnoklassniki] 35298085598: Downloading webpage\n",
      "[Odnoklassniki] 35298085598: Downloading m3u8 information\n",
      "[hlsnative] Downloading m3u8 manifest\n",
      "[hlsnative] Total fragments: 572\n",
      "[download] Destination: The.House.Of.The.Devil.2009.LiMiTED.720p.BRRip.800MB.MkvCage.com-35298085598.mp4\n",
      "[download] 100% of 962.14MiB in 27:198.34KiB/s ETA 00:005015\n"
     ]
    },
    {
     "name": "stderr",
     "output_type": "stream",
     "text": [
      "WARNING: 35298085598: malformed AAC bitstream detected. Install ffmpeg or avconv to fix this automatically.\n"
     ]
    }
   ],
   "source": [
    "from __future__ import unicode_literals\n",
    "import youtube_dl\n",
    "\n",
    "ydl_opts = {}\n",
    "with youtube_dl.YoutubeDL(ydl_opts) as ydl:\n",
    "    ydl.download([\"https://ok.ru/video/35298085598\"])"
   ]
  },
  {
   "cell_type": "code",
   "execution_count": 40,
   "id": "59262e9d",
   "metadata": {},
   "outputs": [
    {
     "name": "stdout",
     "output_type": "stream",
     "text": [
      "[generic] c2905245: Requesting header\n"
     ]
    },
    {
     "name": "stderr",
     "output_type": "stream",
     "text": [
      "WARNING: Falling back on generic information extractor.\n"
     ]
    },
    {
     "name": "stdout",
     "output_type": "stream",
     "text": [
      "[generic] c2905245: Downloading webpage\n",
      "[generic] c2905245: Extracting information\n"
     ]
    },
    {
     "name": "stderr",
     "output_type": "stream",
     "text": [
      "ERROR: Unsupported URL: https://ok.ru/video/c2905245\n"
     ]
    },
    {
     "ename": "DownloadError",
     "evalue": "ERROR: Unsupported URL: https://ok.ru/video/c2905245",
     "output_type": "error",
     "traceback": [
      "\u001b[0;31m---------------------------------------------------------------------------\u001b[0m",
      "\u001b[0;31mUnsupportedError\u001b[0m                          Traceback (most recent call last)",
      "File \u001b[0;32m~/miniforge3/lib/python3.9/site-packages/youtube_dl/YoutubeDL.py:815\u001b[0m, in \u001b[0;36mYoutubeDL.__handle_extraction_exceptions.<locals>.wrapper\u001b[0;34m(self, *args, **kwargs)\u001b[0m\n\u001b[1;32m    814\u001b[0m \u001b[38;5;28;01mtry\u001b[39;00m:\n\u001b[0;32m--> 815\u001b[0m     \u001b[38;5;28;01mreturn\u001b[39;00m \u001b[43mfunc\u001b[49m\u001b[43m(\u001b[49m\u001b[38;5;28;43mself\u001b[39;49m\u001b[43m,\u001b[49m\u001b[43m \u001b[49m\u001b[38;5;241;43m*\u001b[39;49m\u001b[43margs\u001b[49m\u001b[43m,\u001b[49m\u001b[43m \u001b[49m\u001b[38;5;241;43m*\u001b[39;49m\u001b[38;5;241;43m*\u001b[39;49m\u001b[43mkwargs\u001b[49m\u001b[43m)\u001b[49m\n\u001b[1;32m    816\u001b[0m \u001b[38;5;28;01mexcept\u001b[39;00m GeoRestrictedError \u001b[38;5;28;01mas\u001b[39;00m e:\n",
      "File \u001b[0;32m~/miniforge3/lib/python3.9/site-packages/youtube_dl/YoutubeDL.py:836\u001b[0m, in \u001b[0;36mYoutubeDL.__extract_info\u001b[0;34m(self, url, ie, download, extra_info, process)\u001b[0m\n\u001b[1;32m    834\u001b[0m \u001b[38;5;129m@__handle_extraction_exceptions\u001b[39m\n\u001b[1;32m    835\u001b[0m \u001b[38;5;28;01mdef\u001b[39;00m \u001b[38;5;21m__extract_info\u001b[39m(\u001b[38;5;28mself\u001b[39m, url, ie, download, extra_info, process):\n\u001b[0;32m--> 836\u001b[0m     ie_result \u001b[38;5;241m=\u001b[39m \u001b[43mie\u001b[49m\u001b[38;5;241;43m.\u001b[39;49m\u001b[43mextract\u001b[49m\u001b[43m(\u001b[49m\u001b[43murl\u001b[49m\u001b[43m)\u001b[49m\n\u001b[1;32m    837\u001b[0m     \u001b[38;5;28;01mif\u001b[39;00m ie_result \u001b[38;5;129;01mis\u001b[39;00m \u001b[38;5;28;01mNone\u001b[39;00m:  \u001b[38;5;66;03m# Finished already (backwards compatibility; listformats and friends should be moved here)\u001b[39;00m\n",
      "File \u001b[0;32m~/miniforge3/lib/python3.9/site-packages/youtube_dl/extractor/common.py:534\u001b[0m, in \u001b[0;36mInfoExtractor.extract\u001b[0;34m(self, url)\u001b[0m\n\u001b[1;32m    533\u001b[0m \u001b[38;5;28mself\u001b[39m\u001b[38;5;241m.\u001b[39minitialize()\n\u001b[0;32m--> 534\u001b[0m ie_result \u001b[38;5;241m=\u001b[39m \u001b[38;5;28;43mself\u001b[39;49m\u001b[38;5;241;43m.\u001b[39;49m\u001b[43m_real_extract\u001b[49m\u001b[43m(\u001b[49m\u001b[43murl\u001b[49m\u001b[43m)\u001b[49m\n\u001b[1;32m    535\u001b[0m \u001b[38;5;28;01mif\u001b[39;00m \u001b[38;5;28mself\u001b[39m\u001b[38;5;241m.\u001b[39m_x_forwarded_for_ip:\n",
      "File \u001b[0;32m~/miniforge3/lib/python3.9/site-packages/youtube_dl/extractor/generic.py:3489\u001b[0m, in \u001b[0;36mGenericIE._real_extract\u001b[0;34m(self, url)\u001b[0m\n\u001b[1;32m   3488\u001b[0m \u001b[38;5;28;01mif\u001b[39;00m \u001b[38;5;129;01mnot\u001b[39;00m found:\n\u001b[0;32m-> 3489\u001b[0m     \u001b[38;5;28;01mraise\u001b[39;00m UnsupportedError(url)\n\u001b[1;32m   3491\u001b[0m entries \u001b[38;5;241m=\u001b[39m []\n",
      "\u001b[0;31mUnsupportedError\u001b[0m: Unsupported URL: https://ok.ru/video/c2905245",
      "\nDuring handling of the above exception, another exception occurred:\n",
      "\u001b[0;31mDownloadError\u001b[0m                             Traceback (most recent call last)",
      "Input \u001b[0;32mIn [40]\u001b[0m, in \u001b[0;36m<module>\u001b[0;34m\u001b[0m\n\u001b[1;32m      1\u001b[0m ydl_opts \u001b[38;5;241m=\u001b[39m {}\n\u001b[1;32m      2\u001b[0m \u001b[38;5;28;01mwith\u001b[39;00m youtube_dl\u001b[38;5;241m.\u001b[39mYoutubeDL(ydl_opts) \u001b[38;5;28;01mas\u001b[39;00m ydl:\n\u001b[0;32m----> 3\u001b[0m     \u001b[43mydl\u001b[49m\u001b[38;5;241;43m.\u001b[39;49m\u001b[43mdownload\u001b[49m\u001b[43m(\u001b[49m\u001b[43m[\u001b[49m\u001b[38;5;124;43m\"\u001b[39;49m\u001b[38;5;124;43mhttps://ok.ru/video/c2905245\u001b[39;49m\u001b[38;5;124;43m\"\u001b[39;49m\u001b[43m]\u001b[49m\u001b[43m)\u001b[49m\n",
      "File \u001b[0;32m~/miniforge3/lib/python3.9/site-packages/youtube_dl/YoutubeDL.py:2068\u001b[0m, in \u001b[0;36mYoutubeDL.download\u001b[0;34m(self, url_list)\u001b[0m\n\u001b[1;32m   2065\u001b[0m \u001b[38;5;28;01mfor\u001b[39;00m url \u001b[38;5;129;01min\u001b[39;00m url_list:\n\u001b[1;32m   2066\u001b[0m     \u001b[38;5;28;01mtry\u001b[39;00m:\n\u001b[1;32m   2067\u001b[0m         \u001b[38;5;66;03m# It also downloads the videos\u001b[39;00m\n\u001b[0;32m-> 2068\u001b[0m         res \u001b[38;5;241m=\u001b[39m \u001b[38;5;28;43mself\u001b[39;49m\u001b[38;5;241;43m.\u001b[39;49m\u001b[43mextract_info\u001b[49m\u001b[43m(\u001b[49m\n\u001b[1;32m   2069\u001b[0m \u001b[43m            \u001b[49m\u001b[43murl\u001b[49m\u001b[43m,\u001b[49m\u001b[43m \u001b[49m\u001b[43mforce_generic_extractor\u001b[49m\u001b[38;5;241;43m=\u001b[39;49m\u001b[38;5;28;43mself\u001b[39;49m\u001b[38;5;241;43m.\u001b[39;49m\u001b[43mparams\u001b[49m\u001b[38;5;241;43m.\u001b[39;49m\u001b[43mget\u001b[49m\u001b[43m(\u001b[49m\u001b[38;5;124;43m'\u001b[39;49m\u001b[38;5;124;43mforce_generic_extractor\u001b[39;49m\u001b[38;5;124;43m'\u001b[39;49m\u001b[43m,\u001b[49m\u001b[43m \u001b[49m\u001b[38;5;28;43;01mFalse\u001b[39;49;00m\u001b[43m)\u001b[49m\u001b[43m)\u001b[49m\n\u001b[1;32m   2070\u001b[0m     \u001b[38;5;28;01mexcept\u001b[39;00m UnavailableVideoError:\n\u001b[1;32m   2071\u001b[0m         \u001b[38;5;28mself\u001b[39m\u001b[38;5;241m.\u001b[39mreport_error(\u001b[38;5;124m'\u001b[39m\u001b[38;5;124munable to download video\u001b[39m\u001b[38;5;124m'\u001b[39m)\n",
      "File \u001b[0;32m~/miniforge3/lib/python3.9/site-packages/youtube_dl/YoutubeDL.py:808\u001b[0m, in \u001b[0;36mYoutubeDL.extract_info\u001b[0;34m(self, url, download, ie_key, extra_info, process, force_generic_extractor)\u001b[0m\n\u001b[1;32m    804\u001b[0m     \u001b[38;5;28;01mif\u001b[39;00m \u001b[38;5;129;01mnot\u001b[39;00m ie\u001b[38;5;241m.\u001b[39mworking():\n\u001b[1;32m    805\u001b[0m         \u001b[38;5;28mself\u001b[39m\u001b[38;5;241m.\u001b[39mreport_warning(\u001b[38;5;124m'\u001b[39m\u001b[38;5;124mThe program functionality for this site has been marked as broken, \u001b[39m\u001b[38;5;124m'\u001b[39m\n\u001b[1;32m    806\u001b[0m                             \u001b[38;5;124m'\u001b[39m\u001b[38;5;124mand will probably not work.\u001b[39m\u001b[38;5;124m'\u001b[39m)\n\u001b[0;32m--> 808\u001b[0m     \u001b[38;5;28;01mreturn\u001b[39;00m \u001b[38;5;28;43mself\u001b[39;49m\u001b[38;5;241;43m.\u001b[39;49m\u001b[43m__extract_info\u001b[49m\u001b[43m(\u001b[49m\u001b[43murl\u001b[49m\u001b[43m,\u001b[49m\u001b[43m \u001b[49m\u001b[43mie\u001b[49m\u001b[43m,\u001b[49m\u001b[43m \u001b[49m\u001b[43mdownload\u001b[49m\u001b[43m,\u001b[49m\u001b[43m \u001b[49m\u001b[43mextra_info\u001b[49m\u001b[43m,\u001b[49m\u001b[43m \u001b[49m\u001b[43mprocess\u001b[49m\u001b[43m)\u001b[49m\n\u001b[1;32m    809\u001b[0m \u001b[38;5;28;01melse\u001b[39;00m:\n\u001b[1;32m    810\u001b[0m     \u001b[38;5;28mself\u001b[39m\u001b[38;5;241m.\u001b[39mreport_error(\u001b[38;5;124m'\u001b[39m\u001b[38;5;124mno suitable InfoExtractor for URL \u001b[39m\u001b[38;5;132;01m%s\u001b[39;00m\u001b[38;5;124m'\u001b[39m \u001b[38;5;241m%\u001b[39m url)\n",
      "File \u001b[0;32m~/miniforge3/lib/python3.9/site-packages/youtube_dl/YoutubeDL.py:824\u001b[0m, in \u001b[0;36mYoutubeDL.__handle_extraction_exceptions.<locals>.wrapper\u001b[0;34m(self, *args, **kwargs)\u001b[0m\n\u001b[1;32m    822\u001b[0m     \u001b[38;5;28mself\u001b[39m\u001b[38;5;241m.\u001b[39mreport_error(msg)\n\u001b[1;32m    823\u001b[0m \u001b[38;5;28;01mexcept\u001b[39;00m ExtractorError \u001b[38;5;28;01mas\u001b[39;00m e:  \u001b[38;5;66;03m# An error we somewhat expected\u001b[39;00m\n\u001b[0;32m--> 824\u001b[0m     \u001b[38;5;28;43mself\u001b[39;49m\u001b[38;5;241;43m.\u001b[39;49m\u001b[43mreport_error\u001b[49m\u001b[43m(\u001b[49m\u001b[43mcompat_str\u001b[49m\u001b[43m(\u001b[49m\u001b[43me\u001b[49m\u001b[43m)\u001b[49m\u001b[43m,\u001b[49m\u001b[43m \u001b[49m\u001b[43me\u001b[49m\u001b[38;5;241;43m.\u001b[39;49m\u001b[43mformat_traceback\u001b[49m\u001b[43m(\u001b[49m\u001b[43m)\u001b[49m\u001b[43m)\u001b[49m\n\u001b[1;32m    825\u001b[0m \u001b[38;5;28;01mexcept\u001b[39;00m MaxDownloadsReached:\n\u001b[1;32m    826\u001b[0m     \u001b[38;5;28;01mraise\u001b[39;00m\n",
      "File \u001b[0;32m~/miniforge3/lib/python3.9/site-packages/youtube_dl/YoutubeDL.py:628\u001b[0m, in \u001b[0;36mYoutubeDL.report_error\u001b[0;34m(self, message, tb)\u001b[0m\n\u001b[1;32m    626\u001b[0m     _msg_header \u001b[38;5;241m=\u001b[39m \u001b[38;5;124m'\u001b[39m\u001b[38;5;124mERROR:\u001b[39m\u001b[38;5;124m'\u001b[39m\n\u001b[1;32m    627\u001b[0m error_message \u001b[38;5;241m=\u001b[39m \u001b[38;5;124m'\u001b[39m\u001b[38;5;132;01m%s\u001b[39;00m\u001b[38;5;124m \u001b[39m\u001b[38;5;132;01m%s\u001b[39;00m\u001b[38;5;124m'\u001b[39m \u001b[38;5;241m%\u001b[39m (_msg_header, message)\n\u001b[0;32m--> 628\u001b[0m \u001b[38;5;28;43mself\u001b[39;49m\u001b[38;5;241;43m.\u001b[39;49m\u001b[43mtrouble\u001b[49m\u001b[43m(\u001b[49m\u001b[43merror_message\u001b[49m\u001b[43m,\u001b[49m\u001b[43m \u001b[49m\u001b[43mtb\u001b[49m\u001b[43m)\u001b[49m\n",
      "File \u001b[0;32m~/miniforge3/lib/python3.9/site-packages/youtube_dl/YoutubeDL.py:598\u001b[0m, in \u001b[0;36mYoutubeDL.trouble\u001b[0;34m(self, message, tb)\u001b[0m\n\u001b[1;32m    596\u001b[0m     \u001b[38;5;28;01melse\u001b[39;00m:\n\u001b[1;32m    597\u001b[0m         exc_info \u001b[38;5;241m=\u001b[39m sys\u001b[38;5;241m.\u001b[39mexc_info()\n\u001b[0;32m--> 598\u001b[0m     \u001b[38;5;28;01mraise\u001b[39;00m DownloadError(message, exc_info)\n\u001b[1;32m    599\u001b[0m \u001b[38;5;28mself\u001b[39m\u001b[38;5;241m.\u001b[39m_download_retcode \u001b[38;5;241m=\u001b[39m \u001b[38;5;241m1\u001b[39m\n",
      "\u001b[0;31mDownloadError\u001b[0m: ERROR: Unsupported URL: https://ok.ru/video/c2905245"
     ]
    }
   ],
   "source": [
    "ydl_opts = {}\n",
    "with youtube_dl.YoutubeDL(ydl_opts) as ydl:\n",
    "    ydl.download([\"https://ok.ru/video/c2905245\"])"
   ]
  },
  {
   "cell_type": "code",
   "execution_count": 5,
   "id": "4fd01577",
   "metadata": {},
   "outputs": [
    {
     "name": "stdout",
     "output_type": "stream",
     "text": [
      "zsh:1: no matches found: https://www.youtube.com/watch?v=q6-hxlvuWZc\r\n"
     ]
    }
   ],
   "source": [
    "!youtube-dl --get-subs https://www.youtube.com/watch?v=q6-hxlvuWZc"
   ]
  },
  {
   "cell_type": "code",
   "execution_count": 3,
   "id": "0648cce1",
   "metadata": {},
   "outputs": [],
   "source": [
    "import pandas as pd\n",
    "import numpy as np\n",
    "import glob\n",
    "import os\n",
    "from bs4 import BeautifulSoup\n",
    "import requests\n",
    "import re"
   ]
  },
  {
   "cell_type": "code",
   "execution_count": null,
   "id": "6d9dd294",
   "metadata": {},
   "outputs": [],
   "source": [
    "def flatten(some_list):\n",
    "    return [item for sublist in some_list for item in sublist]"
   ]
  },
  {
   "cell_type": "code",
   "execution_count": 32,
   "id": "d09cd1b9",
   "metadata": {},
   "outputs": [],
   "source": [
    "def df_from_path(path):\n",
    "    soup = soup_from_path(path)\n",
    "    df = tubi_df(soup)\n",
    "    df = df.dropna()\n",
    "    return df.drop_duplicates()"
   ]
  },
  {
   "cell_type": "code",
   "execution_count": 31,
   "id": "b36db4d0",
   "metadata": {},
   "outputs": [],
   "source": [
    "def soup_from_path(path):\n",
    "    with open(path) as fp:\n",
    "        soup = BeautifulSoup(fp, 'html.parser')\n",
    "    return soup"
   ]
  },
  {
   "cell_type": "code",
   "execution_count": 30,
   "id": "a691efca",
   "metadata": {},
   "outputs": [],
   "source": [
    "def a_tags_movies(soup):\n",
    "    return soup.find_all('a', {\"class\": \"web-content-tile__title\"})"
   ]
  },
  {
   "cell_type": "code",
   "execution_count": 29,
   "id": "f4b675e5",
   "metadata": {},
   "outputs": [],
   "source": [
    "def url_title_a_tags(a_tags):\n",
    "    title_urls = [{\"url\": a_tag['href'], \"movie_title\": a_tag.text } for a_tag in a_tags]\n",
    "    return pd.DataFrame(data=title_urls)"
   ]
  },
  {
   "cell_type": "code",
   "execution_count": 28,
   "id": "e9fadab4",
   "metadata": {},
   "outputs": [],
   "source": [
    "def info_divs(soup):\n",
    "    return soup.find_all('div', {\"class\": \"web-content-tile__content-digest\"})"
   ]
  },
  {
   "cell_type": "code",
   "execution_count": 27,
   "id": "3206d7ec",
   "metadata": {},
   "outputs": [],
   "source": [
    "def tubi_df(soup):\n",
    "    data_dicts = [info_from_info_div(info_div) for info_div in info_divs(soup)]\n",
    "    return pd.DataFrame(data=data_dicts)"
   ]
  },
  {
   "cell_type": "code",
   "execution_count": 26,
   "id": "1b540ed2",
   "metadata": {},
   "outputs": [],
   "source": [
    "def year_from_info_div(info_div):\n",
    "    return info_div.find(\"div\", {\"class\": \"web-content-tile__year\"}).text"
   ]
  },
  {
   "cell_type": "code",
   "execution_count": 25,
   "id": "6cd2da1c",
   "metadata": {},
   "outputs": [],
   "source": [
    "def info_from_info_div(info_div):\n",
    "    try:\n",
    "        link_tag = info_div.find(\"a\")\n",
    "        return {\n",
    "            \"url\": link_tag[\"href\"],\n",
    "            \"movie_title\": link_tag.text,\n",
    "            \"movie_year\": year_from_info_div(info_div)\n",
    "        }\n",
    "    except:\n",
    "        return {\n",
    "            \"url\": pd.NA,\n",
    "            \"movie_title\": pd.NA,\n",
    "            \"movie_year\": pd.NA\n",
    "        }"
   ]
  },
  {
   "cell_type": "code",
   "execution_count": 24,
   "id": "67717a86",
   "metadata": {},
   "outputs": [],
   "source": [
    "def get_full_df_from_paths(paths):\n",
    "    dfs = [df_from_path(path) for path in paths]\n",
    "    for path in paths[1:]:\n",
    "        df = pd.concat(dfs).drop_duplicates().reset_index(drop=True)\n",
    "    return df"
   ]
  },
  {
   "cell_type": "code",
   "execution_count": 23,
   "id": "e9518d11",
   "metadata": {},
   "outputs": [],
   "source": [
    "def listdir_nohidden(path):\n",
    "    return glob.glob(os.path.join(path, '*'))"
   ]
  },
  {
   "cell_type": "code",
   "execution_count": 22,
   "id": "bd1f48b8",
   "metadata": {},
   "outputs": [],
   "source": [
    "def get_files_from_paths(paths):\n",
    "    return flatten([listdir_nohidden(path) for path in paths])"
   ]
  },
  {
   "cell_type": "code",
   "execution_count": 21,
   "id": "8e5e41c3",
   "metadata": {},
   "outputs": [],
   "source": [
    "def unique_tubi_urls(df, paths_to_search):\n",
    "    return df.loc[df[\"url\"].isin(get_files_from_paths(paths_to_search))]"
   ]
  },
  {
   "cell_type": "code",
   "execution_count": 20,
   "id": "8a2a3716",
   "metadata": {},
   "outputs": [],
   "source": [
    "def movie_has_a_path(movie_title, path):\n",
    "    return movie_title.split(\"(\")[0] in path"
   ]
  },
  {
   "cell_type": "code",
   "execution_count": 19,
   "id": "37490418",
   "metadata": {},
   "outputs": [],
   "source": [
    "def movie_has_any_path(movie_title, paths):\n",
    "    try:\n",
    "        return any([movie_has_a_path(movie_title, path) for path in paths])\n",
    "    except:\n",
    "        return False"
   ]
  },
  {
   "cell_type": "code",
   "execution_count": 16,
   "id": "4e4c4c68",
   "metadata": {},
   "outputs": [],
   "source": [
    "def divs_for_archives(archives_soup):\n",
    "    return archives_soup.find_all(\"div\", {\"class\": \"item-ttl\"})"
   ]
  },
  {
   "cell_type": "code",
   "execution_count": 17,
   "id": "321d9b85",
   "metadata": {},
   "outputs": [],
   "source": [
    "def link_tags_archives(archives_soup):\n",
    "    return [div.find(\"a\") for div in divs_for_archives(archives_soup)]"
   ]
  },
  {
   "cell_type": "code",
   "execution_count": 18,
   "id": "ab536470",
   "metadata": {},
   "outputs": [],
   "source": [
    "def dict_for_archives(a_tag):\n",
    "    try:\n",
    "        return {\"url\": a_tag[\"href\"], \"movie_title\": a_tag[\"title\"]}\n",
    "    except:\n",
    "        return {\"url\": np.nan, \"movie_title\": np.nan}"
   ]
  },
  {
   "cell_type": "code",
   "execution_count": 12,
   "id": "f0c153d4",
   "metadata": {},
   "outputs": [],
   "source": [
    "def df_for_archives(archives_soup):\n",
    "    data_dicts = [dict_for_archives(a_tag) for a_tag in link_tags_archives(archives_soup)]\n",
    "    df = pd.DataFrame(data=data_dicts)\n",
    "    df = df.dropna()\n",
    "    return df.drop_duplicates()"
   ]
  },
  {
   "cell_type": "code",
   "execution_count": 11,
   "id": "5d39cf77",
   "metadata": {},
   "outputs": [],
   "source": [
    "def get_page_url(url):\n",
    "    return requests.get(url)"
   ]
  },
  {
   "cell_type": "code",
   "execution_count": 10,
   "id": "b46f5f5b",
   "metadata": {},
   "outputs": [],
   "source": [
    "def get_soup_url(url):\n",
    "    return BeautifulSoup(get_page_url(url).content, \"html.parser\")"
   ]
  },
  {
   "cell_type": "code",
   "execution_count": 13,
   "id": "1ca81718",
   "metadata": {},
   "outputs": [],
   "source": [
    "def get_download_tag(url):\n",
    "    try:\n",
    "        soup = get_soup_url(url)\n",
    "        return soup.find(\"a\", {\"class\": \"format-summary download-pill\", \"href\": re.compile(\"\\.mp4\")})\n",
    "    except:\n",
    "        return None"
   ]
  },
  {
   "cell_type": "code",
   "execution_count": 14,
   "id": "dedccdcf",
   "metadata": {},
   "outputs": [],
   "source": [
    "def archive_download_link(url):\n",
    "    download_tag = get_download_tag(url)\n",
    "#     print(\"after we get download tag\")\n",
    "    if download_tag is not None:\n",
    "#         print(\"inside download tag thing\")\n",
    "#         print(download_tag)\n",
    "#         print(download_tag[\"href\"])\n",
    "        return \"https://archive.org{}\".format(download_tag[\"href\"])\n",
    "    else:\n",
    "        return None"
   ]
  },
  {
   "cell_type": "code",
   "execution_count": 15,
   "id": "1e4c08b9",
   "metadata": {},
   "outputs": [],
   "source": [
    "def download_video(file_name, url):\n",
    "    try:\n",
    "#         print(\"url is {}\".format(url))\n",
    "        r = requests.get(url, stream = True)\n",
    "        #download started\n",
    "#         print(\"entered after requests\")\n",
    "        with open(file_name, 'wb') as f:\n",
    "            for chunk in r.iter_content(chunk_size = 1024*1024):\n",
    "                if chunk:\n",
    "                    f.write(chunk)\n",
    "        print (\"%s downloaded!\\n\"%file_name)\n",
    "    except:\n",
    "        print(\"An Error Downloading %s\"%file_name)"
   ]
  },
  {
   "cell_type": "code",
   "execution_count": null,
   "id": "0efb3b2b",
   "metadata": {},
   "outputs": [],
   "source": [
    "def download_videos_from_df(df, path):\n",
    "    try:\n",
    "        for index, row in df.iterrows():\n",
    "            movie_path = \"{}/{}.mp4\".format(path, row[\"movie_title\"])\n",
    "            download_video(movie_path, archive_download_link(row[\"url\"]))\n",
    "        print(\"All videos Downloaded successfully\")\n",
    "    except:\n",
    "        print(\"There was an error downloaded all the movies\")"
   ]
  },
  {
   "cell_type": "code",
   "execution_count": null,
   "id": "04b882b8",
   "metadata": {},
   "outputs": [],
   "source": [
    "path = \"/Users/timdunn/Downloads/Feature Films _ Free Movies _ Free Download, Borrow and Streaming _ Internet Archive.html\"\n",
    "archives_soup = soup_from_path(path)"
   ]
  },
  {
   "cell_type": "code",
   "execution_count": null,
   "id": "8917aa6e",
   "metadata": {},
   "outputs": [],
   "source": [
    "archives_df = df_for_archives(archives_soup)"
   ]
  },
  {
   "cell_type": "code",
   "execution_count": null,
   "id": "c7dbe0ad",
   "metadata": {},
   "outputs": [],
   "source": [
    "archives_df.loc[archives_df[\"movie_title\"] == \"Desperate Cargo\"].index[0]"
   ]
  },
  {
   "cell_type": "code",
   "execution_count": null,
   "id": "33338247",
   "metadata": {},
   "outputs": [],
   "source": [
    "download_videos_from_df(archives_df.loc[2162:4000], \"/Users/timdunn/Desktop/archive movie downloads\")"
   ]
  },
  {
   "cell_type": "code",
   "execution_count": null,
   "id": "78d5c8f7",
   "metadata": {},
   "outputs": [],
   "source": [
    "tubi_paths = [\n",
    "    \"/Users/timdunn/Downloads/tubi anime.html\",\n",
    "    \"/Users/timdunn/Downloads/tubi award.html\",\n",
    "    \"/Users/timdunn/Downloads/tubi bollywood.html\",\n",
    "    \"/Users/timdunn/Downloads/tubi classics.html\",\n",
    "    \"/Users/timdunn/Downloads/tubi comedy.html\",\n",
    "    \"/Users/timdunn/Downloads/tubi crime.html\",\n",
    "    \"/Users/timdunn/Downloads/tubi cult.html\",\n",
    "    \"/Users/timdunn/Downloads/tubi drama.html\",\n",
    "    \"/Users/timdunn/Downloads/tubi faith.html\",\n",
    "    \"/Users/timdunn/Downloads/tubi family.html\",\n",
    "    \"/Users/timdunn/Downloads/tubi featured.html\",\n",
    "    \"/Users/timdunn/Downloads/tubi foreign.html\",\n",
    "    \"/Users/timdunn/Downloads/tubi holiday.html\",\n",
    "    \"/Users/timdunn/Downloads/tubi indie.html\",\n",
    "    \"/Users/timdunn/Downloads/tubi kids.html\",\n",
    "    \"/Users/timdunn/Downloads/tubi lgbtq.html\",\n",
    "    \"/Users/timdunn/Downloads/tubi lifestyle.html\",\n",
    "    \"/Users/timdunn/Downloads/tubi martial arts.html\",\n",
    "    \"/Users/timdunn/Downloads/tubi music.html\",\n",
    "    \"/Users/timdunn/Downloads/tubi other spanish.html\",\n",
    "    \"/Users/timdunn/Downloads/tubi popular.html\",\n",
    "    \"/Users/timdunn/Downloads/tubi preschool.html\",\n",
    "    \"/Users/timdunn/Downloads/tubi reality tv.html\",\n",
    "    \"/Users/timdunn/Downloads/tubi sci fi.html\",\n",
    "    \"/Users/timdunn/Downloads/tubi spanish family.html\",\n",
    "    \"/Users/timdunn/Downloads/tubi sports.html\",\n",
    "    \"/Users/timdunn/Downloads/tubi thriller.html\",\n",
    "    \"/Users/timdunn/Downloads/tubi weekly.html\",\n",
    "    \"/Users/timdunn/Downloads/tubi westerns.html\"\n",
    "]"
   ]
  },
  {
   "cell_type": "code",
   "execution_count": null,
   "id": "96a2454e",
   "metadata": {},
   "outputs": [],
   "source": [
    "divs[0].find(\"div\", {\"class\": \"web-content-tile__year\"}).text"
   ]
  },
  {
   "cell_type": "code",
   "execution_count": null,
   "id": "8fd2a62f",
   "metadata": {},
   "outputs": [],
   "source": [
    "searching_paths = [\n",
    "    \"/Volumes/Transcend/\",\n",
    "    \"/Volumes/Transcend/2010s - 2020s movies/\",\n",
    "    \"/Volumes/Transcend/2010s - 2020s new movies/\",\n",
    "    \"/Volumes/Backup Plus/1940s-50s-60s movies/\",\n",
    "    \"/Volumes/Backup Plus/1940s-50s-60s new movies/\",\n",
    "    \"/Volumes/Elements/in between foreign films/\",\n",
    "    \"/Volumes/Elements/1970s - 2000s movies /\",\n",
    "    \"/Volumes/Elements/1970s - 2000s new movies /\"\n",
    "]"
   ]
  }
 ],
 "metadata": {
  "kernelspec": {
   "display_name": "Python 3 (ipykernel)",
   "language": "python",
   "name": "python3"
  },
  "language_info": {
   "codemirror_mode": {
    "name": "ipython",
    "version": 3
   },
   "file_extension": ".py",
   "mimetype": "text/x-python",
   "name": "python",
   "nbconvert_exporter": "python",
   "pygments_lexer": "ipython3",
   "version": "3.9.7"
  }
 },
 "nbformat": 4,
 "nbformat_minor": 5
}
