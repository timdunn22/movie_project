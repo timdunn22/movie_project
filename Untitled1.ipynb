{
 "cells": [
  {
   "cell_type": "code",
   "execution_count": null,
   "id": "aedde7ff",
   "metadata": {},
   "outputs": [],
   "source": [
    "from common_methods import *"
   ]
  },
  {
   "cell_type": "code",
   "execution_count": null,
   "id": "7f53ba34",
   "metadata": {},
   "outputs": [],
   "source": [
    "everything = pd.read_csv('/Users/timdunn/Desktop/everything_merged.csv')"
   ]
  },
  {
   "cell_type": "code",
   "execution_count": null,
   "id": "6c806b3f",
   "metadata": {},
   "outputs": [],
   "source": [
    "def get_movie(df, tconst):\n",
    "    return df.loc[df['tconst'] == tconst]"
   ]
  },
  {
   "cell_type": "code",
   "execution_count": null,
   "id": "f052b87f",
   "metadata": {},
   "outputs": [],
   "source": [
    "def convert_avi_to_mp4(avi_file_path, output_name):\n",
    "    os.popen(\"ffmpeg -i {input} -ac 2 -b:v 2000k -c:a aac -c:v libx264 -b:a 160k -vprofile high -bf 0 -strict experimental -f mp4 {output}.mp4\".format(input = avi_file_path, output = output_name))\n",
    "    return True"
   ]
  },
  {
   "cell_type": "code",
   "execution_count": null,
   "id": "74a63b05",
   "metadata": {},
   "outputs": [],
   "source": [
    "files = listdir_nohidden('/Users/timdunn/Downloads/stuff')"
   ]
  },
  {
   "cell_type": "code",
   "execution_count": null,
   "id": "ebff090c",
   "metadata": {},
   "outputs": [],
   "source": [
    "files[0].split(\"/\")[-1].split('.mkv')[0]"
   ]
  },
  {
   "cell_type": "code",
   "execution_count": null,
   "id": "10f82f4e",
   "metadata": {},
   "outputs": [],
   "source": [
    "avi_files = list(filter(lambda file: file.endswith('.avi'), files))"
   ]
  },
  {
   "cell_type": "code",
   "execution_count": null,
   "id": "748663e5",
   "metadata": {},
   "outputs": [],
   "source": [
    "def get_avi_files(files):\n",
    "    return list(filter(lambda file: file.endswith('.avi'), files))"
   ]
  },
  {
   "cell_type": "code",
   "execution_count": null,
   "id": "87b87d47",
   "metadata": {},
   "outputs": [],
   "source": [
    "def is_directory(file_path):\n",
    "    try:\n",
    "        listdir_nohidden(file_path)\n",
    "        True\n",
    "    except:\n",
    "        False       "
   ]
  },
  {
   "cell_type": "code",
   "execution_count": null,
   "id": "763f4cc6",
   "metadata": {},
   "outputs": [],
   "source": [
    "for root, dirs, files in os.walk('/Users/timdunn/Downloads/stuff'):\n",
    "    for file in get_avi_files(files):\n",
    "        print(os.path.join(root, file))"
   ]
  },
  {
   "cell_type": "code",
   "execution_count": null,
   "id": "c7fc8780",
   "metadata": {},
   "outputs": [],
   "source": [
    "def convert_nested_files(directory):\n",
    "    for root, dirs, files in os.walk(directory):\n",
    "        for avi_file_name in get_avi_files(files):\n",
    "            avi_file_path = os.path.join(root, avi_file_name)\n",
    "            output_file_name = \"{}.mp4\".format(avi_file_path)\n",
    "            try:\n",
    "                convert_avi_to_mp4(avi_file_path, output_file_name) \n",
    "            except:\n",
    "                pass"
   ]
  },
  {
   "cell_type": "code",
   "execution_count": null,
   "id": "1049da30",
   "metadata": {},
   "outputs": [],
   "source": [
    "import subprocess\n",
    "import os"
   ]
  },
  {
   "cell_type": "code",
   "execution_count": null,
   "id": "e0e58f79",
   "metadata": {},
   "outputs": [],
   "source": [
    "src = '/Users/timdunn/Downloads/stuff/'\n",
    "dst = src\n",
    "\n",
    "for root, dirs, filenames in os.walk(src, topdown=False):\n",
    "    #print(filenames)\n",
    "    for filename in filenames:\n",
    "        print('[INFO] 1',filename)\n",
    "        if not filename.lower().endswith(\".mp4\"):\n",
    "            try:\n",
    "                _format = ''\n",
    "                if  filename.lower().endswith(\".flv\"):\n",
    "                    _format=\".flv\"\n",
    "                if  filename.lower().endswith(\".avi\"):\n",
    "                    _format=\".avi\"\n",
    "                if  filename.lower().endswith(\".mov\"):\n",
    "                    _format=\".mov\"\n",
    "                if  filename.lower().endswith(\".mkv\"):\n",
    "                    _format=\".mkv\"\n",
    "                if  filename.lower().endswith(\".mpg\"):\n",
    "                    _format=\".mpg\"\n",
    "\n",
    "                inputfile = os.path.join(root, filename)\n",
    "                print('[INFO] 1',inputfile)\n",
    "                outputfile = os.path.join(dst, filename.lower().replace(_format, \".mp4\"))\n",
    "                subprocess.call(['ffmpeg', '-i', inputfile, outputfile])  \n",
    "            except:\n",
    "                print(\"An exception occurred\")"
   ]
  },
  {
   "cell_type": "code",
   "execution_count": null,
   "id": "2ae1e1ae",
   "metadata": {},
   "outputs": [],
   "source": [
    "convert_nested_files('/Users/timdunn/Downloads/stuff')"
   ]
  },
  {
   "cell_type": "code",
   "execution_count": null,
   "id": "d2fb20df",
   "metadata": {},
   "outputs": [],
   "source": [
    "for root, dirs, files in os.walk('/Users/timdunn/Downloads/stuff'):\n",
    "    for avi_file_name in get_avi_files(files):\n",
    "        avi_file_path = '/Users/timdunn/Downloads/stuff/{}'.format(avi_file_name)\n",
    "        convert_avi_to_mp4(avi_file_path, '/Users/timdunn/Downloads/stuff/{}.mp4'.format(avi_file_name.split(\"/\")[-1].split('.avi')[0])      "
   ]
  },
  {
   "cell_type": "code",
   "execution_count": null,
   "id": "f9db52cf",
   "metadata": {},
   "outputs": [],
   "source": [
    "for file in avi_files:\n",
    "    convert_avi_to_mp4(file, \"{}.mp4\".format(file.split('.avi')[0]))\n",
    "#     os.remove(file)"
   ]
  },
  {
   "cell_type": "code",
   "execution_count": null,
   "id": "6b8a42ae",
   "metadata": {},
   "outputs": [],
   "source": [
    "for item in get_movie(everything, \"tt6628394\")['new link url']:\n",
    "    print(item)"
   ]
  }
 ],
 "metadata": {
  "kernelspec": {
   "display_name": "Python 3 (ipykernel)",
   "language": "python",
   "name": "python3"
  },
  "language_info": {
   "codemirror_mode": {
    "name": "ipython",
    "version": 3
   },
   "file_extension": ".py",
   "mimetype": "text/x-python",
   "name": "python",
   "nbconvert_exporter": "python",
   "pygments_lexer": "ipython3",
   "version": "3.9.7"
  }
 },
 "nbformat": 4,
 "nbformat_minor": 5
}
