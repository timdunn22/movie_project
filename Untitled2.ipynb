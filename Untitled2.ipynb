{
 "cells": [
  {
   "cell_type": "code",
   "execution_count": null,
   "id": "e4fda55a",
   "metadata": {},
   "outputs": [],
   "source": [
    "!pip install pyhumps"
   ]
  },
  {
   "cell_type": "code",
   "execution_count": null,
   "id": "d018539b",
   "metadata": {},
   "outputs": [],
   "source": [
    "from common_methods import *"
   ]
  },
  {
   "cell_type": "code",
   "execution_count": null,
   "id": "d9cb8630",
   "metadata": {},
   "outputs": [],
   "source": [
    "from django.contrib.contenttypes.models import ContentType\n",
    "from django_import.models import ImportJob"
   ]
  },
  {
   "cell_type": "code",
   "execution_count": 1,
   "id": "5777e79d",
   "metadata": {},
   "outputs": [],
   "source": [
    "from all_processes.process_imdb_data import ProcessImdbData"
   ]
  },
  {
   "cell_type": "code",
   "execution_count": null,
   "id": "9839c321",
   "metadata": {},
   "outputs": [],
   "source": [
    "from all_processes.convert_imdb_data import ConvertAkaData"
   ]
  },
  {
   "cell_type": "code",
   "execution_count": null,
   "id": "b59adfe2",
   "metadata": {},
   "outputs": [],
   "source": [
    "from all_processes.convert_imdb_data import ConvertRatingsData"
   ]
  },
  {
   "cell_type": "code",
   "execution_count": null,
   "id": "18cce3e8",
   "metadata": {},
   "outputs": [],
   "source": [
    "from all_processes.update_extra_imdb_info import UpdateBoxOfficeFile"
   ]
  },
  {
   "cell_type": "code",
   "execution_count": null,
   "id": "949d5759",
   "metadata": {},
   "outputs": [],
   "source": [
    "from common_methods import camel_to_snake"
   ]
  },
  {
   "cell_type": "code",
   "execution_count": null,
   "id": "c7249cf6",
   "metadata": {},
   "outputs": [],
   "source": [
    "def get_path_reference(class_object):\n",
    "    class_name = class_object.__name__\n",
    "    base_path = \" \".join(camel_to_snake(\"\".join(class_name.split(\"Update\")[-1].split(\"File\")[0:-1])).split(\"_\"))\n",
    "    return f'{base_path} Path'"
   ]
  },
  {
   "cell_type": "code",
   "execution_count": null,
   "id": "72d7fc0c",
   "metadata": {},
   "outputs": [],
   "source": [
    "class_name = UpdateBoxOfficeFile.__name__"
   ]
  },
  {
   "cell_type": "code",
   "execution_count": null,
   "id": "8234f0f4",
   "metadata": {},
   "outputs": [],
   "source": [
    "class_name"
   ]
  },
  {
   "cell_type": "code",
   "execution_count": null,
   "id": "a8a83ea7",
   "metadata": {},
   "outputs": [],
   "source": [
    "\"\".join(class_name.split(\"Update\")[-1].split(\"File\")[0:-1])"
   ]
  },
  {
   "cell_type": "code",
   "execution_count": null,
   "id": "8318f577",
   "metadata": {},
   "outputs": [],
   "source": [
    "get_path_reference(UpdateBoxOfficeFile).title()"
   ]
  },
  {
   "cell_type": "code",
   "execution_count": null,
   "id": "2e73b55f",
   "metadata": {},
   "outputs": [],
   "source": [
    "humps.camelize('average_rating')"
   ]
  },
  {
   "cell_type": "code",
   "execution_count": null,
   "id": "c65902e6",
   "metadata": {},
   "outputs": [],
   "source": [
    "ratings_object = ConvertRatingsData(output_file_path=\"/Users/timdunn/Desktop/rating_testing.csv\", \n",
    "                                    imdb_basic_directory='/Users/timdunn/Desktop/imdb_latest/')"
   ]
  },
  {
   "cell_type": "code",
   "execution_count": null,
   "id": "7ee90fe1",
   "metadata": {},
   "outputs": [],
   "source": [
    "ratings_object.output_columns"
   ]
  },
  {
   "cell_type": "code",
   "execution_count": null,
   "id": "1f8093a5",
   "metadata": {},
   "outputs": [],
   "source": [
    "ratings_object.basic_columns"
   ]
  },
  {
   "cell_type": "code",
   "execution_count": null,
   "id": "17b6a11e",
   "metadata": {},
   "outputs": [],
   "source": [
    "ratings_object.df"
   ]
  },
  {
   "cell_type": "code",
   "execution_count": null,
   "id": "959fccd0",
   "metadata": {},
   "outputs": [],
   "source": [
    "ratings_object.basic_columns"
   ]
  },
  {
   "cell_type": "code",
   "execution_count": null,
   "id": "b0cc4b25",
   "metadata": {},
   "outputs": [],
   "source": [
    "ratings_object.convert_data()"
   ]
  },
  {
   "cell_type": "code",
   "execution_count": 2,
   "id": "9568c7a7",
   "metadata": {},
   "outputs": [],
   "source": [
    "main_process = ProcessImdbData('/Users/timdunn/movie_project/all_processes/movie_configuration.yaml')"
   ]
  },
  {
   "cell_type": "code",
   "execution_count": 4,
   "id": "c74452fa",
   "metadata": {},
   "outputs": [],
   "source": [
    "from all_processes.update_movie_file import UpdateSoundmixFile"
   ]
  },
  {
   "cell_type": "code",
   "execution_count": null,
   "id": "c9d9baf5",
   "metadata": {},
   "outputs": [],
   "source": [
    "UpdateExtraImdbInfo"
   ]
  },
  {
   "cell_type": "code",
   "execution_count": null,
   "id": "d5a233f9",
   "metadata": {},
   "outputs": [],
   "source": [
    "soundmix_class = UpdateSoundmixFile()"
   ]
  },
  {
   "cell_type": "code",
   "execution_count": 3,
   "id": "c1dcb223",
   "metadata": {},
   "outputs": [
    {
     "ename": "AttributeError",
     "evalue": "'NoneType' object has no attribute 'apply'",
     "output_type": "error",
     "traceback": [
      "\u001B[0;31m---------------------------------------------------------------------------\u001B[0m",
      "\u001B[0;31mAttributeError\u001B[0m                            Traceback (most recent call last)",
      "Input \u001B[0;32mIn [3]\u001B[0m, in \u001B[0;36m<module>\u001B[0;34m\u001B[0m\n\u001B[0;32m----> 1\u001B[0m \u001B[43mmain_process\u001B[49m\u001B[38;5;241;43m.\u001B[39;49m\u001B[43mget_convert_all_imdb_data\u001B[49m\u001B[43m(\u001B[49m\u001B[43m)\u001B[49m\n",
      "File \u001B[0;32m~/movie_project/all_processes/process_imdb_data.py:42\u001B[0m, in \u001B[0;36mProcessImdbData.get_convert_all_imdb_data\u001B[0;34m(self)\u001B[0m\n\u001B[1;32m     40\u001B[0m \u001B[38;5;28mself\u001B[39m\u001B[38;5;241m.\u001B[39mdownload_imdb_data()\n\u001B[1;32m     41\u001B[0m \u001B[38;5;28mself\u001B[39m\u001B[38;5;241m.\u001B[39mconvert_basic_imdb_data()\n\u001B[0;32m---> 42\u001B[0m \u001B[38;5;28;43mself\u001B[39;49m\u001B[38;5;241;43m.\u001B[39;49m\u001B[43mconvert_imdb_extra_data\u001B[49m\u001B[43m(\u001B[49m\u001B[43m)\u001B[49m\n\u001B[1;32m     43\u001B[0m \u001B[38;5;28mself\u001B[39m\u001B[38;5;241m.\u001B[39mmerge_basic_extra_data()\n\u001B[1;32m     44\u001B[0m \u001B[38;5;28mself\u001B[39m\u001B[38;5;241m.\u001B[39msave_merged_data()\n",
      "File \u001B[0;32m~/movie_project/all_processes/process_imdb_data.py:27\u001B[0m, in \u001B[0;36mProcessImdbData.convert_imdb_extra_data\u001B[0;34m(self)\u001B[0m\n\u001B[1;32m     26\u001B[0m \u001B[38;5;28;01mdef\u001B[39;00m \u001B[38;5;21mconvert_imdb_extra_data\u001B[39m(\u001B[38;5;28mself\u001B[39m):\n\u001B[0;32m---> 27\u001B[0m     \u001B[43mUpdateExtraImdbInfo\u001B[49m\u001B[43m(\u001B[49m\u001B[43mconfiguration\u001B[49m\u001B[38;5;241;43m=\u001B[39;49m\u001B[38;5;28;43mself\u001B[39;49m\u001B[38;5;241;43m.\u001B[39;49m\u001B[43mconfiguration\u001B[49m\u001B[43m)\u001B[49m\u001B[38;5;241;43m.\u001B[39;49m\u001B[43mconvert_extra_data\u001B[49m\u001B[43m(\u001B[49m\u001B[43m)\u001B[49m\n",
      "File \u001B[0;32m~/movie_project/all_processes/update_extra_imdb_info.py:44\u001B[0m, in \u001B[0;36mUpdateExtraImdbInfo.convert_extra_data\u001B[0;34m(self)\u001B[0m\n\u001B[1;32m     43\u001B[0m \u001B[38;5;28;01mdef\u001B[39;00m \u001B[38;5;21mconvert_extra_data\u001B[39m(\u001B[38;5;28mself\u001B[39m):\n\u001B[0;32m---> 44\u001B[0m     \u001B[38;5;28;43mself\u001B[39;49m\u001B[38;5;241;43m.\u001B[39;49m\u001B[43mconvert_other_file_extra_data\u001B[49m\u001B[43m(\u001B[49m\u001B[43m)\u001B[49m\n\u001B[1;32m     45\u001B[0m     \u001B[38;5;28mself\u001B[39m\u001B[38;5;241m.\u001B[39mget_basic_extra_data()\n\u001B[1;32m     46\u001B[0m     \u001B[38;5;28mself\u001B[39m\u001B[38;5;241m.\u001B[39mconvert_basic_extra_data()\n",
      "File \u001B[0;32m~/movie_project/all_processes/update_extra_imdb_info.py:33\u001B[0m, in \u001B[0;36mUpdateExtraImdbInfo.convert_other_file_extra_data\u001B[0;34m(self)\u001B[0m\n\u001B[1;32m     31\u001B[0m \u001B[38;5;28;01mdef\u001B[39;00m \u001B[38;5;21mconvert_other_file_extra_data\u001B[39m(\u001B[38;5;28mself\u001B[39m):\n\u001B[1;32m     32\u001B[0m     \u001B[38;5;28;01mfor\u001B[39;00m class_object \u001B[38;5;129;01min\u001B[39;00m \u001B[38;5;28mself\u001B[39m\u001B[38;5;241m.\u001B[39mclass_objects:\n\u001B[0;32m---> 33\u001B[0m         \u001B[38;5;28;43mself\u001B[39;49m\u001B[38;5;241;43m.\u001B[39;49m\u001B[43mmake_file\u001B[49m\u001B[43m(\u001B[49m\u001B[43mclass_object\u001B[49m\u001B[43m)\u001B[49m\n",
      "File \u001B[0;32m~/movie_project/all_processes/update_extra_imdb_info.py:29\u001B[0m, in \u001B[0;36mUpdateExtraImdbInfo.make_file\u001B[0;34m(self, class_object)\u001B[0m\n\u001B[1;32m     28\u001B[0m \u001B[38;5;28;01mdef\u001B[39;00m \u001B[38;5;21mmake_file\u001B[39m(\u001B[38;5;28mself\u001B[39m, class_object):\n\u001B[0;32m---> 29\u001B[0m     \u001B[38;5;28;01mreturn\u001B[39;00m \u001B[43mclass_object\u001B[49m\u001B[43m(\u001B[49m\u001B[38;5;28;43mself\u001B[39;49m\u001B[38;5;241;43m.\u001B[39;49m\u001B[43mextra_data_path\u001B[49m\u001B[43m,\u001B[49m\u001B[43m \u001B[49m\u001B[38;5;28;43mself\u001B[39;49m\u001B[38;5;241;43m.\u001B[39;49m\u001B[43mimport_file_from_class\u001B[49m\u001B[43m(\u001B[49m\u001B[43mclass_object\u001B[49m\u001B[43m)\u001B[49m\u001B[43m)\u001B[49m\u001B[38;5;241;43m.\u001B[39;49m\u001B[43mmake_file\u001B[49m\u001B[43m(\u001B[49m\u001B[43m)\u001B[49m\n",
      "File \u001B[0;32m~/movie_project/all_processes/update_movie_file.py:20\u001B[0m, in \u001B[0;36mUpdateMovieFile.make_file\u001B[0;34m(self)\u001B[0m\n\u001B[1;32m     18\u001B[0m \u001B[38;5;28;01mdef\u001B[39;00m \u001B[38;5;21mmake_file\u001B[39m(\u001B[38;5;28mself\u001B[39m):\n\u001B[1;32m     19\u001B[0m     \u001B[38;5;28;01mif\u001B[39;00m \u001B[38;5;129;01mnot\u001B[39;00m \u001B[38;5;28mself\u001B[39m\u001B[38;5;241m.\u001B[39mimport_file_updated():\n\u001B[0;32m---> 20\u001B[0m         \u001B[38;5;28;43mself\u001B[39;49m\u001B[38;5;241;43m.\u001B[39;49m\u001B[43mcreate_import_df\u001B[49m\u001B[43m(\u001B[49m\u001B[43m)\u001B[49m\u001B[38;5;241m.\u001B[39mto_csv(\u001B[38;5;28mself\u001B[39m\u001B[38;5;241m.\u001B[39mmovie_import_path, index\u001B[38;5;241m=\u001B[39m\u001B[38;5;28;01mFalse\u001B[39;00m)\n\u001B[1;32m     21\u001B[0m     \u001B[38;5;28mself\u001B[39m\u001B[38;5;241m.\u001B[39mset_extra_movie_data()\n\u001B[1;32m     22\u001B[0m     \u001B[38;5;28mself\u001B[39m\u001B[38;5;241m.\u001B[39mset_movie_import_df()\n",
      "File \u001B[0;32m~/movie_project/all_processes/update_movie_file.py:36\u001B[0m, in \u001B[0;36mUpdateMovieFile.create_import_df\u001B[0;34m(self)\u001B[0m\n\u001B[1;32m     35\u001B[0m \u001B[38;5;28;01mdef\u001B[39;00m \u001B[38;5;21mcreate_import_df\u001B[39m(\u001B[38;5;28mself\u001B[39m):\n\u001B[0;32m---> 36\u001B[0m     \u001B[38;5;28;01mreturn\u001B[39;00m pd\u001B[38;5;241m.\u001B[39mDataFrame(data\u001B[38;5;241m=\u001B[39m\u001B[38;5;28;43mself\u001B[39;49m\u001B[38;5;241;43m.\u001B[39;49m\u001B[43mconvert_data\u001B[49m\u001B[43m(\u001B[49m\u001B[43m)\u001B[49m)\u001B[38;5;241m.\u001B[39mdrop_duplicates()\n",
      "File \u001B[0;32m~/movie_project/all_processes/update_movie_file.py:33\u001B[0m, in \u001B[0;36mUpdateMovieFile.convert_data\u001B[0;34m(self)\u001B[0m\n\u001B[1;32m     32\u001B[0m \u001B[38;5;28;01mdef\u001B[39;00m \u001B[38;5;21mconvert_data\u001B[39m(\u001B[38;5;28mself\u001B[39m):\n\u001B[0;32m---> 33\u001B[0m     \u001B[38;5;28;01mreturn\u001B[39;00m flatten(\u001B[38;5;28;43mself\u001B[39;49m\u001B[38;5;241;43m.\u001B[39;49m\u001B[43mextra_movie_df\u001B[49m\u001B[38;5;241;43m.\u001B[39;49m\u001B[43mapply\u001B[49m(\u001B[38;5;28;01mlambda\u001B[39;00m row: \u001B[38;5;28mself\u001B[39m\u001B[38;5;241m.\u001B[39mget_data(row), axis\u001B[38;5;241m=\u001B[39m\u001B[38;5;241m1\u001B[39m))\n",
      "\u001B[0;31mAttributeError\u001B[0m: 'NoneType' object has no attribute 'apply'"
     ]
    }
   ],
   "source": [
    "main_process.get_convert_all_imdb_data()"
   ]
  },
  {
   "cell_type": "code",
   "execution_count": null,
   "id": "ed72cf80",
   "metadata": {},
   "outputs": [],
   "source": [
    "\" \".join(camel_to_snake(\"\".join(\"UpdateBoxOfficeFile\".split(\"Update\")[-1].split(\"File\")[0:-1])).split(\"_\"))"
   ]
  },
  {
   "cell_type": "code",
   "execution_count": null,
   "id": "83a1705a",
   "metadata": {},
   "outputs": [],
   "source": [
    "link_details = pd.read_csv(\"/Users/timdunn/okru_extra.csv\", usecols=[\"webpage_url\", \n",
    "                                                                     \"fps\", \"width\", \"height\", \"fulltitle\"])"
   ]
  },
  {
   "cell_type": "code",
   "execution_count": null,
   "id": "bcdba4f9",
   "metadata": {},
   "outputs": [],
   "source": []
  },
  {
   "cell_type": "code",
   "execution_count": null,
   "id": "72ea4057",
   "metadata": {},
   "outputs": [],
   "source": [
    "def resolution(row):\n",
    "    try:\n",
    "        return f'{int(row[\"height\"])} x {int(row[\"width\"])}'\n",
    "    except:\n",
    "        return None"
   ]
  },
  {
   "cell_type": "code",
   "execution_count": null,
   "id": "dd10bb48",
   "metadata": {},
   "outputs": [],
   "source": [
    "link_details['resolution'] = link_details.apply(resolution, axis=1)"
   ]
  },
  {
   "cell_type": "code",
   "execution_count": null,
   "id": "fde6e4dc",
   "metadata": {},
   "outputs": [],
   "source": [
    "complete_link_details = reset_and_copy(link_details.loc[:, ['fps', 'fulltitle', 'link_url', 'resolution']])"
   ]
  },
  {
   "cell_type": "code",
   "execution_count": null,
   "id": "61c3e13e",
   "metadata": {},
   "outputs": [],
   "source": [
    "merged_okru_links = pd.merge(completed_okru, complete_link_details, on='link_url', how='outer')"
   ]
  },
  {
   "cell_type": "code",
   "execution_count": null,
   "id": "d7cba16e",
   "metadata": {},
   "outputs": [],
   "source": [
    "def convert_fulltitles(row):\n",
    "    if not empty_column_value(row, 'fulltitle_x'):\n",
    "        return row['fulltitle_x']\n",
    "    else:\n",
    "        return row['fulltitle_y']"
   ]
  },
  {
   "cell_type": "code",
   "execution_count": null,
   "id": "b167b0e8",
   "metadata": {},
   "outputs": [],
   "source": [
    "def empty_column_value(row, col):\n",
    "    return pd.isnull(row[col]) or row[col] == \"\\\\N\""
   ]
  },
  {
   "cell_type": "code",
   "execution_count": null,
   "id": "4bd1118f",
   "metadata": {},
   "outputs": [],
   "source": [
    "merged_okru_links['fulltitle'] = merged_okru_links.apply(convert_fulltitles, axis=1)"
   ]
  },
  {
   "cell_type": "code",
   "execution_count": null,
   "id": "739458e6",
   "metadata": {},
   "outputs": [],
   "source": [
    "merged_okru_links.drop(['fulltitle_x', 'fulltitle_y'], inplace=True, axis=1)"
   ]
  },
  {
   "cell_type": "code",
   "execution_count": null,
   "id": "eb3b9c0c",
   "metadata": {},
   "outputs": [],
   "source": [
    "merged_okru_links.drop_duplicates(inplace=True)"
   ]
  },
  {
   "cell_type": "code",
   "execution_count": null,
   "id": "66afb0a6",
   "metadata": {},
   "outputs": [],
   "source": [
    "merged_okru_links = reset_and_copy(pd.concat([merged_okru_links, final_go]).drop_duplicates())"
   ]
  },
  {
   "cell_type": "code",
   "execution_count": null,
   "id": "7a0d5653",
   "metadata": {},
   "outputs": [],
   "source": [
    "merged_okru_links"
   ]
  },
  {
   "cell_type": "code",
   "execution_count": null,
   "id": "a54e5ee9",
   "metadata": {},
   "outputs": [],
   "source": [
    "merged_okru_links.to_csv(\"/Users/timdunn/Desktop/okru_links_complete.csv\", index=False)"
   ]
  },
  {
   "cell_type": "code",
   "execution_count": null,
   "id": "bac1686e",
   "metadata": {},
   "outputs": [],
   "source": [
    "okru_progress = pd.read_csv('/Users/timdunn/Desktop/okru_progress.csv')"
   ]
  },
  {
   "cell_type": "code",
   "execution_count": null,
   "id": "4ebaa36e",
   "metadata": {},
   "outputs": [],
   "source": [
    "np.unique(okru_progress['link url']).size"
   ]
  },
  {
   "cell_type": "code",
   "execution_count": null,
   "id": "fe42b92c",
   "metadata": {},
   "outputs": [],
   "source": [
    "okru_columns = [column for column in okru_progress.columns if 'Unnamed' not in column]"
   ]
  },
  {
   "cell_type": "code",
   "execution_count": null,
   "id": "49687641",
   "metadata": {},
   "outputs": [],
   "source": [
    "go_file = pd.read_csv('/Users/timdunn/Desktop/scraped movie info/go.csv')"
   ]
  },
  {
   "cell_type": "code",
   "execution_count": null,
   "id": "4bb986c7",
   "metadata": {},
   "outputs": [],
   "source": [
    "def convert_go(go_file):\n",
    "    go_file['link_url'] = go_file['link url']\n",
    "    go_file['fulltitle'] = go_file['movie_title']\n",
    "    go_file['duration'] = go_file['duration'].apply(convert_go_duration)\n",
    "    go_file['resolution'] = go_file['quality'].apply(convert_go_resolution)\n",
    "    return reset_and_copy(go_file.loc[:, ['link_url', 'fulltitle', 'duration', 'year', 'quality', 'resolution']])"
   ]
  },
  {
   "cell_type": "code",
   "execution_count": null,
   "id": "81713271",
   "metadata": {},
   "outputs": [],
   "source": [
    "def convert_go_duration(duration):\n",
    "    try:\n",
    "        return duration.split(\" min\")[0]\n",
    "    except:\n",
    "        return None"
   ]
  },
  {
   "cell_type": "code",
   "execution_count": null,
   "id": "f4436973",
   "metadata": {},
   "outputs": [],
   "source": [
    "def convert_go_resolution(quality):\n",
    "    if 'hd' in str(quality).lower():\n",
    "        return '1920 x 1080'\n",
    "    elif '720' in str(quality):\n",
    "        return '1080 x 720'\n",
    "    else:\n",
    "        return '720 x 480'"
   ]
  },
  {
   "cell_type": "code",
   "execution_count": null,
   "id": "2065d252",
   "metadata": {},
   "outputs": [],
   "source": [
    "df = pd.read_csv('/Users/timdunn/Desktop/scraped movie info/tinyzone_2_7_23.csv')"
   ]
  },
  {
   "cell_type": "code",
   "execution_count": null,
   "id": "5042d5f9",
   "metadata": {},
   "outputs": [],
   "source": [
    "dubbed_data = pd.read_csv(\"/Users/timdunn/okru_dubbed_data.csv\")"
   ]
  },
  {
   "cell_type": "code",
   "execution_count": null,
   "id": "457c298d",
   "metadata": {},
   "outputs": [],
   "source": [
    "dubbed_data"
   ]
  },
  {
   "cell_type": "code",
   "execution_count": null,
   "id": "01f69e4f",
   "metadata": {},
   "outputs": [],
   "source": [
    "initial = \"ConvertBoxOfficeLinks\""
   ]
  },
  {
   "cell_type": "code",
   "execution_count": null,
   "id": "3bf1c44f",
   "metadata": {},
   "outputs": [],
   "source": [
    "snake_splits = camel_to_snake(initial.split('Convert')[-1].split(\"Links\")[0]).split('_')"
   ]
  },
  {
   "cell_type": "code",
   "execution_count": null,
   "id": "41a9e1de",
   "metadata": {},
   "outputs": [],
   "source": [
    "\" \".join([split.capitalize() for split in snake_splits])"
   ]
  },
  {
   "cell_type": "code",
   "execution_count": null,
   "id": "ec9fa45b",
   "metadata": {},
   "outputs": [],
   "source": [
    "snake_splits[0].capitalize()"
   ]
  },
  {
   "cell_type": "code",
   "execution_count": null,
   "id": "cfbaf9e1",
   "metadata": {},
   "outputs": [],
   "source": [
    "snaked = camel_to_snake(initial.split('Convert')[-1].split(\"Links\")[0:-1])"
   ]
  },
  {
   "cell_type": "code",
   "execution_count": null,
   "id": "e8d67d95",
   "metadata": {},
   "outputs": [],
   "source": [
    "d"
   ]
  },
  {
   "cell_type": "code",
   "execution_count": null,
   "id": "cd65b6e9",
   "metadata": {},
   "outputs": [],
   "source": [
    "for link in df['link url'][0:10]:\n",
    "    print(link)"
   ]
  },
  {
   "cell_type": "code",
   "execution_count": null,
   "id": "6e1bf8eb",
   "metadata": {},
   "outputs": [],
   "source": [
    "go_file['link_url'] = go['link url']"
   ]
  },
  {
   "cell_type": "code",
   "execution_count": null,
   "id": "1cb36754",
   "metadata": {},
   "outputs": [],
   "source": [
    "okru_links = reset_and_copy(okru_progress.drop_duplicates(subset=['link url']\n",
    "                                                         ).loc[:, ['link title','link url','movie duration','duration','year']])"
   ]
  },
  {
   "cell_type": "code",
   "execution_count": null,
   "id": "79ff00b0",
   "metadata": {},
   "outputs": [],
   "source": [
    "okru_links = reset_and_copy(okru_links.loc[~okru_links['link url'].isnull()])"
   ]
  },
  {
   "cell_type": "code",
   "execution_count": null,
   "id": "ea8636f8",
   "metadata": {},
   "outputs": [],
   "source": [
    "okru_links['link title'][0]"
   ]
  },
  {
   "cell_type": "code",
   "execution_count": null,
   "id": "bca78c0f",
   "metadata": {},
   "outputs": [],
   "source": [
    "matches = re.findall(year(), 'Toy Story - Official Trailer #1 [1995]')"
   ]
  },
  {
   "cell_type": "code",
   "execution_count": null,
   "id": "f3751057",
   "metadata": {},
   "outputs": [],
   "source": [
    "def get_year(title):\n",
    "    matches = re.findall(year(), str(title))\n",
    "    if len(matches) == 1:\n",
    "        return matches[0]\n",
    "    else:\n",
    "        return None"
   ]
  },
  {
   "cell_type": "code",
   "execution_count": null,
   "id": "a1c1f2df",
   "metadata": {},
   "outputs": [],
   "source": [
    "okru_links['year'] = okru_links['link title'].apply(get_year)"
   ]
  },
  {
   "cell_type": "code",
   "execution_count": null,
   "id": "022663bc",
   "metadata": {},
   "outputs": [],
   "source": [
    "okru_links['link_url'] = okru_links['link url'].apply(lambda s: f'https://ok.ru/video/{int(s)}')"
   ]
  },
  {
   "cell_type": "code",
   "execution_count": null,
   "id": "c53fe2ff",
   "metadata": {},
   "outputs": [],
   "source": [
    "okru_links['fulltitle'] = okru_links['link title']"
   ]
  },
  {
   "cell_type": "code",
   "execution_count": null,
   "id": "94250162",
   "metadata": {},
   "outputs": [],
   "source": [
    "completed_okru = reset_and_copy(okru_links.loc[:, ['duration', 'year', 'link_url', 'fulltitle']])"
   ]
  },
  {
   "cell_type": "code",
   "execution_count": null,
   "id": "73e1af9f",
   "metadata": {},
   "outputs": [],
   "source": [
    "completed_okru"
   ]
  },
  {
   "cell_type": "code",
   "execution_count": null,
   "id": "ae1323ff",
   "metadata": {},
   "outputs": [],
   "source": [
    "okru_links['duration'] = okru_links['movie duration'].apply(minutes_from_string)"
   ]
  },
  {
   "cell_type": "code",
   "execution_count": null,
   "id": "15fe635f",
   "metadata": {},
   "outputs": [],
   "source": [
    "okru_columns[okru_columns != 'tconst']"
   ]
  },
  {
   "cell_type": "code",
   "execution_count": null,
   "id": "7eca2840",
   "metadata": {},
   "outputs": [],
   "source": [
    "link_details.columns"
   ]
  },
  {
   "cell_type": "code",
   "execution_count": null,
   "id": "2804783a",
   "metadata": {},
   "outputs": [],
   "source": [
    "nonformat_columns = [column for column in link_details.columns if 'formats' not in column]"
   ]
  },
  {
   "cell_type": "code",
   "execution_count": null,
   "id": "f6e7aeda",
   "metadata": {},
   "outputs": [],
   "source": [
    "['thumbnails', 'http_headers']"
   ]
  },
  {
   "cell_type": "code",
   "execution_count": null,
   "id": "cdee63b4",
   "metadata": {},
   "outputs": [],
   "source": [
    "sub_cols = [column for column in nonformat_columns if '_' in column]"
   ]
  },
  {
   "cell_type": "code",
   "execution_count": null,
   "id": "0d3bca10",
   "metadata": {},
   "outputs": [],
   "source": [
    "sub_cats = np.unique([col.split('_')[0] for col in sub_cols])"
   ]
  },
  {
   "cell_type": "code",
   "execution_count": null,
   "id": "fbb652be",
   "metadata": {},
   "outputs": [],
   "source": [
    "sub_cats"
   ]
  },
  {
   "cell_type": "code",
   "execution_count": null,
   "id": "042f582d",
   "metadata": {},
   "outputs": [],
   "source": [
    "non_sub_cols = [column for column in nonformat_columns if column not in sub_cols]"
   ]
  },
  {
   "cell_type": "code",
   "execution_count": null,
   "id": "583a848f",
   "metadata": {},
   "outputs": [],
   "source": [
    "link_details['webpage_url']"
   ]
  },
  {
   "cell_type": "code",
   "execution_count": null,
   "id": "f97dcf5d",
   "metadata": {},
   "outputs": [],
   "source": [
    "non_sub_cols"
   ]
  },
  {
   "cell_type": "code",
   "execution_count": null,
   "id": "edd33d0a",
   "metadata": {},
   "outputs": [],
   "source": [
    "sub_cols"
   ]
  },
  {
   "cell_type": "code",
   "execution_count": null,
   "id": "cfaa4e5f",
   "metadata": {},
   "outputs": [],
   "source": [
    "nonformat_columns"
   ]
  },
  {
   "cell_type": "code",
   "execution_count": null,
   "id": "555eb5f9",
   "metadata": {},
   "outputs": [],
   "source": [
    "everything = pd.read_csv(\"/Users/timdunn/Desktop/everything_merged.csv\")"
   ]
  },
  {
   "cell_type": "code",
   "execution_count": null,
   "id": "76af2c5e",
   "metadata": {},
   "outputs": [],
   "source": [
    "everything = None"
   ]
  },
  {
   "cell_type": "code",
   "execution_count": null,
   "id": "f533adc0",
   "metadata": {},
   "outputs": [],
   "source": [
    "new_df = reset_and_copy(everything.loc[:, [\"link url\", \"new link url\", \"tconst\"]])"
   ]
  },
  {
   "cell_type": "code",
   "execution_count": null,
   "id": "4d0e7aba",
   "metadata": {},
   "outputs": [],
   "source": [
    "new_df['link'] = new_df['link url']"
   ]
  },
  {
   "cell_type": "code",
   "execution_count": null,
   "id": "2cdeb7ab",
   "metadata": {},
   "outputs": [],
   "source": [
    "new_df['movie'] = new_df['tconst']"
   ]
  },
  {
   "cell_type": "code",
   "execution_count": null,
   "id": "0cab950d",
   "metadata": {},
   "outputs": [],
   "source": [
    "new_df.drop(['new link url'], inplace=True, axis=1)"
   ]
  },
  {
   "cell_type": "code",
   "execution_count": null,
   "id": "5a6c19ac",
   "metadata": {},
   "outputs": [],
   "source": [
    "def create_link(link):\n",
    "    if 'http' in str(link):\n",
    "        return link\n",
    "    else:\n",
    "        try:\n",
    "            return f'http://ok.ru/video/{int(float(link))}'\n",
    "        except:\n",
    "            return link"
   ]
  },
  {
   "cell_type": "code",
   "execution_count": null,
   "id": "1c060c87",
   "metadata": {},
   "outputs": [],
   "source": [
    "def convert_link(row):\n",
    "    if 'http' in str(row['link']):\n",
    "        return row['link']\n",
    "    elif 'http' in str(row['new link url']):\n",
    "        return row['new link url']\n",
    "    else:\n",
    "        return create_link(row['new link url'])"
   ]
  },
  {
   "cell_type": "code",
   "execution_count": null,
   "id": "4679f6cd",
   "metadata": {},
   "outputs": [],
   "source": [
    "new_df['link'] = new_df.apply(convert_link, axis=1)"
   ]
  },
  {
   "cell_type": "code",
   "execution_count": null,
   "id": "6a2999d9",
   "metadata": {},
   "outputs": [],
   "source": [
    "new_df = reset_and_copy(new_df.loc[new_df['link'].astype(str).str.contains('http')])"
   ]
  },
  {
   "cell_type": "code",
   "execution_count": null,
   "id": "e8b4eae6",
   "metadata": {},
   "outputs": [],
   "source": [
    "new_df.to_csv('/Users/timdunn/Desktop/links/merged.csv', index=False)"
   ]
  },
  {
   "cell_type": "code",
   "execution_count": null,
   "id": "704a0717",
   "metadata": {},
   "outputs": [],
   "source": [
    "def get_doct_dict(df):\n",
    "    sub_columns = [column.split(\"_\")[0] for column in df.columns if \"_\" in column]\n",
    "    doc_dict = dict()\n",
    "    for col in np.unique(sub_columns):\n",
    "        column_list = [column for column in df.columns if column.split(\"_\")[0] == col]\n",
    "        doc_dict = {**doc_dict, **{col:column_list}}\n",
    "    return doc_dict"
   ]
  },
  {
   "cell_type": "code",
   "execution_count": null,
   "id": "8f5d4646",
   "metadata": {},
   "outputs": [],
   "source": [
    "def convert_df_for_okru(df):\n",
    "    doc_dict = get_doct_dict(df)\n",
    "    excluded_columns = flatten([doc_dict.get(key) for key in doc_dict.keys() if key in \n",
    "                                ['formats', 'thumbnails', 'automatic', 'channel', 'chapters', 'http', 'tags']])\n",
    "    columns = [column for column in df.columns if column not in excluded_columns]\n",
    "    df = df.loc[:, columns]\n",
    "    subtitle_df = create_subtitles_csv(df, doc_dict)\n",
    "    subtitle_df.to_csv(\"/Users/timdunn/subtitles.csv\", index=False)\n",
    "    columns = [column for column in df.columns if column not in doc_dict.get('subtitles')]\n",
    "    return reset_and_copy(df.loc[:, columns])"
   ]
  },
  {
   "cell_type": "code",
   "execution_count": null,
   "id": "2c1f3e0d",
   "metadata": {},
   "outputs": [],
   "source": [
    "def create_subtitles_csv(df, doc_dict):\n",
    "    subtitle_columns = [col for col in doc_dict['subtitles'] if '_url' in col]\n",
    "    columns = flatten([['id'], doc_dict['subtitles']])\n",
    "    df = df.loc[:, columns]\n",
    "    dfs = []\n",
    "    for col in subtitle_columns:\n",
    "#         print(col)\n",
    "        new_df = reset_and_copy(df.loc[~df[col].isnull(), ['id', col]])\n",
    "        _, language, _, ext = col.split(\"_\")\n",
    "        new_df['url'] = new_df[col]\n",
    "        new_df['language_code'] = language\n",
    "        new_df['ext'] = df[re.sub(\"_url\", \"_ext\", col)]\n",
    "        new_df = reset_and_copy(new_df.loc[:, ['id', 'language_code', ext]])\n",
    "        dfs.append(new_df)\n",
    "    return reset_and_copy(pd.concat(dfs))"
   ]
  },
  {
   "cell_type": "code",
   "execution_count": null,
   "id": "008f4d60",
   "metadata": {},
   "outputs": [],
   "source": [
    "aka_file = pd.read_csv(UpdateMovieData().title_akas_path, sep=\"\\t\")"
   ]
  },
  {
   "cell_type": "code",
   "execution_count": null,
   "id": "f90ab972",
   "metadata": {},
   "outputs": [],
   "source": [
    "different_types = np.unique(aka_file['types'].astype(str))"
   ]
  },
  {
   "cell_type": "code",
   "execution_count": null,
   "id": "b2a48bb3",
   "metadata": {},
   "outputs": [],
   "source": [
    "different_attributes = np.unique(aka_file['attributes'].astype(str))"
   ]
  },
  {
   "cell_type": "code",
   "execution_count": null,
   "id": "fb75eb27",
   "metadata": {},
   "outputs": [],
   "source": [
    "#1 check the other models for many fields\n",
    "#2 merge everything for the basic file\n",
    "#3 rearrange aka file\n",
    "#4 "
   ]
  },
  {
   "cell_type": "code",
   "execution_count": null,
   "id": "9852ee92",
   "metadata": {},
   "outputs": [],
   "source": [
    "aka_file.columns"
   ]
  },
  {
   "cell_type": "code",
   "execution_count": null,
   "id": "f2878fff",
   "metadata": {},
   "outputs": [],
   "source": [
    "imdb_basic_columns = [\"tcosnt\", \"title_type\", \"primary_title\", \n",
    "                      \"original_title\", \"is_adult\", \"start_year\", \"end_year\", \"runtime_minutes\"]"
   ]
  },
  {
   "cell_type": "code",
   "execution_count": null,
   "id": "ec031cdf",
   "metadata": {},
   "outputs": [],
   "source": [
    "foreign_imdb_columns = [\"genre\"]"
   ]
  },
  {
   "cell_type": "code",
   "execution_count": null,
   "id": "05bbeb6e",
   "metadata": {},
   "outputs": [],
   "source": [
    "from all_processes.update_movie_data import UpdateMovieData"
   ]
  },
  {
   "cell_type": "code",
   "execution_count": null,
   "id": "c057806c",
   "metadata": {},
   "outputs": [],
   "source": [
    "imdb_basic_file = UpdateMovieData().main_movie_file(limited_cols=False)"
   ]
  },
  {
   "cell_type": "code",
   "execution_count": null,
   "id": "a87e6069",
   "metadata": {},
   "outputs": [],
   "source": [
    "def map_basic_file_columns(basic_file):\n",
    "    cols_to_remove = list()\n",
    "    for col in basic_file.columns:\n",
    "        if camel_to_snake(col) != col:\n",
    "            cols_to_remove.append(col)\n",
    "            basic_file[camel_to_snake(col)] = basic_file[col]\n",
    "    return basic_file.drop(cols_to_remove, axis=1)"
   ]
  },
  {
   "cell_type": "code",
   "execution_count": null,
   "id": "67d62a85",
   "metadata": {},
   "outputs": [],
   "source": [
    "imdb_right_cols = map_basic_file_columns(imdb_basic_file)"
   ]
  },
  {
   "cell_type": "code",
   "execution_count": null,
   "id": "4f8791c3",
   "metadata": {},
   "outputs": [],
   "source": [
    "extra_imdb_data = pd.read_csv('/Users/timdunn/Desktop/extra_data_imdb.csv')"
   ]
  },
  {
   "cell_type": "code",
   "execution_count": null,
   "id": "cc33dadd",
   "metadata": {},
   "outputs": [],
   "source": [
    "box_office_cols = [column for column in extra_imdb_data.columns if 'box office_Opening' in column]\n",
    "countries_columns = [column for column in extra_imdb_data.columns if 'countries_' in column]\n",
    "country_code_columns = [column for column in extra_imdb_data.columns if 'country' in column]\n",
    "excluded_columns = flatten([box_office_cols, countries_columns, country_code_columns])"
   ]
  },
  {
   "cell_type": "code",
   "execution_count": null,
   "id": "bd51101f",
   "metadata": {},
   "outputs": [],
   "source": [
    "good_cols = [column for column in extra_imdb_data.columns if column not in excluded_columns]"
   ]
  },
  {
   "cell_type": "code",
   "execution_count": null,
   "id": "65457ff8",
   "metadata": {},
   "outputs": [],
   "source": [
    "def get_video_data(row):\n",
    "    if (row[\"videos\"] != \"\\\\N\") and not pd.isnull(row['videos']):\n",
    "        return [{\"video url\": video, \"ordering\": index + 1, \"tconst\": row[\"tconst\"]}\n",
    "                for index, video in enumerate(row['videos'].split(','))]\n",
    "    else:\n",
    "        return list()"
   ]
  },
  {
   "cell_type": "code",
   "execution_count": null,
   "id": "25a31a14",
   "metadata": {},
   "outputs": [],
   "source": [
    "    def get_box_office_data(self, row, cols):\n",
    "        return [{\"country\": self.get_country(col), 'tconst': row['tconst'],\n",
    "                 'amount': row[col]} for col in cols if not pd.isnull(row[col])]"
   ]
  },
  {
   "cell_type": "code",
   "execution_count": null,
   "id": "e481bd25",
   "metadata": {},
   "outputs": [],
   "source": [
    "len(good_cols)"
   ]
  },
  {
   "cell_type": "code",
   "execution_count": null,
   "id": "978ba0bd",
   "metadata": {},
   "outputs": [],
   "source": [
    "# things to do\n",
    "#1 certificates\n",
    "#2 sound mixes\n",
    "#3 videos\n",
    "#4 keywords"
   ]
  },
  {
   "cell_type": "code",
   "execution_count": null,
   "id": "53f42129",
   "metadata": {},
   "outputs": [],
   "source": [
    "keyword_files = [\n",
    "    \"/Users/timdunn/Desktop/keyword_data.csv\",\n",
    "    \"/Users/timdunn/Desktop/keyword_data2.csv\",\n",
    "    \"/Users/timdunn/Desktop/keyword_data3.csv\",\n",
    "    \"/Users/timdunn/Desktop/keyword_data4.csv\",\n",
    "]"
   ]
  },
  {
   "cell_type": "code",
   "execution_count": null,
   "id": "3fa0ead1",
   "metadata": {},
   "outputs": [],
   "source": [
    "keyword_dfs = [pd.read_csv(file_path) for file_path in keyword_files]"
   ]
  },
  {
   "cell_type": "code",
   "execution_count": null,
   "id": "402d7384",
   "metadata": {},
   "outputs": [],
   "source": [
    "keyword_df = pd.concat(keyword_dfs).drop_duplicates(subset=['tconst'])"
   ]
  },
  {
   "cell_type": "code",
   "execution_count": null,
   "id": "cf7e04ea",
   "metadata": {},
   "outputs": [],
   "source": [
    "keyword_df = reset_and_copy(keyword_df.loc[~keyword_df['keywords'].isnull()])"
   ]
  },
  {
   "cell_type": "code",
   "execution_count": null,
   "id": "fff8f7ec",
   "metadata": {},
   "outputs": [],
   "source": [
    "keyword_others = reset_and_copy(extra_imdb_data.loc[~extra_imdb_data['keywords'].isnull(), [\"tconst\", \"keywords\"]])"
   ]
  },
  {
   "cell_type": "code",
   "execution_count": null,
   "id": "3499a82d",
   "metadata": {},
   "outputs": [],
   "source": [
    "keyword_others = reset_and_copy(keyword_others.loc[keyword_others['keywords'] != 'no keywords'])"
   ]
  },
  {
   "cell_type": "code",
   "execution_count": null,
   "id": "6a16d4dd",
   "metadata": {},
   "outputs": [],
   "source": [
    "unique_keywords = reset_and_copy(keyword_df.loc[~keyword_df['keywords'].isin(keyword_others['keywords'])])"
   ]
  },
  {
   "cell_type": "code",
   "execution_count": null,
   "id": "50250e21",
   "metadata": {},
   "outputs": [],
   "source": [
    "unique_keywords"
   ]
  },
  {
   "cell_type": "code",
   "execution_count": null,
   "id": "5f168bee",
   "metadata": {},
   "outputs": [],
   "source": [
    "final_keywords = reset_and_copy(pd.concat([keyword_others, unique_keywords]).drop_duplicates())"
   ]
  },
  {
   "cell_type": "code",
   "execution_count": null,
   "id": "8c21c99b",
   "metadata": {},
   "outputs": [],
   "source": [
    "final_keywords"
   ]
  },
  {
   "cell_type": "code",
   "execution_count": null,
   "id": "5294be03",
   "metadata": {},
   "outputs": [],
   "source": [
    "def get_keyword_data(row):\n",
    "    if (row[\"keywords\"] != \"\\\\N\") and not pd.isnull(row['keywords']):\n",
    "        return [{\"name\": keyword, \"ordering\": index + 1, \"tconst\": row[\"tconst\"]}\n",
    "                for index, keyword in enumerate(row['keywords'].split(','))]\n",
    "    else:\n",
    "        return list()"
   ]
  },
  {
   "cell_type": "code",
   "execution_count": null,
   "id": "c6c7c7ab",
   "metadata": {},
   "outputs": [],
   "source": [
    "def get_keyword_df(df):\n",
    "    data = flatten(df.apply(lambda row: get_keyword_data(row), axis=1))\n",
    "    df = pd.DataFrame(data=data)\n",
    "    return reset_and_copy(df.loc[~df['name'].isnull()])"
   ]
  },
  {
   "cell_type": "code",
   "execution_count": null,
   "id": "7c9099fa",
   "metadata": {},
   "outputs": [],
   "source": [
    "keyword_import = get_keyword_df(final_keywords)"
   ]
  },
  {
   "cell_type": "code",
   "execution_count": null,
   "id": "e7419b1b",
   "metadata": {},
   "outputs": [],
   "source": [
    "okru_links.loc[~okru_links['subtitles_fr_1_url'].isnull(), ['id', 'subtitles_fr_6_url']]"
   ]
  },
  {
   "cell_type": "code",
   "execution_count": null,
   "id": "25a44e9c",
   "metadata": {},
   "outputs": [],
   "source": [
    "df = convert_df_for_okru(okru_links)"
   ]
  },
  {
   "cell_type": "code",
   "execution_count": null,
   "id": "48fbcca6",
   "metadata": {},
   "outputs": [],
   "source": [
    "needed_columns = [\"webpage_url\", \"fps\", \"width\", \"height\", \"fulltitle\"]"
   ]
  },
  {
   "cell_type": "code",
   "execution_count": null,
   "id": "8a5d7591",
   "metadata": {},
   "outputs": [],
   "source": [
    "link_details = link_details.loc[:, needed_columns]"
   ]
  },
  {
   "cell_type": "code",
   "execution_count": null,
   "id": "d8ac067e",
   "metadata": {},
   "outputs": [],
   "source": [
    "link_details = real_links_conversion(link_details)"
   ]
  },
  {
   "cell_type": "code",
   "execution_count": null,
   "id": "3863bd11",
   "metadata": {},
   "outputs": [],
   "source": [
    "link_details.compute()"
   ]
  },
  {
   "cell_type": "code",
   "execution_count": null,
   "id": "e3fa9ed8",
   "metadata": {},
   "outputs": [],
   "source": [
    "real_columns = [\"link_url\", \"fps\", \"quality\", \"fulltitle\"]"
   ]
  },
  {
   "cell_type": "code",
   "execution_count": null,
   "id": "ad4b886e",
   "metadata": {},
   "outputs": [],
   "source": [
    "def get_quality(width, height):\n",
    "    if not pd.isnull(width) and not pd.isnull(height):\n",
    "        return f'{int(width)} x {int(height)}'\n",
    "    return width"
   ]
  },
  {
   "cell_type": "code",
   "execution_count": null,
   "id": "1d4f695a",
   "metadata": {},
   "outputs": [],
   "source": [
    "def real_links_conversion(df):\n",
    "    df[\"link_url\"] = df[\"webpage_url\"]\n",
    "    df[\"quality\"] = df.apply(lambda row: get_quality(row['width'], row['height']), axis=1)\n",
    "    return reset_and_copy(df.loc[:, [\"link_url\", \"fps\", \"quality\", \"fulltitle\"]])"
   ]
  },
  {
   "cell_type": "code",
   "execution_count": null,
   "id": "6a3342bc",
   "metadata": {},
   "outputs": [],
   "source": [
    "df = real_links_conversion(okru_links)"
   ]
  },
  {
   "cell_type": "code",
   "execution_count": null,
   "id": "215a1034",
   "metadata": {},
   "outputs": [],
   "source": [
    "vals = okru_links.loc[0:1, ['width', 'height']]"
   ]
  },
  {
   "cell_type": "code",
   "execution_count": null,
   "id": "53f6fe53",
   "metadata": {},
   "outputs": [],
   "source": [
    "pd.isnull(vals['width'][1])"
   ]
  },
  {
   "cell_type": "code",
   "execution_count": null,
   "id": "1f6b2fea",
   "metadata": {},
   "outputs": [],
   "source": [
    "df.loc[:10, ['width', 'height']].apply(lambda row: get_quality(row['width'], row['height']), axis=1)"
   ]
  },
  {
   "cell_type": "code",
   "execution_count": null,
   "id": "46fd0155",
   "metadata": {},
   "outputs": [],
   "source": [
    "real_df = real_links_conversion(okru_links)"
   ]
  },
  {
   "cell_type": "code",
   "execution_count": null,
   "id": "5c395cc3",
   "metadata": {},
   "outputs": [],
   "source": [
    "df.loc[:, needed_columns]"
   ]
  },
  {
   "cell_type": "code",
   "execution_count": null,
   "id": "50632d53",
   "metadata": {},
   "outputs": [],
   "source": [
    "def get_type(string):\n",
    "    try:\n",
    "        int(string)\n",
    "        return int\n",
    "    except:\n",
    "        return str"
   ]
  },
  {
   "cell_type": "code",
   "execution_count": null,
   "id": "4c8251df",
   "metadata": {},
   "outputs": [],
   "source": [
    "okru_links = link_details.loc[link_details['id'].apply(get_type) == int]"
   ]
  },
  {
   "cell_type": "code",
   "execution_count": null,
   "id": "f1737803",
   "metadata": {},
   "outputs": [],
   "source": [
    "okru_links"
   ]
  },
  {
   "cell_type": "code",
   "execution_count": null,
   "id": "a87f76f5",
   "metadata": {},
   "outputs": [],
   "source": [
    "np.unique(link_details.loc[~link_details['subtitles_ru_1_url'].isnull(), 'subtitles_ru_1_url'])"
   ]
  },
  {
   "cell_type": "code",
   "execution_count": null,
   "id": "3b8514aa",
   "metadata": {},
   "outputs": [],
   "source": [
    "def set_dict(param, value):\n",
    "    return dict(param=value)"
   ]
  },
  {
   "cell_type": "code",
   "execution_count": null,
   "id": "8e3571ba",
   "metadata": {},
   "outputs": [],
   "source": [
    "class Something:\n",
    "    \n",
    "    def __init__(self, var):\n",
    "        self.var = var\n",
    "        \n",
    "    def get_var(self):\n",
    "        return self.var"
   ]
  },
  {
   "cell_type": "code",
   "execution_count": null,
   "id": "fb0b0d58",
   "metadata": {},
   "outputs": [],
   "source": [
    "everything = everything.loc[everything['tconst'] == 'tt0119081']"
   ]
  },
  {
   "cell_type": "code",
   "execution_count": null,
   "id": "7954cbdc",
   "metadata": {},
   "outputs": [],
   "source": [
    "def download_a_video(video_link, ydl_opts={}):\n",
    "    with youtube_dl.YoutubeDL(ydl_opts) as ydl:\n",
    "            ydl.download([video_link])"
   ]
  },
  {
   "cell_type": "code",
   "execution_count": null,
   "id": "05e95223",
   "metadata": {},
   "outputs": [],
   "source": [
    "download_a_video(\"https://ok.ru/video/3524085353015\")"
   ]
  },
  {
   "cell_type": "code",
   "execution_count": null,
   "id": "5e0eca22",
   "metadata": {},
   "outputs": [],
   "source": [
    "for item in everything.loc[everything['tconst'] == 'tt0134619', 'new link url']:\n",
    "    print(item)"
   ]
  },
  {
   "cell_type": "code",
   "execution_count": null,
   "id": "238b7d10",
   "metadata": {},
   "outputs": [],
   "source": [
    "def remove_quote(string):\n",
    "    return re.sub('\"', '', string)"
   ]
  },
  {
   "cell_type": "code",
   "execution_count": null,
   "id": "f1b356a1",
   "metadata": {},
   "outputs": [],
   "source": [
    "def characters_from_principle(row):\n",
    "    removed_array_starting_bracket = row[\"characters\"].split(\"[\")[1]\n",
    "    removed_array_ending_bracket = removed_array_starting_bracket.split(\"]\")[0]\n",
    "    return [remove_quote(character) for character in removed_array_ending_bracket.split(',')]"
   ]
  }
 ],
 "metadata": {
  "kernelspec": {
   "display_name": "Python 3 (ipykernel)",
   "language": "python",
   "name": "python3"
  },
  "language_info": {
   "codemirror_mode": {
    "name": "ipython",
    "version": 3
   },
   "file_extension": ".py",
   "mimetype": "text/x-python",
   "name": "python",
   "nbconvert_exporter": "python",
   "pygments_lexer": "ipython3",
   "version": "3.9.7"
  }
 },
 "nbformat": 4,
 "nbformat_minor": 5
}
