{
 "cells": [
  {
   "cell_type": "code",
   "execution_count": 1,
   "id": "2ed15701",
   "metadata": {},
   "outputs": [],
   "source": [
    "from common_methods import *"
   ]
  },
  {
   "cell_type": "code",
   "execution_count": 2,
   "id": "f2468028",
   "metadata": {},
   "outputs": [],
   "source": [
    "files = listdir_nohidden('/Users/timdunn/Desktop/imdb_posters/')"
   ]
  },
  {
   "cell_type": "code",
   "execution_count": 3,
   "id": "7c089c36",
   "metadata": {},
   "outputs": [],
   "source": [
    "sample = pd.read_csv(files[0])"
   ]
  },
  {
   "cell_type": "code",
   "execution_count": 5,
   "id": "6550a806",
   "metadata": {},
   "outputs": [],
   "source": [
    "other_csv = pd.read_csv('/Users/timdunn/Desktop/imdb_posters/2_1685920366.csv')"
   ]
  },
  {
   "cell_type": "code",
   "execution_count": 12,
   "id": "984865cd",
   "metadata": {},
   "outputs": [],
   "source": [
    "def clean_empty_data(file):\n",
    "    df = pd.read_csv(file)\n",
    "    try:\n",
    "        last_data = df.loc[~df['poster'].isnull()].index[-1]\n",
    "        df = df.loc[df.index[0]:last_data]\n",
    "        reset_and_copy(df).to_csv(file, index=False)\n",
    "    except:\n",
    "        pass"
   ]
  },
  {
   "cell_type": "code",
   "execution_count": 16,
   "id": "231b5b01",
   "metadata": {},
   "outputs": [],
   "source": [
    "for file in files:\n",
    "    pd.read_csv(file, usecols=['tconst', 'poster']).to_csv(file, index=False)"
   ]
  },
  {
   "cell_type": "code",
   "execution_count": 17,
   "id": "00f28696",
   "metadata": {},
   "outputs": [],
   "source": [
    "all_posters = pd.concat([pd.read_csv(file) for file in files])"
   ]
  },
  {
   "cell_type": "code",
   "execution_count": 19,
   "id": "672e6cf4",
   "metadata": {},
   "outputs": [],
   "source": [
    "all_posters.to_csv('/Users/timdunn/Desktop/imdb_posters.csv', index=False)"
   ]
  },
  {
   "cell_type": "code",
   "execution_count": 9,
   "id": "6e306dc6",
   "metadata": {},
   "outputs": [
    {
     "data": {
      "text/plain": [
       "882"
      ]
     },
     "execution_count": 9,
     "metadata": {},
     "output_type": "execute_result"
    }
   ],
   "source": [
    "other_csv.loc[~other_csv['poster'].isnull()].index[-1]"
   ]
  }
 ],
 "metadata": {
  "kernelspec": {
   "display_name": "Python 3 (ipykernel)",
   "language": "python",
   "name": "python3"
  },
  "language_info": {
   "codemirror_mode": {
    "name": "ipython",
    "version": 3
   },
   "file_extension": ".py",
   "mimetype": "text/x-python",
   "name": "python",
   "nbconvert_exporter": "python",
   "pygments_lexer": "ipython3",
   "version": "3.9.7"
  }
 },
 "nbformat": 4,
 "nbformat_minor": 5
}
