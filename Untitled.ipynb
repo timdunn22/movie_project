{
 "cells": [
  {
   "cell_type": "code",
   "execution_count": 3,
   "id": "13150e56",
   "metadata": {},
   "outputs": [],
   "source": [
    "from requirements import *"
   ]
  },
  {
   "cell_type": "code",
   "execution_count": 4,
   "id": "12212cc6",
   "metadata": {},
   "outputs": [
    {
     "data": {
      "text/plain": [
       "'JOP'"
      ]
     },
     "execution_count": 4,
     "metadata": {},
     "output_type": "execute_result"
    }
   ],
   "source": []
  }
 ],
 "metadata": {
  "kernelspec": {
   "display_name": "Python 3 (ipykernel)",
   "language": "python",
   "name": "python3"
  },
  "language_info": {
   "codemirror_mode": {
    "name": "ipython",
    "version": 3
   },
   "file_extension": ".py",
   "mimetype": "text/x-python",
   "name": "python",
   "nbconvert_exporter": "python",
   "pygments_lexer": "ipython3",
   "version": "3.9.7"
  }
 },
 "nbformat": 4,
 "nbformat_minor": 5
}
