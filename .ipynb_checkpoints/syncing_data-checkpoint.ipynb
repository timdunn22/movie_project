{
 "cells": [
  {
   "cell_type": "code",
   "execution_count": null,
   "id": "bdd20ce0",
   "metadata": {},
   "outputs": [],
   "source": [
    "from requirements import *"
   ]
  },
  {
   "cell_type": "code",
   "execution_count": null,
   "id": "62c296f0",
   "metadata": {},
   "outputs": [],
   "source": [
    "from syncing_movie_data.syncing import *"
   ]
  },
  {
   "cell_type": "code",
   "execution_count": null,
   "id": "d44b1271",
   "metadata": {},
   "outputs": [],
   "source": [
    "creation_object = CreateMovieData()\n",
    "creation_object.read_data_from_files()"
   ]
  },
  {
   "cell_type": "code",
   "execution_count": null,
   "id": "ad7a1f9d",
   "metadata": {},
   "outputs": [],
   "source": [
    "sample_links = merge_object.links_df"
   ]
  },
  {
   "cell_type": "code",
   "execution_count": null,
   "id": "299bc402",
   "metadata": {},
   "outputs": [],
   "source": [
    "merged_links = pd.merge(creation_object.links_df, merge_object.final_one_year.loc[:, ['tconst', 'link url']], how='left', on=['link url'])"
   ]
  },
  {
   "cell_type": "code",
   "execution_count": null,
   "id": "72e7f336",
   "metadata": {},
   "outputs": [],
   "source": [
    "merged_links.loc[~merged_links['tconst'].isnull()]"
   ]
  },
  {
   "cell_type": "code",
   "execution_count": null,
   "id": "539cd649",
   "metadata": {},
   "outputs": [],
   "source": [
    "!pip install pyyaml"
   ]
  },
  {
   "cell_type": "code",
   "execution_count": null,
   "id": "14b960ec",
   "metadata": {},
   "outputs": [],
   "source": [
    "'/Users/timdunn/Desktop/okru_progress.csv'"
   ]
  },
  {
   "cell_type": "code",
   "execution_count": null,
   "id": "e6a71a32",
   "metadata": {},
   "outputs": [],
   "source": [
    "def load_yaml_file(file):\n",
    "    with open(file) as f:\n",
    "        data = yaml.load(f, Loader=SafeLoader)\n",
    "    return data"
   ]
  },
  {
   "cell_type": "code",
   "execution_count": null,
   "id": "b6c7f15b",
   "metadata": {},
   "outputs": [],
   "source": [
    "data = load_yaml_file('/Users/timdunn/movie_project/all_processes/movie_configuration.yaml')"
   ]
  },
  {
   "cell_type": "code",
   "execution_count": null,
   "id": "08f386c0",
   "metadata": {},
   "outputs": [],
   "source": [
    "from all_processes.add_movie_info import *"
   ]
  },
  {
   "cell_type": "code",
   "execution_count": null,
   "id": "852c64d6",
   "metadata": {},
   "outputs": [],
   "source": [
    "imdb_df = pd.read_csv('/Users/timdunn/Desktop/imdb_latest/title.basics.tsv', sep='\\t')"
   ]
  },
  {
   "cell_type": "code",
   "execution_count": null,
   "id": "88dbed48",
   "metadata": {},
   "outputs": [],
   "source": [
    "imdb_df = reset_and_copy(imdb_df.loc[imdb_df['titleType'].isin(['movie', 'tvMovie', 'video'])])"
   ]
  },
  {
   "cell_type": "code",
   "execution_count": null,
   "id": "35cbc8f0",
   "metadata": {},
   "outputs": [],
   "source": [
    "row = imdb_df.loc[imdb_df['tconst'] == 'tt9916362']"
   ]
  },
  {
   "cell_type": "code",
   "execution_count": null,
   "id": "afee6c3e",
   "metadata": {},
   "outputs": [],
   "source": [
    "row = row.loc[1045785]"
   ]
  },
  {
   "cell_type": "code",
   "execution_count": null,
   "id": "be51d5fd",
   "metadata": {},
   "outputs": [],
   "source": [
    "movie_object = AddMovieInfo(row)"
   ]
  },
  {
   "cell_type": "code",
   "execution_count": null,
   "id": "f4104787",
   "metadata": {},
   "outputs": [],
   "source": [
    "movie_object.extra_info()"
   ]
  },
  {
   "cell_type": "code",
   "execution_count": null,
   "id": "93d885fc",
   "metadata": {},
   "outputs": [],
   "source": [
    "movie_object.movie_data.get('votes')"
   ]
  },
  {
   "cell_type": "code",
   "execution_count": null,
   "id": "f4cc2d10",
   "metadata": {},
   "outputs": [],
   "source": [
    "v = movie_object.movie_data.get('votes')\n",
    "R = movie_object.movie_data.get('rating')\n",
    "m = 100000\n",
    "score = (v/(v+m) * R) + (m/(m+v) * movie_object.average)"
   ]
  },
  {
   "cell_type": "code",
   "execution_count": null,
   "id": "92a59ff7",
   "metadata": {},
   "outputs": [],
   "source": [
    "score"
   ]
  },
  {
   "cell_type": "code",
   "execution_count": null,
   "id": "f12b978e",
   "metadata": {},
   "outputs": [],
   "source": [
    "data = movie_object.get_movie_info()"
   ]
  },
  {
   "cell_type": "code",
   "execution_count": null,
   "id": "cbb7dd07",
   "metadata": {},
   "outputs": [],
   "source": [
    "main_data = movie_object.movie_data"
   ]
  },
  {
   "cell_type": "code",
   "execution_count": null,
   "id": "95d0fe51",
   "metadata": {},
   "outputs": [],
   "source": [
    "movie_info = dict()\n",
    "for key in main_data.keys():\n",
    "    key_val = main_data.get(key)\n",
    "    set_key(movie_info, key, key_val, excluded_keys)"
   ]
  },
  {
   "cell_type": "code",
   "execution_count": null,
   "id": "e55c0c12",
   "metadata": {},
   "outputs": [],
   "source": [
    "def set_key(dict_object, key, key_val, excluded_keys=[]):\n",
    "    if not_found(key, excluded_keys):\n",
    "        if type(key_val) in [str, int, float]:\n",
    "            movie_info[key] = key_val\n",
    "        elif type(key_val) == list:\n",
    "            [set_key(dict_object, \"{}_{}\".format(key, index+1), key_val[index], excluded_keys) for index in range(len(key_val))]\n",
    "        elif type(key_val) == dict:\n",
    "            [set_key(dict_object, \"{}_{}\".format(key, sub_key), key_val.get(sub_key), excluded_keys) for sub_key in key_val.keys()]"
   ]
  },
  {
   "cell_type": "code",
   "execution_count": null,
   "id": "1b582497",
   "metadata": {},
   "outputs": [],
   "source": [
    "def not_found(key, excluded_keys):\n",
    "    return not any([excluded in key for excluded in excluded_keys])"
   ]
  },
  {
   "cell_type": "code",
   "execution_count": null,
   "id": "c953e5b7",
   "metadata": {},
   "outputs": [],
   "source": [
    "excluded_keys = ['keyword', 'genre', 'cover url', 'language', 'color', 'video', 'runtime', 'title', 'year',\n",
    "                 'aka', 'localized title', 'rating', 'votes', 'original title', 'imdbID', 'kind']"
   ]
  },
  {
   "cell_type": "code",
   "execution_count": null,
   "id": "44b68b58",
   "metadata": {},
   "outputs": [],
   "source": [
    "'keyword' in 'relevant keywords_4_ordering'"
   ]
  },
  {
   "cell_type": "code",
   "execution_count": null,
   "id": "df32cdb9",
   "metadata": {},
   "outputs": [],
   "source": [
    "movie_info"
   ]
  },
  {
   "cell_type": "code",
   "execution_count": null,
   "id": "125335c4",
   "metadata": {},
   "outputs": [],
   "source": [
    "data = []\n",
    "for index, row in imdb_df.iterrows():\n",
    "    try:\n",
    "        data.append(AddMovieInfo(row).extra_info())\n",
    "        if index % 100 == 0:\n",
    "            print(index)\n",
    "        if index % 1000 == 0:\n",
    "            print(index)\n",
    "            pd.DataFrame(data=data).to_csv('/Users/timdunn/Desktop/extra_data_imdb.csv', index=False)\n",
    "    except:\n",
    "        print('an exception occured')\n",
    "        pd.DataFrame(data=data).to_csv('/Users/timdunn/Desktop/extra_data_imdb.csv', index=False)"
   ]
  },
  {
   "cell_type": "code",
   "execution_count": null,
   "id": "83f01710",
   "metadata": {},
   "outputs": [],
   "source": [
    "str(creation_object.imdb_df.loc[4, 'startYear'])"
   ]
  },
  {
   "cell_type": "code",
   "execution_count": null,
   "id": "7f8db302",
   "metadata": {},
   "outputs": [],
   "source": [
    "from requirements import *\n",
    "from itertools import zip_longest\n",
    "\n",
    "class CreateMovieData:\n",
    "    \n",
    "    def __init__(self, imdb_df=None, links_df=None, groups_df=None):\n",
    "        self.imdb_df = imdb_df\n",
    "        self.links_df = links_df\n",
    "        self.groups_df = groups_df\n",
    "        self.okru_links_path = \"/Users/timdunn/Desktop/okru_progress.csv\"\n",
    "        self.merged_df = pd.read_csv(\"/Users/timdunn/Desktop/okru_merged_imdb.csv\")\n",
    "        self.imdb_duration_column = 'runtimeMinutes'\n",
    "        self.link_duration_column = 'duration'\n",
    "        self.link_year_column = 'year'\n",
    "        self.imdb_year_column = 'startYear'\n",
    "        self.imdb_data_path = \"/Users/timdunn/Desktop/updated_imdb_alias_merge.csv\"\n",
    "        \n",
    "    def create_links_df(self):\n",
    "        okru_dfs = self.create_okru_dfs()\n",
    "        final_df = self.concat_okru_dfs(okru_dfs)\n",
    "        self.add_columns_okru_df(final_df)\n",
    "        final_df = self.remove_merged_links(final_df)\n",
    "        self.set_default_links_duration(final_df)\n",
    "        return final_df\n",
    "    \n",
    "    def set_default_links_duration(self, df, duration_column=\"duration\"):\n",
    "        df.loc[df[duration_column].isnull() | df[duration_column] == \"\\\\N\"] = 0\n",
    "    \n",
    "    def update_okru_links_file(self):\n",
    "        self.links_df.to_csv(self.okru_links_path, index=False)\n",
    "    \n",
    "    def add_columns_okru_df(self, okru_df):\n",
    "        self.add_duration_to_df(okru_df)\n",
    "        self.add_searchable_name_to_df(okru_df)\n",
    "        self.add_year_to_df(okru_df)\n",
    "        \n",
    "    def remove_merged_links(self, df, link_input=\"link url\"):\n",
    "        df = df.loc[~df[link_input].isin(self.merged_df[link_input]), \n",
    "                                ['link title', 'link url','duration', 'year', 'searchable_movie_name']]\n",
    "        return reset_and_copy(df)\n",
    "        \n",
    "    def add_duration_to_df(self, df, input_duration=\"movie duration\", output_duration=\"duration\"):\n",
    "        df[output_duration] = df[input_duration].astype(str).apply(self.minutes_from_string).astype(int)\n",
    "    \n",
    "    def add_searchable_name_to_df(self, df, input_movie_name=\"link title\", output_movie_name=\"searchable_movie_name\"):\n",
    "        df[output_movie_name] = df[input_movie_name].astype(str).apply(self.searchable_movie_name)\n",
    "        \n",
    "    def add_year_to_df(self, df, input_year=\"link title\", output_year=\"year\"):\n",
    "        df[output_year] = self.get_year(df, input_year).values\n",
    "    \n",
    "    def create_imdb_df(self):\n",
    "        title_df = self.movies_from_file()\n",
    "        alias_df = self.alias_df_from_file()\n",
    "        self.add_alias_searchable_title(alias_df)\n",
    "        imdb_df = self.merge_alias_w_imdb_df(alias_df, title_df)\n",
    "        self.add_searchable_columns_to_imdb_df(imdb_df)\n",
    "        imdb_df = self.drop_imdb_duplicates(imdb_df)\n",
    "        return imdb_df\n",
    "    \n",
    "    def drop_imdb_duplicates(self, imdb_df):\n",
    "        return imdb_df.drop_duplicates(subset=['tconst', 'searchable_alias_title']).copy().reset_index(drop=True)\n",
    "    \n",
    "    def create_groups_df(self):\n",
    "        return self.imdb_df.groupby(['startYear', 'runtimeMinutes'])\n",
    "    \n",
    "    def movies_from_file(self, file_path=\"/Users/timdunn/Downloads/title.basics (1).tsv\"):\n",
    "        file_data_frame = pd.read_csv(file_path, sep=\"\\t\")\n",
    "        return file_data_frame.loc[file_data_frame['titleType'].isin([\"movie\", \"tvMovie\", \"video\"])]\n",
    "    \n",
    "    def alias_df_from_file(self, file_path=\"/Users/timdunn/Downloads/title.akas (1).tsv\"):\n",
    "        return pd.read_csv(file_path, sep=\"\\t\")\n",
    "    \n",
    "    def add_alias_searchable_title(self, df):\n",
    "        df[\"searchable_alias_title\"] = df[\"title\"].astype(str).apply(self.searchable_movie_name)\n",
    "        \n",
    "    def merge_alias_w_imdb_df(self, alias_df, imdb_df):\n",
    "        merged_df = pd.merge(imdb_df, alias_df, how=\"inner\", validate =\"one_to_many\", left_on=(\"tconst\"), \n",
    "                             right_on=(\"titleId\"))\n",
    "        return merged_df\n",
    "    \n",
    "    def add_searchable_columns_to_imdb_df(self, imdb_df, searchable_method=\"normal\"):\n",
    "        if searchable_method == \"normal\":\n",
    "            imdb_df[\"searchable_primary_title\"] = self.apply_searchable_column(imdb_df, \"primaryTitle\", self.searchable_movie_name)\n",
    "            imdb_df[\"searchable_original_title\"] = self.apply_searchable_column(imdb_df, \"originalTitle\", self.searchable_movie_name)\n",
    "        else:\n",
    "            imdb_df[\"searchable_primary_title\"] = self.apply_searchable_column(imdb_df, \"primaryTitle\", self.simple_searchable_movie_name)\n",
    "            imdb_df[\"searchable_original_title\"] = self.apply_searchable_column(imdb_df, \"originalTitle\", self.simple_searchable_movie_name)\n",
    "    \n",
    "    def apply_searchable_column(self, df, input_column, searchable_function):\n",
    "        return df[input_column].astype(str).apply(searchable_function)\n",
    "    \n",
    "    def create_okru_dfs(self):\n",
    "        dfs = [pd.read_csv(file_path) for file_path in listdir_nohidden(\"/Users/timdunn/Desktop/okru_checkpoints/\")]\n",
    "        dfs.append(pd.read_csv(self.okru_links_path))\n",
    "        return dfs\n",
    "    \n",
    "    def concat_okru_dfs(self, dfs):\n",
    "        return pd.concat(dfs).drop_duplicates(subset=[\"link url\"]).drop([\"tconst\"], axis=1).reset_index(drop=True)\n",
    "    \n",
    "    \n",
    "    \n",
    "    def searchable_movie_name(self,movie_name):\n",
    "        movie_name = re.sub(\":\", \"\", movie_name)\n",
    "        movie_name = re.sub(\"'\", \"\", movie_name)\n",
    "        movie_name = re.sub(\"\\.\\.\\.\", \"\", movie_name)\n",
    "        movie_name = re.sub(\"\\.\\.\", \"\", movie_name)\n",
    "        movie_name = re.sub(\"_\", \" \", movie_name)\n",
    "        movie_name = re.sub(\"-\", \" \", movie_name)\n",
    "        movie_name = re.sub(\"  \", \" \", movie_name)\n",
    "        movie_name = re.sub(\"\\.\", \" \", movie_name)\n",
    "        movie_name = re.sub('\"', \"\", movie_name)\n",
    "        movie_name = re.sub(\"\\*\", \"\", movie_name)\n",
    "        return movie_name.lower().strip()\n",
    "    \n",
    "    def simple_searchable_movie_name(self,movie_name):\n",
    "        return re.sub(\":\", \"\", movie_name).lower()\n",
    "\n",
    "    def get_year(self,df, column):\n",
    "        return df[column].str.extract(r'(18[8-9][0-9]|19[0-9]{2}|20[0-1][0-9]|202[0-3])')\n",
    "\n",
    "    def minutes_from_string(self, date_string):\n",
    "        try:\n",
    "            split_string = [int(split_str) for split_str in date_string.split(\":\")]\n",
    "            if len(split_string) == 2:\n",
    "                return round(split_string[0] + (split_string[1]/60))\n",
    "            elif len(split_string) == 3:\n",
    "                return round((split_string[0] * 60) + split_string[1] + (split_string[2]/60))\n",
    "            else:\n",
    "                return 0\n",
    "        except:\n",
    "            return 0\n",
    "    \n",
    "    def update_imdb_file(self):\n",
    "        self.imdb_df.to_csv(self.imdb_data_path, index=False)\n",
    "        \n",
    "    def create_and_update_data(self):\n",
    "        self.imdb_df = self.create_imdb_df()\n",
    "        self.update_imdb_file()\n",
    "        self.links_df = self.create_links_df()\n",
    "        self.update_okru_links_file()\n",
    "        self.groups_df = self.create_groups_df()\n",
    "        \n",
    "    def read_data_from_files(self):\n",
    "        self.imdb_df = pd.read_csv(self.imdb_data_path)\n",
    "        self.links_df = pd.read_csv(self.okru_links_path)\n",
    "        self.groups_df = self.create_groups_df()\n",
    "        \n",
    "class MovieDataRow:\n",
    "    \n",
    "    def __init__(self, row, imdb_df, year_condition, duration_column=\"duration\", year_column=\"year\"):\n",
    "        self.row = row\n",
    "        self.duration = row[duration_column]\n",
    "        self.year = row[year_column]\n",
    "        self.imdb_searchable = \"searchable_alias_title\"\n",
    "        self.row_movie_name = self.row['searchable_movie_name']\n",
    "        self.imdb_data = imdb_df\n",
    "        self.year_condition = year_condition\n",
    "        \n",
    "    def get_years(self):\n",
    "        return [str(int(self.year) + num) for num in [-1, 1]]\n",
    "    \n",
    "    def get_durations(self):\n",
    "        return [str(int(self.duration) + num) for num in range(-10, 10)]\n",
    "    \n",
    "    def durations_within_range(self):\n",
    "        return self.imdb_data[\"runtimeMinutes\"].isin(self.get_durations())\n",
    "    \n",
    "    def name_is_correct(self):\n",
    "        return self.imdb_data[searchable_column] == self.row_movie_name\n",
    "    \n",
    "    def years_correct(self):\n",
    "        return self.imdb_data['startYear'].isin(self.get_years())\n",
    "    \n",
    "    def imdb_filters(self):\n",
    "        if self.year_condition == 'many':\n",
    "            return self.years_correct() & self.durations_within_range() & self.name_is_correct() \n",
    "        elif self.year_condition == 'all':\n",
    "            return self.name_is_correct()\n",
    "        else:\n",
    "            return self.durations_within_range() & self.name_is_correct()\n",
    "        \n",
    "    def matches_link_row(self):\n",
    "        return self.imdb_data.loc[self.imdb_filters()].index  \n",
    "    \n",
    "    def tconst_links_row(self):\n",
    "        if len(self.matches_link_row()) == 1:\n",
    "            return self.tconst_from_match(matches)\n",
    "        return None\n",
    "    \n",
    "    def tconst_from_match(self, matches):\n",
    "        return self.imdb_data.loc[matches[0], \"tconst\"]\n",
    "    \n",
    "class MovieMergeInstance:\n",
    "    \n",
    "    def __init__(self, imdb_df, links_df, main_param):\n",
    "        self.imdb_df = imdb_df\n",
    "        self.links_df = links_df\n",
    "        self.main_param = main_param\n",
    "    \n",
    "    def concat_merge(self, df_func, func_arg):\n",
    "        return pd.concat([self.get_final_chunk(df) for df in self.get_imdb_chunks(self.current_imdb())])\n",
    "    \n",
    "    def get_imdb_chunks(self):\n",
    "        chunks = 1\n",
    "        self.partial_imdb = self.current_imdb()\n",
    "        if current_imdb.shape[0] > 2000:\n",
    "            chunks = 10\n",
    "        return get_dfs_divided(self.partial_imdb, chunks=chunks)\n",
    "    \n",
    "    def merge_chunks(self):\n",
    "        current_imdb = reset_and_copy(self.imdb_logic())\n",
    "        return self.concat_merge(self.almost_year_chunk, year)\n",
    "    \n",
    "    def current_imdb(self):\n",
    "        return reset_and_copy(self.imdb_logic())\n",
    "    \n",
    "    def imdb_logic(self, year):\n",
    "        return self.imdb_df.loc[self.imdb_years() == str(year) & self.present_runtimes()]\n",
    "    \n",
    "    def imdb_years(self):\n",
    "        return self.imdb_df[\"startYear\"]\n",
    "    \n",
    "    def link_logic(self, year):\n",
    "        return self.links_df.loc[(self.links_years() == float(year)) & self.present_durations()]\n",
    "    \n",
    "    def links_years(self):\n",
    "        return self.links_df[\"year\"].astype(float)\n",
    "    \n",
    "    def current_link(self):\n",
    "        return reset_and_copy(self.link_logic())\n",
    "    \n",
    "    def merge_chunk(self):\n",
    "        self.chunk = pd.merge(self.current_link(), self.current_imdb(), how=\"cross\")\n",
    "    \n",
    "    def present_durations(self):\n",
    "        return nonnull_columns(self.links_df, 'duration')\n",
    "    \n",
    "    def present_runtimes(self):\n",
    "        return nonnull_columns(self.imdb_df, 'runtimeMinutes')\n",
    "    \n",
    "    def merged_logic(self):\n",
    "        self.chunk = self.chunk[self.duration_within_range(self.chunk)]\n",
    "    \n",
    "    def chunk_logic(self):\n",
    "        self.chunk[self.movie_name_correct(self.chunk)]\n",
    "    \n",
    "    def get_final_chunk(self, df):\n",
    "        self.merge_chunk()\n",
    "        self.merged_logic()\n",
    "        self.chunk_logic()\n",
    "        return self.chunk\n",
    "        \n",
    "    def duration_within_range(self, df):\n",
    "        return (self.duration_greater_than(df) & self.duration_less_than(df))\n",
    "    \n",
    "    def duration_greater_than(self, df):\n",
    "        return df['duration'].astype(int) > (df['runtimeMinutes'].astype(int) - 10)\n",
    "    \n",
    "    def duration_less_than(self, df):\n",
    "        return df['duration'].astype(int) < (df['runtimeMinutes'].astype(int) + 10)\n",
    "    \n",
    "class MergeMovieData(CreateMovieData):\n",
    "\n",
    "    def __init__(self, imdb_df=None, links_df=None, groups_df=None):\n",
    "        super().__init__(imdb_df, links_df, groups_df)\n",
    "        self.merged_link_urls = []\n",
    "\n",
    "    def set_tconst(self):\n",
    "        for year_condition in [\"many\", \"all\", \"one\"]:\n",
    "            self.links_df['tconst'] = self.links_df.apply(lambda row: self.get_tconst(row, year_condition), axis=1)\n",
    "    \n",
    "    def year_exact_merge(self, year):\n",
    "        current_imdb = reset_and_copy(self.year_exact_imdb_logic())\n",
    "        return self.concat_merge(current_imdb, self.exact_year_chunk, current_imdb, year)\n",
    "#         imdb_size = current_imdb.shape[0]\n",
    "#         if current_imdb.shape[0] > 2000:\n",
    "#             chunks = 10\n",
    "#         else:\n",
    "#             chunks = 1\n",
    "#         dfs = []\n",
    "#         for current_imdb in get_dfs_divided(current_imdb, chunks=chunks):\n",
    "#             self.first_df = current_imdb\n",
    "#             current_link = reset_and_copy(self.links_df.loc[(self.links_df[\"year\"].astype(float) == float(year))])\n",
    "#             self.second_df = current_link\n",
    "#             crossed_df = pd.merge(current_link, current_imdb, how=\"cross\")\n",
    "#             self.third_df = crossed_df\n",
    "#             crossed_df = crossed_df.loc[self.nonnull_columns(crossed_df, 'runtimeMinutes') & self.nonnull_columns(crossed_df, 'duration')]\n",
    "#             self.outer_df = crossed_df\n",
    "#             crossed_df = crossed_df[self.duration_less_than(crossed_df) & self.duration_greater_than(crossed_df)]\n",
    "#             dfs.append(crossed_df[self.movie_name_correct(crossed_df)])\n",
    "#         return pd.concat(dfs)\n",
    "    \n",
    "    def year_exact_chunk(self):\n",
    "        current_link = reset_and_copy(self.links_df.loc[(self.links_df[\"year\"].astype(float) == float(year))])\n",
    "        self.second_df = current_link\n",
    "        crossed_df = pd.merge(current_link, current_imdb, how=\"cross\")\n",
    "        self.third_df = crossed_df\n",
    "        crossed_df = crossed_df.loc[self.nonnull_columns(crossed_df, 'runtimeMinutes') & self.nonnull_columns(crossed_df, 'duration')]\n",
    "        self.outer_df = crossed_df\n",
    "        crossed_df = crossed_df[self.duration_less_than(crossed_df) & self.duration_greater_than(crossed_df)]\n",
    "        return crossed_df[self.movie_name_correct(crossed_df)]\n",
    "        \n",
    "    def year_almost_merge(self, year):\n",
    "        years = [str(num + year) for num in [-1,1]]\n",
    "        current_imdb = reset_and_copy(self.year_almost_imdb_logic())\n",
    "        return self.concat_merge(current_imdb, self.almost_year_chunk, year)\n",
    "    \n",
    "    def year_almost_imdb_logic(self):\n",
    "        return self.imdb_df.loc[self.imdb_df[\"startYear\"].isin(years)]\n",
    "    \n",
    "    def year_exact_imdb_logic(self):\n",
    "        return self.imdb_df.loc[self.imdb_df[\"startYear\"] == str(year)]\n",
    "    \n",
    "    def almost_year_chunk(self, current_imdb, year)\n",
    "        current_link = self.link_yeardf(year)\n",
    "        crossed_df = self.cross_merge(current_link, current_imdb)\n",
    "        crossed_df = self.nonnull_durations(crossed_df)\n",
    "        return crossed_df[self.duration_within_range(crossed_df) & self.movie_name_correct(crossed_df)]\n",
    "    \n",
    "    def no_year_logic(self):\n",
    "        return self.imdb_df.loc[self.imdb_df[\"runtimeMinutes\"] == duration + num]\n",
    "    \n",
    "    def link_yeardf(self, year):\n",
    "        return reset_and_copy(self.links_df.loc[(self.links_df[\"year\"].astype(float) == float(year)) & self.not_merged()])\n",
    "    \n",
    "    def nonnull_durations(self, crossed_df):\n",
    "        return crossed_df.loc[self.nonnull_columns(crossed_df, 'runtimeMinutes') & self.nonnull_columns(crossed_df, 'duration')]\n",
    "    \n",
    "    def cross_merge(self, current_link, current_imdb):\n",
    "        return pd.merge(current_link[self.needed_columns()], current_imdb, how=\"cross\")\n",
    "    \n",
    "    def no_year_merge(self, duration, num):\n",
    "        current_imdb = reset_and_copy(self.no_year_logic(duration, num))\n",
    "        return self.concat_merge(current_imdb, self.no_year_chunk, duration)\n",
    "    \n",
    "    def concat_merge(self, df, df_func, func_arg):\n",
    "        return pd.concat([df_func(df, func_arg) for df in self.get_imdb_chunks(df)])\n",
    "    \n",
    "    def no_year_chunk(self, current_imdb, duration):\n",
    "        current_link = reset_and_copy(self.links_df.loc[self.links_df[\"duration\"] == duration & self.not_merged()])\n",
    "        crossed_df = crossed_df = self.cross_merge(current_link, current_imdb)\n",
    "        crossed_df = crossed_df.loc[self.nonnull_columns(crossed_df, 'runtimeMinutes') & self.nonnull_columns(crossed_df, 'duration')]\n",
    "        return crossed_df[self.movie_name_correct(crossed_df)]\n",
    "    \n",
    "    def get_imdb_chunks(self, imdb_df):\n",
    "        chunks = 1\n",
    "        if current_imdb.shape[0] > 2000:\n",
    "            chunks = 10\n",
    "        return get_dfs_divided(current_imdb, chunks=chunks)\n",
    "    \n",
    "    def not_merged(self):\n",
    "        return ~self.links_df['link url'].isin(self.merged_link_urls)\n",
    "    \n",
    "    def add_to_not_merged(self, df):\n",
    "        df_links = list(df['link url'])\n",
    "        if len(self.merged_link_urls) == 0:\n",
    "            self.merged_link_urls.append(df_links)\n",
    "            self.merged_link_urls = flatten(self.merged_link_urls)\n",
    "        else:\n",
    "            self.merged_link_urls = flatten([self.merged_link_urls, df_links])\n",
    "\n",
    "    def year_almost_dfs(self):\n",
    "        return [self.year_almost_merge(year) for year in range(1894,2024)]\n",
    "    \n",
    "    def imdb_durations(self):\n",
    "        return list(self.imdb_df.loc[self.nonnull_columns(self.imdb_df, 'runtimeMinutes'),'runtimeMinutes'].astype(int))\n",
    "    \n",
    "    def link_durations(self):\n",
    "        return list(self.links_df.loc[self.nonnull_columns(self.links_df, 'duration') & self.not_merged(),'duration'].astype(int))\n",
    "    \n",
    "    def similar_durations(self):\n",
    "        return list(filter(lambda duration: duration in self.imdb_durations(), self.link_durations()))\n",
    "    \n",
    "    def no_year_dfs(self):\n",
    "        return [self.no_year_merge(duration, num) for duration in self.similar_durations() for num in range(-5, 5)]\n",
    "        \n",
    "    def no_year_df(self):\n",
    "        df = pd.concat(self.no_year_dfs()).drop_duplicates(subset=['link url', 'tconst']).reset_index(drop=True)\n",
    "        df.to_csv('/Users/timdunn/Desktop/no_year.csv', index=False)\n",
    "        return df\n",
    "    \n",
    "    def one_year_dfs(self):\n",
    "        self.one_years = []\n",
    "        for year in range(1894,2024):\n",
    "            print(year)\n",
    "            df = self.year_exact_merge(year)\n",
    "            self.one_years.append(df)\n",
    "            df.to_csv(\"/Users/timdunn/Desktop/{}_okru_merged.csv\".format(year), index=False)\n",
    "        return self.one_years\n",
    "    \n",
    "    def one_year_df(self):\n",
    "        df = pd.concat(self.one_year_dfs()).drop_duplicates(subset=['link url', 'tconst']).reset_index(drop=True)\n",
    "        self.final_one_year = df\n",
    "        df.to_csv('/Users/timdunn/Desktop/one_year.csv', index=False)\n",
    "        return df\n",
    "        \n",
    "    def almost_year_df(self):\n",
    "        df = pd.concat(self.year_almost_dfs()).drop_duplicates(subset=['link url', 'tconst']).reset_index(drop=True)\n",
    "        self.almost_year = df\n",
    "        df.to_csv('/Users/timdunn/Desktop/almost_year.csv', index=False)\n",
    "        return df\n",
    "    \n",
    "    def nonnull_columns(self, df, column):\n",
    "        try:\n",
    "            return (~df[column].isnull() & ~(df[column] == '\\\\N'))\n",
    "        except:\n",
    "            False\n",
    "    def duration_within_range(self, df):\n",
    "        return (self.duration_greater_than(df) & self.duration_less_than(df))\n",
    "    \n",
    "    def duration_greater_than(self, df):\n",
    "        return df['duration'].astype(int) > (df['runtimeMinutes'].astype(int) - 10)\n",
    "    \n",
    "    def duration_less_than(self, df):\n",
    "        return df['duration'].astype(int) < (df['runtimeMinutes'].astype(int) + 10)\n",
    "    \n",
    "    def movie_name_correct(self, df):\n",
    "        return df.apply(lambda row: str(row['searchable_alias_title']) in str(row['searchable_movie_name']), axis=1)\n",
    "    \n",
    "    def set_merge_dfs(self):\n",
    "        basic_links_merge = self.basic_merge()\n",
    "        links_df = self.links_df[self.not_merged()]\n",
    "        guess_it_df = self.set_guess_it_df(links_df)\n",
    "        guess_it_df.to_csv('/Users/timdunn/Desktop/guessit_okru.csv', index=False)\n",
    "        self.links_df = pd.merge(self.links_df, basic_links_merge, on='link url', how='left').drop_duplicates(subset=[\"tconst\", \"link url\"])\n",
    "        self.links_df = pd.merge(self.links_df, guess_it_df, on='link url', how='left')\n",
    "        self.links_df.to_csv(\"/Users/timdunn/Desktop/merged_okru_imdb_guessit_others.csv\", index=False)\n",
    "        return concated_df\n",
    "    \n",
    "    def needed_columns(self):\n",
    "        return [\"link title\",\"link url\",\"duration\",\"year\",\"searchable_movie_name\"]\n",
    "    \n",
    "    def merge_with_links(self, df, source_merge):\n",
    "        merged_df = pd.merge(self.links_df[self.needed_columns()], df[['link url', 'tconst']], on='link url')\n",
    "        merged_df['source_merge'] = source_merge\n",
    "        return reset_and_copy(merged_df.loc[self.nonnull_columns(merged_df, 'tconst')])\n",
    "        \n",
    "    def basic_merge(self):\n",
    "        year_one_df = self.merge_with_links(self.one_year_df(), \"exact_year\")\n",
    "        self.add_to_not_merged(year_one_df)\n",
    "        almost_year_df = self.merge_with_links(self.almost_year_df(), \"almost_year\")\n",
    "        self.add_to_not_merged(almost_year_df)\n",
    "        no_year_df = self.merge_with_links(self.no_year_df(), \"no_year\")\n",
    "        self.add_to_not_merged(no_year_df)\n",
    "        dfs = [year_one_df, almost_year_df, no_year_df]\n",
    "        return pd.concat(dfs).drop_duplicates(subset=['tconst', 'link url'])\n",
    "\n",
    "    def merge_imdb_links(self):\n",
    "        return pd.merge(self.links_df, self.imdb_df, on=(\"tconst\")\n",
    "                                    ).drop_duplicates(subset=[\"tconst\", \"link url\"]).reset_index(drop=True)\n",
    "    def set_guess_it_df(self, links_df):\n",
    "        return MergeGuessitData(links_df=self.links_df, imdb_df=self.imdb_df).set_guess_it_df(links_df)\n",
    "    \n",
    "    def imdb_partial(self, row, year_condition):\n",
    "        if year_condition == 'one':\n",
    "            imdb_conditional = self.imdb_df['startYear'] == str(row['year'])\n",
    "        elif year_condition == 'many':\n",
    "            imdb_conditional = self.imdb_df['startYear'].isin(map(lambda x: str(x + num), [-1, 1]))\n",
    "        else:\n",
    "            imdb_conditional = self.imdb_df['runtimeMinutes'].isin(map(lambda x: row['duration'] + num, [-10, 10]))\n",
    "        return reset_and_copy(self.imdb_df.loc[imdb_conditional])\n",
    "    \n",
    "    def get_tconst(self, row, year_condition):\n",
    "        return MovieDataRow(row, imdb_df=self.imdb_partial(row, year_condition)).tconst_links_row()\n",
    "\n",
    "class MergeGuessitData(CreateMovieData):\n",
    "    \n",
    "    def __init__(self, imdb_df=None, links_df=None, groups_df=None):\n",
    "        super().__init__(imdb_df, links_df, groups_df)\n",
    "        self.link_titles = self.links_df[\"link title\"]\n",
    "        self.years = self.links_df['year']\n",
    "            \n",
    "    def get_guessit_df(self):\n",
    "        guess_it_dicts = self.get_guessit_dicts()\n",
    "        movie_names = self.get_guessit_names(guess_it_dicts)\n",
    "        self.add_searchable_guessit_names(movie_names)\n",
    "        self.add_guessit_years(guess_it_dicts)\n",
    "        return self.links_df.loc[~(self.years == '') & ~(self.links_df['searchable_movie_name'] == '')]\n",
    "\n",
    "    def get_guessit_dicts(self):\n",
    "        return self.link_titles.apply(self.get_guessit_dict)\n",
    "    \n",
    "    def get_guessit_names(self, guess_it_dicts):\n",
    "        return guess_it_dicts.apply(self.guessit_movie_name)\n",
    "        \n",
    "    def add_searchable_guessit_names(self, guessit_names):\n",
    "        return guessit_names.apply(self.searchable_movie_name)\n",
    "    \n",
    "    def add_guessit_years(self, guess_it_dicts):\n",
    "        return guess_it_dicts.apply(self.guessit_year).astype(str)\n",
    "    \n",
    "    def set_guess_it_df(self, df):\n",
    "        guessit_df = self.get_guessit_df()\n",
    "        print(guessit_df)\n",
    "        guessit_df[\"year 1\"] = self.set_year_vals(guessit_df, 1)\n",
    "        guessit_df[\"year 2\"] = self.set_year_vals(guessit_df, -1)\n",
    "        merged_dfs = list()\n",
    "        for year in [\"year\", \"year 1\", \"year 2\", None]:\n",
    "            print(year)\n",
    "            df_dict = self.merged_guessit_imdb(guessit_df, year_column=year)\n",
    "            print(\"past merge part\")\n",
    "            guessit_df = df_dict[\"guessit_df\"]\n",
    "            merged_dfs.append(df_dict[\"merged_df\"])\n",
    "        return pd.concat(merged_dfs).drop_duplicates(subset=[\"link url\"]).reset_index(drop=True)\n",
    "\n",
    "    def start_guessit_imdb_merge(guessit_df, year_column=\"year\"):\n",
    "        left_columns = [\"searchable_movie_name\"]\n",
    "        right_columns = [\"searchable_alias_title\"]\n",
    "        if year_column is not None:\n",
    "            left_columns.append(self.links_year)\n",
    "            right_columns.append(\"startYear\")\n",
    "        return pd.merge(guessit_df, self.imdb_df, left_on=left_columns, right_on=right_columns)\n",
    "\n",
    "    def merged_guessit_imdb(guessit_df, year_column=\"year\"):\n",
    "        merged_df = self.start_guessit_imdb_merge(guessit_df, year_column=year_column)\n",
    "        merged_df = merged_df.loc[self.imdb_duration_nonnull(merged_df) & self.links_duration_nonnull(merged_df)]\n",
    "        merged_df = reset_and_copy(merged_df.loc[duration_within_range(merged_df)])\n",
    "        guessit_df = reset_and_copy(guessit_df.loc[~guessit_df[\"link url\"].isin(merged_df[\"link url\"])])\n",
    "        return {\"merged_df\": merged_df, \"guessit_df\": guessit_df}\n",
    "\n",
    "    def set_year_vals(self, num):\n",
    "        return (self.years.astype(int) + num).astype(str)\n",
    "\n",
    "    def imdb_duration_nonnull(self, df):\n",
    "        return self.links_duration_nonnull(self, df, self.imdb_duration_column)\n",
    "\n",
    "    def links_duration_nonnull(self, df):\n",
    "        return self.links_duration_nonnull(self, df, self.link_duration_column)\n",
    "    \n",
    "    \n",
    "    \n",
    "    def duration_within_range(self, df):\n",
    "        return abs(df[\"runtimeMinutes\"].astype(int) - df[\"duration\"].astype(int)) < 10\n",
    "    \n",
    "def combine_keywords(movie_id):\n",
    "    try:\n",
    "        return ','.join(get_keywords_movie(movie_id))\n",
    "    except:\n",
    "        return \"\"\n",
    "\n",
    "def nonnull_columns(self, df, column):\n",
    "    return (~df[column].isnull() & ~(df[column] == '\\\\N'))\n",
    "\n",
    "def flatten(some_list):\n",
    "    return [item for sublist in some_list for item in sublist]\n",
    "\n",
    "def listdir_nohidden(path):\n",
    "    return glob.glob(os.path.join(path, '*'))\n",
    "\n",
    "def get_keywords_movie(movie_id):\n",
    "    keywords = IMDb().get_movie(movie_id.split(\"tt\")[-1], info='keywords').get('keywords')\n",
    "    if keywords is None:\n",
    "        return []\n",
    "    else:\n",
    "        return keywords\n",
    "    \n",
    "def reset_and_copy(df):\n",
    "    return df.copy().reset_index(drop=True)    \n",
    "\n",
    "def get_dfs_divided(df, chunks=5):\n",
    "    return [df.loc[indexes] for indexes in divide_chunks(df.index, round(df.index.size/chunks))]  \n",
    "\n",
    "def divide_chunks(l, n):\n",
    "    for i in range(0, len(l), n):\n",
    "        yield l[i:i + n]"
   ]
  },
  {
   "cell_type": "code",
   "execution_count": null,
   "id": "678eb8b2",
   "metadata": {},
   "outputs": [],
   "source": [
    "creation_object = CreateMovieData()\n",
    "creation_object.create_and_update_data()"
   ]
  },
  {
   "cell_type": "code",
   "execution_count": null,
   "id": "607aceca",
   "metadata": {},
   "outputs": [],
   "source": [
    "creation_object.links_df"
   ]
  },
  {
   "cell_type": "code",
   "execution_count": null,
   "id": "be05a8dc",
   "metadata": {},
   "outputs": [],
   "source": [
    "df = merge_object.year_exact_merge(2010)"
   ]
  },
  {
   "cell_type": "code",
   "execution_count": null,
   "id": "a18cad23",
   "metadata": {},
   "outputs": [],
   "source": [
    "df"
   ]
  },
  {
   "cell_type": "code",
   "execution_count": null,
   "id": "ba8177c7",
   "metadata": {},
   "outputs": [],
   "source": [
    " self.first_df = current_imdb\n",
    "        current_link = reset_and_copy(self.links_df.loc[(self.links_df[\"year\"] == year)])\n",
    "        self.second_df = current_imdb\n",
    "        crossed_df = pd.merge(current_link, current_imdb, how=\"cross\")\n",
    "        self.third_df = current_imdb\n",
    "        crossed_df = crossed_df.loc[self.nonnull_columns(crossed_df, 'runtimeMinutes') & self.nonnull_columns(crossed_df, 'duration')]\n",
    "        self.outer_df = crossed_df"
   ]
  },
  {
   "cell_type": "code",
   "execution_count": null,
   "id": "f43040c6",
   "metadata": {},
   "outputs": [],
   "source": [
    "    def year_exact_merge(self, year):\n",
    "        current_imdb = reset_and_copy(self.imdb_df.loc[self.imdb_df[\"startYear\"] == str(year)])\n",
    "        self.first_df = current_imdb\n",
    "        current_link = reset_and_copy(self.links_df.loc[(self.links_df[\"year\"] == year)])\n",
    "        self.second_df = current_link\n",
    "        crossed_df = pd.merge(current_link, current_imdb, how=\"cross\")\n",
    "        self.third_df = crossed_df\n",
    "        crossed_df = crossed_df.loc[self.nonnull_columns(crossed_df, 'runtimeMinutes') & self.nonnull_columns(crossed_df, 'duration')]\n",
    "        self.outer_df = crossed_df\n",
    "        return crossed_df[self.duration_less_than(crossed_df) & self.duration_greater_than(crossed_df) & self.movie_name_correct(crossed_df)]"
   ]
  },
  {
   "cell_type": "code",
   "execution_count": null,
   "id": "e082caca",
   "metadata": {},
   "outputs": [],
   "source": [
    "merge_object = MergeMovieData(links_df=creation_object.links_df, imdb_df=creation_object.imdb_df)"
   ]
  },
  {
   "cell_type": "code",
   "execution_count": null,
   "id": "30760846",
   "metadata": {},
   "outputs": [],
   "source": [
    "get_imdb_dfs(merge_object.links_df, chunks=2)"
   ]
  },
  {
   "cell_type": "code",
   "execution_count": null,
   "id": "7c28abd3",
   "metadata": {},
   "outputs": [],
   "source": [
    "from scraping.tiny_zone_scraper import *"
   ]
  },
  {
   "cell_type": "code",
   "execution_count": null,
   "id": "7999921a",
   "metadata": {},
   "outputs": [],
   "source": [
    "scraper = TinyZoneScraper()"
   ]
  },
  {
   "cell_type": "code",
   "execution_count": null,
   "id": "ad557120",
   "metadata": {},
   "outputs": [],
   "source": [
    "data = scraper.movies_info(1)"
   ]
  },
  {
   "cell_type": "code",
   "execution_count": null,
   "id": "1260404f",
   "metadata": {},
   "outputs": [],
   "source": [
    "data"
   ]
  },
  {
   "cell_type": "code",
   "execution_count": null,
   "id": "13420fb3",
   "metadata": {},
   "outputs": [],
   "source": [
    "data = scraper.run_scraper()"
   ]
  },
  {
   "cell_type": "code",
   "execution_count": null,
   "id": "41fd5144",
   "metadata": {},
   "outputs": [],
   "source": [
    "data.to_csv('/Users/timdunn/Desktop/tinyzone_2_7_23.csv', index=False)"
   ]
  },
  {
   "cell_type": "code",
   "execution_count": null,
   "id": "40bc3aab",
   "metadata": {},
   "outputs": [],
   "source": [
    "tags = scraper.get_movie_tags(scraper.get_page_soup(1))"
   ]
  },
  {
   "cell_type": "code",
   "execution_count": null,
   "id": "dde870f6",
   "metadata": {},
   "outputs": [],
   "source": [
    "merge_object.second_df"
   ]
  },
  {
   "cell_type": "code",
   "execution_count": null,
   "id": "1cc86e09",
   "metadata": {},
   "outputs": [],
   "source": [
    "for year in range(1979, 2024):\n",
    "    print(year)\n",
    "    df = merge_object.year_exact_merge(year)\n",
    "    df.to_csv(\"/Users/timdunn/Desktop/okru_years/{}_okru_merged.csv\".format(year), index=False)"
   ]
  },
  {
   "cell_type": "code",
   "execution_count": null,
   "id": "e35794ca",
   "metadata": {},
   "outputs": [],
   "source": [
    "def year_exact_merge(self, year):\n",
    "        current_imdb = reset_and_copy(self.imdb_df.loc[self.imdb_df[\"startYear\"] == str(year)])\n",
    "        self.first_df = current_imdb\n",
    "        current_link = reset_and_copy(self.links_df.loc[(self.links_df[\"year\"].astype(float) == float(year))])\n",
    "        self.second_df = current_link\n",
    "        crossed_df = pd.merge(current_link, current_imdb, how=\"cross\")\n",
    "        self.third_df = crossed_df\n",
    "        crossed_df = crossed_df.loc[self.nonnull_columns(crossed_df, 'runtimeMinutes') & self.nonnull_columns(crossed_df, 'duration')]\n",
    "        self.outer_df = crossed_df\n",
    "        crossed_df = crossed_df[self.duration_less_than(crossed_df) & self.duration_greater_than(crossed_df)]\n",
    "        return crossed_df[self.movie_name_correct(crossed_df)]"
   ]
  },
  {
   "cell_type": "code",
   "execution_count": null,
   "id": "2460ede0",
   "metadata": {},
   "outputs": [],
   "source": [
    "current_imdb = reset_and_copy(merge_object.imdb_df.loc[merge_object.imdb_df[\"startYear\"] == str(year)])\n",
    "df_size = current_imdb.shape[0]"
   ]
  },
  {
   "cell_type": "code",
   "execution_count": null,
   "id": "1e6af5eb",
   "metadata": {},
   "outputs": [],
   "source": [
    "current_link = reset_and_copy(merge_object.links_df.loc[(merge_object.links_df[\"year\"].astype(float) == float(year))])\n",
    "link_size = current_link.shape[0]"
   ]
  },
  {
   "cell_type": "code",
   "execution_count": null,
   "id": "6fd8a6b2",
   "metadata": {},
   "outputs": [],
   "source": [
    "halved = current_imdb.loc[current_imdb.index[0:df_size/2]]"
   ]
  },
  {
   "cell_type": "code",
   "execution_count": null,
   "id": "3ebec013",
   "metadata": {},
   "outputs": [],
   "source": [
    "halved = current_imdb.index[0:int(df_size/2)]"
   ]
  },
  {
   "cell_type": "code",
   "execution_count": null,
   "id": "e98c8df0",
   "metadata": {},
   "outputs": [],
   "source": [
    "halved = current_imdb.loc[halved]"
   ]
  },
  {
   "cell_type": "code",
   "execution_count": null,
   "id": "b758fd5d",
   "metadata": {},
   "outputs": [],
   "source": [
    "crossed_df = pd.merge(current_link, halved, how=\"cross\")"
   ]
  },
  {
   "cell_type": "code",
   "execution_count": null,
   "id": "60942a9d",
   "metadata": {},
   "outputs": [],
   "source": []
  },
  {
   "cell_type": "code",
   "execution_count": null,
   "id": "ac9fe832",
   "metadata": {},
   "outputs": [],
   "source": [
    "link_size"
   ]
  },
  {
   "cell_type": "code",
   "execution_count": null,
   "id": "1a7b8fa8",
   "metadata": {},
   "outputs": [],
   "source": [
    "df_size"
   ]
  },
  {
   "cell_type": "code",
   "execution_count": null,
   "id": "168cd178",
   "metadata": {},
   "outputs": [],
   "source": [
    "current_link = reset_and_copy(merge_object.links_df[(merge_object.links_df[\"year\"] == float(2010))])"
   ]
  },
  {
   "cell_type": "code",
   "execution_count": null,
   "id": "4d266841",
   "metadata": {},
   "outputs": [],
   "source": [
    "merge_object.links_df[merge_object.links_df[\"year\"] == 2010]"
   ]
  },
  {
   "cell_type": "code",
   "execution_count": null,
   "id": "29b86512",
   "metadata": {},
   "outputs": [],
   "source": [
    "nonnulls = merge_object.links_df[merge_object.nonnull_columns(merge_object.links_df, 'year')]"
   ]
  },
  {
   "cell_type": "code",
   "execution_count": null,
   "id": "ac8c4773",
   "metadata": {},
   "outputs": [],
   "source": [
    "nonnulls[nonnulls['year'] == '2010']"
   ]
  },
  {
   "cell_type": "code",
   "execution_count": null,
   "id": "84549218",
   "metadata": {},
   "outputs": [],
   "source": [
    "merge_object.first_df"
   ]
  },
  {
   "cell_type": "code",
   "execution_count": null,
   "id": "49cb33ba",
   "metadata": {},
   "outputs": [],
   "source": [
    "merge_object.third_df.loc[merge_object.nonnull_columns(merge_object.third_df, 'runtimeMinutes')]"
   ]
  },
  {
   "cell_type": "code",
   "execution_count": null,
   "id": "5d0ff9d2",
   "metadata": {},
   "outputs": [],
   "source": [
    "df = merge_object.year_exact_merge(1925)"
   ]
  },
  {
   "cell_type": "code",
   "execution_count": null,
   "id": "a846fb18",
   "metadata": {},
   "outputs": [],
   "source": [
    "outer_df = merge_object.outer_df"
   ]
  },
  {
   "cell_type": "code",
   "execution_count": null,
   "id": "3456346e",
   "metadata": {},
   "outputs": [],
   "source": [
    "outer_df[merge_object.movie_name_correct(outer_df)]"
   ]
  },
  {
   "cell_type": "code",
   "execution_count": null,
   "id": "3fcdd1af",
   "metadata": {},
   "outputs": [],
   "source": [
    "duration_good = outer_df[merge_object.duration_less_than(outer_df) & merge_object.duration_greater_than(outer_df)]"
   ]
  },
  {
   "cell_type": "code",
   "execution_count": null,
   "id": "ce97067f",
   "metadata": {},
   "outputs": [],
   "source": [
    "merge_object = MergeMovieData(links_df=creation_object.links_df, imdb_df=creation_object.imdb_df)"
   ]
  },
  {
   "cell_type": "code",
   "execution_count": null,
   "id": "05a1d481",
   "metadata": {},
   "outputs": [],
   "source": [
    "str(int(year))"
   ]
  },
  {
   "cell_type": "code",
   "execution_count": null,
   "id": "d0127f18",
   "metadata": {},
   "outputs": [],
   "source": [
    "merge_object = MergeMovieData(links_df=creation_object.links_df, imdb_df=creation_object.imdb_df)"
   ]
  },
  {
   "cell_type": "code",
   "execution_count": null,
   "id": "6a36c814",
   "metadata": {},
   "outputs": [],
   "source": [
    "merge_object = MergeMovieData(links_df=creation_object.links_df, imdb_df=creation_object.imdb_df)\n",
    "merge_object.set_merge_dfs()\n",
    "final_df = merge_object.links_df"
   ]
  },
  {
   "cell_type": "raw",
   "id": "077ae96d",
   "metadata": {},
   "source": [
    "merge_object = MergeMovieData(links_df=creation_object.links_df, imdb_df=creation_object.imdb_df)\n",
    "merge_object.set_merge_dfs()\n",
    "final_df = merge_object.links_df"
   ]
  },
  {
   "cell_type": "code",
   "execution_count": null,
   "id": "79944f23",
   "metadata": {},
   "outputs": [],
   "source": [
    "flatten(merge_object.merged_link_urls.append(['89']))"
   ]
  },
  {
   "cell_type": "code",
   "execution_count": null,
   "id": "eb3db2c7",
   "metadata": {},
   "outputs": [],
   "source": [
    "starting_link = creation_object.links_df.loc[:1000]"
   ]
  },
  {
   "cell_type": "code",
   "execution_count": null,
   "id": "db24c91e",
   "metadata": {},
   "outputs": [],
   "source": [
    "merged_df = pd.merge(starting_link, one_year[['link url', 'tconst']], on='link url', how='left')\n"
   ]
  },
  {
   "cell_type": "code",
   "execution_count": null,
   "id": "d3ed90a0",
   "metadata": {},
   "outputs": [],
   "source": [
    "merged_df = reset_and_copy(pd.merge(merge_object.links_df, merge_object.almost_year.loc[:,['tconst', 'link url']], how='left', \n",
    "                                       on=['link url'])).drop_duplicates(subset=['link url'])"
   ]
  },
  {
   "cell_type": "code",
   "execution_count": null,
   "id": "25ac12c6",
   "metadata": {},
   "outputs": [],
   "source": [
    "(merge_object.final_one_year"
   ]
  },
  {
   "cell_type": "code",
   "execution_count": null,
   "id": "e0214d71",
   "metadata": {},
   "outputs": [],
   "source": [
    "merge_object.links_df[merge_object.nonnull_columns(merge_object.links_df, 'tconst')]"
   ]
  },
  {
   "cell_type": "code",
   "execution_count": null,
   "id": "88b68e7a",
   "metadata": {},
   "outputs": [],
   "source": [
    "merged_df.loc[merge_object.nonnull_columns(merged_df, 'tconst')]"
   ]
  },
  {
   "cell_type": "code",
   "execution_count": null,
   "id": "e4a2d41e",
   "metadata": {},
   "outputs": [],
   "source": [
    "year = 2015\n",
    "years = [str(num + year) for num in [-1,1]]\n",
    "current_imdb = reset_and_copy(merge_object.imdb_df.loc[merge_object.imdb_df[\"startYear\"].isin(years)])"
   ]
  },
  {
   "cell_type": "code",
   "execution_count": null,
   "id": "50aef85f",
   "metadata": {},
   "outputs": [],
   "source": [
    "current_link = reset_and_copy(merge_object.links_df.loc[(merge_object.links_df[\"year\"] == year) & ~merge_object.nonnull_columns(merge_object.links_df, 'tconst')])\n",
    "crossed_df = pd.merge(current_link, current_imdb, how=\"cross\")\n",
    "crossed_df.loc[merge_object.nonnull_columns(crossed_df, 'tconst_x'), 'tconst'] = crossed_df['tconst_x']\n",
    "crossed_df.loc[merge_object.nonnull_columns(crossed_df, 'tconst_y'), 'tconst'] = crossed_df['tconst_y']\n",
    "crossed_df.drop(['tconst_x', 'tconst_y'], inplace=True, axis=1)\n",
    "crossed_df = crossed_df.loc[merge_object.nonnull_columns(crossed_df, 'runtimeMinutes') & merge_object.nonnull_columns(crossed_df, 'duration')]\n",
    "final_cross = crossed_df[merge_object.duration_less_than(crossed_df) & merge_object.duration_greater_than(crossed_df) & merge_object.movie_name_correct(crossed_df)]"
   ]
  },
  {
   "cell_type": "code",
   "execution_count": null,
   "id": "00a2cfde",
   "metadata": {},
   "outputs": [],
   "source": [
    "final_cross"
   ]
  },
  {
   "cell_type": "code",
   "execution_count": null,
   "id": "01dd088c",
   "metadata": {},
   "outputs": [],
   "source": [
    "current_link"
   ]
  },
  {
   "cell_type": "code",
   "execution_count": null,
   "id": "bebff533",
   "metadata": {},
   "outputs": [],
   "source": [
    "year_correct"
   ]
  },
  {
   "cell_type": "code",
   "execution_count": null,
   "id": "32eaeebd",
   "metadata": {},
   "outputs": [],
   "source": [
    "current_link"
   ]
  },
  {
   "cell_type": "code",
   "execution_count": null,
   "id": "41e02ef6",
   "metadata": {},
   "outputs": [],
   "source": [
    "current_imdb"
   ]
  },
  {
   "cell_type": "code",
   "execution_count": null,
   "id": "958d4fce",
   "metadata": {},
   "outputs": [],
   "source": [
    "merge_object.year_almost_dfs()"
   ]
  },
  {
   "cell_type": "code",
   "execution_count": null,
   "id": "2e38d425",
   "metadata": {},
   "outputs": [],
   "source": [
    "merge_object = MergeMovieData(links_df=creation_object.links_df.loc[:1000], imdb_df=creation_object.imdb_df)\n",
    "merge_object.set_merge_dfs()\n",
    "final_df = merge_object.links_df"
   ]
  },
  {
   "cell_type": "code",
   "execution_count": null,
   "id": "a3aab291",
   "metadata": {},
   "outputs": [],
   "source": [
    "merge_object."
   ]
  },
  {
   "cell_type": "code",
   "execution_count": null,
   "id": "f8de26b4",
   "metadata": {},
   "outputs": [],
   "source": [
    "merge_object.links_df"
   ]
  },
  {
   "cell_type": "code",
   "execution_count": null,
   "id": "807a3ee7",
   "metadata": {},
   "outputs": [],
   "source": [
    "merge_object.outer_df[merge_object.movie_name_correct(merge_object.outer_df)]"
   ]
  },
  {
   "cell_type": "code",
   "execution_count": null,
   "id": "d2df6c18",
   "metadata": {},
   "outputs": [],
   "source": [
    "def duration_greater_than(self, df):\n",
    "        return df['duration'].astype(int) > (df['runtimeMinutes'].astype(int) - 10)\n",
    "    \n",
    "    def duration_less_than(self, df):\n",
    "        return df['duration'].astype(int) < (df['runtimeMinutes'].astype(int) + 10)\n",
    "    \n",
    "    def movie_name_correct(self, df):\n",
    "        return df.apply(lambda row: row['searchable_alias_title'] in row['searchable_movie_name'], axis=1)"
   ]
  },
  {
   "cell_type": "code",
   "execution_count": null,
   "id": "70f4a862",
   "metadata": {},
   "outputs": [],
   "source": [
    "merge_object.outer_df[merge_object.duration_less_than(merge_object.outer_df) & merge_object.duration_greater_than(merge_object.outer_df) \n",
    "                          & merge_object.movie_name_correct(merge_object.outer_df)]\n"
   ]
  },
  {
   "cell_type": "code",
   "execution_count": null,
   "id": "f3c7f048",
   "metadata": {},
   "outputs": [],
   "source": [
    "creation_object = CreateMovieData()\n",
    "creation_object.read_data_from_files()"
   ]
  },
  {
   "cell_type": "code",
   "execution_count": null,
   "id": "47b2ba31",
   "metadata": {},
   "outputs": [],
   "source": [
    "year_1900 = creation_object.links_df.loc[creation_object.links_df[\"year\"] == 1900].copy().reset_index(drop=True)"
   ]
  },
  {
   "cell_type": "code",
   "execution_count": null,
   "id": "e55b50ba",
   "metadata": {},
   "outputs": [],
   "source": [
    "imdb_1900 = creation_object.imdb_df.loc[creation_object.imdb_df[\"startYear\"] == '1900'].copy().reset_index(drop=True)"
   ]
  },
  {
   "cell_type": "code",
   "execution_count": null,
   "id": "8cc47c7f",
   "metadata": {},
   "outputs": [],
   "source": [
    "imdb_1900.loc[0, \"tconst\"]"
   ]
  },
  {
   "cell_type": "code",
   "execution_count": null,
   "id": "a72fdf79",
   "metadata": {},
   "outputs": [],
   "source": [
    "crossed_df = pd.merge(year_1900, imdb_1900, how=\"cross\")"
   ]
  },
  {
   "cell_type": "code",
   "execution_count": null,
   "id": "aff04959",
   "metadata": {},
   "outputs": [],
   "source": [
    "crossed_df = crossed_df.loc[nonnull_columns(crossed_df, 'runtimeMinutes') & nonnull_columns(crossed_df, 'duration')]"
   ]
  },
  {
   "cell_type": "code",
   "execution_count": null,
   "id": "beb25ec3",
   "metadata": {},
   "outputs": [],
   "source": [
    "def nonnull_columns(df, column):\n",
    "        return (~df[column].isnull() & ~(df[column] == '\\\\N'))"
   ]
  },
  {
   "cell_type": "code",
   "execution_count": null,
   "id": "3eaf2a2c",
   "metadata": {},
   "outputs": [],
   "source": [
    "crossed_df['duration'].astype(int) > (crossed_df['runtimeMinutes'].astype(int) - 10)"
   ]
  },
  {
   "cell_type": "code",
   "execution_count": null,
   "id": "91d98498",
   "metadata": {},
   "outputs": [],
   "source": [
    "def duration_greater_than(df):\n",
    "    return df['duration'].astype(int) > (df['runtimeMinutes'].astype(int) - 10)"
   ]
  },
  {
   "cell_type": "code",
   "execution_count": null,
   "id": "177e49e1",
   "metadata": {},
   "outputs": [],
   "source": [
    "def duration_less_than(df):\n",
    "    return df['duration'].astype(int) < (df['runtimeMinutes'].astype(int) + 10)"
   ]
  },
  {
   "cell_type": "code",
   "execution_count": null,
   "id": "58905dce",
   "metadata": {},
   "outputs": [],
   "source": [
    "def null_year_duration(df):\n",
    "    return df.loc[~nonnull_columns(df, 'year') & ~(df['duration'] == 0)]"
   ]
  },
  {
   "cell_type": "code",
   "execution_count": null,
   "id": "a5ac4ed9",
   "metadata": {},
   "outputs": [],
   "source": [
    "sample_links = creation_object.links_df.loc[creation_object.links_df['duration'] == 10]"
   ]
  },
  {
   "cell_type": "code",
   "execution_count": null,
   "id": "c89c4bb8",
   "metadata": {},
   "outputs": [],
   "source": [
    "minute_sample = [str(num + 10) for num in range(-5,5)]"
   ]
  },
  {
   "cell_type": "code",
   "execution_count": null,
   "id": "d4a293b2",
   "metadata": {},
   "outputs": [],
   "source": [
    "sample_imdb = creation_object.imdb_df[creation_object.imdb_df['runtimeMinutes'].isin(minute_sample)]"
   ]
  },
  {
   "cell_type": "code",
   "execution_count": null,
   "id": "332a0cd6",
   "metadata": {},
   "outputs": [],
   "source": [
    "sample_imdb = sample_imdb.loc[:, [\"startYear\", \"searchable_alias_title\", \"runtimeMinutes\", \"tconst\"]]"
   ]
  },
  {
   "cell_type": "code",
   "execution_count": null,
   "id": "283b1aac",
   "metadata": {},
   "outputs": [],
   "source": [
    "merged_df = pd.merge(sample_links, sample_imdb, how='cross')"
   ]
  },
  {
   "cell_type": "code",
   "execution_count": null,
   "id": "c1900b8f",
   "metadata": {},
   "outputs": [],
   "source": []
  },
  {
   "cell_type": "code",
   "execution_count": null,
   "id": "e4e2b341",
   "metadata": {},
   "outputs": [],
   "source": [
    "sample_links.loc[nonnull_columns(sample_links, 'year')]"
   ]
  },
  {
   "cell_type": "code",
   "execution_count": null,
   "id": "bb719585",
   "metadata": {},
   "outputs": [],
   "source": [
    "def movie_name_correct(df):\n",
    "    return df.apply(lambda row: row['searchable_alias_title'] in row['searchable_movie_name'], axis=1)"
   ]
  },
  {
   "cell_type": "code",
   "execution_count": null,
   "id": "75a3f225",
   "metadata": {},
   "outputs": [],
   "source": [
    "links_df = creation_object.links_df"
   ]
  },
  {
   "cell_type": "code",
   "execution_count": null,
   "id": "5ead9992",
   "metadata": {},
   "outputs": [],
   "source": [
    "links_df = links_df.loc[non]"
   ]
  },
  {
   "cell_type": "code",
   "execution_count": null,
   "id": "adb7fea9",
   "metadata": {},
   "outputs": [],
   "source": [
    "groups = null_year_duration(links_df).groupby(['duration'])"
   ]
  },
  {
   "cell_type": "code",
   "execution_count": null,
   "id": "7d7928f1",
   "metadata": {},
   "outputs": [],
   "source": [
    "# startYear search_alias_title runtimeMinutes tconst\n",
    "# searchable_movie_name link url duration year"
   ]
  },
  {
   "cell_type": "code",
   "execution_count": null,
   "id": "e5b64c7a",
   "metadata": {},
   "outputs": [],
   "source": [
    "nonnull_imdb"
   ]
  },
  {
   "cell_type": "code",
   "execution_count": null,
   "id": "9539d1ef",
   "metadata": {},
   "outputs": [],
   "source": [
    "imdb_durations = np.unique(imdb_data['runtimeMinutes'])"
   ]
  },
  {
   "cell_type": "code",
   "execution_count": null,
   "id": "315c93ff",
   "metadata": {},
   "outputs": [],
   "source": [
    "imdb_data = creation_object.imdb_df[nonnull_imdb]"
   ]
  },
  {
   "cell_type": "code",
   "execution_count": null,
   "id": "23692d28",
   "metadata": {},
   "outputs": [],
   "source": [
    "nonnull_imdb = nonnull_columns(creation_object.imdb_df, 'runtimeMinutes')"
   ]
  },
  {
   "cell_type": "code",
   "execution_count": null,
   "id": "98604508",
   "metadata": {},
   "outputs": [],
   "source": [
    "imdb_durations = np.array(imdb_durations, dtype=int)"
   ]
  },
  {
   "cell_type": "code",
   "execution_count": null,
   "id": "9e551bdf",
   "metadata": {},
   "outputs": [],
   "source": [
    "durations = imdb_durations[imdb_durations in np.array(groups.groups.keys())]"
   ]
  },
  {
   "cell_type": "code",
   "execution_count": null,
   "id": "b9f5c920",
   "metadata": {},
   "outputs": [],
   "source": [
    "durations = list(filter(lambda x: x in list(groups.groups.keys()), imdb_durations))"
   ]
  },
  {
   "cell_type": "code",
   "execution_count": null,
   "id": "c265715c",
   "metadata": {},
   "outputs": [],
   "source": [
    "durations = range(1, 21)"
   ]
  },
  {
   "cell_type": "code",
   "execution_count": null,
   "id": "05901bf5",
   "metadata": {},
   "outputs": [],
   "source": [
    "imdb_data.loc[(imdb_data['runtimeMinutes'].astype(int).isin(durations))][\"startYear\", \"search_alias_title\", \"runtimeMinutes\", \"tconst\"]"
   ]
  },
  {
   "cell_type": "code",
   "execution_count": null,
   "id": "745a640e",
   "metadata": {},
   "outputs": [],
   "source": [
    "filtered_imdb_data = filtered_imdb_data.loc[:, [\"startYear\", \"searchable_alias_title\", \"runtimeMinutes\", \"tconst\"]]"
   ]
  },
  {
   "cell_type": "code",
   "execution_count": null,
   "id": "bae9796c",
   "metadata": {},
   "outputs": [],
   "source": [
    "links_df"
   ]
  },
  {
   "cell_type": "code",
   "execution_count": null,
   "id": "a40aaeda",
   "metadata": {},
   "outputs": [],
   "source": [
    "filtered_links = links_df.loc[(links_df['duration'].astype(int).isin(durations)), \n",
    "             [\"searchable_movie_name\", \"link url\", \"duration\", \"year\"]]"
   ]
  },
  {
   "cell_type": "code",
   "execution_count": null,
   "id": "9ad437be",
   "metadata": {},
   "outputs": [],
   "source": [
    "merged_df = pd.merge(filtered_links, filtered_imdb_data, how='cross')"
   ]
  },
  {
   "cell_type": "code",
   "execution_count": null,
   "id": "863d4420",
   "metadata": {},
   "outputs": [],
   "source": []
  },
  {
   "cell_type": "code",
   "execution_count": null,
   "id": "04f5d894",
   "metadata": {},
   "outputs": [],
   "source": [
    "len(durations)"
   ]
  },
  {
   "cell_type": "code",
   "execution_count": null,
   "id": "021a2461",
   "metadata": {},
   "outputs": [],
   "source": [
    "list(groups.groups.keys())"
   ]
  },
  {
   "cell_type": "code",
   "execution_count": null,
   "id": "09466ee1",
   "metadata": {},
   "outputs": [],
   "source": [
    "list(groups.groups.keys())[0]"
   ]
  },
  {
   "cell_type": "code",
   "execution_count": null,
   "id": "0cd91d7f",
   "metadata": {},
   "outputs": [],
   "source": [
    "len(groups)"
   ]
  },
  {
   "cell_type": "code",
   "execution_count": null,
   "id": "4f844166",
   "metadata": {},
   "outputs": [],
   "source": [
    "groups_duration = creation_object.links_df.groupbyby(['duration'])"
   ]
  },
  {
   "cell_type": "code",
   "execution_count": null,
   "id": "1d6deb6d",
   "metadata": {},
   "outputs": [],
   "source": [
    "null_year(creation_object.links_df)"
   ]
  },
  {
   "cell_type": "code",
   "execution_count": null,
   "id": "6489ad78",
   "metadata": {},
   "outputs": [],
   "source": [
    "crossed_df.loc[duration_less_than(crossed_df) & duration_greater_than(crossed_df) & movie_name_correct(crossed_df)]"
   ]
  },
  {
   "cell_type": "code",
   "execution_count": null,
   "id": "d8d89a73",
   "metadata": {},
   "outputs": [],
   "source": [
    "crossed_df.columns"
   ]
  },
  {
   "cell_type": "code",
   "execution_count": null,
   "id": "1029f60b",
   "metadata": {},
   "outputs": [],
   "source": [
    "for year in range(1894, 2024):\n",
    "    current_links = creation_object.links_df.loc[creation_object.links_df[\"year\"] == year].copy().reset_index(drop=True)\n",
    "    current_imdb = creation_object.imdb_df.loc[creation_object.imdb_df[\"startYear\"] == str(year)].copy().reset_index(drop=True)\n",
    "    merge_object = MergeMovieData(imdb_df=current_imdb, links_df=current_links, groups_df=creation_object.groups_df)\n",
    "    merge_object.set_tconst()\n",
    "    print(\"{} completed\".format(year))  "
   ]
  },
  {
   "cell_type": "code",
   "execution_count": null,
   "id": "c7262a2e",
   "metadata": {},
   "outputs": [],
   "source": [
    "\n",
    "current_links = creation_object.links_df.loc[creation_object.links_df[\"year\"] == year].copy().reset_index(drop=True)\n",
    "current_imdb = creation_object.imdb_df.loc[creation_object.imdb_df[\"startYear\"] == str(year)].copy().reset_index(drop=True)\n",
    "merge_object = MergeMovieData(imdb_df=current_imdb, links_df=current_links, groups_df=creation_object.groups_df)\n",
    "merge_object.set_tconst()"
   ]
  },
  {
   "cell_type": "code",
   "execution_count": null,
   "id": "caf07295",
   "metadata": {},
   "outputs": [],
   "source": [
    "np.mean()"
   ]
  },
  {
   "cell_type": "code",
   "execution_count": null,
   "id": "a9685050",
   "metadata": {},
   "outputs": [],
   "source": [
    "merge_object = MergeMovieData(imdb_df=imdb_1900, links_df=year_1900\n",
    "                              , groups_df=creation_object.groups_df)\n",
    "final_df = merge_object.set_merge_dfs()"
   ]
  },
  {
   "cell_type": "code",
   "execution_count": null,
   "id": "1dac7a17",
   "metadata": {},
   "outputs": [],
   "source": [
    "def movies_from_file(file_path=\"/Users/timdunn/Downloads/title.basics-1.tsv\"):\n",
    "    file_data_frame = pd.read_csv(file_path, sep=\"\\t\")\n",
    "    return file_data_frame.loc[file_data_frame['titleType'].isin([\"movie\", \"tvMovie\", \"video\"])].reset_index(drop=True)"
   ]
  },
  {
   "cell_type": "code",
   "execution_count": null,
   "id": "e98108f5",
   "metadata": {},
   "outputs": [],
   "source": [
    "def soup_from_path(path):\n",
    "    with open(path) as fp:\n",
    "        soup = BeautifulSoup(fp, 'html.parser')\n",
    "    return soup"
   ]
  },
  {
   "cell_type": "code",
   "execution_count": null,
   "id": "ace6da5a",
   "metadata": {},
   "outputs": [],
   "source": [
    "def df_for_archives(archives_soup):\n",
    "    data_dicts = [dict_for_archives(a_tag) for a_tag in link_tags_archives(archives_soup)]\n",
    "    df = pd.DataFrame(data=data_dicts)\n",
    "    df = df.dropna()\n",
    "    return df.drop_duplicates()"
   ]
  },
  {
   "cell_type": "code",
   "execution_count": null,
   "id": "6964ccca",
   "metadata": {},
   "outputs": [],
   "source": [
    "def dict_for_archives(a_tag):\n",
    "    try:\n",
    "        return {\"url\": a_tag[\"href\"], \"movie_title\": a_tag[\"title\"]}\n",
    "    except:\n",
    "        return {\"url\": np.nan, \"movie_title\": np.nan}"
   ]
  },
  {
   "cell_type": "code",
   "execution_count": null,
   "id": "256584b1",
   "metadata": {},
   "outputs": [],
   "source": [
    "def link_tags_archives(archives_soup):\n",
    "    return [div.find(\"a\") for div in divs_for_archives(archives_soup)]"
   ]
  },
  {
   "cell_type": "code",
   "execution_count": null,
   "id": "76d18df8",
   "metadata": {},
   "outputs": [],
   "source": [
    "def divs_for_archives(archives_soup):\n",
    "    return archives_soup.find_all(\"div\", {\"class\": \"item-ttl\"})"
   ]
  },
  {
   "cell_type": "code",
   "execution_count": null,
   "id": "d0d7b0cd",
   "metadata": {},
   "outputs": [],
   "source": [
    "def searchable_movie_name(movie_name):\n",
    "    movie_name = re.sub(\":\", \"\", movie_name)\n",
    "    movie_name = re.sub(\"'\", \"\", movie_name)\n",
    "    movie_name = re.sub(\"\\.\\.\\.\", \"\", movie_name)\n",
    "    movie_name = re.sub(\"\\.\\.\", \"\", movie_name)\n",
    "    movie_name = re.sub(\"_\", \" \", movie_name)\n",
    "    movie_name = re.sub(\"-\", \" \", movie_name)\n",
    "    movie_name = re.sub(\"  \", \" \", movie_name)\n",
    "    movie_name = re.sub(\"\\.\", \" \", movie_name)\n",
    "    movie_name = re.sub('\"', \"\", movie_name)\n",
    "    movie_name = re.sub(\"\\*\", \"\", movie_name)\n",
    "    return movie_name.lower().strip()"
   ]
  },
  {
   "cell_type": "code",
   "execution_count": null,
   "id": "dcbe8344",
   "metadata": {},
   "outputs": [],
   "source": [
    "def guessit_movie_name(guessit_dict):\n",
    "    return guessit_attribute(guessit_dict, 'title')"
   ]
  },
  {
   "cell_type": "code",
   "execution_count": null,
   "id": "82bd5ccc",
   "metadata": {},
   "outputs": [],
   "source": [
    "def guessit_attribute(guessit_dict, attribute):\n",
    "    try:\n",
    "        if guessit_dict['type'] == 'movie':\n",
    "            return guessit_dict[attribute]\n",
    "        return ''\n",
    "    except:\n",
    "        return ''"
   ]
  },
  {
   "cell_type": "code",
   "execution_count": null,
   "id": "82895560",
   "metadata": {},
   "outputs": [],
   "source": [
    "def guessit_year(guessit_dict):\n",
    "    return guessit_attribute(guessit_dict, 'year')"
   ]
  },
  {
   "cell_type": "code",
   "execution_count": null,
   "id": "a8d34699",
   "metadata": {},
   "outputs": [],
   "source": [
    "def get_guessit_dict(file_name):\n",
    "    try:\n",
    "        return api.guessit(file_name)\n",
    "    except:\n",
    "        return ''"
   ]
  },
  {
   "cell_type": "code",
   "execution_count": null,
   "id": "eb258057",
   "metadata": {},
   "outputs": [],
   "source": [
    "def convert_movie_title(movie_title):\n",
    "    guessit_dict = get_guessit_dict(movie_title)\n",
    "    movie_title = guessit_movie_name(guessit_dict)\n",
    "    return searchable_movie_name(movie_title)"
   ]
  },
  {
   "cell_type": "code",
   "execution_count": null,
   "id": "f54ad7a7",
   "metadata": {},
   "outputs": [],
   "source": [
    "def convert_movie_year(movie_title):\n",
    "    guessit_dict = get_guessit_dict(movie_title)\n",
    "    return guessit_year(guessit_dict)"
   ]
  },
  {
   "cell_type": "code",
   "execution_count": null,
   "id": "fef1dabf",
   "metadata": {},
   "outputs": [],
   "source": [
    "def alias_df_from_file(file_path=\"/Users/timdunn/Downloads/title.akas-1.tsv\"):\n",
    "    return pd.read_csv(file_path, sep=\"\\t\")"
   ]
  },
  {
   "cell_type": "code",
   "execution_count": null,
   "id": "46908eb7",
   "metadata": {},
   "outputs": [],
   "source": [
    "def merge_alias_w_imdb_df(alias_df, imdb_df):\n",
    "    merged_df = pd.merge(imdb_df, alias_df, how=\"inner\", validate =\"one_to_many\", left_on=(\"tconst\"), \n",
    "                         right_on=(\"titleId\"))\n",
    "    return merged_df"
   ]
  },
  {
   "cell_type": "code",
   "execution_count": null,
   "id": "22485efa",
   "metadata": {},
   "outputs": [],
   "source": [
    "def create_imdb_df():\n",
    "    title_df = movies_from_file()\n",
    "    alias_df = alias_df_from_file()\n",
    "    add_alias_searchable_title(alias_df)\n",
    "    imdb_df = merge_alias_w_imdb_df(alias_df, title_df)\n",
    "    add_searchable_columns_to_imdb_df(imdb_df)\n",
    "    return imdb_df"
   ]
  },
  {
   "cell_type": "code",
   "execution_count": null,
   "id": "9964bbd0",
   "metadata": {},
   "outputs": [],
   "source": [
    "def add_searchable_columns_to_imdb_df(imdb_df, searchable_method=\"normal\"):\n",
    "    if searchable_method == \"normal\":\n",
    "        imdb_df[\"searchable_primary_title\"] = imdb_df[\"primaryTitle\"].astype(str).apply(searchable_movie_name)\n",
    "        imdb_df[\"searchable_original_title\"] = imdb_df[\"originalTitle\"].astype(str).apply(searchable_movie_name)\n",
    "    else:\n",
    "        imdb_df[\"searchable_primary_title\"] = imdb_df[\"primaryTitle\"].astype(str).apply(simple_searchable_movie_name)\n",
    "        imdb_df[\"searchable_original_title\"] = imdb_df[\"originalTitle\"].astype(str).apply(simple_searchable_movie_name)\n",
    "    return imdb_df"
   ]
  },
  {
   "cell_type": "code",
   "execution_count": null,
   "id": "f161f453",
   "metadata": {},
   "outputs": [],
   "source": [
    "def add_alias_searchable_title(df):\n",
    "    df[\"searchable_alias_title\"] = df[\"title\"].astype(str).apply(searchable_movie_name)"
   ]
  },
  {
   "cell_type": "code",
   "execution_count": null,
   "id": "421f6187",
   "metadata": {},
   "outputs": [],
   "source": [
    "def merged_alias_basic_file_df(file_df, imdb_df):\n",
    "    return merge_file_path_df_imdb(file_df, imdb_df, searchable_column=\"searchable_alias_title\")"
   ]
  },
  {
   "cell_type": "code",
   "execution_count": null,
   "id": "2289d865",
   "metadata": {},
   "outputs": [],
   "source": [
    "def merge_file_path_df_imdb(file_path_df, imdb_df, searchable_column=\"searchable_primary_title\"):\n",
    "    return pd.merge(file_path_df, imdb_df, left_on=[\"searchable_movie_name\", \"year\"], \n",
    "                    right_on=[searchable_column, \"startYear\"])"
   ]
  },
  {
   "cell_type": "code",
   "execution_count": null,
   "id": "9f5dcc1b",
   "metadata": {},
   "outputs": [],
   "source": [
    "def df_w_guessit_movies(df, title_column='movie_title', duration_column=None):\n",
    "    movie_titles = df[title_column].astype(str)\n",
    "    guess_it_dicts = movie_titles.apply(get_guessit_dict)\n",
    "    movie_names = guess_it_dicts.apply(guessit_movie_name)\n",
    "    df['searchable_movie_name'] = movie_names.apply(searchable_movie_name)\n",
    "    df['year'] = guess_it_dicts.apply(guessit_year)\n",
    "    df['year'] = df['year'].astype(str)\n",
    "    if duration_column is not None:\n",
    "        df[\"duration\"] = df[duration_column].astype(str).apply(minutes_from_string)\n",
    "    return df.loc[~(df['year'] == '') & ~(df['searchable_movie_name'] == '')]"
   ]
  },
  {
   "cell_type": "code",
   "execution_count": null,
   "id": "e8338d65",
   "metadata": {},
   "outputs": [],
   "source": [
    "def listdir_nohidden(path):\n",
    "    return glob.glob(os.path.join(path, '*'))"
   ]
  },
  {
   "cell_type": "code",
   "execution_count": null,
   "id": "7b16c2cd",
   "metadata": {},
   "outputs": [],
   "source": [
    "def concating_okru_data():\n",
    "    okru_progress_path = \"/Users/timdunn/Desktop/okru_progress.csv\"\n",
    "    dfs = [pd.read_csv(file_path) for file_path in listdir_nohidden(\"/Users/timdunn/Desktop/okru_checkpoints/\")]\n",
    "    dfs.append(pd.read_csv(okru_progress_path))\n",
    "    final_df = pd.concat(dfs).drop_duplicates().reset_index(drop=True)\n",
    "    final_df.to_csv(okru_progress_path)\n",
    "    return final_df"
   ]
  },
  {
   "cell_type": "code",
   "execution_count": null,
   "id": "47aa8d81",
   "metadata": {},
   "outputs": [],
   "source": [
    "def all_tconsts():\n",
    "    return np.unique(concating_okru_data())"
   ]
  },
  {
   "cell_type": "code",
   "execution_count": null,
   "id": "e3720fed",
   "metadata": {},
   "outputs": [],
   "source": [
    "def minutes_from_string(date_string):\n",
    "    try:\n",
    "        split_string = [int(split_str) for split_str in date_string.split(\":\")]\n",
    "        if len(split_string) == 2:\n",
    "            return round(split_string[0] + (split_string[1]/60))\n",
    "        elif len(split_string) == 3:\n",
    "            return round((split_string[0] * 60) + split_string[1] + (split_string[2]/60))\n",
    "        else:\n",
    "            return 0\n",
    "    except:\n",
    "        return 0"
   ]
  },
  {
   "cell_type": "code",
   "execution_count": null,
   "id": "12710ba3",
   "metadata": {},
   "outputs": [],
   "source": [
    "def convert_okru_to_imdb_merge():\n",
    "    okru_data = concating_okru_data()\n",
    "    okru_data = df_w_guessit_movies(okru_data, title_column=\"link title\", duration_column=\"movie duration\")\n",
    "    imdb_df = create_imdb_df()\n",
    "    merged_okru_df = merge_file_path_df_imdb(okru_data.drop([\"tconst\"], axis=1), imdb_df)\n",
    "    return merged_okru_df.drop_duplicates(subset=[\"tconst\", \"link url\"])"
   ]
  },
  {
   "cell_type": "code",
   "execution_count": null,
   "id": "b3a0028e",
   "metadata": {},
   "outputs": [],
   "source": [
    "def convert_column_guess_it(df, column):\n",
    "    movie_titles = df[column].astype(str)\n",
    "    guess_it_dicts = movie_titles.apply(get_guessit_dict)\n",
    "    return guess_it_dicts.apply(guessit_movie_name).apply(searchable_movie_name)"
   ]
  },
  {
   "cell_type": "code",
   "execution_count": null,
   "id": "fb6931f9",
   "metadata": {},
   "outputs": [],
   "source": [
    "def convert_streamlord(title):\n",
    "    if \"\\n\" in title:\n",
    "        return title.split(\"\\n\")[0].strip()\n",
    "    else:\n",
    "        return title"
   ]
  },
  {
   "cell_type": "code",
   "execution_count": null,
   "id": "1868cf4c",
   "metadata": {},
   "outputs": [],
   "source": [
    "okru_raw_data = concating_okru_data()"
   ]
  },
  {
   "cell_type": "code",
   "execution_count": null,
   "id": "79ed8a15",
   "metadata": {},
   "outputs": [],
   "source": [
    "np.unique(okru_raw_data[\"link url\"]).size"
   ]
  },
  {
   "cell_type": "code",
   "execution_count": null,
   "id": "931485d6",
   "metadata": {},
   "outputs": [],
   "source": [
    "okru_raw_data = okru_raw_data.drop_duplicates(subset=[\"link url\"])"
   ]
  },
  {
   "cell_type": "code",
   "execution_count": null,
   "id": "4e06a988",
   "metadata": {},
   "outputs": [],
   "source": [
    "okru_raw_data = okru_raw_data.reset_index(drop=True)"
   ]
  },
  {
   "cell_type": "code",
   "execution_count": null,
   "id": "b0097732",
   "metadata": {},
   "outputs": [],
   "source": [
    "okru_raw_data[\"duration\"] = okru_raw_data[\"movie duration\"].astype(str).apply(minutes_from_string)"
   ]
  },
  {
   "cell_type": "code",
   "execution_count": null,
   "id": "509e4366",
   "metadata": {},
   "outputs": [],
   "source": [
    "movie_okru_filtered = okru_raw_data.loc[okru_raw_data[\"duration\"].astype(int) > 40]"
   ]
  },
  {
   "cell_type": "code",
   "execution_count": null,
   "id": "b3f431e9",
   "metadata": {},
   "outputs": [],
   "source": [
    "movie_okru_filtered.to_csv(\"/Users/timdunn/Desktop/filtered_okru.csv\", index=False, \n",
    "                           columns=[\"link title\", \"link url\", \"duration\"])"
   ]
  },
  {
   "cell_type": "code",
   "execution_count": null,
   "id": "6177c444",
   "metadata": {},
   "outputs": [],
   "source": [
    "movie_okru_filtered = pd.read_csv(\"/Users/timdunn/Desktop/filtered_okru.csv\")"
   ]
  },
  {
   "cell_type": "code",
   "execution_count": null,
   "id": "a945d642",
   "metadata": {},
   "outputs": [],
   "source": [
    "get_guessit_dict(movie_okru_filtered.loc[0][\"link title\"])"
   ]
  },
  {
   "cell_type": "code",
   "execution_count": null,
   "id": "b7707a68",
   "metadata": {},
   "outputs": [],
   "source": [
    "get_guessit_dict(new_name)"
   ]
  },
  {
   "cell_type": "code",
   "execution_count": null,
   "id": "a6220c82",
   "metadata": {},
   "outputs": [],
   "source": [
    "things_to_eleminate = [\"🎬\", \"🎥\", \"📽\"]"
   ]
  },
  {
   "cell_type": "code",
   "execution_count": null,
   "id": "5fef2e26",
   "metadata": {},
   "outputs": [],
   "source": [
    "def has_elements(name, elements=things_to_eleminate):\n",
    "    elements_available = list(filter(lambda element: element in name, elements))\n",
    "    return any(elements_available)"
   ]
  },
  {
   "cell_type": "code",
   "execution_count": null,
   "id": "2b1fac93",
   "metadata": {},
   "outputs": [],
   "source": [
    "weird_emoji_data = movie_okru_filtered.loc[movie_okru_filtered[\"link title\"].astype(str).apply(has_elements)]"
   ]
  },
  {
   "cell_type": "code",
   "execution_count": null,
   "id": "32366294",
   "metadata": {},
   "outputs": [],
   "source": [
    "nonimdbd = movie_okru_filtered.loc[~movie_okru_filtered[\"link url\"].isin(okru_data[\"link url\"])]"
   ]
  },
  {
   "cell_type": "code",
   "execution_count": null,
   "id": "f9593def",
   "metadata": {},
   "outputs": [],
   "source": [
    "nonimdbd.loc[1][\"link title\"]"
   ]
  },
  {
   "cell_type": "code",
   "execution_count": null,
   "id": "3d8a019b",
   "metadata": {},
   "outputs": [],
   "source": [
    "def year_matches(file_name):\n",
    "    return re.findall(\"(18[8-9][0-9]|19[0-9]{2}|20[0-1][0-9]|202[0-3])\", file_name)"
   ]
  },
  {
   "cell_type": "code",
   "execution_count": null,
   "id": "fc090506",
   "metadata": {},
   "outputs": [],
   "source": [
    "def has_year_match(file_name):\n",
    "    return len(year_matches(file_name)) == 1"
   ]
  },
  {
   "cell_type": "code",
   "execution_count": null,
   "id": "95f046ff",
   "metadata": {},
   "outputs": [],
   "source": [
    "has_year_noimdb = nonimdbd.loc[nonimdbd[\"link title\"].astype(str).apply(has_year_match)]"
   ]
  },
  {
   "cell_type": "code",
   "execution_count": null,
   "id": "266dbd8a",
   "metadata": {},
   "outputs": [],
   "source": [
    "title_df = create_imdb_df()"
   ]
  },
  {
   "cell_type": "code",
   "execution_count": null,
   "id": "cc7e6b9c",
   "metadata": {},
   "outputs": [],
   "source": [
    "has_year_noimdb"
   ]
  },
  {
   "cell_type": "code",
   "execution_count": null,
   "id": "a25d65f8",
   "metadata": {},
   "outputs": [],
   "source": [
    "def results_title_search(imdb_df, okru_record):\n",
    "    return imdb_df.loc[imdb_df[\"searchable_alias_title\"].astype(str) in okru_record[\"searchable_movie_name\"]]"
   ]
  },
  {
   "cell_type": "code",
   "execution_count": null,
   "id": "ae93a59b",
   "metadata": {},
   "outputs": [],
   "source": [
    "has_year_noimdb[\"searchable_movie_name\"] = has_year_noimdb[\"link title\"].astype(str).apply(searchable_movie_name)"
   ]
  },
  {
   "cell_type": "code",
   "execution_count": null,
   "id": "8898e4ce",
   "metadata": {},
   "outputs": [],
   "source": [
    "example_record = has_year_noimdb.loc[0]"
   ]
  },
  {
   "cell_type": "code",
   "execution_count": null,
   "id": "6f213620",
   "metadata": {},
   "outputs": [],
   "source": [
    "example_record"
   ]
  },
  {
   "cell_type": "code",
   "execution_count": null,
   "id": "4e32c11b",
   "metadata": {},
   "outputs": [],
   "source": [
    "title_df.loc[title_df[\"tconst\"] == \"tt0076263\"]"
   ]
  },
  {
   "cell_type": "code",
   "execution_count": null,
   "id": "0c4ef9b1",
   "metadata": {},
   "outputs": [],
   "source": [
    "title_df.loc[533969, \"searchable_alias_title\"]"
   ]
  },
  {
   "cell_type": "code",
   "execution_count": null,
   "id": "e7145ac2",
   "metadata": {},
   "outputs": [],
   "source": [
    "def in_string(a, b):\n",
    "    return a in b"
   ]
  },
  {
   "cell_type": "code",
   "execution_count": null,
   "id": "966bbefb",
   "metadata": {},
   "outputs": [],
   "source": [
    "title_df"
   ]
  },
  {
   "cell_type": "code",
   "execution_count": null,
   "id": "e7e28bfc",
   "metadata": {},
   "outputs": [],
   "source": [
    "mask = title_df['searchable_alias_title'].apply(lambda x: has_year_noimdb['searchable_movie_name'].str.contains(x).any())\n",
    "merged_df = title_df[mask].merge(has_year_noimdb, left_on='searchable_alias_title', right_on='searchable_movie_name')"
   ]
  },
  {
   "cell_type": "code",
   "execution_count": null,
   "id": "71e9ca82",
   "metadata": {},
   "outputs": [],
   "source": [
    "has_year_noimdb['link_title'] = has_year_noimdb['link title']"
   ]
  },
  {
   "cell_type": "code",
   "execution_count": null,
   "id": "380730b5",
   "metadata": {},
   "outputs": [],
   "source": [
    "has_year_noimdb"
   ]
  },
  {
   "cell_type": "code",
   "execution_count": null,
   "id": "07095782",
   "metadata": {},
   "outputs": [],
   "source": [
    "title_df['searchable_alias_title_in_link_title'] = title_df['searchable_alias_title'].map(\n",
    "    has_year_noimdb.set_index('link_title')['link_title'].apply(lambda x: x.find(x)>-1))"
   ]
  },
  {
   "cell_type": "code",
   "execution_count": null,
   "id": "5d7fb021",
   "metadata": {},
   "outputs": [],
   "source": [
    "title_df"
   ]
  },
  {
   "cell_type": "code",
   "execution_count": null,
   "id": "7bcffdd8",
   "metadata": {},
   "outputs": [],
   "source": [
    "title_df['searchable_alias_title_in_link_title'] = title_df['searchable_alias_title'].map(has_year_noimdb.set_index('link title'\n",
    "                                                                                                                   )['link title'].apply(lambda x: x.find(x)>-1))"
   ]
  },
  {
   "cell_type": "code",
   "execution_count": null,
   "id": "49b41bfe",
   "metadata": {},
   "outputs": [],
   "source": [
    "has_year_noimdb"
   ]
  },
  {
   "cell_type": "code",
   "execution_count": null,
   "id": "9395c9d2",
   "metadata": {},
   "outputs": [],
   "source": [
    "url_row = links_df.loc[0]"
   ]
  },
  {
   "cell_type": "code",
   "execution_count": null,
   "id": "84f74f31",
   "metadata": {},
   "outputs": [],
   "source": [
    "imdb_df['runtimeMinutes'] = imdb_df['runtimeMinutes'].apply(convert_runtimes)"
   ]
  },
  {
   "cell_type": "code",
   "execution_count": null,
   "id": "63bf4ecb",
   "metadata": {},
   "outputs": [],
   "source": [
    "results = results_row(imdb_df, url_row)"
   ]
  },
  {
   "cell_type": "code",
   "execution_count": null,
   "id": "dcd6ae03",
   "metadata": {},
   "outputs": [],
   "source": [
    "def results_row(imdb_df, url_row):\n",
    "    title = url_row[\"searchable_movie_name\"]\n",
    "    duration = convert_runtimes(url_row[\"duration\"])\n",
    "    year_logic = (imdb_df[\"startYear\"].apply(lambda x: x in title))\n",
    "    name_logic = (imdb_df[\"searchable_alias_title\"].apply(lambda x: x in title))\n",
    "    loced_df = imdb_df.loc[year_logic & name_logic]\n",
    "    return loced_df.query(\"abs(@duration - runtimeMinutes) <= 10\") "
   ]
  },
  {
   "cell_type": "code",
   "execution_count": null,
   "id": "4da236c6",
   "metadata": {},
   "outputs": [],
   "source": [
    "def tconst_row(imdb_df, row):\n",
    "    results = results_row(imdb_df, row)\n",
    "    try: \n",
    "        tconsts = np.unique(results[\"tconst\"])\n",
    "        if tconsts.size == 1:\n",
    "            return tconsts[0]\n",
    "        return None\n",
    "    except:\n",
    "        return None"
   ]
  },
  {
   "cell_type": "code",
   "execution_count": null,
   "id": "ba6fd77a",
   "metadata": {},
   "outputs": [],
   "source": [
    "def convert_runtimes(minutes):\n",
    "    try:\n",
    "        return int(minutes)\n",
    "    except:\n",
    "        return 0"
   ]
  },
  {
   "cell_type": "code",
   "execution_count": null,
   "id": "657cac26",
   "metadata": {},
   "outputs": [],
   "source": [
    "def merge_imdb_links(links_df=None, imdb_df=None):\n",
    "    if links_df is None:\n",
    "        links_df = concating_okru_data()\n",
    "        links_df = links_df.drop_duplicates(subset=[\"link url\"]).drop([\"tconst\"], axis=1)\n",
    "        links_df[\"searchable_movie_name\"] = links_df['link title'].astype(str).apply(searchable_movie_name)\n",
    "        links_df[\"duration\"] = links_df[\"movie duration\"].astype(str).apply(minutes_from_string)\n",
    "    if imdb_df is None:\n",
    "        imdb_df = create_imdb_df()\n",
    "        imdb_df['runtimeMinutes'] = imdb_df['runtimeMinutes'].apply(convert_runtimes)\n",
    "    merged_dicts = []\n",
    "    for index, row in links_df.iterrows():\n",
    "        linked_dict = {\"link url\": row[\"link url\"], \"tconst\": tconst_row(imdb_df, row)}\n",
    "        merged_dicts.append(linked_dict)\n",
    "        if index % 1000 == 0:\n",
    "            print(\"On index\", index)\n",
    "            pd.DataFrame(data=merged_dicts).to_csv(\"/Users/timdunn/Desktop/imdb_okru_merging.csv\", index=False)\n",
    "    pd.DataFrame(data=merged_dicts).to_csv(\"/Users/timdunn/Desktop/imdb_okru_merging.csv\", index=False)\n",
    "    links_df = pd.merge(links_df, pd.DataFrame(data=merged_dicts), on=(\"link url\"))\n",
    "    links_df.to_csv(\"/Users/timdunn/Desktop/links_merging.csv\", index=False)\n",
    "    return pd.merge(imdb_df, links_df, on=(\"tconst\"))"
   ]
  },
  {
   "cell_type": "code",
   "execution_count": null,
   "id": "564aa92e",
   "metadata": {},
   "outputs": [],
   "source": [
    "links_df = concating_okru_data()\n",
    "links_df = links_df.drop_duplicates(subset=[\"link url\"]).drop([\"tconst\"], axis=1)\n",
    "links_df[\"searchable_movie_name\"] = links_df['link title'].astype(str).apply(searchable_movie_name)"
   ]
  },
  {
   "cell_type": "code",
   "execution_count": null,
   "id": "efdb12fa",
   "metadata": {},
   "outputs": [],
   "source": [
    "imdb_df = create_imdb_df()"
   ]
  },
  {
   "cell_type": "code",
   "execution_count": null,
   "id": "e3509aeb",
   "metadata": {},
   "outputs": [],
   "source": [
    "links_df"
   ]
  },
  {
   "cell_type": "code",
   "execution_count": null,
   "id": "cfa7a57a",
   "metadata": {},
   "outputs": [],
   "source": [
    "links_df[\"duration\"] = links_df[\"movie duration\"].astype(str).apply(minutes_from_string)"
   ]
  },
  {
   "cell_type": "code",
   "execution_count": null,
   "id": "123ad410",
   "metadata": {},
   "outputs": [],
   "source": [
    "final_imdb_merge = merge_imdb_links(links_df=links_df, imdb_df=imdb_df)"
   ]
  },
  {
   "cell_type": "code",
   "execution_count": null,
   "id": "b64c222a",
   "metadata": {},
   "outputs": [],
   "source": [
    "title_df[\"runtimeMinutes\"] = title_df[\"runtimeMinutes\"].apply(convert_runtimes)"
   ]
  },
  {
   "cell_type": "code",
   "execution_count": null,
   "id": "9afc16f4",
   "metadata": {},
   "outputs": [],
   "source": [
    "title = example_record[\"searchable_movie_name\"]\n",
    "title_df[\"startYear\"] = title_df[\"startYear\"].astype(str)\n",
    "year_matches = title_df.query(\"startYear in @title\")"
   ]
  },
  {
   "cell_type": "code",
   "execution_count": null,
   "id": "2c44928c",
   "metadata": {},
   "outputs": [],
   "source": [
    "title_df.loc[(title_df[\"startYear\"].apply(lambda x: x in title)) & \n",
    "             title_df[\"searchable_alias_title\"].apply(lambda x: x in title)].query(\"abs(@duration - runtimeMinutes) <= 10\")"
   ]
  },
  {
   "cell_type": "code",
   "execution_count": null,
   "id": "b3c7d13a",
   "metadata": {},
   "outputs": [],
   "source": [
    "results_row(title_df, example_record)"
   ]
  },
  {
   "cell_type": "code",
   "execution_count": null,
   "id": "a6032fd2",
   "metadata": {},
   "outputs": [],
   "source": [
    "example_record"
   ]
  },
  {
   "cell_type": "code",
   "execution_count": null,
   "id": "f5039201",
   "metadata": {},
   "outputs": [],
   "source": [
    "title_df['searchable_alias_in_searchable_movie_name'] = title_df['searchable_alias_title'].apply(\n",
    "    lambda x: has_year_noimdb['searchable_movie_name'].str.contains(x, regex=False).any())"
   ]
  },
  {
   "cell_type": "code",
   "execution_count": null,
   "id": "63f7b52e",
   "metadata": {},
   "outputs": [],
   "source": [
    "merged_df = title_df.merge(has_year_noimdb.query(\n",
    "    \"startYear in link_title and abs(duration - runtimeMinutes) <= 10 and searchable_alias_title in searchable_movie_name\").groupby(\n",
    "    'tconst').nunique() == 1)"
   ]
  },
  {
   "cell_type": "code",
   "execution_count": null,
   "id": "abb6fc95",
   "metadata": {},
   "outputs": [],
   "source": [
    "title_df['searchable_alias_title_in_link_title'] = title_df['searchable_alias_title'].apply(\n",
    "    lambda x: has_year_noimdb['link_title'].str.contains(x).any())\n",
    "merged_df = title_df[title_df['searchable_alias_title_in_link_title']].merge(\n",
    "    has_year_noimdb, left_on='searchable_alias_title', right_on='searchable_movie_name')"
   ]
  },
  {
   "cell_type": "code",
   "execution_count": null,
   "id": "d5069ca5",
   "metadata": {},
   "outputs": [],
   "source": [
    "has_year_noimdb.loc[has_year_noimdb[\"searchable_movie_name\"].str.contains(\n",
    "    title_df.loc[533969, \"searchable_alias_title\"])]"
   ]
  },
  {
   "cell_type": "code",
   "execution_count": null,
   "id": "084bc4eb",
   "metadata": {},
   "outputs": [],
   "source": [
    "title_df[\"searchable_alias_title\"].str.contains(example_record[\"searchable_movie_name\"])"
   ]
  },
  {
   "cell_type": "code",
   "execution_count": null,
   "id": "20db56aa",
   "metadata": {},
   "outputs": [],
   "source": [
    "example_results = results_title_search(title_df, example_record)"
   ]
  },
  {
   "cell_type": "code",
   "execution_count": null,
   "id": "e21e767d",
   "metadata": {},
   "outputs": [],
   "source": [
    "title_df[\"searchable_alias_title\"] in has_year_noimdb[\"link title\"]"
   ]
  },
  {
   "cell_type": "code",
   "execution_count": null,
   "id": "0a584f05",
   "metadata": {},
   "outputs": [],
   "source": [
    "title_df.loc[title_df[\"primaryTitle\"].astype(str).apply()]"
   ]
  },
  {
   "cell_type": "code",
   "execution_count": null,
   "id": "3128082a",
   "metadata": {},
   "outputs": [],
   "source": [
    "title_df[\"searchable_primary_title\"]"
   ]
  },
  {
   "cell_type": "code",
   "execution_count": null,
   "id": "74d057f8",
   "metadata": {},
   "outputs": [],
   "source": [
    "has_year_noimdb"
   ]
  },
  {
   "cell_type": "code",
   "execution_count": null,
   "id": "f10deeef",
   "metadata": {},
   "outputs": [],
   "source": [
    "get_guessit_dict(has_year_noimdb.loc[19][\"link title\"])"
   ]
  },
  {
   "cell_type": "code",
   "execution_count": null,
   "id": "4a838967",
   "metadata": {},
   "outputs": [],
   "source": [
    "has_year_noimdb.loc[19:45]"
   ]
  },
  {
   "cell_type": "code",
   "execution_count": null,
   "id": "636b6026",
   "metadata": {},
   "outputs": [],
   "source": [
    "has_year_noimdb.loc[39]"
   ]
  },
  {
   "cell_type": "code",
   "execution_count": null,
   "id": "f7bffe97",
   "metadata": {},
   "outputs": [],
   "source": [
    "has_elements(name, things_to_eleminate)"
   ]
  },
  {
   "cell_type": "code",
   "execution_count": null,
   "id": "cddfd687",
   "metadata": {},
   "outputs": [],
   "source": [
    "def should_eleminate_elements(name, elements):\n",
    "    return list(filter(lambda element: element in name, elements))"
   ]
  },
  {
   "cell_type": "code",
   "execution_count": null,
   "id": "dd292b46",
   "metadata": {},
   "outputs": [],
   "source": [
    "def eleminate_elements(name, elements):\n",
    "    elements = should_eleminate_elements(name, elements)\n",
    "    if len(elements) < 1:\n",
    "        return name\n",
    "    else:        \n",
    "        return eleminate_elements(name.split(elements[0])[-1], elements)"
   ]
  },
  {
   "cell_type": "code",
   "execution_count": null,
   "id": "a5ec01bc",
   "metadata": {},
   "outputs": [],
   "source": [
    "new_name = eleminate_elements(name, things_to_eleminate)"
   ]
  },
  {
   "cell_type": "code",
   "execution_count": null,
   "id": "69cf24a5",
   "metadata": {},
   "outputs": [],
   "source": [
    "new_name"
   ]
  },
  {
   "cell_type": "code",
   "execution_count": null,
   "id": "d7a9f1d7",
   "metadata": {},
   "outputs": [],
   "source": [
    "name = movie_okru_filtered.loc[0][\"link title\"]"
   ]
  },
  {
   "cell_type": "code",
   "execution_count": null,
   "id": "b4977a80",
   "metadata": {},
   "outputs": [],
   "source": [
    "name.split(things_to_eleminate[1])"
   ]
  },
  {
   "cell_type": "code",
   "execution_count": null,
   "id": "e0d9a89f",
   "metadata": {},
   "outputs": [],
   "source": [
    "should_eleminate_elements(movie_okru_filtered.loc[0][\"link title\"], things_to_eleminate)"
   ]
  },
  {
   "cell_type": "code",
   "execution_count": null,
   "id": "2ef7c805",
   "metadata": {},
   "outputs": [],
   "source": [
    "movie_okru_filtered.loc[movie_okru_filtered[\"link title\"]]"
   ]
  },
  {
   "cell_type": "code",
   "execution_count": null,
   "id": "2eb0a709",
   "metadata": {},
   "outputs": [],
   "source": [
    "movie_okru_filtered.loc[0][\"link title\"].split(\"ASA 🎥📽🎬\")[1].strip()"
   ]
  },
  {
   "cell_type": "code",
   "execution_count": null,
   "id": "e20023a3",
   "metadata": {},
   "outputs": [],
   "source": [
    "imdb_df.columns"
   ]
  },
  {
   "cell_type": "code",
   "execution_count": null,
   "id": "d5062a67",
   "metadata": {},
   "outputs": [],
   "source": [
    "movie_file[\"movie_title\"] = convert_column_guess_it(movie_file, \"movie_title\")"
   ]
  },
  {
   "cell_type": "code",
   "execution_count": null,
   "id": "30cc1370",
   "metadata": {},
   "outputs": [],
   "source": [
    "movie_file[\"searchable_movie_name\"] = movie_file[\"movie_title\"]"
   ]
  },
  {
   "cell_type": "code",
   "execution_count": null,
   "id": "423ebd61",
   "metadata": {},
   "outputs": [],
   "source": []
  },
  {
   "cell_type": "code",
   "execution_count": null,
   "id": "68e09476",
   "metadata": {},
   "outputs": [],
   "source": [
    "movie_file[\"year\"] = movie_file[\"year\"].astype(str)"
   ]
  },
  {
   "cell_type": "code",
   "execution_count": null,
   "id": "e9c022b2",
   "metadata": {},
   "outputs": [],
   "source": [
    "go_merged = merged_alias_basic_file_df(movie_file, imdb_df)"
   ]
  },
  {
   "cell_type": "code",
   "execution_count": null,
   "id": "44fc187b",
   "metadata": {},
   "outputs": [],
   "source": [
    "go_merged = go_merged.drop_duplicates(subset=[\"tconst\", \"link url\"])"
   ]
  },
  {
   "cell_type": "code",
   "execution_count": null,
   "id": "4ec88fbc",
   "metadata": {},
   "outputs": [],
   "source": [
    "go_merged"
   ]
  },
  {
   "cell_type": "code",
   "execution_count": null,
   "id": "b98f615d",
   "metadata": {},
   "outputs": [],
   "source": [
    "streamlord_merged = streamlord_merged.drop_duplicates(subset=[\"tconst\", \"link url\"])"
   ]
  },
  {
   "cell_type": "code",
   "execution_count": null,
   "id": "a6c1ea7a",
   "metadata": {},
   "outputs": [],
   "source": [
    "streamlord_merged.reset_index(drop=True).to_csv(\"/Users/timdunn/Desktop/merged_streamlord.csv\", index=False)"
   ]
  },
  {
   "cell_type": "code",
   "execution_count": null,
   "id": "d44ee764",
   "metadata": {},
   "outputs": [],
   "source": [
    "movie_file[\"guessit_title\"] = movie_file[\"guessit_title\"].apply(convert_streamlord)"
   ]
  },
  {
   "cell_type": "code",
   "execution_count": null,
   "id": "ddd3b09c",
   "metadata": {},
   "outputs": [],
   "source": [
    "movie_file[\"guessit_title\"][0].split(\"\\n\")[0].strip()"
   ]
  },
  {
   "cell_type": "code",
   "execution_count": null,
   "id": "231cdc14",
   "metadata": {},
   "outputs": [],
   "source": [
    "movie_info_directory = \"/Users/timdunn/Desktop/scraped movie info/\""
   ]
  },
  {
   "cell_type": "code",
   "execution_count": null,
   "id": "74b83f5b",
   "metadata": {},
   "outputs": [],
   "source": [
    "movie_files = listdir_nohidden(movie_info_directory)"
   ]
  },
  {
   "cell_type": "code",
   "execution_count": null,
   "id": "ba816a9f",
   "metadata": {},
   "outputs": [],
   "source": [
    "movie_file = pd.read_csv(movie_files[4])"
   ]
  },
  {
   "cell_type": "code",
   "execution_count": null,
   "id": "29e752a6",
   "metadata": {},
   "outputs": [],
   "source": [
    "movie_file[\"year\"] = movie_file[\"year\"].astype(str)"
   ]
  },
  {
   "cell_type": "code",
   "execution_count": null,
   "id": "4a0a71f9",
   "metadata": {},
   "outputs": [],
   "source": [
    "imdb_df = create_imdb_df()"
   ]
  },
  {
   "cell_type": "code",
   "execution_count": null,
   "id": "2146a5df",
   "metadata": {},
   "outputs": [],
   "source": [
    "def main_url(df):\n",
    "    return df[\"link url\"][0].split(\"https://\")[-1].split(\"/\")[0]"
   ]
  },
  {
   "cell_type": "code",
   "execution_count": null,
   "id": "e8494d5e",
   "metadata": {},
   "outputs": [],
   "source": [
    "movie_file[\"searchable_movie_name\"] = movie_file[\"searchable_movie_title\"]\n",
    "movie_file.drop([\"searchable_movie_title\"], axis=1)"
   ]
  },
  {
   "cell_type": "code",
   "execution_count": null,
   "id": "e1362ebc",
   "metadata": {},
   "outputs": [],
   "source": [
    "okru_data = convert_okru_to_imdb_merge()"
   ]
  },
  {
   "cell_type": "code",
   "execution_count": null,
   "id": "d9f28e9a",
   "metadata": {},
   "outputs": [],
   "source": [
    "okru_data"
   ]
  },
  {
   "cell_type": "code",
   "execution_count": null,
   "id": "93ea6c95",
   "metadata": {},
   "outputs": [],
   "source": [
    "np.unique(okru_data.loc[(okru_data[\"duration\"] > 60), \"tconst\"]).size"
   ]
  },
  {
   "cell_type": "code",
   "execution_count": null,
   "id": "73f1c90b",
   "metadata": {},
   "outputs": [],
   "source": [
    "np.unique(okru_data[\"tconst\"]).size"
   ]
  },
  {
   "cell_type": "code",
   "execution_count": null,
   "id": "8cf91fe3",
   "metadata": {},
   "outputs": [],
   "source": [
    "okru_data.to_csv(\"/Users/timdunn/Desktop/starting_okru.csv\", columns=[\"tconst\", \"link url\"], index=False)"
   ]
  },
  {
   "cell_type": "code",
   "execution_count": null,
   "id": "eea19dd9",
   "metadata": {},
   "outputs": [],
   "source": [
    "okru_data = concating_okru_data()"
   ]
  },
  {
   "cell_type": "code",
   "execution_count": null,
   "id": "308da44e",
   "metadata": {},
   "outputs": [],
   "source": [
    "np.unique(okru_data[\"tconst\"]).size"
   ]
  },
  {
   "cell_type": "code",
   "execution_count": null,
   "id": "c2af458e",
   "metadata": {},
   "outputs": [],
   "source": [
    "import glob"
   ]
  },
  {
   "cell_type": "code",
   "execution_count": null,
   "id": "f4b093bb",
   "metadata": {},
   "outputs": [],
   "source": [
    "path = \"/Users/timdunn/Downloads/Feature Films _ Free Movies _ Free Download, Borrow and Streaming _ Internet Archive.html\"\n",
    "archives_soup = soup_from_path(path)"
   ]
  },
  {
   "cell_type": "code",
   "execution_count": null,
   "id": "77694dd4",
   "metadata": {},
   "outputs": [],
   "source": [
    "archive_df = df_for_archives(archives_soup)"
   ]
  },
  {
   "cell_type": "code",
   "execution_count": null,
   "id": "609310aa",
   "metadata": {},
   "outputs": [],
   "source": [
    "archive_df = df_w_guessit_movies(archive_df)"
   ]
  },
  {
   "cell_type": "code",
   "execution_count": null,
   "id": "731e8b50",
   "metadata": {},
   "outputs": [],
   "source": [
    "archive_df"
   ]
  },
  {
   "cell_type": "code",
   "execution_count": null,
   "id": "1df67a4c",
   "metadata": {},
   "outputs": [],
   "source": [
    "sample_conversion_string = archive_df.loc[0, \"searchable_movie_name\"]"
   ]
  },
  {
   "cell_type": "code",
   "execution_count": null,
   "id": "d9bccc54",
   "metadata": {},
   "outputs": [],
   "source": [
    "searchable_movie_name('\"*something*\"')"
   ]
  },
  {
   "cell_type": "code",
   "execution_count": null,
   "id": "bcc02a08",
   "metadata": {},
   "outputs": [],
   "source": [
    "imdb_df = create_imdb_df()"
   ]
  },
  {
   "cell_type": "code",
   "execution_count": null,
   "id": "1a7da264",
   "metadata": {},
   "outputs": [],
   "source": [
    "imdb_df.columns"
   ]
  },
  {
   "cell_type": "code",
   "execution_count": null,
   "id": "0362d2d6",
   "metadata": {},
   "outputs": [],
   "source": [
    "merged_archive_df = merge_file_path_df_imdb(archive_df, imdb_df)"
   ]
  },
  {
   "cell_type": "code",
   "execution_count": null,
   "id": "768d1ab0",
   "metadata": {},
   "outputs": [],
   "source": [
    "imdb_df"
   ]
  },
  {
   "cell_type": "code",
   "execution_count": null,
   "id": "bb74c1ad",
   "metadata": {},
   "outputs": [],
   "source": [
    "okru_data.columns"
   ]
  },
  {
   "cell_type": "code",
   "execution_count": null,
   "id": "7e4e27c9",
   "metadata": {},
   "outputs": [],
   "source": [
    "merged_okru_df = merge_file_path_df_imdb(okru_data.drop([\"tconst\"], axis=1), imdb_df)"
   ]
  },
  {
   "cell_type": "code",
   "execution_count": null,
   "id": "ae9cd482",
   "metadata": {},
   "outputs": [],
   "source": [
    "merged_okru_df.drop_duplicates(subset=[\"tconst\", \"link url\"])"
   ]
  },
  {
   "cell_type": "code",
   "execution_count": null,
   "id": "d4ff39f0",
   "metadata": {},
   "outputs": [],
   "source": [
    "merged_okru_df.drop_duplicates(subset=[\"tconst\"])"
   ]
  },
  {
   "cell_type": "code",
   "execution_count": null,
   "id": "f2aad461",
   "metadata": {},
   "outputs": [],
   "source": [
    "merged_archive_df = merged_archive_df.drop_duplicates(subset=[\"url\", \"tconst\"])"
   ]
  },
  {
   "cell_type": "code",
   "execution_count": null,
   "id": "cd94d3e7",
   "metadata": {},
   "outputs": [],
   "source": [
    "merged_okru_df.to_csv(\"/Users/timdunn/Desktop/starting_okru.csv\", columns=[\"tconst\", \"link url\"], index=False)"
   ]
  },
  {
   "cell_type": "code",
   "execution_count": null,
   "id": "b1d7c490",
   "metadata": {},
   "outputs": [],
   "source": [
    "merged_archive_df.to_csv(\"/Users/timdunn/Desktop/starting_archive.csv\", columns=[\"tconst\", \"url\"], index=False)"
   ]
  }
 ],
 "metadata": {
  "kernelspec": {
   "display_name": "Python 3 (ipykernel)",
   "language": "python",
   "name": "python3"
  },
  "language_info": {
   "codemirror_mode": {
    "name": "ipython",
    "version": 3
   },
   "file_extension": ".py",
   "mimetype": "text/x-python",
   "name": "python",
   "nbconvert_exporter": "python",
   "pygments_lexer": "ipython3",
   "version": "3.9.7"
  }
 },
 "nbformat": 4,
 "nbformat_minor": 5
}
