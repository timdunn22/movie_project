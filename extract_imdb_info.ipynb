{
 "cells": [
  {
   "cell_type": "code",
   "execution_count": 1,
   "id": "cea252a4",
   "metadata": {},
   "outputs": [],
   "source": [
    "import pandas as pd"
   ]
  },
  {
   "cell_type": "code",
   "execution_count": 2,
   "id": "34c8a351",
   "metadata": {},
   "outputs": [],
   "source": [
    "from all_processes.load_yaml_vars import LoadYamlVars"
   ]
  },
  {
   "cell_type": "code",
   "execution_count": 3,
   "id": "403f47f7",
   "metadata": {},
   "outputs": [],
   "source": [
    "load_object = LoadYamlVars('/Users/timdunn/movie_project/all_processes/movie_configuration.yaml')"
   ]
  },
  {
   "cell_type": "code",
   "execution_count": 4,
   "id": "8dac033d",
   "metadata": {},
   "outputs": [],
   "source": [
    "titleS = pd.read_csv(load_object.imdb_title_path, sep='\\t', usecols=['tconst', 'titleType'])"
   ]
  },
  {
   "cell_type": "code",
   "execution_count": 5,
   "id": "425b036d",
   "metadata": {},
   "outputs": [],
   "source": [
    "from common_methods import *"
   ]
  },
  {
   "cell_type": "code",
   "execution_count": 6,
   "id": "84c3c60d",
   "metadata": {},
   "outputs": [],
   "source": [
    "imdb_data = reset_and_copy(titleS.loc[titleS['titleType'].isin(['movie', 'video', 'tvMovie'])])"
   ]
  },
  {
   "cell_type": "code",
   "execution_count": 8,
   "id": "10f53bd7",
   "metadata": {},
   "outputs": [],
   "source": [
    "extras = pd.read_csv('/Users/timdunn/Desktop/imdb_extras.csv', usecols=['tconst'])"
   ]
  },
  {
   "cell_type": "code",
   "execution_count": 9,
   "id": "ff82d968",
   "metadata": {},
   "outputs": [],
   "source": [
    "extras_left = reset_and_copy(imdb_data.loc[~imdb_data['tconst'].isin(extras['tconst'])])"
   ]
  },
  {
   "cell_type": "code",
   "execution_count": 11,
   "id": "22ce24ab",
   "metadata": {},
   "outputs": [
    {
     "data": {
      "text/html": [
       "<div>\n",
       "<style scoped>\n",
       "    .dataframe tbody tr th:only-of-type {\n",
       "        vertical-align: middle;\n",
       "    }\n",
       "\n",
       "    .dataframe tbody tr th {\n",
       "        vertical-align: top;\n",
       "    }\n",
       "\n",
       "    .dataframe thead th {\n",
       "        text-align: right;\n",
       "    }\n",
       "</style>\n",
       "<table border=\"1\" class=\"dataframe\">\n",
       "  <thead>\n",
       "    <tr style=\"text-align: right;\">\n",
       "      <th></th>\n",
       "      <th>tconst</th>\n",
       "      <th>titleType</th>\n",
       "    </tr>\n",
       "  </thead>\n",
       "  <tbody>\n",
       "    <tr>\n",
       "      <th>86733</th>\n",
       "      <td>tt0114180</td>\n",
       "      <td>tvMovie</td>\n",
       "    </tr>\n",
       "    <tr>\n",
       "      <th>86734</th>\n",
       "      <td>tt0114181</td>\n",
       "      <td>tvMovie</td>\n",
       "    </tr>\n",
       "    <tr>\n",
       "      <th>86735</th>\n",
       "      <td>tt0114182</td>\n",
       "      <td>tvMovie</td>\n",
       "    </tr>\n",
       "    <tr>\n",
       "      <th>208191</th>\n",
       "      <td>tt0317132</td>\n",
       "      <td>movie</td>\n",
       "    </tr>\n",
       "    <tr>\n",
       "      <th>240295</th>\n",
       "      <td>tt0379975</td>\n",
       "      <td>movie</td>\n",
       "    </tr>\n",
       "    <tr>\n",
       "      <th>...</th>\n",
       "      <td>...</td>\n",
       "      <td>...</td>\n",
       "    </tr>\n",
       "    <tr>\n",
       "      <th>1046812</th>\n",
       "      <td>tt9611872</td>\n",
       "      <td>movie</td>\n",
       "    </tr>\n",
       "    <tr>\n",
       "      <th>1046813</th>\n",
       "      <td>tt9611876</td>\n",
       "      <td>movie</td>\n",
       "    </tr>\n",
       "    <tr>\n",
       "      <th>1051241</th>\n",
       "      <td>tt9759072</td>\n",
       "      <td>movie</td>\n",
       "    </tr>\n",
       "    <tr>\n",
       "      <th>1055959</th>\n",
       "      <td>tt9916730</td>\n",
       "      <td>movie</td>\n",
       "    </tr>\n",
       "    <tr>\n",
       "      <th>1055960</th>\n",
       "      <td>tt9916754</td>\n",
       "      <td>movie</td>\n",
       "    </tr>\n",
       "  </tbody>\n",
       "</table>\n",
       "<p>134071 rows × 2 columns</p>\n",
       "</div>"
      ],
      "text/plain": [
       "            tconst titleType\n",
       "86733    tt0114180   tvMovie\n",
       "86734    tt0114181   tvMovie\n",
       "86735    tt0114182   tvMovie\n",
       "208191   tt0317132     movie\n",
       "240295   tt0379975     movie\n",
       "...            ...       ...\n",
       "1046812  tt9611872     movie\n",
       "1046813  tt9611876     movie\n",
       "1051241  tt9759072     movie\n",
       "1055959  tt9916730     movie\n",
       "1055960  tt9916754     movie\n",
       "\n",
       "[134071 rows x 2 columns]"
      ]
     },
     "execution_count": 11,
     "metadata": {},
     "output_type": "execute_result"
    }
   ],
   "source": [
    "imdb_data.loc[~imdb_data['tconst'].isin(extras['tconst'])]"
   ]
  },
  {
   "cell_type": "code",
   "execution_count": 10,
   "id": "690b924a",
   "metadata": {},
   "outputs": [
    {
     "data": {
      "text/html": [
       "<div>\n",
       "<style scoped>\n",
       "    .dataframe tbody tr th:only-of-type {\n",
       "        vertical-align: middle;\n",
       "    }\n",
       "\n",
       "    .dataframe tbody tr th {\n",
       "        vertical-align: top;\n",
       "    }\n",
       "\n",
       "    .dataframe thead th {\n",
       "        text-align: right;\n",
       "    }\n",
       "</style>\n",
       "<table border=\"1\" class=\"dataframe\">\n",
       "  <thead>\n",
       "    <tr style=\"text-align: right;\">\n",
       "      <th></th>\n",
       "      <th>tconst</th>\n",
       "      <th>titleType</th>\n",
       "    </tr>\n",
       "  </thead>\n",
       "  <tbody>\n",
       "    <tr>\n",
       "      <th>0</th>\n",
       "      <td>tt0114180</td>\n",
       "      <td>tvMovie</td>\n",
       "    </tr>\n",
       "    <tr>\n",
       "      <th>1</th>\n",
       "      <td>tt0114181</td>\n",
       "      <td>tvMovie</td>\n",
       "    </tr>\n",
       "    <tr>\n",
       "      <th>2</th>\n",
       "      <td>tt0114182</td>\n",
       "      <td>tvMovie</td>\n",
       "    </tr>\n",
       "    <tr>\n",
       "      <th>3</th>\n",
       "      <td>tt0317132</td>\n",
       "      <td>movie</td>\n",
       "    </tr>\n",
       "    <tr>\n",
       "      <th>4</th>\n",
       "      <td>tt0379975</td>\n",
       "      <td>movie</td>\n",
       "    </tr>\n",
       "    <tr>\n",
       "      <th>...</th>\n",
       "      <td>...</td>\n",
       "      <td>...</td>\n",
       "    </tr>\n",
       "    <tr>\n",
       "      <th>134066</th>\n",
       "      <td>tt9611872</td>\n",
       "      <td>movie</td>\n",
       "    </tr>\n",
       "    <tr>\n",
       "      <th>134067</th>\n",
       "      <td>tt9611876</td>\n",
       "      <td>movie</td>\n",
       "    </tr>\n",
       "    <tr>\n",
       "      <th>134068</th>\n",
       "      <td>tt9759072</td>\n",
       "      <td>movie</td>\n",
       "    </tr>\n",
       "    <tr>\n",
       "      <th>134069</th>\n",
       "      <td>tt9916730</td>\n",
       "      <td>movie</td>\n",
       "    </tr>\n",
       "    <tr>\n",
       "      <th>134070</th>\n",
       "      <td>tt9916754</td>\n",
       "      <td>movie</td>\n",
       "    </tr>\n",
       "  </tbody>\n",
       "</table>\n",
       "<p>134071 rows × 2 columns</p>\n",
       "</div>"
      ],
      "text/plain": [
       "           tconst titleType\n",
       "0       tt0114180   tvMovie\n",
       "1       tt0114181   tvMovie\n",
       "2       tt0114182   tvMovie\n",
       "3       tt0317132     movie\n",
       "4       tt0379975     movie\n",
       "...           ...       ...\n",
       "134066  tt9611872     movie\n",
       "134067  tt9611876     movie\n",
       "134068  tt9759072     movie\n",
       "134069  tt9916730     movie\n",
       "134070  tt9916754     movie\n",
       "\n",
       "[134071 rows x 2 columns]"
      ]
     },
     "execution_count": 10,
     "metadata": {},
     "output_type": "execute_result"
    }
   ],
   "source": [
    "extras_left"
   ]
  },
  {
   "cell_type": "code",
   "execution_count": 7,
   "id": "060d3da4",
   "metadata": {},
   "outputs": [
    {
     "data": {
      "text/html": [
       "<div>\n",
       "<style scoped>\n",
       "    .dataframe tbody tr th:only-of-type {\n",
       "        vertical-align: middle;\n",
       "    }\n",
       "\n",
       "    .dataframe tbody tr th {\n",
       "        vertical-align: top;\n",
       "    }\n",
       "\n",
       "    .dataframe thead th {\n",
       "        text-align: right;\n",
       "    }\n",
       "</style>\n",
       "<table border=\"1\" class=\"dataframe\">\n",
       "  <thead>\n",
       "    <tr style=\"text-align: right;\">\n",
       "      <th></th>\n",
       "      <th>tconst</th>\n",
       "      <th>titleType</th>\n",
       "    </tr>\n",
       "  </thead>\n",
       "  <tbody>\n",
       "    <tr>\n",
       "      <th>0</th>\n",
       "      <td>tt0000009</td>\n",
       "      <td>movie</td>\n",
       "    </tr>\n",
       "    <tr>\n",
       "      <th>1</th>\n",
       "      <td>tt0000147</td>\n",
       "      <td>movie</td>\n",
       "    </tr>\n",
       "    <tr>\n",
       "      <th>2</th>\n",
       "      <td>tt0000502</td>\n",
       "      <td>movie</td>\n",
       "    </tr>\n",
       "    <tr>\n",
       "      <th>3</th>\n",
       "      <td>tt0000574</td>\n",
       "      <td>movie</td>\n",
       "    </tr>\n",
       "    <tr>\n",
       "      <th>4</th>\n",
       "      <td>tt0000591</td>\n",
       "      <td>movie</td>\n",
       "    </tr>\n",
       "    <tr>\n",
       "      <th>...</th>\n",
       "      <td>...</td>\n",
       "      <td>...</td>\n",
       "    </tr>\n",
       "    <tr>\n",
       "      <th>1055956</th>\n",
       "      <td>tt9916680</td>\n",
       "      <td>movie</td>\n",
       "    </tr>\n",
       "    <tr>\n",
       "      <th>1055957</th>\n",
       "      <td>tt9916692</td>\n",
       "      <td>tvMovie</td>\n",
       "    </tr>\n",
       "    <tr>\n",
       "      <th>1055958</th>\n",
       "      <td>tt9916706</td>\n",
       "      <td>movie</td>\n",
       "    </tr>\n",
       "    <tr>\n",
       "      <th>1055959</th>\n",
       "      <td>tt9916730</td>\n",
       "      <td>movie</td>\n",
       "    </tr>\n",
       "    <tr>\n",
       "      <th>1055960</th>\n",
       "      <td>tt9916754</td>\n",
       "      <td>movie</td>\n",
       "    </tr>\n",
       "  </tbody>\n",
       "</table>\n",
       "<p>1055961 rows × 2 columns</p>\n",
       "</div>"
      ],
      "text/plain": [
       "            tconst titleType\n",
       "0        tt0000009     movie\n",
       "1        tt0000147     movie\n",
       "2        tt0000502     movie\n",
       "3        tt0000574     movie\n",
       "4        tt0000591     movie\n",
       "...            ...       ...\n",
       "1055956  tt9916680     movie\n",
       "1055957  tt9916692   tvMovie\n",
       "1055958  tt9916706     movie\n",
       "1055959  tt9916730     movie\n",
       "1055960  tt9916754     movie\n",
       "\n",
       "[1055961 rows x 2 columns]"
      ]
     },
     "execution_count": 7,
     "metadata": {},
     "output_type": "execute_result"
    }
   ],
   "source": [
    "imdb_data"
   ]
  },
  {
   "cell_type": "code",
   "execution_count": null,
   "id": "7cbeaddc",
   "metadata": {},
   "outputs": [],
   "source": [
    "imdb_main_path = '/Users/timdunn/Desktop/'"
   ]
  },
  {
   "cell_type": "code",
   "execution_count": null,
   "id": "4570c0b2",
   "metadata": {},
   "outputs": [],
   "source": [
    "from all_processes.add_all_imdb_info import AddAllImdbInfo"
   ]
  },
  {
   "cell_type": "code",
   "execution_count": null,
   "id": "024b8b11",
   "metadata": {},
   "outputs": [],
   "source": [
    "imdb_info_object = AddAllImdbInfo(\n",
    "    configuration_file='/Users/timdunn/movie_project/all_processes/movie_configuration.yaml')"
   ]
  },
  {
   "cell_type": "code",
   "execution_count": null,
   "id": "b61eb43b",
   "metadata": {},
   "outputs": [],
   "source": [
    "imdb_info_object.run_with_exceptions(30)"
   ]
  },
  {
   "cell_type": "code",
   "execution_count": null,
   "id": "fc09697c",
   "metadata": {},
   "outputs": [],
   "source": []
  }
 ],
 "metadata": {
  "kernelspec": {
   "display_name": "Python 3 (ipykernel)",
   "language": "python",
   "name": "python3"
  },
  "language_info": {
   "codemirror_mode": {
    "name": "ipython",
    "version": 3
   },
   "file_extension": ".py",
   "mimetype": "text/x-python",
   "name": "python",
   "nbconvert_exporter": "python",
   "pygments_lexer": "ipython3",
   "version": "3.9.7"
  }
 },
 "nbformat": 4,
 "nbformat_minor": 5
}
