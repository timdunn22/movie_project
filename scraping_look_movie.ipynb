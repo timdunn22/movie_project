{
 "cells": [
  {
   "cell_type": "code",
   "execution_count": 1,
   "id": "11010f52",
   "metadata": {},
   "outputs": [
    {
     "name": "stdout",
     "output_type": "stream",
     "text": [
      "Collecting m3u8\n",
      "  Downloading m3u8-3.4.0-py3-none-any.whl (24 kB)\n",
      "Collecting iso8601\n",
      "  Downloading iso8601-1.1.0-py3-none-any.whl (9.9 kB)\n",
      "Installing collected packages: iso8601, m3u8\n",
      "Successfully installed iso8601-1.1.0 m3u8-3.4.0\n"
     ]
    }
   ],
   "source": [
    "!pip install m3u8"
   ]
  },
  {
   "cell_type": "code",
   "execution_count": 4,
   "id": "973b44eb",
   "metadata": {},
   "outputs": [],
   "source": [
    "import m3u8"
   ]
  },
  {
   "cell_type": "code",
   "execution_count": 5,
   "id": "7169b2f1",
   "metadata": {},
   "outputs": [],
   "source": [
    "playlist = m3u8.load('/Users/timdunn/Downloads/index.m3u8')"
   ]
  },
  {
   "cell_type": "code",
   "execution_count": 7,
   "id": "b838a86f",
   "metadata": {},
   "outputs": [
    {
     "data": {
      "text/plain": [
       "'#EXTM3U\\n#EXT-X-MEDIA-SEQUENCE:1\\n#EXT-X-ALLOW-CACHE:YES\\n#EXT-X-VERSION:3\\n#EXT-X-TARGETDURATION:8\\n#EXT-X-PLAYLIST-TYPE:VOD\\n#EXTINF:8,\\nseg-1-v1-a1.ts\\n#EXTINF:8,\\nseg-2-v1-a1.ts\\n#EXTINF:8,\\nseg-3-v1-a1.ts\\n#EXTINF:8,\\nseg-4-v1-a1.ts\\n#EXTINF:8,\\nseg-5-v1-a1.ts\\n#EXTINF:8,\\nseg-6-v1-a1.ts\\n#EXTINF:8,\\nseg-7-v1-a1.ts\\n#EXTINF:8,\\nseg-8-v1-a1.ts\\n#EXTINF:8,\\nseg-9-v1-a1.ts\\n#EXTINF:8,\\nseg-10-v1-a1.ts\\n#EXTINF:8,\\nseg-11-v1-a1.ts\\n#EXTINF:8,\\nseg-12-v1-a1.ts\\n#EXTINF:8,\\nseg-13-v1-a1.ts\\n#EXTINF:8,\\nseg-14-v1-a1.ts\\n#EXTINF:8,\\nseg-15-v1-a1.ts\\n#EXTINF:8,\\nseg-16-v1-a1.ts\\n#EXTINF:8,\\nseg-17-v1-a1.ts\\n#EXTINF:8,\\nseg-18-v1-a1.ts\\n#EXTINF:8,\\nseg-19-v1-a1.ts\\n#EXTINF:8,\\nseg-20-v1-a1.ts\\n#EXTINF:8,\\nseg-21-v1-a1.ts\\n#EXTINF:8,\\nseg-22-v1-a1.ts\\n#EXTINF:8,\\nseg-23-v1-a1.ts\\n#EXTINF:8,\\nseg-24-v1-a1.ts\\n#EXTINF:8,\\nseg-25-v1-a1.ts\\n#EXTINF:8,\\nseg-26-v1-a1.ts\\n#EXTINF:8,\\nseg-27-v1-a1.ts\\n#EXTINF:8,\\nseg-28-v1-a1.ts\\n#EXTINF:8,\\nseg-29-v1-a1.ts\\n#EXTINF:8,\\nseg-30-v1-a1.ts\\n#EXTINF:8,\\nseg-31-v1-a1.ts\\n#EXTINF:8,\\nseg-32-v1-a1.ts\\n#EXTINF:8,\\nseg-33-v1-a1.ts\\n#EXTINF:8,\\nseg-34-v1-a1.ts\\n#EXTINF:8,\\nseg-35-v1-a1.ts\\n#EXTINF:8,\\nseg-36-v1-a1.ts\\n#EXTINF:8,\\nseg-37-v1-a1.ts\\n#EXTINF:8,\\nseg-38-v1-a1.ts\\n#EXTINF:8,\\nseg-39-v1-a1.ts\\n#EXTINF:8,\\nseg-40-v1-a1.ts\\n#EXTINF:8,\\nseg-41-v1-a1.ts\\n#EXTINF:8,\\nseg-42-v1-a1.ts\\n#EXTINF:8,\\nseg-43-v1-a1.ts\\n#EXTINF:8,\\nseg-44-v1-a1.ts\\n#EXTINF:8,\\nseg-45-v1-a1.ts\\n#EXTINF:8,\\nseg-46-v1-a1.ts\\n#EXTINF:8,\\nseg-47-v1-a1.ts\\n#EXTINF:8,\\nseg-48-v1-a1.ts\\n#EXTINF:8,\\nseg-49-v1-a1.ts\\n#EXTINF:8,\\nseg-50-v1-a1.ts\\n#EXTINF:8,\\nseg-51-v1-a1.ts\\n#EXTINF:8,\\nseg-52-v1-a1.ts\\n#EXTINF:8,\\nseg-53-v1-a1.ts\\n#EXTINF:8,\\nseg-54-v1-a1.ts\\n#EXTINF:8,\\nseg-55-v1-a1.ts\\n#EXTINF:8,\\nseg-56-v1-a1.ts\\n#EXTINF:8,\\nseg-57-v1-a1.ts\\n#EXTINF:8,\\nseg-58-v1-a1.ts\\n#EXTINF:8,\\nseg-59-v1-a1.ts\\n#EXTINF:8,\\nseg-60-v1-a1.ts\\n#EXTINF:8,\\nseg-61-v1-a1.ts\\n#EXTINF:8,\\nseg-62-v1-a1.ts\\n#EXTINF:8,\\nseg-63-v1-a1.ts\\n#EXTINF:8,\\nseg-64-v1-a1.ts\\n#EXTINF:8,\\nseg-65-v1-a1.ts\\n#EXTINF:8,\\nseg-66-v1-a1.ts\\n#EXTINF:8,\\nseg-67-v1-a1.ts\\n#EXTINF:8,\\nseg-68-v1-a1.ts\\n#EXTINF:8,\\nseg-69-v1-a1.ts\\n#EXTINF:8,\\nseg-70-v1-a1.ts\\n#EXTINF:8,\\nseg-71-v1-a1.ts\\n#EXTINF:8,\\nseg-72-v1-a1.ts\\n#EXTINF:8,\\nseg-73-v1-a1.ts\\n#EXTINF:8,\\nseg-74-v1-a1.ts\\n#EXTINF:8,\\nseg-75-v1-a1.ts\\n#EXTINF:8,\\nseg-76-v1-a1.ts\\n#EXTINF:8,\\nseg-77-v1-a1.ts\\n#EXTINF:8,\\nseg-78-v1-a1.ts\\n#EXTINF:8,\\nseg-79-v1-a1.ts\\n#EXTINF:8,\\nseg-80-v1-a1.ts\\n#EXTINF:8,\\nseg-81-v1-a1.ts\\n#EXTINF:8,\\nseg-82-v1-a1.ts\\n#EXTINF:8,\\nseg-83-v1-a1.ts\\n#EXTINF:8,\\nseg-84-v1-a1.ts\\n#EXTINF:8,\\nseg-85-v1-a1.ts\\n#EXTINF:8,\\nseg-86-v1-a1.ts\\n#EXTINF:8,\\nseg-87-v1-a1.ts\\n#EXTINF:8,\\nseg-88-v1-a1.ts\\n#EXTINF:8,\\nseg-89-v1-a1.ts\\n#EXTINF:8,\\nseg-90-v1-a1.ts\\n#EXTINF:8,\\nseg-91-v1-a1.ts\\n#EXTINF:8,\\nseg-92-v1-a1.ts\\n#EXTINF:8,\\nseg-93-v1-a1.ts\\n#EXTINF:8,\\nseg-94-v1-a1.ts\\n#EXTINF:8,\\nseg-95-v1-a1.ts\\n#EXTINF:8,\\nseg-96-v1-a1.ts\\n#EXTINF:8,\\nseg-97-v1-a1.ts\\n#EXTINF:8,\\nseg-98-v1-a1.ts\\n#EXTINF:8,\\nseg-99-v1-a1.ts\\n#EXTINF:8,\\nseg-100-v1-a1.ts\\n#EXTINF:8,\\nseg-101-v1-a1.ts\\n#EXTINF:8,\\nseg-102-v1-a1.ts\\n#EXTINF:8,\\nseg-103-v1-a1.ts\\n#EXTINF:8,\\nseg-104-v1-a1.ts\\n#EXTINF:8,\\nseg-105-v1-a1.ts\\n#EXTINF:8,\\nseg-106-v1-a1.ts\\n#EXTINF:8,\\nseg-107-v1-a1.ts\\n#EXTINF:8,\\nseg-108-v1-a1.ts\\n#EXTINF:8,\\nseg-109-v1-a1.ts\\n#EXTINF:8,\\nseg-110-v1-a1.ts\\n#EXTINF:8,\\nseg-111-v1-a1.ts\\n#EXTINF:8,\\nseg-112-v1-a1.ts\\n#EXTINF:8,\\nseg-113-v1-a1.ts\\n#EXTINF:8,\\nseg-114-v1-a1.ts\\n#EXTINF:8,\\nseg-115-v1-a1.ts\\n#EXTINF:8,\\nseg-116-v1-a1.ts\\n#EXTINF:8,\\nseg-117-v1-a1.ts\\n#EXTINF:8,\\nseg-118-v1-a1.ts\\n#EXTINF:8,\\nseg-119-v1-a1.ts\\n#EXTINF:8,\\nseg-120-v1-a1.ts\\n#EXTINF:8,\\nseg-121-v1-a1.ts\\n#EXTINF:8,\\nseg-122-v1-a1.ts\\n#EXTINF:8,\\nseg-123-v1-a1.ts\\n#EXTINF:8,\\nseg-124-v1-a1.ts\\n#EXTINF:8,\\nseg-125-v1-a1.ts\\n#EXTINF:8,\\nseg-126-v1-a1.ts\\n#EXTINF:8,\\nseg-127-v1-a1.ts\\n#EXTINF:8,\\nseg-128-v1-a1.ts\\n#EXTINF:8,\\nseg-129-v1-a1.ts\\n#EXTINF:8,\\nseg-130-v1-a1.ts\\n#EXTINF:8,\\nseg-131-v1-a1.ts\\n#EXTINF:8,\\nseg-132-v1-a1.ts\\n#EXTINF:8,\\nseg-133-v1-a1.ts\\n#EXTINF:8,\\nseg-134-v1-a1.ts\\n#EXTINF:8,\\nseg-135-v1-a1.ts\\n#EXTINF:8,\\nseg-136-v1-a1.ts\\n#EXTINF:8,\\nseg-137-v1-a1.ts\\n#EXTINF:8,\\nseg-138-v1-a1.ts\\n#EXTINF:8,\\nseg-139-v1-a1.ts\\n#EXTINF:8,\\nseg-140-v1-a1.ts\\n#EXTINF:8,\\nseg-141-v1-a1.ts\\n#EXTINF:8,\\nseg-142-v1-a1.ts\\n#EXTINF:8,\\nseg-143-v1-a1.ts\\n#EXTINF:8,\\nseg-144-v1-a1.ts\\n#EXTINF:8,\\nseg-145-v1-a1.ts\\n#EXTINF:8,\\nseg-146-v1-a1.ts\\n#EXTINF:8,\\nseg-147-v1-a1.ts\\n#EXTINF:8,\\nseg-148-v1-a1.ts\\n#EXTINF:8,\\nseg-149-v1-a1.ts\\n#EXTINF:8,\\nseg-150-v1-a1.ts\\n#EXTINF:8,\\nseg-151-v1-a1.ts\\n#EXTINF:8,\\nseg-152-v1-a1.ts\\n#EXTINF:8,\\nseg-153-v1-a1.ts\\n#EXTINF:8,\\nseg-154-v1-a1.ts\\n#EXTINF:8,\\nseg-155-v1-a1.ts\\n#EXTINF:8,\\nseg-156-v1-a1.ts\\n#EXTINF:8,\\nseg-157-v1-a1.ts\\n#EXTINF:8,\\nseg-158-v1-a1.ts\\n#EXTINF:8,\\nseg-159-v1-a1.ts\\n#EXTINF:8,\\nseg-160-v1-a1.ts\\n#EXTINF:8,\\nseg-161-v1-a1.ts\\n#EXTINF:8,\\nseg-162-v1-a1.ts\\n#EXTINF:8,\\nseg-163-v1-a1.ts\\n#EXTINF:8,\\nseg-164-v1-a1.ts\\n#EXTINF:8,\\nseg-165-v1-a1.ts\\n#EXTINF:8,\\nseg-166-v1-a1.ts\\n#EXTINF:8,\\nseg-167-v1-a1.ts\\n#EXTINF:8,\\nseg-168-v1-a1.ts\\n#EXTINF:8,\\nseg-169-v1-a1.ts\\n#EXTINF:8,\\nseg-170-v1-a1.ts\\n#EXTINF:8,\\nseg-171-v1-a1.ts\\n#EXTINF:8,\\nseg-172-v1-a1.ts\\n#EXTINF:8,\\nseg-173-v1-a1.ts\\n#EXTINF:8,\\nseg-174-v1-a1.ts\\n#EXTINF:8,\\nseg-175-v1-a1.ts\\n#EXTINF:8,\\nseg-176-v1-a1.ts\\n#EXTINF:8,\\nseg-177-v1-a1.ts\\n#EXTINF:8,\\nseg-178-v1-a1.ts\\n#EXTINF:8,\\nseg-179-v1-a1.ts\\n#EXTINF:8,\\nseg-180-v1-a1.ts\\n#EXTINF:8,\\nseg-181-v1-a1.ts\\n#EXTINF:8,\\nseg-182-v1-a1.ts\\n#EXTINF:8,\\nseg-183-v1-a1.ts\\n#EXTINF:8,\\nseg-184-v1-a1.ts\\n#EXTINF:8,\\nseg-185-v1-a1.ts\\n#EXTINF:8,\\nseg-186-v1-a1.ts\\n#EXTINF:8,\\nseg-187-v1-a1.ts\\n#EXTINF:8,\\nseg-188-v1-a1.ts\\n#EXTINF:8,\\nseg-189-v1-a1.ts\\n#EXTINF:8,\\nseg-190-v1-a1.ts\\n#EXTINF:8,\\nseg-191-v1-a1.ts\\n#EXTINF:8,\\nseg-192-v1-a1.ts\\n#EXTINF:8,\\nseg-193-v1-a1.ts\\n#EXTINF:8,\\nseg-194-v1-a1.ts\\n#EXTINF:8,\\nseg-195-v1-a1.ts\\n#EXTINF:8,\\nseg-196-v1-a1.ts\\n#EXTINF:8,\\nseg-197-v1-a1.ts\\n#EXTINF:8,\\nseg-198-v1-a1.ts\\n#EXTINF:8,\\nseg-199-v1-a1.ts\\n#EXTINF:8,\\nseg-200-v1-a1.ts\\n#EXTINF:8,\\nseg-201-v1-a1.ts\\n#EXTINF:8,\\nseg-202-v1-a1.ts\\n#EXTINF:8,\\nseg-203-v1-a1.ts\\n#EXTINF:8,\\nseg-204-v1-a1.ts\\n#EXTINF:8,\\nseg-205-v1-a1.ts\\n#EXTINF:8,\\nseg-206-v1-a1.ts\\n#EXTINF:8,\\nseg-207-v1-a1.ts\\n#EXTINF:8,\\nseg-208-v1-a1.ts\\n#EXTINF:8,\\nseg-209-v1-a1.ts\\n#EXTINF:8,\\nseg-210-v1-a1.ts\\n#EXTINF:8,\\nseg-211-v1-a1.ts\\n#EXTINF:8,\\nseg-212-v1-a1.ts\\n#EXTINF:8,\\nseg-213-v1-a1.ts\\n#EXTINF:8,\\nseg-214-v1-a1.ts\\n#EXTINF:8,\\nseg-215-v1-a1.ts\\n#EXTINF:8,\\nseg-216-v1-a1.ts\\n#EXTINF:8,\\nseg-217-v1-a1.ts\\n#EXTINF:8,\\nseg-218-v1-a1.ts\\n#EXTINF:8,\\nseg-219-v1-a1.ts\\n#EXTINF:8,\\nseg-220-v1-a1.ts\\n#EXTINF:8,\\nseg-221-v1-a1.ts\\n#EXTINF:8,\\nseg-222-v1-a1.ts\\n#EXTINF:8,\\nseg-223-v1-a1.ts\\n#EXTINF:8,\\nseg-224-v1-a1.ts\\n#EXTINF:8,\\nseg-225-v1-a1.ts\\n#EXTINF:8,\\nseg-226-v1-a1.ts\\n#EXTINF:8,\\nseg-227-v1-a1.ts\\n#EXTINF:8,\\nseg-228-v1-a1.ts\\n#EXTINF:8,\\nseg-229-v1-a1.ts\\n#EXTINF:8,\\nseg-230-v1-a1.ts\\n#EXTINF:8,\\nseg-231-v1-a1.ts\\n#EXTINF:8,\\nseg-232-v1-a1.ts\\n#EXTINF:8,\\nseg-233-v1-a1.ts\\n#EXTINF:8,\\nseg-234-v1-a1.ts\\n#EXTINF:8,\\nseg-235-v1-a1.ts\\n#EXTINF:8,\\nseg-236-v1-a1.ts\\n#EXTINF:8,\\nseg-237-v1-a1.ts\\n#EXTINF:8,\\nseg-238-v1-a1.ts\\n#EXTINF:8,\\nseg-239-v1-a1.ts\\n#EXTINF:8,\\nseg-240-v1-a1.ts\\n#EXTINF:8,\\nseg-241-v1-a1.ts\\n#EXTINF:8,\\nseg-242-v1-a1.ts\\n#EXTINF:8,\\nseg-243-v1-a1.ts\\n#EXTINF:8,\\nseg-244-v1-a1.ts\\n#EXTINF:8,\\nseg-245-v1-a1.ts\\n#EXTINF:8,\\nseg-246-v1-a1.ts\\n#EXTINF:8,\\nseg-247-v1-a1.ts\\n#EXTINF:8,\\nseg-248-v1-a1.ts\\n#EXTINF:8,\\nseg-249-v1-a1.ts\\n#EXTINF:8,\\nseg-250-v1-a1.ts\\n#EXTINF:8,\\nseg-251-v1-a1.ts\\n#EXTINF:8,\\nseg-252-v1-a1.ts\\n#EXTINF:8,\\nseg-253-v1-a1.ts\\n#EXTINF:8,\\nseg-254-v1-a1.ts\\n#EXTINF:8,\\nseg-255-v1-a1.ts\\n#EXTINF:8,\\nseg-256-v1-a1.ts\\n#EXTINF:8,\\nseg-257-v1-a1.ts\\n#EXTINF:8,\\nseg-258-v1-a1.ts\\n#EXTINF:8,\\nseg-259-v1-a1.ts\\n#EXTINF:8,\\nseg-260-v1-a1.ts\\n#EXTINF:8,\\nseg-261-v1-a1.ts\\n#EXTINF:8,\\nseg-262-v1-a1.ts\\n#EXTINF:8,\\nseg-263-v1-a1.ts\\n#EXTINF:8,\\nseg-264-v1-a1.ts\\n#EXTINF:8,\\nseg-265-v1-a1.ts\\n#EXTINF:8,\\nseg-266-v1-a1.ts\\n#EXTINF:8,\\nseg-267-v1-a1.ts\\n#EXTINF:8,\\nseg-268-v1-a1.ts\\n#EXTINF:8,\\nseg-269-v1-a1.ts\\n#EXTINF:8,\\nseg-270-v1-a1.ts\\n#EXTINF:8,\\nseg-271-v1-a1.ts\\n#EXTINF:8,\\nseg-272-v1-a1.ts\\n#EXTINF:8,\\nseg-273-v1-a1.ts\\n#EXTINF:8,\\nseg-274-v1-a1.ts\\n#EXTINF:8,\\nseg-275-v1-a1.ts\\n#EXTINF:8,\\nseg-276-v1-a1.ts\\n#EXTINF:8,\\nseg-277-v1-a1.ts\\n#EXTINF:8,\\nseg-278-v1-a1.ts\\n#EXTINF:8,\\nseg-279-v1-a1.ts\\n#EXTINF:8,\\nseg-280-v1-a1.ts\\n#EXTINF:8,\\nseg-281-v1-a1.ts\\n#EXTINF:8,\\nseg-282-v1-a1.ts\\n#EXTINF:8,\\nseg-283-v1-a1.ts\\n#EXTINF:8,\\nseg-284-v1-a1.ts\\n#EXTINF:8,\\nseg-285-v1-a1.ts\\n#EXTINF:8,\\nseg-286-v1-a1.ts\\n#EXTINF:8,\\nseg-287-v1-a1.ts\\n#EXTINF:8,\\nseg-288-v1-a1.ts\\n#EXTINF:8,\\nseg-289-v1-a1.ts\\n#EXTINF:8,\\nseg-290-v1-a1.ts\\n#EXTINF:8,\\nseg-291-v1-a1.ts\\n#EXTINF:8,\\nseg-292-v1-a1.ts\\n#EXTINF:8,\\nseg-293-v1-a1.ts\\n#EXTINF:8,\\nseg-294-v1-a1.ts\\n#EXTINF:8,\\nseg-295-v1-a1.ts\\n#EXTINF:8,\\nseg-296-v1-a1.ts\\n#EXTINF:8,\\nseg-297-v1-a1.ts\\n#EXTINF:8,\\nseg-298-v1-a1.ts\\n#EXTINF:8,\\nseg-299-v1-a1.ts\\n#EXTINF:8,\\nseg-300-v1-a1.ts\\n#EXTINF:8,\\nseg-301-v1-a1.ts\\n#EXTINF:8,\\nseg-302-v1-a1.ts\\n#EXTINF:8,\\nseg-303-v1-a1.ts\\n#EXTINF:8,\\nseg-304-v1-a1.ts\\n#EXTINF:8,\\nseg-305-v1-a1.ts\\n#EXTINF:8,\\nseg-306-v1-a1.ts\\n#EXTINF:8,\\nseg-307-v1-a1.ts\\n#EXTINF:8,\\nseg-308-v1-a1.ts\\n#EXTINF:8,\\nseg-309-v1-a1.ts\\n#EXTINF:8,\\nseg-310-v1-a1.ts\\n#EXTINF:8,\\nseg-311-v1-a1.ts\\n#EXTINF:8,\\nseg-312-v1-a1.ts\\n#EXTINF:8,\\nseg-313-v1-a1.ts\\n#EXTINF:8,\\nseg-314-v1-a1.ts\\n#EXTINF:8,\\nseg-315-v1-a1.ts\\n#EXTINF:8,\\nseg-316-v1-a1.ts\\n#EXTINF:8,\\nseg-317-v1-a1.ts\\n#EXTINF:8,\\nseg-318-v1-a1.ts\\n#EXTINF:8,\\nseg-319-v1-a1.ts\\n#EXTINF:8,\\nseg-320-v1-a1.ts\\n#EXTINF:8,\\nseg-321-v1-a1.ts\\n#EXTINF:8,\\nseg-322-v1-a1.ts\\n#EXTINF:8,\\nseg-323-v1-a1.ts\\n#EXTINF:8,\\nseg-324-v1-a1.ts\\n#EXTINF:8,\\nseg-325-v1-a1.ts\\n#EXTINF:8,\\nseg-326-v1-a1.ts\\n#EXTINF:8,\\nseg-327-v1-a1.ts\\n#EXTINF:8,\\nseg-328-v1-a1.ts\\n#EXTINF:8,\\nseg-329-v1-a1.ts\\n#EXTINF:8,\\nseg-330-v1-a1.ts\\n#EXTINF:8,\\nseg-331-v1-a1.ts\\n#EXTINF:8,\\nseg-332-v1-a1.ts\\n#EXTINF:8,\\nseg-333-v1-a1.ts\\n#EXTINF:8,\\nseg-334-v1-a1.ts\\n#EXTINF:8,\\nseg-335-v1-a1.ts\\n#EXTINF:8,\\nseg-336-v1-a1.ts\\n#EXTINF:8,\\nseg-337-v1-a1.ts\\n#EXTINF:8,\\nseg-338-v1-a1.ts\\n#EXTINF:8,\\nseg-339-v1-a1.ts\\n#EXTINF:8,\\nseg-340-v1-a1.ts\\n#EXTINF:8,\\nseg-341-v1-a1.ts\\n#EXTINF:8,\\nseg-342-v1-a1.ts\\n#EXTINF:8,\\nseg-343-v1-a1.ts\\n#EXTINF:8,\\nseg-344-v1-a1.ts\\n#EXTINF:8,\\nseg-345-v1-a1.ts\\n#EXTINF:8,\\nseg-346-v1-a1.ts\\n#EXTINF:8,\\nseg-347-v1-a1.ts\\n#EXTINF:8,\\nseg-348-v1-a1.ts\\n#EXTINF:8,\\nseg-349-v1-a1.ts\\n#EXTINF:8,\\nseg-350-v1-a1.ts\\n#EXTINF:8,\\nseg-351-v1-a1.ts\\n#EXTINF:8,\\nseg-352-v1-a1.ts\\n#EXTINF:8,\\nseg-353-v1-a1.ts\\n#EXTINF:8,\\nseg-354-v1-a1.ts\\n#EXTINF:8,\\nseg-355-v1-a1.ts\\n#EXTINF:8,\\nseg-356-v1-a1.ts\\n#EXTINF:8,\\nseg-357-v1-a1.ts\\n#EXTINF:8,\\nseg-358-v1-a1.ts\\n#EXTINF:8,\\nseg-359-v1-a1.ts\\n#EXTINF:8,\\nseg-360-v1-a1.ts\\n#EXTINF:8,\\nseg-361-v1-a1.ts\\n#EXTINF:8,\\nseg-362-v1-a1.ts\\n#EXTINF:8,\\nseg-363-v1-a1.ts\\n#EXTINF:8,\\nseg-364-v1-a1.ts\\n#EXTINF:8,\\nseg-365-v1-a1.ts\\n#EXTINF:8,\\nseg-366-v1-a1.ts\\n#EXTINF:8,\\nseg-367-v1-a1.ts\\n#EXTINF:8,\\nseg-368-v1-a1.ts\\n#EXTINF:8,\\nseg-369-v1-a1.ts\\n#EXTINF:8,\\nseg-370-v1-a1.ts\\n#EXTINF:8,\\nseg-371-v1-a1.ts\\n#EXTINF:8,\\nseg-372-v1-a1.ts\\n#EXTINF:8,\\nseg-373-v1-a1.ts\\n#EXTINF:8,\\nseg-374-v1-a1.ts\\n#EXTINF:8,\\nseg-375-v1-a1.ts\\n#EXTINF:8,\\nseg-376-v1-a1.ts\\n#EXTINF:8,\\nseg-377-v1-a1.ts\\n#EXTINF:8,\\nseg-378-v1-a1.ts\\n#EXTINF:8,\\nseg-379-v1-a1.ts\\n#EXTINF:8,\\nseg-380-v1-a1.ts\\n#EXTINF:8,\\nseg-381-v1-a1.ts\\n#EXTINF:8,\\nseg-382-v1-a1.ts\\n#EXTINF:8,\\nseg-383-v1-a1.ts\\n#EXTINF:8,\\nseg-384-v1-a1.ts\\n#EXTINF:8,\\nseg-385-v1-a1.ts\\n#EXTINF:8,\\nseg-386-v1-a1.ts\\n#EXTINF:8,\\nseg-387-v1-a1.ts\\n#EXTINF:8,\\nseg-388-v1-a1.ts\\n#EXTINF:8,\\nseg-389-v1-a1.ts\\n#EXTINF:8,\\nseg-390-v1-a1.ts\\n#EXTINF:8,\\nseg-391-v1-a1.ts\\n#EXTINF:8,\\nseg-392-v1-a1.ts\\n#EXTINF:8,\\nseg-393-v1-a1.ts\\n#EXTINF:8,\\nseg-394-v1-a1.ts\\n#EXTINF:8,\\nseg-395-v1-a1.ts\\n#EXTINF:8,\\nseg-396-v1-a1.ts\\n#EXTINF:8,\\nseg-397-v1-a1.ts\\n#EXTINF:8,\\nseg-398-v1-a1.ts\\n#EXTINF:8,\\nseg-399-v1-a1.ts\\n#EXTINF:8,\\nseg-400-v1-a1.ts\\n#EXTINF:8,\\nseg-401-v1-a1.ts\\n#EXTINF:8,\\nseg-402-v1-a1.ts\\n#EXTINF:8,\\nseg-403-v1-a1.ts\\n#EXTINF:8,\\nseg-404-v1-a1.ts\\n#EXTINF:8,\\nseg-405-v1-a1.ts\\n#EXTINF:8,\\nseg-406-v1-a1.ts\\n#EXTINF:8,\\nseg-407-v1-a1.ts\\n#EXTINF:8,\\nseg-408-v1-a1.ts\\n#EXTINF:8,\\nseg-409-v1-a1.ts\\n#EXTINF:8,\\nseg-410-v1-a1.ts\\n#EXTINF:8,\\nseg-411-v1-a1.ts\\n#EXTINF:8,\\nseg-412-v1-a1.ts\\n#EXTINF:8,\\nseg-413-v1-a1.ts\\n#EXTINF:8,\\nseg-414-v1-a1.ts\\n#EXTINF:8,\\nseg-415-v1-a1.ts\\n#EXTINF:8,\\nseg-416-v1-a1.ts\\n#EXTINF:8,\\nseg-417-v1-a1.ts\\n#EXTINF:8,\\nseg-418-v1-a1.ts\\n#EXTINF:8,\\nseg-419-v1-a1.ts\\n#EXTINF:8,\\nseg-420-v1-a1.ts\\n#EXTINF:8,\\nseg-421-v1-a1.ts\\n#EXTINF:8,\\nseg-422-v1-a1.ts\\n#EXTINF:8,\\nseg-423-v1-a1.ts\\n#EXTINF:8,\\nseg-424-v1-a1.ts\\n#EXTINF:8,\\nseg-425-v1-a1.ts\\n#EXTINF:8,\\nseg-426-v1-a1.ts\\n#EXTINF:8,\\nseg-427-v1-a1.ts\\n#EXTINF:8,\\nseg-428-v1-a1.ts\\n#EXTINF:8,\\nseg-429-v1-a1.ts\\n#EXTINF:8,\\nseg-430-v1-a1.ts\\n#EXTINF:8,\\nseg-431-v1-a1.ts\\n#EXTINF:8,\\nseg-432-v1-a1.ts\\n#EXTINF:8,\\nseg-433-v1-a1.ts\\n#EXTINF:8,\\nseg-434-v1-a1.ts\\n#EXTINF:8,\\nseg-435-v1-a1.ts\\n#EXTINF:8,\\nseg-436-v1-a1.ts\\n#EXTINF:8,\\nseg-437-v1-a1.ts\\n#EXTINF:8,\\nseg-438-v1-a1.ts\\n#EXTINF:8,\\nseg-439-v1-a1.ts\\n#EXTINF:8,\\nseg-440-v1-a1.ts\\n#EXTINF:8,\\nseg-441-v1-a1.ts\\n#EXTINF:8,\\nseg-442-v1-a1.ts\\n#EXTINF:8,\\nseg-443-v1-a1.ts\\n#EXTINF:8,\\nseg-444-v1-a1.ts\\n#EXTINF:8,\\nseg-445-v1-a1.ts\\n#EXTINF:8,\\nseg-446-v1-a1.ts\\n#EXTINF:8,\\nseg-447-v1-a1.ts\\n#EXTINF:8,\\nseg-448-v1-a1.ts\\n#EXTINF:8,\\nseg-449-v1-a1.ts\\n#EXTINF:8,\\nseg-450-v1-a1.ts\\n#EXTINF:8,\\nseg-451-v1-a1.ts\\n#EXTINF:8,\\nseg-452-v1-a1.ts\\n#EXTINF:8,\\nseg-453-v1-a1.ts\\n#EXTINF:8,\\nseg-454-v1-a1.ts\\n#EXTINF:8,\\nseg-455-v1-a1.ts\\n#EXTINF:8,\\nseg-456-v1-a1.ts\\n#EXTINF:8,\\nseg-457-v1-a1.ts\\n#EXTINF:8,\\nseg-458-v1-a1.ts\\n#EXTINF:8,\\nseg-459-v1-a1.ts\\n#EXTINF:8,\\nseg-460-v1-a1.ts\\n#EXTINF:8,\\nseg-461-v1-a1.ts\\n#EXTINF:8,\\nseg-462-v1-a1.ts\\n#EXTINF:8,\\nseg-463-v1-a1.ts\\n#EXTINF:8,\\nseg-464-v1-a1.ts\\n#EXTINF:8,\\nseg-465-v1-a1.ts\\n#EXTINF:8,\\nseg-466-v1-a1.ts\\n#EXTINF:8,\\nseg-467-v1-a1.ts\\n#EXTINF:8,\\nseg-468-v1-a1.ts\\n#EXTINF:8,\\nseg-469-v1-a1.ts\\n#EXTINF:8,\\nseg-470-v1-a1.ts\\n#EXTINF:8,\\nseg-471-v1-a1.ts\\n#EXTINF:8,\\nseg-472-v1-a1.ts\\n#EXTINF:8,\\nseg-473-v1-a1.ts\\n#EXTINF:8,\\nseg-474-v1-a1.ts\\n#EXTINF:8,\\nseg-475-v1-a1.ts\\n#EXTINF:8,\\nseg-476-v1-a1.ts\\n#EXTINF:8,\\nseg-477-v1-a1.ts\\n#EXTINF:8,\\nseg-478-v1-a1.ts\\n#EXTINF:8,\\nseg-479-v1-a1.ts\\n#EXTINF:8,\\nseg-480-v1-a1.ts\\n#EXTINF:8,\\nseg-481-v1-a1.ts\\n#EXTINF:8,\\nseg-482-v1-a1.ts\\n#EXTINF:8,\\nseg-483-v1-a1.ts\\n#EXTINF:8,\\nseg-484-v1-a1.ts\\n#EXTINF:8,\\nseg-485-v1-a1.ts\\n#EXTINF:8,\\nseg-486-v1-a1.ts\\n#EXTINF:8,\\nseg-487-v1-a1.ts\\n#EXTINF:8,\\nseg-488-v1-a1.ts\\n#EXTINF:8,\\nseg-489-v1-a1.ts\\n#EXTINF:8,\\nseg-490-v1-a1.ts\\n#EXTINF:8,\\nseg-491-v1-a1.ts\\n#EXTINF:8,\\nseg-492-v1-a1.ts\\n#EXTINF:8,\\nseg-493-v1-a1.ts\\n#EXTINF:8,\\nseg-494-v1-a1.ts\\n#EXTINF:8,\\nseg-495-v1-a1.ts\\n#EXTINF:8,\\nseg-496-v1-a1.ts\\n#EXTINF:8,\\nseg-497-v1-a1.ts\\n#EXTINF:8,\\nseg-498-v1-a1.ts\\n#EXTINF:8,\\nseg-499-v1-a1.ts\\n#EXTINF:8,\\nseg-500-v1-a1.ts\\n#EXTINF:8,\\nseg-501-v1-a1.ts\\n#EXTINF:8,\\nseg-502-v1-a1.ts\\n#EXTINF:8,\\nseg-503-v1-a1.ts\\n#EXTINF:8,\\nseg-504-v1-a1.ts\\n#EXTINF:8,\\nseg-505-v1-a1.ts\\n#EXTINF:8,\\nseg-506-v1-a1.ts\\n#EXTINF:8,\\nseg-507-v1-a1.ts\\n#EXTINF:8,\\nseg-508-v1-a1.ts\\n#EXTINF:8,\\nseg-509-v1-a1.ts\\n#EXTINF:8,\\nseg-510-v1-a1.ts\\n#EXTINF:8,\\nseg-511-v1-a1.ts\\n#EXTINF:8,\\nseg-512-v1-a1.ts\\n#EXTINF:8,\\nseg-513-v1-a1.ts\\n#EXTINF:8,\\nseg-514-v1-a1.ts\\n#EXTINF:8,\\nseg-515-v1-a1.ts\\n#EXTINF:8,\\nseg-516-v1-a1.ts\\n#EXTINF:8,\\nseg-517-v1-a1.ts\\n#EXTINF:8,\\nseg-518-v1-a1.ts\\n#EXTINF:8,\\nseg-519-v1-a1.ts\\n#EXTINF:8,\\nseg-520-v1-a1.ts\\n#EXTINF:8,\\nseg-521-v1-a1.ts\\n#EXTINF:8,\\nseg-522-v1-a1.ts\\n#EXTINF:8,\\nseg-523-v1-a1.ts\\n#EXTINF:8,\\nseg-524-v1-a1.ts\\n#EXTINF:8,\\nseg-525-v1-a1.ts\\n#EXTINF:8,\\nseg-526-v1-a1.ts\\n#EXTINF:8,\\nseg-527-v1-a1.ts\\n#EXTINF:8,\\nseg-528-v1-a1.ts\\n#EXTINF:8,\\nseg-529-v1-a1.ts\\n#EXTINF:8,\\nseg-530-v1-a1.ts\\n#EXTINF:8,\\nseg-531-v1-a1.ts\\n#EXTINF:8,\\nseg-532-v1-a1.ts\\n#EXTINF:8,\\nseg-533-v1-a1.ts\\n#EXTINF:8,\\nseg-534-v1-a1.ts\\n#EXTINF:8,\\nseg-535-v1-a1.ts\\n#EXTINF:8,\\nseg-536-v1-a1.ts\\n#EXTINF:8,\\nseg-537-v1-a1.ts\\n#EXTINF:8,\\nseg-538-v1-a1.ts\\n#EXTINF:8,\\nseg-539-v1-a1.ts\\n#EXTINF:8,\\nseg-540-v1-a1.ts\\n#EXTINF:8,\\nseg-541-v1-a1.ts\\n#EXTINF:8,\\nseg-542-v1-a1.ts\\n#EXTINF:8,\\nseg-543-v1-a1.ts\\n#EXTINF:8,\\nseg-544-v1-a1.ts\\n#EXTINF:8,\\nseg-545-v1-a1.ts\\n#EXTINF:8,\\nseg-546-v1-a1.ts\\n#EXTINF:8,\\nseg-547-v1-a1.ts\\n#EXTINF:8,\\nseg-548-v1-a1.ts\\n#EXTINF:8,\\nseg-549-v1-a1.ts\\n#EXTINF:8,\\nseg-550-v1-a1.ts\\n#EXTINF:8,\\nseg-551-v1-a1.ts\\n#EXTINF:8,\\nseg-552-v1-a1.ts\\n#EXTINF:8,\\nseg-553-v1-a1.ts\\n#EXTINF:8,\\nseg-554-v1-a1.ts\\n#EXTINF:8,\\nseg-555-v1-a1.ts\\n#EXTINF:8,\\nseg-556-v1-a1.ts\\n#EXTINF:8,\\nseg-557-v1-a1.ts\\n#EXTINF:8,\\nseg-558-v1-a1.ts\\n#EXTINF:8,\\nseg-559-v1-a1.ts\\n#EXTINF:8,\\nseg-560-v1-a1.ts\\n#EXTINF:8,\\nseg-561-v1-a1.ts\\n#EXTINF:8,\\nseg-562-v1-a1.ts\\n#EXTINF:8,\\nseg-563-v1-a1.ts\\n#EXTINF:8,\\nseg-564-v1-a1.ts\\n#EXTINF:8,\\nseg-565-v1-a1.ts\\n#EXTINF:8,\\nseg-566-v1-a1.ts\\n#EXTINF:8,\\nseg-567-v1-a1.ts\\n#EXTINF:8,\\nseg-568-v1-a1.ts\\n#EXTINF:8,\\nseg-569-v1-a1.ts\\n#EXTINF:8,\\nseg-570-v1-a1.ts\\n#EXTINF:8,\\nseg-571-v1-a1.ts\\n#EXTINF:8,\\nseg-572-v1-a1.ts\\n#EXTINF:8,\\nseg-573-v1-a1.ts\\n#EXTINF:8,\\nseg-574-v1-a1.ts\\n#EXTINF:8,\\nseg-575-v1-a1.ts\\n#EXTINF:8,\\nseg-576-v1-a1.ts\\n#EXTINF:8,\\nseg-577-v1-a1.ts\\n#EXTINF:8,\\nseg-578-v1-a1.ts\\n#EXTINF:8,\\nseg-579-v1-a1.ts\\n#EXTINF:8,\\nseg-580-v1-a1.ts\\n#EXTINF:8,\\nseg-581-v1-a1.ts\\n#EXTINF:8,\\nseg-582-v1-a1.ts\\n#EXTINF:8,\\nseg-583-v1-a1.ts\\n#EXTINF:8,\\nseg-584-v1-a1.ts\\n#EXTINF:8,\\nseg-585-v1-a1.ts\\n#EXTINF:8,\\nseg-586-v1-a1.ts\\n#EXTINF:8,\\nseg-587-v1-a1.ts\\n#EXTINF:8,\\nseg-588-v1-a1.ts\\n#EXTINF:8,\\nseg-589-v1-a1.ts\\n#EXTINF:8,\\nseg-590-v1-a1.ts\\n#EXTINF:8,\\nseg-591-v1-a1.ts\\n#EXTINF:8,\\nseg-592-v1-a1.ts\\n#EXTINF:8,\\nseg-593-v1-a1.ts\\n#EXTINF:8,\\nseg-594-v1-a1.ts\\n#EXTINF:8,\\nseg-595-v1-a1.ts\\n#EXTINF:8,\\nseg-596-v1-a1.ts\\n#EXTINF:8,\\nseg-597-v1-a1.ts\\n#EXTINF:8,\\nseg-598-v1-a1.ts\\n#EXTINF:8,\\nseg-599-v1-a1.ts\\n#EXTINF:8,\\nseg-600-v1-a1.ts\\n#EXTINF:8,\\nseg-601-v1-a1.ts\\n#EXTINF:8,\\nseg-602-v1-a1.ts\\n#EXTINF:8,\\nseg-603-v1-a1.ts\\n#EXTINF:8,\\nseg-604-v1-a1.ts\\n#EXTINF:8,\\nseg-605-v1-a1.ts\\n#EXTINF:8,\\nseg-606-v1-a1.ts\\n#EXTINF:8,\\nseg-607-v1-a1.ts\\n#EXTINF:8,\\nseg-608-v1-a1.ts\\n#EXTINF:8,\\nseg-609-v1-a1.ts\\n#EXTINF:8,\\nseg-610-v1-a1.ts\\n#EXTINF:8,\\nseg-611-v1-a1.ts\\n#EXTINF:8,\\nseg-612-v1-a1.ts\\n#EXTINF:8,\\nseg-613-v1-a1.ts\\n#EXTINF:8,\\nseg-614-v1-a1.ts\\n#EXTINF:8,\\nseg-615-v1-a1.ts\\n#EXTINF:8,\\nseg-616-v1-a1.ts\\n#EXTINF:8,\\nseg-617-v1-a1.ts\\n#EXTINF:8,\\nseg-618-v1-a1.ts\\n#EXTINF:8,\\nseg-619-v1-a1.ts\\n#EXTINF:8,\\nseg-620-v1-a1.ts\\n#EXTINF:8,\\nseg-621-v1-a1.ts\\n#EXTINF:8,\\nseg-622-v1-a1.ts\\n#EXTINF:8,\\nseg-623-v1-a1.ts\\n#EXTINF:2.037,\\nseg-624-v1-a1.ts\\n#EXT-X-ENDLIST\\n'"
      ]
     },
     "execution_count": 7,
     "metadata": {},
     "output_type": "execute_result"
    }
   ],
   "source": [
    "playlist.dumps()"
   ]
  },
  {
   "cell_type": "code",
   "execution_count": null,
   "id": "060f7690",
   "metadata": {},
   "outputs": [],
   "source": [
    "import macos_tags\n",
    "import os\n",
    "from macos_tags import Tag, Color\n",
    "from imdb import Cinemagoer\n",
    "import glob\n",
    "import pandas as pd\n",
    "import numpy as np\n",
    "import re\n",
    "import cv2\n",
    "import datetime \n",
    "from guessit import api\n",
    "# from __future__ import unicode_literals\n",
    "import youtube_dl\n",
    "import glob\n",
    "from bs4 import BeautifulSoup\n",
    "import requests\n",
    "import time\n",
    "from selenium import webdriver\n",
    "from selenium.webdriver.common.keys import Keys\n",
    "from selenium.webdriver.common.by import By\n",
    "from guessit import api\n",
    "from imdb import IMDb\n",
    "from selenium.webdriver.chrome.options import Options\n",
    "import threading\n",
    "from fp.fp import FreeProxy"
   ]
  },
  {
   "cell_type": "code",
   "execution_count": null,
   "id": "0bc30b94",
   "metadata": {},
   "outputs": [],
   "source": [
    "from common_methods import *\n",
    "from requirements import *"
   ]
  },
  {
   "cell_type": "code",
   "execution_count": null,
   "id": "db3952a5",
   "metadata": {},
   "outputs": [],
   "source": [
    "from scraping.chill_scraper import *\n",
    "from scraping.go_scraper import *\n",
    "from scraping.look_scraper import *\n",
    "from scraping.membed_scraper import *\n",
    "from scraping.movie_123_scraper import *\n",
    "from scraping.prime_scraper import *\n",
    "from scraping.soap_scraper import *\n",
    "from scraping.solar_scraper import *\n",
    "from scraping.streamlord_scraper import *"
   ]
  },
  {
   "cell_type": "code",
   "execution_count": null,
   "id": "4c3784fb",
   "metadata": {},
   "outputs": [],
   "source": [
    "from scraping.vex_scraper import *\n",
    "from scraping.yes_scraper import *"
   ]
  },
  {
   "cell_type": "code",
   "execution_count": null,
   "id": "d85afa42",
   "metadata": {},
   "outputs": [],
   "source": [
    "import speech_recognition as sr \n",
    "import moviepy.editor as mp"
   ]
  },
  {
   "cell_type": "code",
   "execution_count": 5,
   "id": "2c682a19",
   "metadata": {},
   "outputs": [],
   "source": [
    "from common_methods import *"
   ]
  },
  {
   "cell_type": "code",
   "execution_count": 20,
   "id": "c321582b",
   "metadata": {},
   "outputs": [],
   "source": [
    "def concating_okru_data():\n",
    "    okru_progress_path = \"/Users/timdunn/Desktop/okru_progress.csv\"\n",
    "    dfs = [pd.read_csv(file_path) for file_path in listdir_nohidden(\"/Users/timdunn/Desktop/okru_checkpoints/\")]\n",
    "    dfs.append(pd.read_csv(okru_progress_path))\n",
    "    final_df = pd.concat(dfs).drop_duplicates().reset_index(drop=True)\n",
    "    final_df.to_csv(okru_progress_path)\n",
    "    return final_df"
   ]
  },
  {
   "cell_type": "code",
   "execution_count": 37,
   "id": "04cf375f",
   "metadata": {},
   "outputs": [],
   "source": [
    "extra = pd.read_csv('/Users/timdunn/Desktop/everything_merged.csv')"
   ]
  },
  {
   "cell_type": "code",
   "execution_count": 39,
   "id": "dc107348",
   "metadata": {},
   "outputs": [],
   "source": [
    "extra = None"
   ]
  },
  {
   "cell_type": "code",
   "execution_count": 26,
   "id": "e689e3c0",
   "metadata": {},
   "outputs": [],
   "source": [
    "extra_imdb_data = pd.read_csv('/Users/timdunn/Desktop/extra_data_imdb.csv')"
   ]
  },
  {
   "cell_type": "code",
   "execution_count": 31,
   "id": "c0dfabfa",
   "metadata": {},
   "outputs": [
    {
     "data": {
      "text/plain": [
       "0           Italian\n",
       "1            German\n",
       "2         Bulgarian\n",
       "3              None\n",
       "4             Tamil\n",
       "            ...    \n",
       "308832     Japanese\n",
       "308833      English\n",
       "308834     Japanese\n",
       "308835     Japanese\n",
       "308836      English\n",
       "Name: language, Length: 308837, dtype: object"
      ]
     },
     "execution_count": 31,
     "metadata": {},
     "output_type": "execute_result"
    }
   ],
   "source": [
    "extra_imdb_data['language']"
   ]
  },
  {
   "cell_type": "code",
   "execution_count": 38,
   "id": "81ef6d01",
   "metadata": {},
   "outputs": [
    {
     "name": "stdout",
     "output_type": "stream",
     "text": [
      "Unnamed: 0\n",
      "Unnamed: 0.1\n",
      "Unnamed: 0.2\n",
      "attributes\n",
      "data_source\n",
      "date\n",
      "description\n",
      "duration\n",
      "endYear\n",
      "fps\n",
      "genres\n",
      "image_url\n",
      "isAdult\n",
      "isOriginalTitle\n",
      "just_watch_rating\n",
      "just_watch_url\n",
      "language\n",
      "link 1\n",
      "link 10\n",
      "link 11\n",
      "link 12\n",
      "link 13\n",
      "link 14\n",
      "link 15\n",
      "link 16\n",
      "link 17\n",
      "link 18\n",
      "link 19\n",
      "link 2\n",
      "link 20\n",
      "link 21\n",
      "link 22\n",
      "link 23\n",
      "link 24\n",
      "link 25\n",
      "link 26\n",
      "link 27\n",
      "link 28\n",
      "link 29\n",
      "link 3\n",
      "link 30\n",
      "link 31\n",
      "link 32\n",
      "link 33\n",
      "link 34\n",
      "link 35\n",
      "link 36\n",
      "link 37\n",
      "link 38\n",
      "link 39\n",
      "link 4\n",
      "link 40\n",
      "link 41\n",
      "link 42\n",
      "link 43\n",
      "link 44\n",
      "link 45\n",
      "link 46\n",
      "link 47\n",
      "link 48\n",
      "link 49\n",
      "link 5\n",
      "link 50\n",
      "link 51\n",
      "link 52\n",
      "link 53\n",
      "link 54\n",
      "link 55\n",
      "link 56\n",
      "link 57\n",
      "link 58\n",
      "link 59\n",
      "link 6\n",
      "link 60\n",
      "link 61\n",
      "link 62\n",
      "link 63\n",
      "link 64\n",
      "link 7\n",
      "link 8\n",
      "link 9\n",
      "link title\n",
      "link url\n",
      "movie duration\n",
      "movie_duration\n",
      "movie_title\n",
      "new link url\n",
      "next year\n",
      "ordering\n",
      "originalTitle\n",
      "playlist_url\n",
      "previous year\n",
      "primaryTitle\n",
      "quality\n",
      "region\n",
      "resolution\n",
      "runtimeMinutes\n",
      "searchable_alias_title\n",
      "searchable_movie_name\n",
      "searchable_original_title\n",
      "searchable_primary_title\n",
      "startYear\n",
      "subitiles\n",
      "tconst\n",
      "title\n",
      "titleId\n",
      "titleType\n",
      "title_x\n",
      "title_y\n",
      "types\n",
      "url\n",
      "year\n"
     ]
    }
   ],
   "source": [
    "for column in extra.columns.sort_values():\n",
    "    print(column)"
   ]
  },
  {
   "cell_type": "code",
   "execution_count": 35,
   "id": "3fc46483",
   "metadata": {},
   "outputs": [],
   "source": [
    "columns_with_many = ['box office_Opening', 'certificates_', 'countries_', 'country codes_', 'sound mix_']"
   ]
  },
  {
   "cell_type": "code",
   "execution_count": 28,
   "id": "97ea6f68",
   "metadata": {},
   "outputs": [
    {
     "data": {
      "text/plain": [
       "308320"
      ]
     },
     "execution_count": 28,
     "metadata": {},
     "output_type": "execute_result"
    }
   ],
   "source": [
    "np.unique(extra_imdb_data['tconst'].astype(str)).size"
   ]
  },
  {
   "cell_type": "code",
   "execution_count": null,
   "id": "b5c687fd",
   "metadata": {},
   "outputs": [],
   "source": [
    "clip = mp.VideoFileClip(r\"/Users/timdunn/movie_project/Уроки вязания. Цветок крючком.-6063785240.mp4\") "
   ]
  },
  {
   "cell_type": "code",
   "execution_count": null,
   "id": "ffbb20c5",
   "metadata": {},
   "outputs": [],
   "source": [
    "clip.audio.write_audiofile(r\"converted.wav\")"
   ]
  },
  {
   "cell_type": "code",
   "execution_count": null,
   "id": "aadc54ca",
   "metadata": {},
   "outputs": [],
   "source": [
    "audio_file.write_audiofile(\"/Users/timdunn/Desktop/shortened_converted.wav\")"
   ]
  },
  {
   "cell_type": "code",
   "execution_count": null,
   "id": "b844d228",
   "metadata": {},
   "outputs": [],
   "source": [
    "r = sr.Recognizer()\n",
    "with audio as source:\n",
    "    audio_file = r.record(source, offset=300, duration=300)"
   ]
  },
  {
   "cell_type": "code",
   "execution_count": null,
   "id": "632c6d01",
   "metadata": {},
   "outputs": [],
   "source": [
    "predictions = sr.recognize_whisper(audio_file, show_dict=True)"
   ]
  },
  {
   "cell_type": "code",
   "execution_count": null,
   "id": "ba94bbf8",
   "metadata": {},
   "outputs": [],
   "source": [
    "r = sr.Recognizer()"
   ]
  },
  {
   "cell_type": "code",
   "execution_count": null,
   "id": "a231ffc9",
   "metadata": {},
   "outputs": [],
   "source": [
    "audio = sr.AudioFile(\"/Users/timdunn/converted.wav\")"
   ]
  },
  {
   "cell_type": "code",
   "execution_count": null,
   "id": "485d437b",
   "metadata": {},
   "outputs": [],
   "source": [
    "audio = whisper.load_audio(\"converted.wav\")"
   ]
  },
  {
   "cell_type": "code",
   "execution_count": null,
   "id": "37e52bb3",
   "metadata": {},
   "outputs": [],
   "source": [
    "def extract_video_clip(video_path):\n",
    "    return mp.VideoFileClip(video_path)"
   ]
  },
  {
   "cell_type": "code",
   "execution_count": null,
   "id": "7dcf928a",
   "metadata": {},
   "outputs": [],
   "source": [
    "def convert_audio(video_path):\n",
    "    extract_video_clip(video_path).audio.write_audiofile(r\"converted.wav\")"
   ]
  },
  {
   "cell_type": "code",
   "execution_count": null,
   "id": "0281fbe4",
   "metadata": {},
   "outputs": [],
   "source": [
    "def load_speech():\n",
    "    return whisper.load_audio(\"/Users/timdunn/shortened_wav.wav\")"
   ]
  },
  {
   "cell_type": "code",
   "execution_count": null,
   "id": "00a5939b",
   "metadata": {},
   "outputs": [],
   "source": [
    "audio = load_speech()"
   ]
  },
  {
   "cell_type": "code",
   "execution_count": null,
   "id": "e4f86bce",
   "metadata": {},
   "outputs": [],
   "source": [
    "audio = whisper.pad_or_trim(audio)"
   ]
  },
  {
   "cell_type": "code",
   "execution_count": null,
   "id": "58589823",
   "metadata": {},
   "outputs": [],
   "source": [
    "mel = whisper.log_mel_spectrogram(audio).to(dubbing_object.model.device)"
   ]
  },
  {
   "cell_type": "code",
   "execution_count": null,
   "id": "9c1dc94f",
   "metadata": {},
   "outputs": [],
   "source": [
    "def load_detect_audio(video_path, model):\n",
    "    convert_audio(video_path)\n",
    "    audio = load_speech()\n",
    "    audio = whisper.pad_or_trim()\n",
    "    mel = whisper.log_mel_spectrogram(audio).to(model.device)"
   ]
  },
  {
   "cell_type": "code",
   "execution_count": null,
   "id": "1ee54b3b",
   "metadata": {},
   "outputs": [],
   "source": [
    "audio = whisper.pad_or_trim()"
   ]
  },
  {
   "cell_type": "code",
   "execution_count": null,
   "id": "247438f5",
   "metadata": {},
   "outputs": [],
   "source": [
    "mel = whisper.log_mel_spectrogram(audio).to(model.device)"
   ]
  },
  {
   "cell_type": "code",
   "execution_count": null,
   "id": "75c4f20d",
   "metadata": {},
   "outputs": [],
   "source": [
    "#pad or trim length\n",
    "# 480000 * "
   ]
  },
  {
   "cell_type": "code",
   "execution_count": null,
   "id": "f485022c",
   "metadata": {},
   "outputs": [],
   "source": [
    "_, probs = model.detect_language(mel)\n",
    "print(f\"Detected language: {max(probs, key=probs.get)}\")"
   ]
  },
  {
   "cell_type": "code",
   "execution_count": 1,
   "id": "56ffeff8",
   "metadata": {},
   "outputs": [],
   "source": [
    "from all_processes.add_dubbing_info import *"
   ]
  },
  {
   "cell_type": "code",
   "execution_count": 2,
   "id": "95a9ecaa",
   "metadata": {},
   "outputs": [],
   "source": [
    "idiots_path = \"/Users/timdunn/Desktop/movies to watch/foreign films/3 Idiots (2009) [BluRay] [1080p] [YTS.AM]/3.Idiots.2009.1080p.BluRay.x264-[YTS.AM].mp4\""
   ]
  },
  {
   "cell_type": "code",
   "execution_count": 3,
   "id": "a8eac91f",
   "metadata": {},
   "outputs": [],
   "source": [
    "dubbing_object = AddDubbingInfo(idiots_path)"
   ]
  },
  {
   "cell_type": "code",
   "execution_count": 4,
   "id": "d11358c6",
   "metadata": {},
   "outputs": [
    {
     "name": "stdout",
     "output_type": "stream",
     "text": [
      "MoviePy - Writing audio in /Users/timdunn/converted.wav\n"
     ]
    },
    {
     "name": "stderr",
     "output_type": "stream",
     "text": [
      "                                                                                                                                                                                               \r"
     ]
    },
    {
     "name": "stdout",
     "output_type": "stream",
     "text": [
      "MoviePy - Done.\n"
     ]
    },
    {
     "data": {
      "text/plain": [
       "'hi'"
      ]
     },
     "execution_count": 4,
     "metadata": {},
     "output_type": "execute_result"
    }
   ],
   "source": [
    "dubbing_object.load_and_detect_audio()"
   ]
  },
  {
   "cell_type": "code",
   "execution_count": null,
   "id": "a499f89e",
   "metadata": {},
   "outputs": [],
   "source": [
    "probs"
   ]
  },
  {
   "cell_type": "code",
   "execution_count": null,
   "id": "4d7a6880",
   "metadata": {},
   "outputs": [],
   "source": [
    "with audio as source:\n",
    "    audio_file = r.record(source, offset=300, duration=100)"
   ]
  },
  {
   "cell_type": "code",
   "execution_count": null,
   "id": "feef9891",
   "metadata": {},
   "outputs": [],
   "source": [
    "!pip install -U openai-whisper"
   ]
  },
  {
   "cell_type": "code",
   "execution_count": null,
   "id": "e5df53da",
   "metadata": {},
   "outputs": [],
   "source": [
    "!pip install soundfile"
   ]
  },
  {
   "cell_type": "code",
   "execution_count": null,
   "id": "0d580733",
   "metadata": {},
   "outputs": [],
   "source": [
    "import numpy as np\n",
    "import soundfile as sf\n",
    "import torch\n",
    "import whisper\n",
    "import io"
   ]
  },
  {
   "cell_type": "code",
   "execution_count": null,
   "id": "cf5e87b1",
   "metadata": {},
   "outputs": [],
   "source": [
    "shortened_path = \"{}/shortened_converted.wav\".format(\"/\".join(self.converted_audio_path.split(\"/\")[0:-1]))"
   ]
  },
  {
   "cell_type": "code",
   "execution_count": null,
   "id": "1250d224",
   "metadata": {},
   "outputs": [],
   "source": [
    "shortened_path"
   ]
  },
  {
   "cell_type": "code",
   "execution_count": null,
   "id": "71dcf3ba",
   "metadata": {},
   "outputs": [],
   "source": [
    "def write_middle_audio():\n",
    "    r = sr.Recognizer()\n",
    "    audio = sr.AudioFile(\"/Users/timdunn/converted.wav\")\n",
    "    with audio as source:\n",
    "        audio_file = r.record(source, offset=300, duration=300)\n",
    "    wav_bytes = audio_file.get_wav_data(convert_rate=16000)\n",
    "    bytesio_object = io.BytesIO(wav_bytes)\n",
    "    with open(\"/Users/timdunn/shortened_wav.wav\", \"wb\") as f:\n",
    "        f.write(bytesio_object.getbuffer())"
   ]
  },
  {
   "cell_type": "code",
   "execution_count": null,
   "id": "cd6a2814",
   "metadata": {},
   "outputs": [],
   "source": [
    "write_middle_audio()"
   ]
  },
  {
   "cell_type": "code",
   "execution_count": null,
   "id": "ed2884ab",
   "metadata": {},
   "outputs": [],
   "source": [
    "wav_bytes = audio_file.get_wav_data(convert_rate=16000)\n",
    "wav_stream = io.BytesIO(wav_bytes)\n",
    "audio_array, sampling_rate = sf.read(wav_stream)\n",
    "audio_array = audio_array.astype(np.float32)\n",
    "_, probs = model.detect_language(audio_array)"
   ]
  },
  {
   "cell_type": "code",
   "execution_count": null,
   "id": "e84281ee",
   "metadata": {},
   "outputs": [],
   "source": [
    "the_dict = r.recognize_whisper(audio_file, show_dict=True)"
   ]
  },
  {
   "cell_type": "code",
   "execution_count": null,
   "id": "3b73a6f5",
   "metadata": {},
   "outputs": [],
   "source": [
    "result = r.recognize_google(audio_file, language=)"
   ]
  },
  {
   "cell_type": "code",
   "execution_count": null,
   "id": "5d30271d",
   "metadata": {},
   "outputs": [],
   "source": [
    "import whisper"
   ]
  },
  {
   "cell_type": "code",
   "execution_count": null,
   "id": "a56754f3",
   "metadata": {},
   "outputs": [],
   "source": [
    "model = whisper.load_model(\"base\")"
   ]
  },
  {
   "cell_type": "code",
   "execution_count": null,
   "id": "560778d6",
   "metadata": {},
   "outputs": [],
   "source": []
  },
  {
   "cell_type": "code",
   "execution_count": null,
   "id": "153ee4b8",
   "metadata": {},
   "outputs": [],
   "source": [
    "result "
   ]
  },
  {
   "cell_type": "code",
   "execution_count": null,
   "id": "ef5aa2a2",
   "metadata": {},
   "outputs": [],
   "source": [
    "from common_methods import *\n",
    "\n",
    "class Scraper:\n",
    "    def __init__(self, main_link, page_url_format, page_logging=True):\n",
    "#         print('went into init')\n",
    "        self.main_link = main_link\n",
    "        self.page_url_format = page_url_format\n",
    "        self.page_logging = page_logging\n",
    "    \n",
    "    def run_scraper(self):\n",
    "        data = list()\n",
    "        soup = get_soup_url(self.get_page_url(1))\n",
    "        time.sleep(3)\n",
    "        try:\n",
    "            page = 0\n",
    "            while (not self.is_last_page(page)):\n",
    "                page += 1\n",
    "                if self.page_logging:\n",
    "                    print(page)\n",
    "                time.sleep(3)\n",
    "                data.append(self.movies_info(page))\n",
    "            return pd.DataFrame(data=flatten(data))\n",
    "        except:\n",
    "            return data\n",
    "    \n",
    "    def get_page_url(self, page):\n",
    "        return self.page_url_format.format(page)\n",
    "    \n",
    "    def get_page_soup(self, page):\n",
    "        return get_soup_url(self.get_page_url(page))\n",
    "    \n",
    "    def is_last_page(self, page):\n",
    "        return False\n",
    "    \n",
    "    def movies_info(self, page):\n",
    "        soup = self.get_page_soup(page)\n",
    "#         print('got past soup')\n",
    "        tags = self.get_movie_tags(soup)\n",
    "#         print('got past tags')\n",
    "#         print(len(tags))\n",
    "        return [self.movie_info(tag) for tag in tags]\n",
    "    \n",
    "    def movie_info(self, tag):\n",
    "        return {\"link url\" : self.movie_link_url(tag), \"movie_title\": self.movie_link_title(tag)}\n",
    "    "
   ]
  },
  {
   "cell_type": "code",
   "execution_count": null,
   "id": "bb37605f",
   "metadata": {},
   "outputs": [],
   "source": [
    "class GoScraper(Scraper):\n",
    "    def __init__(self, page_logging=True):\n",
    "        super().__init__(\"https://gomovies-online.link\", \"https://gomovies-online.link/all-films?{}\", page_logging)\n",
    "    \n",
    "    def get_movie_tags(self, soup):\n",
    "        return soup.find_all(self.div_correct)\n",
    "    \n",
    "    def div_correct(self, div):\n",
    "        return div.has_attr('data-filmname') and div.has_attr('data-quality') and div.has_attr('data-duration')\n",
    "    \n",
    "    def prime_stats_div(self, tag):\n",
    "        return tag.find(\"div\", {\"class\": \"film-stats\"})\n",
    "    \n",
    "    def movie_link_url(self, tag):\n",
    "        return \"https://gomovies-online.link{}\".format(tag.find(\"a\")[\"href\"])\n",
    "    \n",
    "    def movie_link_title(self, tag):\n",
    "        return tag[\"data-filmname\"]\n",
    "    \n",
    "    def movie_year(self, tag):\n",
    "        return tag[\"data-year\"]\n",
    "    \n",
    "    def movie_duration(self, tag):\n",
    "        return tag[\"data-duration\"]\n",
    "    \n",
    "    def movie_quality(self, tag):\n",
    "        return tag[\"data-quality\"].split(\"itemAbsolute_\")[-1]\n",
    "        \n",
    "    def movie_info(self, tag):\n",
    "        return {\"link url\" : self.movie_link_url(tag), \"movie_title\": self.movie_link_title(tag), \n",
    "                \"year\": self.movie_year(tag), \"duration\": self.movie_duration(tag), \"quality\": self.movie_quality(tag)}\n",
    "    \n",
    "    def is_last_page(self, page):\n",
    "        soup = self.get_page_soup(page)\n",
    "        return int(soup.find(\"li\", {\"class\": \"last\"}).find(\"a\")[\"data-page\"]) == page"
   ]
  },
  {
   "cell_type": "code",
   "execution_count": null,
   "id": "0ca6191b",
   "metadata": {},
   "outputs": [],
   "source": [
    "from scraping.go_scraper import *"
   ]
  },
  {
   "cell_type": "code",
   "execution_count": null,
   "id": "c77baed1",
   "metadata": {},
   "outputs": [],
   "source": [
    "movonl_url = 'https://www.mov.onl/p/a-z-list.html'"
   ]
  },
  {
   "cell_type": "code",
   "execution_count": null,
   "id": "25291839",
   "metadata": {},
   "outputs": [],
   "source": [
    "soup = soup_from_path('/Users/timdunn/movonl.html')"
   ]
  },
  {
   "cell_type": "code",
   "execution_count": null,
   "id": "7d3f7e24",
   "metadata": {},
   "outputs": [],
   "source": [
    "soup.prettify()"
   ]
  },
  {
   "cell_type": "code",
   "execution_count": null,
   "id": "e9458a57",
   "metadata": {},
   "outputs": [],
   "source": [
    "all_links = soup.find('div', {'id': 'azlist'}).find_all('a')"
   ]
  },
  {
   "cell_type": "code",
   "execution_count": null,
   "id": "1db3a8ba",
   "metadata": {},
   "outputs": [],
   "source": [
    "movonl_data = []"
   ]
  },
  {
   "cell_type": "code",
   "execution_count": null,
   "id": "39055c3a",
   "metadata": {},
   "outputs": [],
   "source": [
    "movonl_data = [{'link url': link.get('href'), 'movie_title': link.text.strip()} for link in all_links]"
   ]
  },
  {
   "cell_type": "code",
   "execution_count": null,
   "id": "9b75f2a8",
   "metadata": {},
   "outputs": [],
   "source": [
    "df = pd.DataFrame(data=movonl_data)"
   ]
  },
  {
   "cell_type": "code",
   "execution_count": null,
   "id": "2341a635",
   "metadata": {},
   "outputs": [],
   "source": [
    "df.to_csv('/Users/timdunn/Desktop/movonl.csv', index=False)"
   ]
  },
  {
   "cell_type": "code",
   "execution_count": null,
   "id": "fd86c3ab",
   "metadata": {},
   "outputs": [],
   "source": [
    "go_object = GoScraper()"
   ]
  },
  {
   "cell_type": "code",
   "execution_count": null,
   "id": "88d00f15",
   "metadata": {},
   "outputs": [],
   "source": [
    "data = go_object.run_scraper()"
   ]
  },
  {
   "cell_type": "code",
   "execution_count": null,
   "id": "713f11bc",
   "metadata": {},
   "outputs": [],
   "source": [
    "data.to_csv('/Users/timdunn/dunn/dunn/Desktop/go_2_5_23.csv', index=False)"
   ]
  },
  {
   "cell_type": "code",
   "execution_count": null,
   "id": "02c7c77e",
   "metadata": {},
   "outputs": [],
   "source": [
    "merged_go"
   ]
  },
  {
   "cell_type": "code",
   "execution_count": 6,
   "id": "2cbf56cc",
   "metadata": {},
   "outputs": [],
   "source": [
    "final_data = pd.read_csv('/Users/timdunn/Desktop/everything_merged.csv')"
   ]
  },
  {
   "cell_type": "code",
   "execution_count": 9,
   "id": "a4365f23",
   "metadata": {},
   "outputs": [
    {
     "data": {
      "text/plain": [
       "'https://gomovies-online.link/watch-film/city-slickers/q8eCQn13-online-for-free.html'"
      ]
     },
     "execution_count": 9,
     "metadata": {},
     "output_type": "execute_result"
    }
   ],
   "source": [
    "final_data.loc[1320543, 'link url']"
   ]
  },
  {
   "cell_type": "code",
   "execution_count": 19,
   "id": "8f419190",
   "metadata": {},
   "outputs": [
    {
     "name": "stdout",
     "output_type": "stream",
     "text": [
      "https://sflix.to/movie/free-ai-artificial-intelligence-hd-18578\n",
      "https://moviestars.to/movie/artificial-intelligence-ai-11344\n",
      "https://ok.ru/video/761763924706\n",
      "https://ok.ru/video/218902170349\n",
      "https://ok.ru/video/41410497090\n",
      "https://ok.ru/video/3760746859082\n",
      "https://ok.ru/video/4495785921102\n",
      "https://ok.ru/video/361798568552\n",
      "http://www.streamlord.com/watch-movie-artificial-intelligence-ai-2253.html\n",
      "https://vexmovies.pw/movie/ai-artificial-intelligence-18578\n",
      "https://primewire.mx/movie/watch-ai-artificial-intelligence-online-18578\n",
      "https://ok.ru/video/40459110922\n",
      "https://ok.ru/video/25985485482\n",
      "https://ok.ru/video/2620863023703\n",
      "https://ok.ru/video/192241207850\n",
      "https://ok.ru/video/2439875398391\n",
      "https://ok.ru/video/30634150511\n",
      "https://ok.ru/video/1882255657596\n",
      "https://ok.ru/video/306493000192\n",
      "https://ok.ru/video/2978927544949\n",
      "https://ok.ru/video/21601848024\n",
      "https://ok.ru/video/80454093410\n",
      "https://ok.ru/video/4427238345452\n",
      "https://ok.ru/video/96294406656\n",
      "https://ok.ru/video/17644259962\n",
      "https://ok.ru/video/2894642809552\n",
      "https://ok.ru/video/301388204743\n",
      "https://ok.ru/video/2337730333431\n",
      "https://ok.ru/video/111425030874\n",
      "https://ok.ru/video/38107875997\n",
      "https://ok.ru/video/1061106944765\n",
      "https://ok.ru/video/262137121437\n",
      "https://ok.ru/video/3533027478196\n",
      "https://ok.ru/video/702525606480\n",
      "https://ok.ru/video/747199400497\n",
      "https://ok.ru/video/368645573271\n",
      "https://ok.ru/video/1138032446053\n",
      "https://ok.ru/video/38665325174\n",
      "https://ok.ru/video/21219183168\n",
      "https://ok.ru/video/94644144877\n",
      "https://ok.ru/video/4043639549\n",
      "https://ok.ru/video/234138831453\n",
      "https://ok.ru/video/23242672724\n",
      "https://ok.ru/video/400261581408\n",
      "https://ok.ru/video/320877955696\n",
      "https://ok.ru/video/40886078163\n",
      "https://ok.ru/video/34034420291\n",
      "https://ok.ru/video/623448558158\n",
      "https://ok.ru/video/752340306492\n",
      "https://ok.ru/video/2276068067\n",
      "https://ok.ru/video/1834110290671\n",
      "https://ok.ru/video/31584356927\n",
      "https://ok.ru/video/1136476949225\n",
      "https://ok.ru/video/2396443904619\n",
      "https://ok.ru/video/704765954668\n",
      "https://ok.ru/video/1339550206612\n",
      "https://ok.ru/video/269577226833\n",
      "https://ok.ru/video/408188488416\n",
      "https://ok.ru/video/1741638732289\n",
      "https://ok.ru/video/386337475074\n",
      "https://ok.ru/video/3609030232631\n",
      "https://ok.ru/video/3058302847551\n",
      "https://ok.ru/video/87152790203\n",
      "https://ok.ru/video/436227803886\n",
      "https://ok.ru/video/29365504656\n",
      "https://ok.ru/video/402658953782\n",
      "https://ok.ru/video/208234154622\n",
      "https://ok.ru/video/703006837488\n",
      "https://ok.ru/video/92147354200\n",
      "https://ok.ru/video/4418348649067\n",
      "https://ok.ru/video/31492147793\n",
      "https://ok.ru/video/75672783360\n",
      "https://lookmovie2.to/movies/view/ai-artificial-intelligence-2001\n",
      "https://w5.yesmovies123.me/movies/a-i-artificial-intelligence/\n",
      "https://gomovies-online.link/watch-film/artificial-intelligence-ai/kzgx5rBV-online-for-free.html\n",
      "https://tinyzonetv.to/movie/watch-ai-artificial-intelligence-2001-free-18578\n",
      "https://losmovies.pics/free-movie-online/tt15369/watch-online-ai-artificial-intelligence\n",
      "https://1movies.life/movie/artificial-intelligence-ai/8645\n",
      "https://w10.hdonline.eu/movie/a-i-artificial-intelligence-2001/\n"
     ]
    }
   ],
   "source": [
    "for item in final_data.loc[final_data['tconst'] == 'tt0212720', 'new link url']:\n",
    "    print(item)"
   ]
  },
  {
   "cell_type": "code",
   "execution_count": null,
   "id": "62963bad",
   "metadata": {},
   "outputs": [],
   "source": [
    "final_data = pd.concat([final_data, merged_go]).drop_duplicates(subset='link url')"
   ]
  },
  {
   "cell_type": "code",
   "execution_count": null,
   "id": "ec0f5cd0",
   "metadata": {},
   "outputs": [],
   "source": [
    "final_data.to_csv('/Users/timdunn/Desktop/everything_merged.csv')"
   ]
  },
  {
   "cell_type": "code",
   "execution_count": null,
   "id": "e99bd93f",
   "metadata": {},
   "outputs": [],
   "source": [
    "np.unique(final_data['tconst'].astype(str)).size"
   ]
  },
  {
   "cell_type": "code",
   "execution_count": null,
   "id": "55d2ca94",
   "metadata": {},
   "outputs": [],
   "source": [
    "data.to_csv('/Users/timdunn/Desktop/go_data_2_2_23.csv', index=False)"
   ]
  },
  {
   "cell_type": "code",
   "execution_count": null,
   "id": "ef88da1e",
   "metadata": {},
   "outputs": [],
   "source": [
    "go_df = pd.read_csv('/Users/timdunn/Desktop/go_data_2_2_23.csv')"
   ]
  },
  {
   "cell_type": "code",
   "execution_count": null,
   "id": "173a2cc9",
   "metadata": {},
   "outputs": [],
   "source": [
    "from syncing_movie_data.movie_data_row import MovieDataRow"
   ]
  },
  {
   "cell_type": "code",
   "execution_count": null,
   "id": "2fec1c54",
   "metadata": {},
   "outputs": [],
   "source": [
    "swatch_url = \"https://swatchfree.in/movies/\""
   ]
  },
  {
   "cell_type": "code",
   "execution_count": null,
   "id": "c9c0d2f5",
   "metadata": {},
   "outputs": [],
   "source": [
    "swatch_page_url = 'https://swatchfree.in/movies/page/{}'"
   ]
  },
  {
   "cell_type": "code",
   "execution_count": null,
   "id": "441c67b6",
   "metadata": {},
   "outputs": [],
   "source": [
    "soup = get_soup_url(swatch_page_url.format(1))"
   ]
  },
  {
   "cell_type": "code",
   "execution_count": null,
   "id": "5c34035f",
   "metadata": {},
   "outputs": [],
   "source": [
    "tags = soup.find_all('article', {'class': 'item movies'})"
   ]
  },
  {
   "cell_type": "code",
   "execution_count": null,
   "id": "40a450b8",
   "metadata": {},
   "outputs": [],
   "source": [
    "from scraping.scraper import *"
   ]
  },
  {
   "cell_type": "code",
   "execution_count": null,
   "id": "118508f2",
   "metadata": {},
   "outputs": [],
   "source": [
    "from scraping.los_movies_scraper import *"
   ]
  },
  {
   "cell_type": "code",
   "execution_count": null,
   "id": "b2bd5af1",
   "metadata": {},
   "outputs": [],
   "source": [
    "scaper_object = LosMoviesScraper()"
   ]
  },
  {
   "cell_type": "code",
   "execution_count": null,
   "id": "b3e4cba5",
   "metadata": {},
   "outputs": [],
   "source": [
    "span_text = scaper_object.meta_data_span_text(tags[1])"
   ]
  },
  {
   "cell_type": "code",
   "execution_count": null,
   "id": "9f9380d4",
   "metadata": {},
   "outputs": [],
   "source": [
    "spans = list(filter(lambda span_text: 'min' in span_text, scaper_object.meta_data_span_text(tags[1])))"
   ]
  },
  {
   "cell_type": "code",
   "execution_count": null,
   "id": "556b2439",
   "metadata": {},
   "outputs": [],
   "source": [
    "spans[0].strip().split(' min')[0]"
   ]
  },
  {
   "cell_type": "code",
   "execution_count": null,
   "id": "23f3f671",
   "metadata": {},
   "outputs": [],
   "source": [
    "span_text"
   ]
  },
  {
   "cell_type": "code",
   "execution_count": null,
   "id": "07343ccc",
   "metadata": {},
   "outputs": [],
   "source": [
    "scaper_object.movie_duration(tags[0])"
   ]
  },
  {
   "cell_type": "code",
   "execution_count": null,
   "id": "2eead283",
   "metadata": {},
   "outputs": [],
   "source": [
    "data = scaper_object.movies_info(1)"
   ]
  },
  {
   "cell_type": "code",
   "execution_count": null,
   "id": "0735df9d",
   "metadata": {},
   "outputs": [],
   "source": [
    "np.unique(data['link url']).size"
   ]
  },
  {
   "cell_type": "code",
   "execution_count": null,
   "id": "235a374c",
   "metadata": {},
   "outputs": [],
   "source": [
    "data = scaper_object.run_scraper()"
   ]
  },
  {
   "cell_type": "code",
   "execution_count": null,
   "id": "b0a3fc75",
   "metadata": {},
   "outputs": [],
   "source": [
    "from all_processes.update_movie_data import *"
   ]
  },
  {
   "cell_type": "code",
   "execution_count": null,
   "id": "7caf891e",
   "metadata": {},
   "outputs": [],
   "source": [
    "UpdateMovieData().get_latest_imdb"
   ]
  },
  {
   "cell_type": "code",
   "execution_count": null,
   "id": "defcbd50",
   "metadata": {},
   "outputs": [],
   "source": [
    "data = pd.read_csv('/Users/timdunn/Desktop/hdonline_2_7_23.csv')"
   ]
  },
  {
   "cell_type": "code",
   "execution_count": null,
   "id": "c26e6a57",
   "metadata": {},
   "outputs": [],
   "source": [
    "data[\"searchable_movie_name\"] = data['movie_title'].astype(str).apply(searchable_movie_name)"
   ]
  },
  {
   "cell_type": "code",
   "execution_count": null,
   "id": "bce90ada",
   "metadata": {},
   "outputs": [],
   "source": [
    "data = data[nonnull_columns(data, 'year')]"
   ]
  },
  {
   "cell_type": "code",
   "execution_count": null,
   "id": "0d7bd026",
   "metadata": {},
   "outputs": [],
   "source": [
    "data['year'] = data['year'].astype(int).astype(str)"
   ]
  },
  {
   "cell_type": "code",
   "execution_count": null,
   "id": "14e95034",
   "metadata": {},
   "outputs": [],
   "source": [
    "data"
   ]
  },
  {
   "cell_type": "code",
   "execution_count": null,
   "id": "8dc5e800",
   "metadata": {},
   "outputs": [],
   "source": [
    "data.drop_duplicates(subset=['link url'], inplace=True)"
   ]
  },
  {
   "cell_type": "code",
   "execution_count": null,
   "id": "6dc94727",
   "metadata": {},
   "outputs": [],
   "source": [
    "data"
   ]
  },
  {
   "cell_type": "code",
   "execution_count": null,
   "id": "e0f79f9d",
   "metadata": {},
   "outputs": [],
   "source": [
    "merged_df = pd.merge(data, imdb_df, left_on=[\"searchable_movie_name\", \"year\"], \n",
    "         right_on=[\"searchable_alias_title\", \"startYear\"]).drop_duplicates(\n",
    "    subset=[\"tconst\", \"link url\"]).reset_index(drop=True)"
   ]
  },
  {
   "cell_type": "code",
   "execution_count": null,
   "id": "a1172a52",
   "metadata": {},
   "outputs": [],
   "source": [
    "nondups = merged_df.loc[~merged_df['link url'].isin(merged_df['link url'].duplicated())]"
   ]
  },
  {
   "cell_type": "code",
   "execution_count": null,
   "id": "dddaaa99",
   "metadata": {},
   "outputs": [],
   "source": [
    "nondups"
   ]
  },
  {
   "cell_type": "code",
   "execution_count": null,
   "id": "32adf746",
   "metadata": {},
   "outputs": [],
   "source": [
    "new_everything = pd.concat([pd.read_csv('/Users/timdunn/Desktop/everything_merged.csv'), nondups]).drop_duplicates()"
   ]
  },
  {
   "cell_type": "code",
   "execution_count": null,
   "id": "8dcedd50",
   "metadata": {},
   "outputs": [],
   "source": [
    "new_everything = pd.concat([new_everything, nondups]).drop_duplicates()"
   ]
  },
  {
   "cell_type": "code",
   "execution_count": null,
   "id": "da2e693b",
   "metadata": {},
   "outputs": [],
   "source": [
    "np.unique(new_everything['tconst'].astype(str)).size"
   ]
  },
  {
   "cell_type": "code",
   "execution_count": null,
   "id": "e9b9e176",
   "metadata": {},
   "outputs": [],
   "source": [
    "new_everything.to_csv('/Users/timdunn/Desktop/everything_merged.csv')"
   ]
  },
  {
   "cell_type": "code",
   "execution_count": null,
   "id": "724028a9",
   "metadata": {},
   "outputs": [],
   "source": [
    "tconst = 'tt0245712'"
   ]
  },
  {
   "cell_type": "code",
   "execution_count": null,
   "id": "334b0b4e",
   "metadata": {},
   "outputs": [],
   "source": [
    "new_everything = reset_and_copy(new_everything)"
   ]
  },
  {
   "cell_type": "code",
   "execution_count": null,
   "id": "607c7dff",
   "metadata": {},
   "outputs": [],
   "source": [
    "new_everything.loc[1365267]"
   ]
  },
  {
   "cell_type": "code",
   "execution_count": null,
   "id": "df6c802c",
   "metadata": {},
   "outputs": [],
   "source": [
    "new_everything.loc[1365267]['link url']"
   ]
  },
  {
   "cell_type": "code",
   "execution_count": null,
   "id": "e1339fd2",
   "metadata": {},
   "outputs": [],
   "source": [
    "def fix_links(link):\n",
    "    try:\n",
    "        str(link)\n",
    "        if 'http' not in str(link):\n",
    "            if '.0' in str(link):\n",
    "                return \"https://ok.ru/video/{}\".format(int(link))\n",
    "            elif 'free-movie-online' in str(link):\n",
    "                return \"https://losmovies.pics{}\".format(str(link))\n",
    "            return str(link)\n",
    "        else:\n",
    "            return str(link)\n",
    "    except:\n",
    "        return str(link)"
   ]
  },
  {
   "cell_type": "code",
   "execution_count": null,
   "id": "a3428170",
   "metadata": {},
   "outputs": [],
   "source": [
    "new_everything['new link url'] = new_everything['link url'].apply(fix_links)"
   ]
  },
  {
   "cell_type": "code",
   "execution_count": null,
   "id": "43fee28d",
   "metadata": {},
   "outputs": [],
   "source": [
    "new_everything['new link url']"
   ]
  },
  {
   "cell_type": "code",
   "execution_count": null,
   "id": "baeb69ee",
   "metadata": {},
   "outputs": [],
   "source": [
    "new_everything[new_everything['tconst'] == 'tt0115836']"
   ]
  },
  {
   "cell_type": "code",
   "execution_count": null,
   "id": "ff50fb98",
   "metadata": {},
   "outputs": [],
   "source": [
    "imdb_df = UpdateMovieData().get_latest_imdb()"
   ]
  },
  {
   "cell_type": "code",
   "execution_count": null,
   "id": "8e3f8c72",
   "metadata": {},
   "outputs": [],
   "source": [
    "from imdb import IMDb"
   ]
  },
  {
   "cell_type": "code",
   "execution_count": null,
   "id": "e473b645",
   "metadata": {},
   "outputs": [],
   "source": [
    "!pip install cinemagoer -U"
   ]
  },
  {
   "cell_type": "code",
   "execution_count": null,
   "id": "bee858e1",
   "metadata": {},
   "outputs": [],
   "source": [
    "movie = IMDb().get_movie('4728386')"
   ]
  },
  {
   "cell_type": "code",
   "execution_count": null,
   "id": "b5e206cb",
   "metadata": {},
   "outputs": [],
   "source": [
    "movie = Cinemagoer().get_movie('4728386')"
   ]
  },
  {
   "cell_type": "code",
   "execution_count": null,
   "id": "d3a4b96b",
   "metadata": {},
   "outputs": [],
   "source": [
    "import imdb\n",
    "from imdb import IMDbDataAccessError\n",
    "try:\n",
    "    ia = imdb.IMDb(accessSystem='http', reraiseExceptions=True)\n",
    "    movie = ia.get_movie('4728386')\n",
    "except:\n",
    "    print(\"error\")"
   ]
  },
  {
   "cell_type": "code",
   "execution_count": null,
   "id": "fea3902d",
   "metadata": {},
   "outputs": [],
   "source": [
    "movie"
   ]
  },
  {
   "cell_type": "code",
   "execution_count": null,
   "id": "77703943",
   "metadata": {},
   "outputs": [],
   "source": [
    "Cinemagoer().get_movie('3138558')"
   ]
  },
  {
   "cell_type": "code",
   "execution_count": null,
   "id": "0c7de751",
   "metadata": {},
   "outputs": [],
   "source": [
    "a_movie = ia.movie('tt3138558')"
   ]
  },
  {
   "cell_type": "code",
   "execution_count": null,
   "id": "240d4348",
   "metadata": {},
   "outputs": [],
   "source": [
    "top_indians[9].data"
   ]
  },
  {
   "cell_type": "code",
   "execution_count": null,
   "id": "fa61a0d9",
   "metadata": {},
   "outputs": [],
   "source": [
    "ia.ratings(top_indians[9].getID())"
   ]
  },
  {
   "cell_type": "code",
   "execution_count": null,
   "id": "ec22529b",
   "metadata": {},
   "outputs": [],
   "source": [
    "top_indians = ia.get_top250_indian_movies()"
   ]
  },
  {
   "cell_type": "code",
   "execution_count": null,
   "id": "3dac54a1",
   "metadata": {},
   "outputs": [],
   "source": [
    "top_indians[9].rating()"
   ]
  },
  {
   "cell_type": "code",
   "execution_count": null,
   "id": "0dbcdb38",
   "metadata": {},
   "outputs": [],
   "source": [
    "indians_not = list(filter(lambda movie: 'tt{}'.format(movie.getID()) not in new_everything['tconst'].values, top_indians))"
   ]
  },
  {
   "cell_type": "code",
   "execution_count": null,
   "id": "e0e86def",
   "metadata": {},
   "outputs": [],
   "source": [
    "len(indians_not)"
   ]
  },
  {
   "cell_type": "code",
   "execution_count": null,
   "id": "fa27f71e",
   "metadata": {},
   "outputs": [],
   "source": [
    "data.to_csv('/Users/timdunn/Desktop/losmovies_2_7_23.csv', index=False)"
   ]
  },
  {
   "cell_type": "code",
   "execution_count": null,
   "id": "db08019a",
   "metadata": {},
   "outputs": [],
   "source": [
    "tags = scaper_object.get_movie_tags(scaper_object.get_page_soup(1))"
   ]
  },
  {
   "cell_type": "code",
   "execution_count": null,
   "id": "f3df1da5",
   "metadata": {},
   "outputs": [],
   "source": [
    "tag = tags[0]"
   ]
  },
  {
   "cell_type": "code",
   "execution_count": null,
   "id": "674b9b7b",
   "metadata": {},
   "outputs": [],
   "source": [
    "scaper_object.movie_link_title(tag)"
   ]
  },
  {
   "cell_type": "code",
   "execution_count": null,
   "id": "25f51b99",
   "metadata": {},
   "outputs": [],
   "source": [
    "scaper_object.div_info_tag(tag)"
   ]
  },
  {
   "cell_type": "code",
   "execution_count": null,
   "id": "a8c5d07e",
   "metadata": {},
   "outputs": [],
   "source": [
    "data"
   ]
  },
  {
   "cell_type": "code",
   "execution_count": null,
   "id": "4954a184",
   "metadata": {},
   "outputs": [],
   "source": [
    "data = scaper_object.run_scraper()"
   ]
  },
  {
   "cell_type": "code",
   "execution_count": null,
   "id": "a9e0a337",
   "metadata": {},
   "outputs": [],
   "source": [
    "data.to_csv(\"/Users/timdunn/Desktop/swatch_data_2_6_23.csv\", index=False)"
   ]
  },
  {
   "cell_type": "code",
   "execution_count": null,
   "id": "35c81bdb",
   "metadata": {},
   "outputs": [],
   "source": [
    "everything = pd.concat([pd.read_csv('/Users/timdunn/Desktop/everything_merged.csv'), data]).drop_duplicates(subset=['link url'])"
   ]
  },
  {
   "cell_type": "code",
   "execution_count": null,
   "id": "3e8df963",
   "metadata": {},
   "outputs": [],
   "source": [
    "np.unique(everything['tconst'].astype(str)).size"
   ]
  },
  {
   "cell_type": "code",
   "execution_count": null,
   "id": "9cb5a0ad",
   "metadata": {},
   "outputs": [],
   "source": [
    "tags = scaper_object.get_movie_tags(scaper_object.get_page_soup(1))"
   ]
  },
  {
   "cell_type": "code",
   "execution_count": null,
   "id": "ef32944f",
   "metadata": {},
   "outputs": [],
   "source": [
    "span_text = scaper_object.meta_data_span_text(tags[0])"
   ]
  },
  {
   "cell_type": "code",
   "execution_count": null,
   "id": "861db288",
   "metadata": {},
   "outputs": [],
   "source": [
    "def get_quality(tag):\n",
    "    return tag.find('span', {'class': 'quality'}).text.strip()"
   ]
  },
  {
   "cell_type": "code",
   "execution_count": null,
   "id": "56816a63",
   "metadata": {},
   "outputs": [],
   "source": [
    "def get_link_tag(tag):\n",
    "    return get_data_tag(tag).find('a')"
   ]
  },
  {
   "cell_type": "code",
   "execution_count": null,
   "id": "991b48f3",
   "metadata": {},
   "outputs": [],
   "source": [
    "def get_url(tag):\n",
    "    return get_link_tag(tag).get('href')"
   ]
  },
  {
   "cell_type": "code",
   "execution_count": null,
   "id": "4ae40eb4",
   "metadata": {},
   "outputs": [],
   "source": [
    "def movie_title(tag):\n",
    "    return get_link_tag(tag).text.strip()"
   ]
  },
  {
   "cell_type": "code",
   "execution_count": null,
   "id": "767d7dec",
   "metadata": {},
   "outputs": [],
   "source": [
    "def get_data_tag(tag):\n",
    "    return tag.find('div', {'class': 'data'})"
   ]
  },
  {
   "cell_type": "code",
   "execution_count": null,
   "id": "726a8dc0",
   "metadata": {},
   "outputs": [],
   "source": [
    "def get_year(tag):\n",
    "    return tag.find('div', {'class': 'metadata'}).find_all('span')[1].text.strip()"
   ]
  },
  {
   "cell_type": "code",
   "execution_count": null,
   "id": "fef67a69",
   "metadata": {},
   "outputs": [],
   "source": [
    "def get_movie_description(tag):\n",
    "    return tag.find('div', {'class': 'texto'}).text.strip()"
   ]
  },
  {
   "cell_type": "code",
   "execution_count": null,
   "id": "80d82e8c",
   "metadata": {},
   "outputs": [],
   "source": [
    "def is_last_page(page):\n",
    "    soup = get_soup_url(get_page_url(page))\n",
    "    try:\n",
    "        soup.find('i', {'id': 'nextpagination'}).text\n",
    "        return False\n",
    "    except:\n",
    "        return True"
   ]
  },
  {
   "cell_type": "code",
   "execution_count": null,
   "id": "4a940f5e",
   "metadata": {},
   "outputs": [],
   "source": [
    "year = r'(18[8-9][0-9]|19[0-9]{2}|20[0-1][0-9]|202[0-3])'"
   ]
  },
  {
   "cell_type": "code",
   "execution_count": null,
   "id": "f2605f39",
   "metadata": {},
   "outputs": [],
   "source": [
    "def remove_year_apply_searchable(title):\n",
    "    year = r'\\((18[8-9][0-9]|19[0-9]{2}|20[0-1][0-9]|202[0-3])\\)'\n",
    "    return searchable_movie_name(re.split(year, title)[0])"
   ]
  },
  {
   "cell_type": "code",
   "execution_count": null,
   "id": "5b0ff4b7",
   "metadata": {},
   "outputs": [],
   "source": [
    "remove_year_apply_searchable(go_df.loc[0, 'movie_title'])"
   ]
  },
  {
   "cell_type": "code",
   "execution_count": null,
   "id": "a25bdeb6",
   "metadata": {},
   "outputs": [],
   "source": [
    "go_df['searchable_movie_name'] = go_df['movie_title'].astype(str).apply(remove_year_apply_searchable)"
   ]
  },
  {
   "cell_type": "code",
   "execution_count": null,
   "id": "f8a790ee",
   "metadata": {},
   "outputs": [],
   "source": [
    "from all_processes.update_movie_data import *"
   ]
  },
  {
   "cell_type": "code",
   "execution_count": null,
   "id": "ce8d72d5",
   "metadata": {},
   "outputs": [],
   "source": [
    "from syncing_movie_data.create_movie_data import *\n",
    "from requirements import *\n",
    "from common_methods import *\n",
    "\n",
    "class UpdateMovieData:\n",
    "    \n",
    "    def __init__(self, imdb_directory='/Users/timdunn/Desktop/imdb_latest/'):\n",
    "        self.imdb_directory = imdb_directory\n",
    "        self.title_basics_path = \"{}title.basics.tsv\".format(self.imdb_directory)\n",
    "        self.merged_imdb_path = \"{}merged_imdb.csv\".format(self.imdb_directory)\n",
    "        self.title_akas_path = \"{}title.akas.tsv\".format(self.imdb_directory)\n",
    "        self.imdb_data_url = 'https://datasets.imdbws.com/'\n",
    "        \n",
    "    def get_latest_imdb(self):\n",
    "        if self.imdb_file_not_updated():\n",
    "            soup = self.go_to_imdb_page()\n",
    "            links = self.get_all_links(soup)\n",
    "            self.download_all_links(links)\n",
    "            self.extract_all_links()\n",
    "            self.remove_archive_links()\n",
    "        return self.set_imdb_data()\n",
    "    \n",
    "    def remove_archive_links(self):\n",
    "        for file in self.files_to_extract():\n",
    "            os.remove(file)\n",
    "            \n",
    "    def imdb_merge_not_updated(self):\n",
    "        return self.file_not_updated(file_path=self.merged_imdb_path)\n",
    "    \n",
    "    def file_not_updated(self, file_path):\n",
    "        try:\n",
    "            update_time = os.path.getmtime(file_path)\n",
    "            days = ((time.time() - update_time)/3600)/24\n",
    "            return days > 1\n",
    "        except:\n",
    "            return True\n",
    "        \n",
    "    def imdb_file_not_updated(self):\n",
    "        return self.file_not_updated(self.title_basics_path) or self.file_not_updated(self.title_akas_path)\n",
    "        \n",
    "    def set_imdb_data(self):\n",
    "        if self.imdb_merge_not_updated():\n",
    "            df = CreateMovieData(movies_from_file_path=self.title_basics_path, \n",
    "                                 alias_file_path=self.title_akas_path).create_imdb_df()\n",
    "            df.to_csv(self.merged_imdb_path, index=False)\n",
    "            return df\n",
    "        else:\n",
    "            return pd.read_csv(self.merged_imdb_path)\n",
    "        \n",
    "    def go_to_imdb_page(self):\n",
    "        return get_soup_url(self.imdb_data_url)\n",
    "    \n",
    "    def get_uls(self,soup):\n",
    "        return soup.find_all('a')\n",
    "    \n",
    "    def get_all_links(self, soup):\n",
    "        return [ul.find('a').get('href') for ul in soup.find_all('ul')]\n",
    "    \n",
    "    def get_output_file(self, file_name):\n",
    "        return \"{}\".format(file_name.split('.gz')[0])\n",
    "    \n",
    "    def extract_all_links(self):\n",
    "        for file in self.files_to_extract():\n",
    "            extract_file(file, self.get_output_file(file))\n",
    "            \n",
    "    def files_to_extract(self):\n",
    "        return list(filter(lambda x: '.gz' in x, listdir_nohidden(self.imdb_directory)))\n",
    "    \n",
    "    def file_name_of_link(self, link):\n",
    "        return \"{}{}\".format(self.imdb_directory, link.split(self.imdb_data_url)[-1])\n",
    "    \n",
    "    def download_all_links(self, links):\n",
    "        for link in links:\n",
    "            download_file(self.file_name_of_link(link), link)            "
   ]
  },
  {
   "cell_type": "code",
   "execution_count": null,
   "id": "f8307479",
   "metadata": {},
   "outputs": [],
   "source": [
    "imdb_df = pd.read_csv('/Users/timdunn/Desktop/imdb_latest/merged_imdb.csv')"
   ]
  },
  {
   "cell_type": "code",
   "execution_count": null,
   "id": "9e05ec2b",
   "metadata": {},
   "outputs": [],
   "source": [
    "data['year'] = data['year'].astype(str)\n",
    "imdb_df['startYear'] = imdb_df['startYear'].astype(str)"
   ]
  },
  {
   "cell_type": "code",
   "execution_count": null,
   "id": "7463d6c0",
   "metadata": {},
   "outputs": [],
   "source": [
    "data['searchable_movie_name'] = data['movie_title'].astype(str).apply(searchable_movie_name)\n",
    "imdb_df['searchable_alias_title'] = imdb_df['searchable_alias_title'].astype(str)"
   ]
  },
  {
   "cell_type": "code",
   "execution_count": null,
   "id": "bb51686d",
   "metadata": {},
   "outputs": [],
   "source": [
    "merged_go = pd.merge(data, imdb_df, left_on=[\"searchable_movie_name\", \"year\"], \n",
    "         right_on=[\"searchable_alias_title\", \"startYear\"]).drop_duplicates(\n",
    "    subset=[\"tconst\", \"link url\"]).reset_index(drop=True)"
   ]
  },
  {
   "cell_type": "code",
   "execution_count": null,
   "id": "d4369e7a",
   "metadata": {},
   "outputs": [],
   "source": [
    "imdb_df = UpdateMovieData().get_latest_imdb()"
   ]
  },
  {
   "cell_type": "code",
   "execution_count": null,
   "id": "edb42ef0",
   "metadata": {},
   "outputs": [],
   "source": [
    "class LookScraper(Scraper):\n",
    "    def __init__(self, page_logging=True):\n",
    "        super().__init__(\"https://lookmovie2.to\", \"https://lookmovie2.to/page/{}\", page_logging)\n",
    "    \n",
    "    def get_movie_tags(self, soup):\n",
    "        return soup.find_all(\"div\",{\"class\": \"mv-item-infor\"})\n",
    "    \n",
    "    def get_link_tag(self, tag):\n",
    "        return tag.find(\"a\")\n",
    "    \n",
    "    def movie_link_url(self, tag):\n",
    "        return self.get_link_tag(tag)[\"href\"]\n",
    "    \n",
    "    def movie_link_title(self, tag):\n",
    "        return self.get_link_tag(tag).text\n",
    "    \n",
    "    def is_last_page(self, page):\n",
    "        soup = get_page_soup(page)\n",
    "        return len(soup.find_all(\"a\", \"pagination_next\")) == 1"
   ]
  },
  {
   "cell_type": "code",
   "execution_count": null,
   "id": "2276b70a",
   "metadata": {},
   "outputs": [],
   "source": [
    "look_object = LookScraper()\n",
    "look_data = data = look_object.run_scraper()"
   ]
  },
  {
   "cell_type": "code",
   "execution_count": null,
   "id": "d32a9675",
   "metadata": {},
   "outputs": [],
   "source": [
    "from syncing_movie_data.merge_movie_data import *"
   ]
  },
  {
   "cell_type": "code",
   "execution_count": null,
   "id": "39cea13a",
   "metadata": {},
   "outputs": [],
   "source": [
    "tubi_link = \"https://tubitv.com/movies/463712\""
   ]
  },
  {
   "cell_type": "code",
   "execution_count": null,
   "id": "65b174d5",
   "metadata": {},
   "outputs": [],
   "source": [
    "ydl_opts = {'proxy': FreeProxy(country_id=['US']).get()}"
   ]
  },
  {
   "cell_type": "code",
   "execution_count": null,
   "id": "cce9a575",
   "metadata": {},
   "outputs": [],
   "source": [
    "download_a_video(tubi_link)"
   ]
  },
  {
   "cell_type": "code",
   "execution_count": null,
   "id": "959f858f",
   "metadata": {},
   "outputs": [],
   "source": [
    "download_a_video(\"https://ok.ru/video/312037804651\")"
   ]
  },
  {
   "cell_type": "code",
   "execution_count": null,
   "id": "8d19114d",
   "metadata": {},
   "outputs": [],
   "source": [
    "def download_a_video(video_link, ydl_opts={}):\n",
    "    with youtube_dl.YoutubeDL(ydl_opts) as ydl:\n",
    "            ydl.download([video_link])"
   ]
  },
  {
   "cell_type": "code",
   "execution_count": null,
   "id": "5edd2fdf",
   "metadata": {},
   "outputs": [],
   "source": [
    "creation_object = CreateMovieData()\n",
    "creation_object.read_data_from_files()"
   ]
  },
  {
   "cell_type": "code",
   "execution_count": null,
   "id": "1a65e4a0",
   "metadata": {},
   "outputs": [],
   "source": [
    "merge_object = MergeMovieData(imdb_df=creation_object.imdb_df, links_df=creation_object.links_df)"
   ]
  },
  {
   "cell_type": "code",
   "execution_count": null,
   "id": "26b3a6ee",
   "metadata": {},
   "outputs": [],
   "source": [
    "for duration in merge_object.similar_durations():\n",
    "    print(duration)\n",
    "    df = merge_object.no_year_merge(duration)\n",
    "    df.to_csv(\"/Users/timdunn/Desktop/{}_noyear_okru_links.csv\".format(duration), index=False)"
   ]
  },
  {
   "cell_type": "code",
   "execution_count": null,
   "id": "5013b1a4",
   "metadata": {},
   "outputs": [],
   "source": [
    "for year in range(1894,2024):\n",
    "    print(year)\n",
    "    df = merge_object.year_almost_merge(year)\n",
    "    df.to_csv(\"/Users/timdunn/Desktop/{}_noyear_okru_merged.csv\".format(year), index=False)"
   ]
  },
  {
   "cell_type": "code",
   "execution_count": null,
   "id": "105d1524",
   "metadata": {},
   "outputs": [],
   "source": [
    "for year in range(1894,2024):\n",
    "    print(year)\n",
    "    df = merge_object.year_almost_merge(year)\n",
    "    df.to_csv(\"/Users/timdunn/Desktop/{}_noyear_okru_merged.csv\".format(year), index=False)"
   ]
  },
  {
   "cell_type": "code",
   "execution_count": null,
   "id": "c069038c",
   "metadata": {},
   "outputs": [],
   "source": [
    "dfs = [pd.read_csv(file_path) for file_path in listdir_nohidden(\"/Users/timdunn/Desktop/okru_years/\")]"
   ]
  },
  {
   "cell_type": "code",
   "execution_count": null,
   "id": "d16eb4dd",
   "metadata": {},
   "outputs": [],
   "source": [
    "youtube_df = pd.read_csv(\"/Users/\")"
   ]
  },
  {
   "cell_type": "code",
   "execution_count": null,
   "id": "14ae0d27",
   "metadata": {},
   "outputs": [],
   "source": [
    "final_df = pd.concat(dfs).drop_duplicates()"
   ]
  },
  {
   "cell_type": "code",
   "execution_count": null,
   "id": "060a9319",
   "metadata": {},
   "outputs": [],
   "source": [
    "final_df = reset_and_copy(final_df)"
   ]
  },
  {
   "cell_type": "code",
   "execution_count": null,
   "id": "44d5f664",
   "metadata": {},
   "outputs": [],
   "source": [
    "np.unique(final_df['link url']).size"
   ]
  },
  {
   "cell_type": "code",
   "execution_count": null,
   "id": "b6ddd8f3",
   "metadata": {},
   "outputs": [],
   "source": [
    "guessit_df = pd.read_csv(\"/Users/timdunn/Desktop/merged_okru_imdb_guessit_others.csv\")"
   ]
  },
  {
   "cell_type": "code",
   "execution_count": null,
   "id": "8c660f8d",
   "metadata": {},
   "outputs": [],
   "source": [
    "archive_soup = get_soup_url('https://archive.org/details/feature_films?&sort=titleSorter&page=1000')"
   ]
  },
  {
   "cell_type": "code",
   "execution_count": null,
   "id": "ac24083b",
   "metadata": {},
   "outputs": [],
   "source": [
    "dets = archive_soup.find_all('div', {'class': 'details-ia'})"
   ]
  },
  {
   "cell_type": "code",
   "execution_count": null,
   "id": "50faccc4",
   "metadata": {},
   "outputs": [],
   "source": [
    "soup = get_soup_url(\"https://reelgood.com/movies/source/free&?offset=35\")"
   ]
  },
  {
   "cell_type": "code",
   "execution_count": null,
   "id": "b75a855c",
   "metadata": {},
   "outputs": [],
   "source": [
    "<tr itemprop=\"itemListElement\" itemscope=\"\" itemtype=\"//schema.org/ListItem\" class=\"css-8o18x3-item-movie-TableListing\"><td class=\"css-8uo30x-itemPoster\"><a href=\"/movie/john-wick-2014\"><div class=\"css-16udw8t-styledInstance-imgCont e126mwsw1\"><picture class=\"css-1t0o8z2-Picture e1181ybh0\"><source srcset=\"https://img.rgstatic.com/content/movie/694824fe-dc05-422e-afa3-e384dce01c21/poster-92.webp 92w,https://img.rgstatic.com/content/movie/694824fe-dc05-422e-afa3-e384dce01c21/poster-154.webp 154w,https://img.rgstatic.com/content/movie/694824fe-dc05-422e-afa3-e384dce01c21/poster-185.webp 185w,https://img.rgstatic.com/content/movie/694824fe-dc05-422e-afa3-e384dce01c21/poster-342.webp 342w\" type=\"image/webp\"><source srcset=\"https://img.rgstatic.com/content/movie/694824fe-dc05-422e-afa3-e384dce01c21/poster-92.jpg 92w,https://img.rgstatic.com/content/movie/694824fe-dc05-422e-afa3-e384dce01c21/poster-154.jpg 154w,https://img.rgstatic.com/content/movie/694824fe-dc05-422e-afa3-e384dce01c21/poster-185.jpg 185w,https://img.rgstatic.com/content/movie/694824fe-dc05-422e-afa3-e384dce01c21/poster-342.jpg 342w\" type=\"image/jpeg\"><img class=\"css-1fn7lnn-Img e1181ybh1\" data-async-image=\"true\" loading=\"lazy\" src=\"https://img.rgstatic.com/content/movie/694824fe-dc05-422e-afa3-e384dce01c21/poster-342.jpg\" alt=\"John Wick Poster\" itemprop=\"image\" decoding=\"async\" style=\"\"></picture></div></a></td><td class=\"css-4cns8v-styledInstance e126mwsw1\"><a href=\"/movie/john-wick-2014\">John Wick</a><meta itemprop=\"position\" content=\"1\"><meta itemprop=\"image\" content=\"https://img.rgstatic.com/content/movie/694824fe-dc05-422e-afa3-e384dce01c21/poster-342.jpg\"><meta itemprop=\"url\" content=\"https://reelgood.com/movie/john-wick-2014\"></td><td class=\"css-0\"></td><td class=\"css-jdkded-itemYear\">2014</td><td class=\"css-8jese-itemRating\">18+</td><td class=\"css-eu72kk-itemImdb\"><b class=\"css-b9u1yq-numeratorBold\"><div class=\"css-0\"><span><b class=\"css-b9u1yq-numeratorBold\">7.4</b>/10</span></div></b></td><td class=\"css-1hgibhe-itemReelgood\"><b class=\"css-b9u1yq-numeratorBold\"><div><span><b class=\"css-b9u1yq-numeratorBold\">88</b>/100</span></div></b></td><td class=\"css-1r7efkd-itemSources\"><span class=\"css-17gf41k-service\"><div class=\"css-pgdzqk-ServiceLogo-serviceLogo-threeServiceLogo-TableListing e11eoopx0\"><img src=\"https://img.rgstatic.com/service-logos/free.svg\" alt=\"free\"></div></span><span class=\"css-17gf41k-service\"><div class=\"css-pgdzqk-ServiceLogo-serviceLogo-threeServiceLogo-TableListing e11eoopx0\"><img src=\"https://img.rgstatic.com/service-logos/peacock.svg\" alt=\"peacock\"></div></span><span class=\"css-17gf41k-service\"><div class=\"css-pgdzqk-ServiceLogo-serviceLogo-threeServiceLogo-TableListing e11eoopx0\"><img src=\"https://img.rgstatic.com/service-logos/peacock.svg\" alt=\"peacock_free\"></div></span><span class=\"css-qffl0n-rentBuy-threeRentBuy-TableListing\">+ Rent or Buy</span><span><span class=\"css-1vngw29-sourcesLeft-threeSourcesLeft-TableListing\"></span></span></td><td class=\"css-17590it-noPadding\"></td><td class=\"css-4dcal0-itemTrack\"><div class=\"css-1uag13v-itemTrackingInner\"><div class=\"css-4b9md7-styledInstance e126mwsw1\"><span>Want To See</span><img src=\"data:image/svg+xml;base64,PHN2ZyB4bWxucz0iaHR0cDovL3d3dy53My5vcmcvMjAwMC9zdmciIHhtbG5zOnhsaW5rPSJodHRwOi8vd3d3LnczLm9yZy8xOTk5L3hsaW5rIiB3aWR0aD0iMTIiIGhlaWdodD0iMTIiIHZlcnNpb249IjEuMSIgdmlld0JveD0iMCAwIDEyIDEyIj48dGl0bGU+cGx1cy9Tb3VyY2U8L3RpdGxlPjxkZXNjPkNyZWF0ZWQgd2l0aCBTa2V0Y2guPC9kZXNjPjxnIGlkPSJTeW1ib2xzIiBmaWxsPSJub25lIiBmaWxsLXJ1bGU9ImV2ZW5vZGQiIHN0cm9rZT0ibm9uZSIgc3Ryb2tlLXdpZHRoPSIxIj48ZyBpZD0icGx1cy9Tb3VyY2UiIGZpbGw9IiNGRkYiPjxwb2x5Z29uIGlkPSJQYWdlLTEiIHBvaW50cz0iNC4zNjcgMCA0LjM2NyA0LjM2NyAwIDQuMzY3IDAgNy42MzMgNC4zNjcgNy42MzMgNC4zNjcgMTIgNy42MzQgMTIgNy42MzQgNy42MzMgMTIgNy42MzMgMTIgNC4zNjcgNy42MzQgNC4zNjcgNy42MzQgMCIvPjwvZz48L2c+PC9zdmc+\" alt=\"Want To See Icon\" title=\"Add movie to watchlist\"></div><div class=\"css-4b9md7-styledInstance e126mwsw1\"><span>Seen</span><img src=\"data:image/svg+xml;base64,PHN2ZyB4bWxucz0iaHR0cDovL3d3dy53My5vcmcvMjAwMC9zdmciIHhtbG5zOnhsaW5rPSJodHRwOi8vd3d3LnczLm9yZy8xOTk5L3hsaW5rIiB3aWR0aD0iMTEiIGhlaWdodD0iMTIiIHZlcnNpb249IjEuMSIgdmlld0JveD0iMCAwIDExIDEyIj48dGl0bGU+Y2hlY2tNYXJrIHdoaXRlPC90aXRsZT48ZGVzYz5DcmVhdGVkIHdpdGggU2tldGNoLjwvZGVzYz48ZyBpZD0iU3ltYm9scyIgZmlsbD0ibm9uZSIgZmlsbC1ydWxlPSJldmVub2RkIiBzdHJva2U9Im5vbmUiIHN0cm9rZS13aWR0aD0iMSI+PGcgaWQ9ImNoZWNrTWFyay13aGl0ZSIgZmlsbD0iI0ZGRiI+PHBvbHlnb24gaWQ9IlBhZ2UtMSIgcG9pbnRzPSI2Ljk5NCAxLjUwNCAzLjg1MiA2Ljg2NyAyLjI2NSA0LjI2NyAwIDUuNTIgMy44NjIgMTEuODQ2IDExIDAiLz48L2c+PC9nPjwvc3ZnPg==\" alt=\"Check Mark Icon\" title=\"Mark movie as seen\"></div></div></td></tr>"
   ]
  },
  {
   "cell_type": "code",
   "execution_count": null,
   "id": "27618b33",
   "metadata": {},
   "outputs": [],
   "source": [
    "divs = soup.find_all('div', {'itemprop': 'itemListElement'})"
   ]
  },
  {
   "cell_type": "code",
   "execution_count": null,
   "id": "001cda5a",
   "metadata": {},
   "outputs": [],
   "source": [
    "urls = [div.find('a').get('href') for div in divs]"
   ]
  },
  {
   "cell_type": "code",
   "execution_count": null,
   "id": "7a1b0c6c",
   "metadata": {},
   "outputs": [],
   "source": [
    "new_urls = [div.find('a').get('href') for div in divs]"
   ]
  },
  {
   "cell_type": "code",
   "execution_count": null,
   "id": "f9e479b4",
   "metadata": {},
   "outputs": [],
   "source": []
  },
  {
   "cell_type": "code",
   "execution_count": null,
   "id": "cf694893",
   "metadata": {},
   "outputs": [],
   "source": [
    "archive_soup.find_all('div', {'class': 'results'})"
   ]
  },
  {
   "cell_type": "code",
   "execution_count": null,
   "id": "2ec3579e",
   "metadata": {},
   "outputs": [],
   "source": [
    "final_df.loc[final_df['duration'] != 0]"
   ]
  },
  {
   "cell_type": "code",
   "execution_count": null,
   "id": "04e2d12a",
   "metadata": {},
   "outputs": [],
   "source": [
    "def filter_duplicate_links(link_url):\n",
    "    return final_df.loc[final_df['link url'] == link_url].shape[0] == 1"
   ]
  },
  {
   "cell_type": "code",
   "execution_count": null,
   "id": "a8e183c6",
   "metadata": {},
   "outputs": [],
   "source": [
    "urls = final_df['link url']"
   ]
  },
  {
   "cell_type": "code",
   "execution_count": null,
   "id": "d6773ff5",
   "metadata": {},
   "outputs": [],
   "source": [
    "dups = urls.duplicated()"
   ]
  },
  {
   "cell_type": "code",
   "execution_count": null,
   "id": "e0fe5160",
   "metadata": {},
   "outputs": [],
   "source": [
    "def link_url_dups(df):\n",
    "    return df['link url'][df['link url'].duplicated()]"
   ]
  },
  {
   "cell_type": "code",
   "execution_count": null,
   "id": "44feaf19",
   "metadata": {},
   "outputs": [],
   "source": [
    "def filter_df(df):\n",
    "    return df.loc[~df['link url'].isin(link_url_dups(df)) & df['duration'] != 0]"
   ]
  },
  {
   "cell_type": "code",
   "execution_count": null,
   "id": "d34bea29",
   "metadata": {},
   "outputs": [],
   "source": [
    "filtered_df = final_df.loc[~final_df['link url'].isin(urls[dups]) & final_df['duration'] != 0]"
   ]
  },
  {
   "cell_type": "code",
   "execution_count": null,
   "id": "318b2329",
   "metadata": {},
   "outputs": [],
   "source": [
    "filtered_df.to_csv('/Users/timdunn/Desktop/current_imdb_okru_merge.csv', index=False)"
   ]
  },
  {
   "cell_type": "code",
   "execution_count": null,
   "id": "1a4d9117",
   "metadata": {},
   "outputs": [],
   "source": [
    "np.unique(filtered_df['link url']).size"
   ]
  },
  {
   "cell_type": "code",
   "execution_count": null,
   "id": "dd2e5f38",
   "metadata": {},
   "outputs": [],
   "source": [
    "filtered_df = final_df[final_df['link url'].astype(str).apply(filter_duplicate_links)]"
   ]
  },
  {
   "cell_type": "code",
   "execution_count": null,
   "id": "06a9a2f4",
   "metadata": {},
   "outputs": [],
   "source": [
    "np.unique(final_df['tconst']).size"
   ]
  },
  {
   "cell_type": "code",
   "execution_count": null,
   "id": "35509cad",
   "metadata": {},
   "outputs": [],
   "source": [
    "from syncing_movie_data.syncing import *"
   ]
  },
  {
   "cell_type": "code",
   "execution_count": null,
   "id": "a151ebdc",
   "metadata": {},
   "outputs": [],
   "source": [
    "creation_object = CreateMovieData()"
   ]
  },
  {
   "cell_type": "code",
   "execution_count": null,
   "id": "9d53555d",
   "metadata": {},
   "outputs": [],
   "source": [
    "creation_object.read_data_from_files()"
   ]
  },
  {
   "cell_type": "code",
   "execution_count": null,
   "id": "28131dd0",
   "metadata": {},
   "outputs": [],
   "source": [
    "merge_object = MergeMovieData(imdb_df=creation_object.imdb_df, links_df=creation_object.links_df\n",
    "                              , groups_df=creation_object.groups_df)"
   ]
  },
  {
   "cell_type": "code",
   "execution_count": null,
   "id": "3953f782",
   "metadata": {},
   "outputs": [],
   "source": [
    "final_df = merge_object.set_merge_dfs()"
   ]
  },
  {
   "cell_type": "code",
   "execution_count": null,
   "id": "2bb9f5d5",
   "metadata": {},
   "outputs": [],
   "source": [
    "class CreateSomeData:\n",
    "    def __init__(self, imdb_df=None, links_df=None, groups_df=None):\n",
    "        self.okru_links_path = \"/Users/timdunn/Desktop/okru_progress.csv\"\n",
    "        self.merged_df = pd.read_csv(\"/Users/timdunn/Desktop/okru_merged_imdb.csv\")\n",
    "        self.imdb_duration_column = 'runtimeMinutes'\n",
    "        self.link_duration_column = 'duration'\n",
    "        self.link_year_column = 'year'\n",
    "        self.imdb_year_column = 'startYear'\n",
    "    def create_imdb_df():\n",
    "        title_df = movies_from_file()\n",
    "        alias_df = alias_df_from_file()\n",
    "        add_alias_searchable_title(alias_df)\n",
    "        imdb_df = merge_alias_w_imdb_df(alias_df, title_df)\n",
    "        add_searchable_columns_to_imdb_df(imdb_df)\n",
    "        return imdb_df\n",
    "    def create_and_update_data(self):\n",
    "        self.imdb_df = create_imdb_df()\n",
    "        self.links_df = create_links_df()\n",
    "        update_okru_links_file(links_df)\n",
    "        self.groups_df = create_groups_df(self.imdb_df)"
   ]
  },
  {
   "cell_type": "code",
   "execution_count": null,
   "id": "908bdb47",
   "metadata": {},
   "outputs": [],
   "source": [
    "CreateSomeData().create_and_update_data()"
   ]
  },
  {
   "cell_type": "code",
   "execution_count": null,
   "id": "b2aaef19",
   "metadata": {},
   "outputs": [],
   "source": [
    "df = pd.read_csv(\"/Users/timdunn/Desktop/imdb_okru_merging.csv\")"
   ]
  },
  {
   "cell_type": "code",
   "execution_count": null,
   "id": "5d35c91b",
   "metadata": {},
   "outputs": [],
   "source": [
    "main_okru_df = pd.read_csv(\"/Users/timdunn/Desktop/okru_progress.csv\").drop_duplicates(subset=[\"link url\"]).drop([\"tconst\"], axis=1)"
   ]
  },
  {
   "cell_type": "code",
   "execution_count": null,
   "id": "e9182527",
   "metadata": {},
   "outputs": [],
   "source": [
    "main_okru_df = main_okru_df[['link title', 'movie duration', 'link url']].copy()"
   ]
  },
  {
   "cell_type": "code",
   "execution_count": null,
   "id": "46220bb1",
   "metadata": {},
   "outputs": [],
   "source": [
    "main_okru_df = main_okru_df.reset_index(drop=True)"
   ]
  },
  {
   "cell_type": "code",
   "execution_count": null,
   "id": "ccb9eec6",
   "metadata": {},
   "outputs": [],
   "source": [
    "main_okru_df[\"duration\"] = main_okru_df[\"movie duration\"].astype(str).apply(minutes_from_string)"
   ]
  },
  {
   "cell_type": "code",
   "execution_count": null,
   "id": "b7b6d9f8",
   "metadata": {},
   "outputs": [],
   "source": [
    "imdb_df = create_imdb_df()"
   ]
  },
  {
   "cell_type": "code",
   "execution_count": null,
   "id": "48efdcfe",
   "metadata": {},
   "outputs": [],
   "source": [
    "imdb_df.columns"
   ]
  },
  {
   "cell_type": "code",
   "execution_count": null,
   "id": "a7341148",
   "metadata": {},
   "outputs": [],
   "source": [
    "imdb_df[\"runtimeMinutes\"] = imdb_df[\"runtimeMinutes\"].astype(str).apply(minutes_from_string)"
   ]
  },
  {
   "cell_type": "code",
   "execution_count": null,
   "id": "d0b52deb",
   "metadata": {},
   "outputs": [],
   "source": [
    "main_okru_df[\"searchable_movie_name\"]"
   ]
  },
  {
   "cell_type": "code",
   "execution_count": null,
   "id": "82bf2308",
   "metadata": {},
   "outputs": [],
   "source": [
    "duration_possibilities = imdb_df.loc[np.absolute(imdb_df[\"runtimeMinutes\"] - main_okru_df[\"duration\"]) < 10]"
   ]
  },
  {
   "cell_type": "code",
   "execution_count": null,
   "id": "99b89cd3",
   "metadata": {},
   "outputs": [],
   "source": [
    "main_okru_df[\"duration\"].apply(lambda duration: abs(duration - ))"
   ]
  },
  {
   "cell_type": "code",
   "execution_count": null,
   "id": "f9d59b6e",
   "metadata": {},
   "outputs": [],
   "source": [
    "main_okru_df[\"tconst\"] = imdb_df.loc[imdb_df[\"searchable_alias_title\"].str.contains()]"
   ]
  },
  {
   "cell_type": "code",
   "execution_count": null,
   "id": "db373a45",
   "metadata": {},
   "outputs": [],
   "source": [
    "abs_values = np.absolute(main_okru_df[\"duration\"].astype(int) - imdb_df[\"runtimeMinutes\"].astype(int))"
   ]
  },
  {
   "cell_type": "code",
   "execution_count": null,
   "id": "ff363fa8",
   "metadata": {},
   "outputs": [],
   "source": [
    "main_okru_df[\"searchable_movie_name\"] = main_okru_df[\"link title\"].astype(str).apply(searchable_movie_name)"
   ]
  },
  {
   "cell_type": "code",
   "execution_count": null,
   "id": "1e5f042a",
   "metadata": {},
   "outputs": [],
   "source": [
    "results_dict = main_okru_df.apply(lambda df: \n",
    "                                  {\"link url\": df[\"link url\"], \n",
    "                                   \"possible_tconsts\": imdb_tconts(df, imdb_df)}, axis=1)"
   ]
  },
  {
   "cell_type": "code",
   "execution_count": null,
   "id": "e57e805c",
   "metadata": {},
   "outputs": [],
   "source": [
    "def imdb_tconts(df, imdb_df):\n",
    "    return np.unique(imdb_df.loc[imdb_df.apply(lambda imdbdf: get_local_tconst(df, imdbdf), axis=1), \"tconst\"])"
   ]
  },
  {
   "cell_type": "code",
   "execution_count": null,
   "id": "19fb01e7",
   "metadata": {},
   "outputs": [],
   "source": [
    "def get_local_tconst(df, imdbdf):\n",
    "    name_logic = (str(imdbdf[\"searchable_alias_title\"]) in str(df[\"searchable_movie_name\"]))\n",
    "    year_logic = (str(imdbdf['startYear']) in str(df[\"searchable_movie_name\"]))\n",
    "    duration_logic = (abs(int(imdbdf[\"runtimeMinutes\"]) - int(df[\"duration\"])) < 10)\n",
    "    return  name_logic and year_logic and duration_logic        "
   ]
  },
  {
   "cell_type": "code",
   "execution_count": null,
   "id": "12e7947d",
   "metadata": {},
   "outputs": [],
   "source": [
    "imdb_df"
   ]
  },
  {
   "cell_type": "code",
   "execution_count": null,
   "id": "55fc68c8",
   "metadata": {},
   "outputs": [],
   "source": [
    "name = \"avengers\""
   ]
  },
  {
   "cell_type": "code",
   "execution_count": null,
   "id": "2f330894",
   "metadata": {},
   "outputs": [],
   "source": [
    "tconsts_example = imdb_tconts(name)"
   ]
  },
  {
   "cell_type": "code",
   "execution_count": null,
   "id": "c86f2f30",
   "metadata": {},
   "outputs": [],
   "source": [
    "tconsts_example"
   ]
  },
  {
   "cell_type": "code",
   "execution_count": null,
   "id": "c8a99674",
   "metadata": {},
   "outputs": [],
   "source": [
    "main_okru_df.loc[main]"
   ]
  },
  {
   "cell_type": "code",
   "execution_count": null,
   "id": "dcbf02ce",
   "metadata": {},
   "outputs": [],
   "source": [
    "def merge_alias_w_imdb_df(alias_df, imdb_df):\n",
    "    merged_df = pd.merge(imdb_df, alias_df, how=\"inner\", validate =\"one_to_many\", left_on=(\"tconst\"), \n",
    "                         right_on=(\"titleId\"))\n",
    "    return merged_df"
   ]
  },
  {
   "cell_type": "code",
   "execution_count": null,
   "id": "c73d4e59",
   "metadata": {},
   "outputs": [],
   "source": [
    "def movies_from_file(file_path=\"/Users/timdunn/Downloads/title.basics-1.tsv\"):\n",
    "    file_data_frame = pd.read_csv(file_path, sep=\"\\t\")\n",
    "    return file_data_frame.loc[file_data_frame['titleType'].isin([\"movie\", \"tvMovie\", \"video\"])].reset_index(drop=True)"
   ]
  },
  {
   "cell_type": "code",
   "execution_count": null,
   "id": "014f1408",
   "metadata": {},
   "outputs": [],
   "source": [
    "def alias_df_from_file(file_path=\"/Users/timdunn/Downloads/title.akas-1.tsv\"):\n",
    "    return pd.read_csv(file_path, sep=\"\\t\")"
   ]
  },
  {
   "cell_type": "code",
   "execution_count": null,
   "id": "c57f52bb",
   "metadata": {},
   "outputs": [],
   "source": [
    "def add_alias_searchable_title(df):\n",
    "    df[\"searchable_alias_title\"] = df[\"title\"].astype(str).apply(searchable_movie_name)"
   ]
  },
  {
   "cell_type": "code",
   "execution_count": null,
   "id": "56f1ccef",
   "metadata": {},
   "outputs": [],
   "source": [
    "def merged_alias_basic_file_df(file_df, imdb_df):\n",
    "    return merge_file_path_df_imdb(file_df, imdb_df, searchable_column=\"searchable_alias_title\")"
   ]
  },
  {
   "cell_type": "code",
   "execution_count": null,
   "id": "3d478b18",
   "metadata": {},
   "outputs": [],
   "source": [
    "def merge_file_path_df_imdb(file_path_df, imdb_df, searchable_column=\"searchable_primary_title\"):\n",
    "    return pd.merge(file_path_df, imdb_df, left_on=[\"searchable_movie_name\", \"year\"], \n",
    "                    right_on=[searchable_column, \"startYear\"])"
   ]
  },
  {
   "cell_type": "code",
   "execution_count": null,
   "id": "53731a05",
   "metadata": {},
   "outputs": [],
   "source": [
    "def add_searchable_columns_to_imdb_df(imdb_df, searchable_method=\"normal\"):\n",
    "    if searchable_method == \"normal\":\n",
    "        imdb_df[\"searchable_primary_title\"] = imdb_df[\"primaryTitle\"].astype(str).apply(searchable_movie_name)\n",
    "        imdb_df[\"searchable_original_title\"] = imdb_df[\"originalTitle\"].astype(str).apply(searchable_movie_name)\n",
    "    else:\n",
    "        imdb_df[\"searchable_primary_title\"] = imdb_df[\"primaryTitle\"].astype(str).apply(simple_searchable_movie_name)\n",
    "        imdb_df[\"searchable_original_title\"] = imdb_df[\"originalTitle\"].astype(str).apply(simple_searchable_movie_name)\n",
    "    return imdb_df"
   ]
  },
  {
   "cell_type": "code",
   "execution_count": null,
   "id": "8ec6e0fa",
   "metadata": {},
   "outputs": [],
   "source": [
    "def searchable_movie_name(movie_name):\n",
    "    movie_name = re.sub(\":\", \"\", movie_name)\n",
    "    movie_name = re.sub(\"'\", \"\", movie_name)\n",
    "    movie_name = re.sub(\"\\.\\.\\.\", \"\", movie_name)\n",
    "    movie_name = re.sub(\"\\.\\.\", \"\", movie_name)\n",
    "    movie_name = re.sub(\"_\", \" \", movie_name)\n",
    "    movie_name = re.sub(\"-\", \" \", movie_name)\n",
    "    movie_name = re.sub(\"  \", \" \", movie_name)\n",
    "    movie_name = re.sub(\"\\.\", \" \", movie_name)\n",
    "    movie_name = re.sub('\"', \"\", movie_name)\n",
    "    movie_name = re.sub(\"\\*\", \"\", movie_name)\n",
    "    return movie_name.lower().strip()"
   ]
  },
  {
   "cell_type": "code",
   "execution_count": null,
   "id": "8e60bf46",
   "metadata": {},
   "outputs": [],
   "source": [
    "def create_imdb_df():\n",
    "    title_df = movies_from_file()\n",
    "    alias_df = alias_df_from_file()\n",
    "    add_alias_searchable_title(alias_df)\n",
    "    imdb_df = merge_alias_w_imdb_df(alias_df, title_df)\n",
    "    add_searchable_columns_to_imdb_df(imdb_df)\n",
    "    return imdb_df"
   ]
  },
  {
   "cell_type": "code",
   "execution_count": null,
   "id": "0f69e561",
   "metadata": {},
   "outputs": [],
   "source": [
    "def convert_runtimes(minutes):\n",
    "    try:\n",
    "        return int(minutes)\n",
    "    except:\n",
    "        return 0"
   ]
  },
  {
   "cell_type": "code",
   "execution_count": null,
   "id": "37c165af",
   "metadata": {},
   "outputs": [],
   "source": [
    "def minutes_from_string(date_string):\n",
    "    try:\n",
    "        split_string = [int(split_str) for split_str in date_string.split(\":\")]\n",
    "        if len(split_string) == 2:\n",
    "            return round(split_string[0] + (split_string[1]/60))\n",
    "        elif len(split_string) == 3:\n",
    "            return round((split_string[0] * 60) + split_string[1] + (split_string[2]/60))\n",
    "        else:\n",
    "            return 0\n",
    "    except:\n",
    "        return 0"
   ]
  },
  {
   "cell_type": "code",
   "execution_count": null,
   "id": "761f3cc5",
   "metadata": {},
   "outputs": [],
   "source": [
    "df[duration_column].astype(str).apply(minutes_from_string)"
   ]
  },
  {
   "cell_type": "code",
   "execution_count": null,
   "id": "a432bb47",
   "metadata": {},
   "outputs": [],
   "source": [
    "nan_val = df.loc[0, \"tconst\"]"
   ]
  },
  {
   "cell_type": "code",
   "execution_count": null,
   "id": "bab16bf1",
   "metadata": {},
   "outputs": [],
   "source": [
    "df.loc[0]"
   ]
  },
  {
   "cell_type": "code",
   "execution_count": null,
   "id": "2c6abf1d",
   "metadata": {},
   "outputs": [],
   "source": []
  },
  {
   "cell_type": "code",
   "execution_count": null,
   "id": "a6cfda1b",
   "metadata": {},
   "outputs": [],
   "source": [
    "np.unique(df.loc[~df['tconst'].isnull(), \"tconst\"]).size"
   ]
  },
  {
   "cell_type": "code",
   "execution_count": null,
   "id": "aff1d28e",
   "metadata": {},
   "outputs": [],
   "source": [
    "df"
   ]
  },
  {
   "cell_type": "code",
   "execution_count": null,
   "id": "75841b16",
   "metadata": {},
   "outputs": [],
   "source": [
    "df.loc[~df['tconst'].isnull()]"
   ]
  },
  {
   "cell_type": "code",
   "execution_count": null,
   "id": "1369647a",
   "metadata": {},
   "outputs": [],
   "source": [
    "from scraper import Scraper"
   ]
  },
  {
   "cell_type": "code",
   "execution_count": null,
   "id": "7d53e9e4",
   "metadata": {},
   "outputs": [],
   "source": [
    "CHROMEDRIVER_PATH = \"/Users/timdunn/Downloads/chromedriver-1\"\n",
    "WINDOW_SIZE = \"1920,1080\""
   ]
  },
  {
   "cell_type": "code",
   "execution_count": null,
   "id": "bd23fa67",
   "metadata": {},
   "outputs": [],
   "source": [
    "def get_driver():\n",
    "    options = webdriver.ChromeOptions()\n",
    "    options.add_argument(\"--headless\")\n",
    "    options.add_argument(\"--window-size=%s\" % WINDOW_SIZE)\n",
    "#     proxy = FreeProxy(country_id=['US']).get()\n",
    "#     options.add_argument('--proxy-server=%s' % proxy)\n",
    "    return webdriver.Chrome(executable_path=CHROMEDRIVER_PATH, chrome_options=options)"
   ]
  },
  {
   "cell_type": "code",
   "execution_count": null,
   "id": "de28312a",
   "metadata": {},
   "outputs": [],
   "source": [
    "lookmovie_url = \"https://lookmovie2.to/\""
   ]
  },
  {
   "cell_type": "code",
   "execution_count": null,
   "id": "66940c82",
   "metadata": {},
   "outputs": [],
   "source": [
    "lookmovie_url = \"https://lookmovie2.to/page/932\""
   ]
  },
  {
   "cell_type": "code",
   "execution_count": null,
   "id": "9d324937",
   "metadata": {},
   "outputs": [],
   "source": [
    "driver = get_driver()\n",
    "driver.get(lookmovie_url)"
   ]
  },
  {
   "cell_type": "code",
   "execution_count": null,
   "id": "61121a45",
   "metadata": {},
   "outputs": [],
   "source": [
    "def get_main_movie_elements(driver):\n",
    "    return driver.find_elements(By.CLASS_NAME, \"movie-item-style-1\")"
   ]
  },
  {
   "cell_type": "code",
   "execution_count": null,
   "id": "64bee60f",
   "metadata": {},
   "outputs": [],
   "source": [
    "movie_element = driver.find_elements(By.CLASS_NAME, \"movie-item-style-1\")"
   ]
  },
  {
   "cell_type": "code",
   "execution_count": null,
   "id": "3ddee258",
   "metadata": {},
   "outputs": [],
   "source": [
    "def get_movie_info_elements(driver):\n",
    "    return driver.find_elements(By.CLASS_NAME,\"mv-item-infor\")"
   ]
  },
  {
   "cell_type": "code",
   "execution_count": null,
   "id": "075c56ef",
   "metadata": {},
   "outputs": [],
   "source": [
    "def get_links(driver):\n",
    "    return [movie_info.find_element(By.TAG_NAME, \"a\").get_attribute(\"href\") for movie_info in get_movie_info_elements(driver)]"
   ]
  },
  {
   "cell_type": "code",
   "execution_count": null,
   "id": "3ececf7b",
   "metadata": {},
   "outputs": [],
   "source": [
    "def get_link_tag(movie_info_element):\n",
    "    return movie_info_element.find_element(By.TAG_NAME, \"a\")"
   ]
  },
  {
   "cell_type": "code",
   "execution_count": null,
   "id": "945435cb",
   "metadata": {},
   "outputs": [],
   "source": [
    "def get_link_url(link_tag):\n",
    "    return link_tag.get_attribute(\"href\")"
   ]
  },
  {
   "cell_type": "code",
   "execution_count": null,
   "id": "4981c629",
   "metadata": {},
   "outputs": [],
   "source": [
    "def get_link_title(link_tag):\n",
    "    return link_tag.text"
   ]
  },
  {
   "cell_type": "code",
   "execution_count": null,
   "id": "5dda15a7",
   "metadata": {},
   "outputs": [],
   "source": [
    "def get_dict_from_link_tag(link_tag):\n",
    "    return {\"link url\": get_link_url(link_tag), \"movie_title\": get_link_title(link_tag)}"
   ]
  },
  {
   "cell_type": "code",
   "execution_count": null,
   "id": "9eaaabac",
   "metadata": {},
   "outputs": [],
   "source": [
    "def get_dicts_page(driver):\n",
    "    movie_info_elements = get_movie_info_elements(driver)\n",
    "    print(\"movie elements length is {}\".format(len(movie_info_elements)))\n",
    "    link_tags = [get_link_tag(movie_info_element) for movie_info_element in movie_info_elements]\n",
    "    print(\"link tags length is {}\".format(len(link_tags)))\n",
    "    return [get_dict_from_link_tag(link_tag) for link_tag in link_tags]"
   ]
  },
  {
   "cell_type": "code",
   "execution_count": null,
   "id": "32c93ef6",
   "metadata": {},
   "outputs": [],
   "source": [
    "def get_pagination_element(driver):\n",
    "    return driver.find_element(By.CLASS_NAME, \"pagination_next\")"
   ]
  },
  {
   "cell_type": "code",
   "execution_count": null,
   "id": "7fbfb8d8",
   "metadata": {},
   "outputs": [],
   "source": [
    "def get_titles(driver):\n",
    "    return [movie_info.find_element(By.TAG_NAME, \"a\").text for movie_info in get_movie_info_elements(driver)]"
   ]
  },
  {
   "cell_type": "code",
   "execution_count": null,
   "id": "64161085",
   "metadata": {},
   "outputs": [],
   "source": [
    "def go_main_page(driver):\n",
    "    driver.get(lookmovie_url)"
   ]
  },
  {
   "cell_type": "code",
   "execution_count": null,
   "id": "0b26d517",
   "metadata": {},
   "outputs": [],
   "source": [
    "def flatten(some_list):\n",
    "    return [item for sublist in some_list for item in sublist]"
   ]
  },
  {
   "cell_type": "code",
   "execution_count": null,
   "id": "b463fb72",
   "metadata": {},
   "outputs": [],
   "source": [
    "def got_more_results(driver):\n",
    "    try:\n",
    "        get_pagination_element(driver).click()\n",
    "        return True\n",
    "    except:\n",
    "        return False"
   ]
  },
  {
   "cell_type": "code",
   "execution_count": null,
   "id": "c691d14d",
   "metadata": {},
   "outputs": [],
   "source": [
    "def unique_list(some_list, other_list):\n",
    "    return list(filter(lambda item: item not in other_list, some_list))"
   ]
  },
  {
   "cell_type": "code",
   "execution_count": null,
   "id": "6844e6f2",
   "metadata": {},
   "outputs": [],
   "source": [
    "def run_look_scraper():\n",
    "    look_data = list()\n",
    "    driver = get_driver()\n",
    "    go_main_page(driver)\n",
    "    time.sleep(5)\n",
    "    data = get_dicts_page(driver)\n",
    "    look_data.append(data)\n",
    "#     print(data)\n",
    "    print(\"The length of the movies is {}\".format(len(look_data)))\n",
    "    try:\n",
    "        while got_more_results(driver):\n",
    "            time.sleep(5)\n",
    "            look_data.append(unique_list(get_dicts_page(driver), look_data))\n",
    "            print(\"The length of the movies is {}\".format(len(look_data)))\n",
    "        return pd.DataFrame(data=flatten(look_data))\n",
    "    except:\n",
    "        return look_data"
   ]
  },
  {
   "cell_type": "code",
   "execution_count": null,
   "id": "60b3ba58",
   "metadata": {},
   "outputs": [],
   "source": [
    "M4U_URL = \"https://ww1.m4uhd.cc/movies/all/all/all?rate=id&sort=desc\""
   ]
  },
  {
   "cell_type": "code",
   "execution_count": null,
   "id": "7643b804",
   "metadata": {},
   "outputs": [],
   "source": [
    "driver = get_driver()\n",
    "driver.get(M4U_URL)"
   ]
  },
  {
   "cell_type": "code",
   "execution_count": null,
   "id": "1c15311d",
   "metadata": {},
   "outputs": [],
   "source": [
    "def item_elements(driver):\n",
    "    return driver.find_elements(By.CLASS_NAME, \"item\")"
   ]
  },
  {
   "cell_type": "code",
   "execution_count": null,
   "id": "7fe20ba8",
   "metadata": {},
   "outputs": [],
   "source": [
    "def link_tags_items(items):\n",
    "    return [element.find_element(By.TAG_NAME, \"a\") for element in items]"
   ]
  },
  {
   "cell_type": "code",
   "execution_count": null,
   "id": "915a78f1",
   "metadata": {},
   "outputs": [],
   "source": [
    "def last_pagination(driver):\n",
    "    list_group = driver.find_element(By.CLASS_NAME, \"pagination\")\n",
    "    pagination_links = list_group.find_elements(By.TAG_NAME, \"a\")\n",
    "    return pagination_links[-1].get_attribute(\"href\")"
   ]
  },
  {
   "cell_type": "code",
   "execution_count": null,
   "id": "3d553a3e",
   "metadata": {},
   "outputs": [],
   "source": [
    "def link_info(link_tag):\n",
    "    return {\"link url\": link_tag.get_attribute(\"href\"), \"movie title\": link_tag.text}"
   ]
  },
  {
   "cell_type": "code",
   "execution_count": null,
   "id": "40f150fe",
   "metadata": {},
   "outputs": [],
   "source": [
    "def get_movie_info_link(items):\n",
    "    return [link_info(link_tag) for link_tag in link_tags_items(items)]"
   ]
  },
  {
   "cell_type": "code",
   "execution_count": null,
   "id": "a1eedf92",
   "metadata": {},
   "outputs": [],
   "source": [
    "def page_url(driver, page_number):\n",
    "    return \"https://ww1.m4uhd.cc/movies/all/all/english?page={}&rate=id&sort=desc\".format(page_number)"
   ]
  },
  {
   "cell_type": "code",
   "execution_count": null,
   "id": "c36b1d1b",
   "metadata": {},
   "outputs": [],
   "source": [
    "def get_soup_url(url):\n",
    "    return BeautifulSoup(get_page_url(url).content, \"html.parser\")"
   ]
  },
  {
   "cell_type": "code",
   "execution_count": null,
   "id": "7f8d58dd",
   "metadata": {},
   "outputs": [],
   "source": [
    "def get_page_url(url):\n",
    "    return requests.get(url)"
   ]
  },
  {
   "cell_type": "code",
   "execution_count": null,
   "id": "391647e3",
   "metadata": {},
   "outputs": [],
   "source": [
    "def run_m4u_scraper():\n",
    "    driver = get_driver()\n",
    "    driver.get(M4U_URL)\n",
    "    time.sleep(5)\n",
    "    last_page_url = last_pagination(driver)\n",
    "    items = item_elements(driver)\n",
    "    data = list()\n",
    "    data.append(get_movie_info_link(items))\n",
    "    page_number = 1\n",
    "    print(data)\n",
    "    try:\n",
    "        while page_url(driver, page_number) is not last_pagination(driver):\n",
    "            print(page_number)\n",
    "            page_number += 1\n",
    "            current_url = page_url(driver, page_number)\n",
    "            driver.get(current_url)\n",
    "            time.sleep(5)\n",
    "            items = item_elements(driver)\n",
    "            data.append(get_movie_info_link(items))\n",
    "        return pd.DataFrame(data=flatten(data)).drop_duplicates()\n",
    "    except:\n",
    "        return data"
   ]
  },
  {
   "cell_type": "code",
   "execution_count": null,
   "id": "8bd473af",
   "metadata": {},
   "outputs": [],
   "source": [
    "SOLAR_URL = \"https://ww3.solarmovie.to/movies.html\""
   ]
  },
  {
   "cell_type": "code",
   "execution_count": null,
   "id": "fe5b84a7",
   "metadata": {},
   "outputs": [],
   "source": [
    "video_links = [link[\"href\"] for link in get_soup_url(SOLAR_URL).find_all(\"a\", {\"class\": \"poster\"})]"
   ]
  },
  {
   "cell_type": "code",
   "execution_count": null,
   "id": "d8ff27d3",
   "metadata": {},
   "outputs": [],
   "source": [
    "def divs_for_solar_movies(soup):\n",
    "    divs = [div for div in soup.find_all(\"div\", {\"class\": \"card\"})]\n",
    "    return list(filter(lambda div: None not in [div.find(\"a\", {\"class\": \"poster\"}), \n",
    "                                                     div.find(\"h2\", {\"class\": \"card-title\"})], divs))"
   ]
  },
  {
   "cell_type": "code",
   "execution_count": null,
   "id": "989bea5c",
   "metadata": {},
   "outputs": [],
   "source": [
    "col_divs = divs_for_solar_movies(get_soup_url(SOLAR_URL))"
   ]
  },
  {
   "cell_type": "code",
   "execution_count": null,
   "id": "c328081e",
   "metadata": {},
   "outputs": [],
   "source": [
    "def solar_movie_title(soup):\n",
    "    return soup.find(\"h2\", {\"class\": \"card-title\"}).text"
   ]
  },
  {
   "cell_type": "code",
   "execution_count": null,
   "id": "0be20755",
   "metadata": {},
   "outputs": [],
   "source": [
    "def solar_movie_link(soup):\n",
    "    return soup.find(\"a\", {\"class\": \"poster\"})[\"href\"]"
   ]
  },
  {
   "cell_type": "code",
   "execution_count": null,
   "id": "d4ffa6ec",
   "metadata": {},
   "outputs": [],
   "source": [
    "def movie_info_solar(div):\n",
    "    return {\"link url\": solar_movie_link(div), \"movie_title\": solar_movie_title(div)}"
   ]
  },
  {
   "cell_type": "code",
   "execution_count": null,
   "id": "bafce752",
   "metadata": {},
   "outputs": [],
   "source": [
    "def scrape_solar_page_data(page):\n",
    "#     print(\"went into scrape method\")\n",
    "    url = solar_page_url(page)\n",
    "#     print(url)\n",
    "    soup = get_soup_url(url)\n",
    "#     print(\"got past soup part\")\n",
    "    divs = divs_for_solar_movies(soup)\n",
    "    return [movie_info_solar(div) for div in divs]"
   ]
  },
  {
   "cell_type": "code",
   "execution_count": null,
   "id": "6c2228cb",
   "metadata": {},
   "outputs": [],
   "source": [
    "def solar_last_page(soup):\n",
    "    try:\n",
    "        return int(soup.find(\"a\", {\"aria-label\": \"Last\"})[\"href\"].split(\"/\")[-1].split(\".html\")[0])\n",
    "    except:\n",
    "        return None"
   ]
  },
  {
   "cell_type": "code",
   "execution_count": null,
   "id": "7effde32",
   "metadata": {},
   "outputs": [],
   "source": [
    "def solar_page_url(page):\n",
    "    return \"https://ww3.solarmovie.to/movies/{}.html\".format(page)"
   ]
  },
  {
   "cell_type": "code",
   "execution_count": null,
   "id": "8c3aa108",
   "metadata": {},
   "outputs": [],
   "source": [
    "def run_solar_scraper():\n",
    "    data = list()\n",
    "    soup = get_soup_url(SOLAR_URL)\n",
    "    time.sleep(3)\n",
    "#     divs = divs_for_solar_movies(soup)\n",
    "#     data.append([movie_info_solar(div) for div in divs])\n",
    "    last_page = solar_last_page(soup)\n",
    "    try:\n",
    "        for page in range(1,last_page + 1):\n",
    "            print(page)\n",
    "            time.sleep(3)\n",
    "            data.append(scrape_solar_page_data(page))\n",
    "        return pd.DataFrame(data=flatten(data))\n",
    "    except:\n",
    "        return data"
   ]
  },
  {
   "cell_type": "code",
   "execution_count": null,
   "id": "70956ea4",
   "metadata": {},
   "outputs": [],
   "source": [
    "def page_url_123_movies(page):\n",
    "    return \"https://123moviesgoto.com/movies?page{}\".format(page)"
   ]
  },
  {
   "cell_type": "code",
   "execution_count": null,
   "id": "aca60d52",
   "metadata": {},
   "outputs": [],
   "source": [
    "divs = divs_for_solar_movies(solar_soup)"
   ]
  },
  {
   "cell_type": "code",
   "execution_count": null,
   "id": "05d64a41",
   "metadata": {},
   "outputs": [],
   "source": [
    "yes_movie_url = \"https://w5.yesmovies123.me/movies/\""
   ]
  },
  {
   "cell_type": "code",
   "execution_count": null,
   "id": "4df3f874",
   "metadata": {},
   "outputs": [],
   "source": [
    "yes_soup = get_soup_url(yes_movie_url)"
   ]
  },
  {
   "cell_type": "code",
   "execution_count": null,
   "id": "0c3484fb",
   "metadata": {},
   "outputs": [],
   "source": [
    "def yes_page_url(page):\n",
    "    return \"https://w5.yesmovies123.me/movies/page/{}/\".format(page)"
   ]
  },
  {
   "cell_type": "code",
   "execution_count": null,
   "id": "66a3351b",
   "metadata": {},
   "outputs": [],
   "source": [
    "def yes_movie_div(soup):\n",
    "    return soup.find_all(\"article\", {\"class\": \"item movies\"})"
   ]
  },
  {
   "cell_type": "code",
   "execution_count": null,
   "id": "25568dcb",
   "metadata": {},
   "outputs": [],
   "source": [
    "def yes_link_tag(div):\n",
    "    return div.find(\"h3\").find(\"a\")"
   ]
  },
  {
   "cell_type": "code",
   "execution_count": null,
   "id": "d5d8beab",
   "metadata": {},
   "outputs": [],
   "source": [
    "def yes_link_url(div):\n",
    "    return yes_link_tag(div)[\"href\"]"
   ]
  },
  {
   "cell_type": "code",
   "execution_count": null,
   "id": "2ef8f946",
   "metadata": {},
   "outputs": [],
   "source": [
    "def yes_link_title(div):\n",
    "    return yes_link_tag(div).text"
   ]
  },
  {
   "cell_type": "code",
   "execution_count": null,
   "id": "370c55a1",
   "metadata": {},
   "outputs": [],
   "source": [
    "def yes_date(div):\n",
    "    return div.find(\"div\", \"data\").find(\"span\").text"
   ]
  },
  {
   "cell_type": "code",
   "execution_count": null,
   "id": "1c8e5aaf",
   "metadata": {},
   "outputs": [],
   "source": [
    "def yes_movie_info(div):\n",
    "    return {\"link url\": yes_link_url(div), \"movie_title\": yes_link_title(div), \"date\": yes_date(div)}"
   ]
  },
  {
   "cell_type": "code",
   "execution_count": null,
   "id": "3d2b6ed9",
   "metadata": {},
   "outputs": [],
   "source": [
    "def movie_info_page(page):\n",
    "    soup = get_soup_url(yes_page_url(page))\n",
    "    divs = yes_movie_div(soup)\n",
    "    return [yes_movie_info(div) for div in divs]"
   ]
  },
  {
   "cell_type": "code",
   "execution_count": null,
   "id": "28600db9",
   "metadata": {},
   "outputs": [],
   "source": [
    "soup = get_soup_url(yes_page_url(1))\n",
    "divs = yes_movie_div(soup)"
   ]
  },
  {
   "cell_type": "code",
   "execution_count": null,
   "id": "5e65a9e2",
   "metadata": {},
   "outputs": [],
   "source": [
    "divs[0].find(\"h3\").find(\"a\").text"
   ]
  },
  {
   "cell_type": "code",
   "execution_count": null,
   "id": "229da488",
   "metadata": {},
   "outputs": [],
   "source": [
    "def run_yes_scraper():\n",
    "    data = list()\n",
    "    soup = get_soup_url(YES_URL)\n",
    "    time.sleep(3)\n",
    "    last_page = yes_soup_last_page(soup)\n",
    "    try:\n",
    "        for page in range(1,last_page + 1):\n",
    "            print(page)\n",
    "            time.sleep(3)\n",
    "            data.append(movie_info_page(page))\n",
    "        return pd.DataFrame(data=flatten(data))\n",
    "    except:\n",
    "        return data"
   ]
  },
  {
   "cell_type": "code",
   "execution_count": null,
   "id": "cd5908ec",
   "metadata": {},
   "outputs": [],
   "source": [
    "PRIMEWIRE_URL = \"https://primewire.mx/movie?page=1\""
   ]
  },
  {
   "cell_type": "code",
   "execution_count": null,
   "id": "3efa0fc2",
   "metadata": {},
   "outputs": [],
   "source": [
    "def prime_last_page(soup):\n",
    "    return int(soup.find(\"a\", {\"title\": \"Last\"})[\"href\"].split(\"page=\")[-1])"
   ]
  },
  {
   "cell_type": "code",
   "execution_count": null,
   "id": "a292bef1",
   "metadata": {},
   "outputs": [],
   "source": [
    "def prime_main_divs(soup):\n",
    "    return soup.find_all(\"div\", {\"class\": \"fbr-line fbr-content\"})"
   ]
  },
  {
   "cell_type": "code",
   "execution_count": null,
   "id": "b29b9d8a",
   "metadata": {},
   "outputs": [],
   "source": [
    "def prime_movie_link(div):\n",
    "    return div.find(\"h2\", {\"class\": \"film-name\"}).find(\"a\")"
   ]
  },
  {
   "cell_type": "code",
   "execution_count": null,
   "id": "1f2c2776",
   "metadata": {},
   "outputs": [],
   "source": [
    "def prime_movie_url(div):\n",
    "    return \"https://primewire.mx{}\".format(prime_movie_link(div)[\"href\"])"
   ]
  },
  {
   "cell_type": "code",
   "execution_count": null,
   "id": "048b5980",
   "metadata": {},
   "outputs": [],
   "source": [
    "def prime_movie_title(div):\n",
    "    return prime_movie_link(div)[\"title\"]"
   ]
  },
  {
   "cell_type": "code",
   "execution_count": null,
   "id": "115ee642",
   "metadata": {},
   "outputs": [],
   "source": [
    "def prime_stats_div(div):\n",
    "    return div.find(\"div\", {\"class\": \"film-stats\"})"
   ]
  },
  {
   "cell_type": "code",
   "execution_count": null,
   "id": "d713071b",
   "metadata": {},
   "outputs": [],
   "source": [
    "def prime_film_year(div):\n",
    "    return prime_stats_div(div).find(\"span\").text"
   ]
  },
  {
   "cell_type": "code",
   "execution_count": null,
   "id": "e41f31f0",
   "metadata": {},
   "outputs": [],
   "source": [
    "def prime_film_duration(div):\n",
    "    return prime_stats_div(div).find_all(\"span\")[-1].text"
   ]
  },
  {
   "cell_type": "code",
   "execution_count": null,
   "id": "8a20757b",
   "metadata": {},
   "outputs": [],
   "source": [
    "def prime_quality(div):\n",
    "    return div.find(\"div\", {\"class\": \"fbrl-quality\"}).find(\"span\").text"
   ]
  },
  {
   "cell_type": "code",
   "execution_count": null,
   "id": "54b6a636",
   "metadata": {},
   "outputs": [],
   "source": [
    "def prime_movie_info(div):\n",
    "    return {\"link url\": prime_movie_url(div), \"movie_title\": prime_movie_title(div), \n",
    "            \"year\": prime_film_year(div), \"duration\": prime_film_duration(div), \"quality\": prime_quality(div)}"
   ]
  },
  {
   "cell_type": "code",
   "execution_count": null,
   "id": "b4e3413f",
   "metadata": {},
   "outputs": [],
   "source": [
    "def prime_page_url(page):\n",
    "    return \"https://primewire.mx/movie?page={}\".format(page)"
   ]
  },
  {
   "cell_type": "code",
   "execution_count": null,
   "id": "08ba493f",
   "metadata": {},
   "outputs": [],
   "source": [
    "def prime_movies_info(page):\n",
    "    soup = get_soup_url(prime_page_url(page))\n",
    "    divs = prime_main_divs(soup)\n",
    "    return [prime_movie_info(div) for div in divs]"
   ]
  },
  {
   "cell_type": "code",
   "execution_count": null,
   "id": "008a8a91",
   "metadata": {},
   "outputs": [],
   "source": [
    "def run_prime_scraper():\n",
    "    data = list()\n",
    "    soup = get_soup_url(PRIMEWIRE_URL)\n",
    "    time.sleep(3)\n",
    "    last_page = prime_last_page(soup)\n",
    "    try:\n",
    "        for page in range(1,last_page + 1):\n",
    "            print(page)\n",
    "            time.sleep(3)\n",
    "            data.append(prime_movies_info(page))\n",
    "        return pd.DataFrame(data=flatten(data))\n",
    "    except:\n",
    "        return data"
   ]
  },
  {
   "cell_type": "code",
   "execution_count": null,
   "id": "fc5bd5a1",
   "metadata": {},
   "outputs": [],
   "source": [
    "prime_soup = soup = get_soup_url(prime_page_url(1))"
   ]
  },
  {
   "cell_type": "code",
   "execution_count": null,
   "id": "caf9364a",
   "metadata": {},
   "outputs": [],
   "source": [
    "divs = prime_main_divs(soup)"
   ]
  },
  {
   "cell_type": "code",
   "execution_count": null,
   "id": "e15627e2",
   "metadata": {},
   "outputs": [],
   "source": [
    "info_prime = prime_movies_info(1)"
   ]
  },
  {
   "cell_type": "code",
   "execution_count": null,
   "id": "6ccd7e72",
   "metadata": {},
   "outputs": [],
   "source": [
    "info_prime"
   ]
  },
  {
   "cell_type": "code",
   "execution_count": null,
   "id": "68675c0b",
   "metadata": {},
   "outputs": [],
   "source": [
    "yes_data = run_yes_scraper()"
   ]
  },
  {
   "cell_type": "code",
   "execution_count": null,
   "id": "4e63f63d",
   "metadata": {},
   "outputs": [],
   "source": [
    "yes_data.drop_duplicates().to_csv(\"/Users/timdunn/Desktop/yesmovies.csv\", index=False)"
   ]
  },
  {
   "cell_type": "code",
   "execution_count": null,
   "id": "a729a8be",
   "metadata": {},
   "outputs": [],
   "source": [
    "def membed_li_elements(soup):\n",
    "    return soup.find_all(\"li\", {\"class\": \"video-block\"})"
   ]
  },
  {
   "cell_type": "code",
   "execution_count": null,
   "id": "ee26b782",
   "metadata": {},
   "outputs": [],
   "source": [
    "def membed_link_tag(li):\n",
    "    return li.find(\"a\")"
   ]
  },
  {
   "cell_type": "code",
   "execution_count": null,
   "id": "89ada2c3",
   "metadata": {},
   "outputs": [],
   "source": [
    "def membed_url(li):\n",
    "    return \"https://membed1.com{}\".format(membed_link_tag(li)[\"href\"])"
   ]
  },
  {
   "cell_type": "code",
   "execution_count": null,
   "id": "d3e820a9",
   "metadata": {},
   "outputs": [],
   "source": [
    "def membed_movie_title(li):\n",
    "    return membed_link_tag(li).find(\"div\", {\"class\": \"name\"}).text.strip()"
   ]
  },
  {
   "cell_type": "code",
   "execution_count": null,
   "id": "c5dd97b1",
   "metadata": {},
   "outputs": [],
   "source": [
    "def membed_page_url(page):\n",
    "    return \"https://membed1.com/movies?page={}\".format(page)"
   ]
  },
  {
   "cell_type": "code",
   "execution_count": null,
   "id": "ad56040f",
   "metadata": {},
   "outputs": [],
   "source": [
    "def membed_is_last_page(page):\n",
    "    try:\n",
    "        soup = get_soup_url(membed_page_url(page))\n",
    "#         print(\"past last page soup part\")\n",
    "        soup.find(\"li\", {\"class\": \"next\"}).text\n",
    "        return False\n",
    "    except:\n",
    "        return True"
   ]
  },
  {
   "cell_type": "code",
   "execution_count": null,
   "id": "e7b7c43b",
   "metadata": {},
   "outputs": [],
   "source": [
    "def membed_movie_info(li):\n",
    "    return {\"link url\": membed_url(li), \"movie_title\": membed_movie_title(li)}"
   ]
  },
  {
   "cell_type": "code",
   "execution_count": null,
   "id": "82bc0f62",
   "metadata": {},
   "outputs": [],
   "source": [
    "def membed_movies_info(page):\n",
    "#     print(\"got to the function\")\n",
    "    soup = get_soup_url(membed_page_url(page))\n",
    "#     print(\"past the soup\")\n",
    "    lis = membed_li_elements(soup)\n",
    "#     print(\"past lis part\")\n",
    "    return [membed_movie_info(li) for li in lis]"
   ]
  },
  {
   "cell_type": "code",
   "execution_count": null,
   "id": "25e0a45f",
   "metadata": {},
   "outputs": [],
   "source": [
    "def run_membed_scraper():\n",
    "    data = list()\n",
    "    soup = get_soup_url(membed_page_url(1))\n",
    "    time.sleep(3)\n",
    "    count = 1\n",
    "    try:\n",
    "        page = 1\n",
    "        \n",
    "        while (not membed_is_last_page(page)):\n",
    "            print(page)\n",
    "            time.sleep(3)\n",
    "            data.append(membed_movies_info(page))\n",
    "            page += 1\n",
    "        return pd.DataFrame(data=flatten(data))\n",
    "    except:\n",
    "        return data"
   ]
  },
  {
   "cell_type": "code",
   "execution_count": null,
   "id": "2625ed1b",
   "metadata": {},
   "outputs": [],
   "source": [
    "membed_url = \"https://membed1.com/movies?page=1\""
   ]
  },
  {
   "cell_type": "code",
   "execution_count": null,
   "id": "cb235d8c",
   "metadata": {},
   "outputs": [],
   "source": [
    "membed_info = membed_movies_info(1)"
   ]
  },
  {
   "cell_type": "code",
   "execution_count": null,
   "id": "8cfb091b",
   "metadata": {},
   "outputs": [],
   "source": [
    "membed_data = run_membed_scraper()"
   ]
  },
  {
   "cell_type": "code",
   "execution_count": null,
   "id": "eaf56f71",
   "metadata": {},
   "outputs": [],
   "source": [
    "membed_data.drop_duplicates().to_csv(\"/Users/timdunn/Desktop/membed.csv\", index=False)"
   ]
  },
  {
   "cell_type": "code",
   "execution_count": null,
   "id": "cb02a306",
   "metadata": {},
   "outputs": [],
   "source": [
    "def go_last_page(soup):\n",
    "    return int(soup.find(\"li\", {\"class\": \"last\"}).find(\"a\")[\"data-page\"])"
   ]
  },
  {
   "cell_type": "code",
   "execution_count": null,
   "id": "4316d429",
   "metadata": {},
   "outputs": [],
   "source": [
    "def go_divs(soup):\n",
    "    return soup.find_all(div_correct)"
   ]
  },
  {
   "cell_type": "code",
   "execution_count": null,
   "id": "1e7c75ce",
   "metadata": {},
   "outputs": [],
   "source": [
    "def div_correct(div):\n",
    "    return div.has_attr('data-filmname') and div.has_attr('data-quality') and div.has_attr('data-duration')"
   ]
  },
  {
   "cell_type": "code",
   "execution_count": null,
   "id": "55f83273",
   "metadata": {},
   "outputs": [],
   "source": [
    "def go_page_url(page):\n",
    "    return \"https://gomovies-online.link/all-films?{}\".format(page)"
   ]
  },
  {
   "cell_type": "code",
   "execution_count": null,
   "id": "6ee1d5d2",
   "metadata": {},
   "outputs": [],
   "source": [
    "def go_duration(div):\n",
    "    return div[\"data-duration\"]"
   ]
  },
  {
   "cell_type": "code",
   "execution_count": null,
   "id": "29468c99",
   "metadata": {},
   "outputs": [],
   "source": [
    "def go_movie_title(div):\n",
    "    return div[\"data-filmname\"]"
   ]
  },
  {
   "cell_type": "code",
   "execution_count": null,
   "id": "39050515",
   "metadata": {},
   "outputs": [],
   "source": [
    "def go_quality(div):\n",
    "    return div[\"data-quality\"].split(\"itemAbsolute_\")[-1]"
   ]
  },
  {
   "cell_type": "code",
   "execution_count": null,
   "id": "f78246c5",
   "metadata": {},
   "outputs": [],
   "source": [
    "def go_year(div):\n",
    "    return div[\"data-year\"]"
   ]
  },
  {
   "cell_type": "code",
   "execution_count": null,
   "id": "83075989",
   "metadata": {},
   "outputs": [],
   "source": [
    "def go_link_url(div):\n",
    "    return \"https://gomovies-online.link{}\".format(div.find(\"a\")[\"href\"])"
   ]
  },
  {
   "cell_type": "code",
   "execution_count": null,
   "id": "bbbdb196",
   "metadata": {},
   "outputs": [],
   "source": [
    "def go_movie_info(div):\n",
    "    return {\"link url\": go_link_url(div), \"movie_title\": go_movie_title(div), \"year\": go_year(div), \n",
    "            \"duration\": go_duration(div), \"quality\": go_quality(div)}"
   ]
  },
  {
   "cell_type": "code",
   "execution_count": null,
   "id": "bd22a86f",
   "metadata": {},
   "outputs": [],
   "source": [
    "def go_movies_info(page):\n",
    "    soup = get_soup_url(go_page_url(page))\n",
    "    divs = go_divs(soup)\n",
    "    return [go_movie_info(div) for div in divs]"
   ]
  },
  {
   "cell_type": "code",
   "execution_count": null,
   "id": "c6fe185a",
   "metadata": {},
   "outputs": [],
   "source": [
    "def run_go_scraper():\n",
    "    data = list()\n",
    "    soup = get_soup_url(go_page_url(1))\n",
    "    time.sleep(3)\n",
    "    last_page = go_last_page(soup)\n",
    "    try:\n",
    "        for page in range(1,last_page + 1):\n",
    "            print(page)\n",
    "            time.sleep(3)\n",
    "            data.append(go_movies_info(page))\n",
    "        return pd.DataFrame(data=flatten(data))\n",
    "    except:\n",
    "        return data"
   ]
  },
  {
   "cell_type": "code",
   "execution_count": null,
   "id": "74850404",
   "metadata": {},
   "outputs": [],
   "source": [
    "def vumoo_url(page):\n",
    "    return \"https://vumoo.to/movies/page/{}\".format(page)"
   ]
  },
  {
   "cell_type": "code",
   "execution_count": null,
   "id": "0ff8a455",
   "metadata": {},
   "outputs": [],
   "source": [
    "def vumoo_last_page(page):\n",
    "    try:\n",
    "        soup = get_soup_url(vumoo_url(1))\n",
    "#         print(\"soup url is {}\".format(vumoo_url(1)))\n",
    "        soup.find(\"li\", {\"class\": \"arrow\"}).find(\"a\")[\"href\"]\n",
    "        return False\n",
    "    except:\n",
    "        return True"
   ]
  },
  {
   "cell_type": "code",
   "execution_count": null,
   "id": "1123207d",
   "metadata": {},
   "outputs": [],
   "source": [
    "def vumoo_divs(soup):\n",
    "    return soup.find_all(\"div\", {\"class\": \"intro\"})"
   ]
  },
  {
   "cell_type": "code",
   "execution_count": null,
   "id": "671a86b9",
   "metadata": {},
   "outputs": [],
   "source": [
    "def vumoo_link_tag(div):\n",
    "    return soup.find(\"a\")"
   ]
  },
  {
   "cell_type": "code",
   "execution_count": null,
   "id": "cf9a2f93",
   "metadata": {},
   "outputs": [],
   "source": [
    "def vumoo_link_url(div):\n",
    "    return \"https://vumoo.to{}\".format(vumoo_link_tag(div)[\"href\"])"
   ]
  },
  {
   "cell_type": "code",
   "execution_count": null,
   "id": "03b821f3",
   "metadata": {},
   "outputs": [],
   "source": [
    "def vumoo_movie_title(div):\n",
    "    return vumoo_link_tag(div).find(\"h3\").text"
   ]
  },
  {
   "cell_type": "code",
   "execution_count": null,
   "id": "8103ecf7",
   "metadata": {},
   "outputs": [],
   "source": [
    "def vumoo_movie_info(div):\n",
    "    return {\"link url\": vumoo_link_url(div), \"movie_title\": vumoo_movie_title(div)}"
   ]
  },
  {
   "cell_type": "code",
   "execution_count": null,
   "id": "1c9af4b5",
   "metadata": {},
   "outputs": [],
   "source": [
    "def vumoo_movies_info(page):\n",
    "    soup = get_soup_url(vumoo_url(page))\n",
    "    print(\"movie url is\", vumoo_url(page))\n",
    "    time.sleep(3)\n",
    "    print(\"past movie info soup\")\n",
    "    divs = vumoo_divs(soup)\n",
    "    print(\"divs length is {}\".format(len(divs)))\n",
    "    return [vumoo_movie_info(div) for div in divs]"
   ]
  },
  {
   "cell_type": "code",
   "execution_count": null,
   "id": "f9e074ac",
   "metadata": {},
   "outputs": [],
   "source": [
    "def run_vumoo_scraper():\n",
    "    data = list()\n",
    "    soup = get_soup_url(vumoo_url(1))\n",
    "    print(\"past first soup\")\n",
    "    time.sleep(3)\n",
    "    count = 1\n",
    "    try:\n",
    "        page = 1\n",
    "        while (not vumoo_last_page(page)):\n",
    "            print(page)\n",
    "            time.sleep(3)\n",
    "            data.append(vumoo_movies_info(page))\n",
    "            page += 1\n",
    "        return pd.DataFrame(data=flatten(data))\n",
    "    except:\n",
    "        return data"
   ]
  },
  {
   "cell_type": "code",
   "execution_count": null,
   "id": "1926d020",
   "metadata": {},
   "outputs": [],
   "source": [
    "def movie_123_page_url(page):\n",
    "    return \"https://123moviesgoto.com/movies?page{}\".format(page)"
   ]
  },
  {
   "cell_type": "code",
   "execution_count": null,
   "id": "932ad36d",
   "metadata": {},
   "outputs": [],
   "source": [
    "def movie_123_last_page(page):\n",
    "    try:\n",
    "        soup = get_soup_url(movie_123_page_url(page))\n",
    "        swc_items = soup.find_all(\"a\", {\"class\": \"swchItem\"})\n",
    "#         print(len(swc_items))\n",
    "#         print(swc_items[-1])\n",
    "#         print(swc_items[-1].find(\"span\").text)\n",
    "        return not swc_items[-1].find(\"span\").text == \"»\"\n",
    "    except:\n",
    "        return True"
   ]
  },
  {
   "cell_type": "code",
   "execution_count": null,
   "id": "2b37848f",
   "metadata": {},
   "outputs": [],
   "source": [
    "def movie_123_divs(soup):\n",
    "    return soup.find_all(\"div\", {\"class\": \"ml-item\"})"
   ]
  },
  {
   "cell_type": "code",
   "execution_count": null,
   "id": "ed32f4a7",
   "metadata": {},
   "outputs": [],
   "source": [
    "def movie_123_movie_title(div):\n",
    "    return div.find(\"div\", {\"class\": \"qtip-title\"}).text.strip()"
   ]
  },
  {
   "cell_type": "code",
   "execution_count": null,
   "id": "c6555fef",
   "metadata": {},
   "outputs": [],
   "source": [
    "def movie_123_quality(div):\n",
    "    return div.find(\"div\", {\"class\": \"jtip-quality\"}).text"
   ]
  },
  {
   "cell_type": "code",
   "execution_count": null,
   "id": "210560c1",
   "metadata": {},
   "outputs": [],
   "source": [
    "def movie_123_link_url(div):\n",
    "    return \"https://123moviesgoto.com{}\".format(div.find(\"a\")[\"href\"])"
   ]
  },
  {
   "cell_type": "code",
   "execution_count": null,
   "id": "40a9e4f6",
   "metadata": {},
   "outputs": [],
   "source": [
    "def movie_123_minutes(div):\n",
    "    return div.find(\"div\", {\"class\": \"jtip-top\"}).find_all(\"div\", {\"jt-info\"})[2].text"
   ]
  },
  {
   "cell_type": "code",
   "execution_count": null,
   "id": "906fcaf3",
   "metadata": {},
   "outputs": [],
   "source": [
    "def movie_123_year(div):\n",
    "    return div.find(\"div\", {\"class\": \"jtip-top\"}).find_all(\"div\", {\"jt-info\"})[1].text"
   ]
  },
  {
   "cell_type": "code",
   "execution_count": null,
   "id": "0731a338",
   "metadata": {},
   "outputs": [],
   "source": [
    "def movie_123_info(div):\n",
    "    return {\"link url\": movie_123_link_url(div), \"movie_title\": movie_123_movie_title(div), \n",
    "            \"quality\": movie_123_quality(div), \"duration\": movie_123_minutes(div), \"year\": movie_123_year(div)}"
   ]
  },
  {
   "cell_type": "code",
   "execution_count": null,
   "id": "11320c37",
   "metadata": {},
   "outputs": [],
   "source": [
    "def movies_123_info(page):\n",
    "    soup = get_soup_url(movie_123_page_url(1))\n",
    "    divs = movie_123_divs(soup)\n",
    "    return [movie_123_info(div) for div in divs]"
   ]
  },
  {
   "cell_type": "code",
   "execution_count": null,
   "id": "7957ce4b",
   "metadata": {},
   "outputs": [],
   "source": [
    "def run_123_scraper():\n",
    "    data = list()\n",
    "    soup = get_soup_url(movie_123_page_url(1))\n",
    "    print(\"past first soup\")\n",
    "    time.sleep(3)\n",
    "    try:\n",
    "        page = 1\n",
    "        while (not movie_123_last_page(page)):\n",
    "            print(page)\n",
    "            time.sleep(3)\n",
    "            data.append(movies_123_info(page))\n",
    "            page += 1\n",
    "        return pd.DataFrame(data=flatten(data))\n",
    "    except:\n",
    "        return data"
   ]
  },
  {
   "cell_type": "code",
   "execution_count": null,
   "id": "4c0b257e",
   "metadata": {},
   "outputs": [],
   "source": [
    "def movie_stars_page_url(page):\n",
    "    return \"https://moviestars.to/movies?page={}\".format(page)"
   ]
  },
  {
   "cell_type": "code",
   "execution_count": null,
   "id": "ed7d3d21",
   "metadata": {},
   "outputs": [],
   "source": [
    "def movie_stars_last_page(soup):\n",
    "    return int(soup.find(\"a\", {\"title\": \"Last\"})[\"href\"].split(\"page=\")[-1])"
   ]
  },
  {
   "cell_type": "code",
   "execution_count": null,
   "id": "4ccfc66e",
   "metadata": {},
   "outputs": [],
   "source": [
    "def movie_stars_link_tag(div):\n",
    "    return div.find(\"a\")"
   ]
  },
  {
   "cell_type": "code",
   "execution_count": null,
   "id": "5c6494fd",
   "metadata": {},
   "outputs": [],
   "source": [
    "def movie_stars_film_name(div):\n",
    "    return movie_stars_link_tag(div)[\"title\"]"
   ]
  },
  {
   "cell_type": "code",
   "execution_count": null,
   "id": "0c9dae7c",
   "metadata": {},
   "outputs": [],
   "source": [
    "def movie_stars_film_url(div):\n",
    "    return \"https://moviestars.to{}\".format(movie_stars_link_tag(div)[\"href\"])"
   ]
  },
  {
   "cell_type": "code",
   "execution_count": null,
   "id": "7fc6a2da",
   "metadata": {},
   "outputs": [],
   "source": [
    "def movie_stars_year(div):\n",
    "    return div.find(\"div\", {\"class\": \"fd-infor\"}).find(\"span\", {\"class\": \"fdi-item\"}).text"
   ]
  },
  {
   "cell_type": "code",
   "execution_count": null,
   "id": "da128c2c",
   "metadata": {},
   "outputs": [],
   "source": [
    "def movie_stars_divs(soup):\n",
    "    return soup.find_all(\"div\", {\"class\": \"film-detail\"})"
   ]
  },
  {
   "cell_type": "code",
   "execution_count": null,
   "id": "39875094",
   "metadata": {},
   "outputs": [],
   "source": [
    "def movie_stars_movie_info(div):\n",
    "    return {\"link url\": movie_stars_film_url(div), \"movie_title\": movie_stars_film_name(div), \n",
    "            \"year\": movie_stars_year(div)}"
   ]
  },
  {
   "cell_type": "code",
   "execution_count": null,
   "id": "faac113d",
   "metadata": {},
   "outputs": [],
   "source": [
    "def movie_stars_movies_info(page):\n",
    "    soup = get_soup_url(movie_stars_page_url(page))\n",
    "    divs =  movie_stars_divs(soup)\n",
    "    return [movie_stars_movie_info(div) for div in divs]"
   ]
  },
  {
   "cell_type": "code",
   "execution_count": null,
   "id": "f702cf80",
   "metadata": {},
   "outputs": [],
   "source": [
    "def run_stars_scraper():\n",
    "    data = list()\n",
    "    soup = get_soup_url(movie_stars_page_url(1))\n",
    "    time.sleep(3)\n",
    "    last_page = movie_stars_last_page(soup)\n",
    "    try:\n",
    "        for page in range(1,last_page + 1):\n",
    "            print(page)\n",
    "            time.sleep(3)\n",
    "            data.append(movie_stars_movies_info(page))\n",
    "        return pd.DataFrame(data=flatten(data))\n",
    "    except:\n",
    "        return data"
   ]
  },
  {
   "cell_type": "code",
   "execution_count": null,
   "id": "b0296a3a",
   "metadata": {},
   "outputs": [],
   "source": [
    "def chill_page_url(page):\n",
    "    return \"https://123chill.to/movies/page/{}\".format(page)"
   ]
  },
  {
   "cell_type": "code",
   "execution_count": null,
   "id": "4ba4e055",
   "metadata": {},
   "outputs": [],
   "source": [
    "def chill_last_page(page):\n",
    "    try:\n",
    "        soup = get_soup_url(chill_page_url(page))\n",
    "#         print(\"past soup part\")\n",
    "#         print(soup.find(\"ul\", {\"class\": \"more-pagination\"}))\n",
    "#         print(soup.find(\"ul\", {\"class\": \"more-pagination\"}).find_all(\"li\"))\n",
    "        return soup.find(\"ul\", {\"class\": \"pagination\"}).find_all(\"li\")[-1].text.strip() == \"Next\"\n",
    "    except:\n",
    "        return True"
   ]
  },
  {
   "cell_type": "code",
   "execution_count": null,
   "id": "c5ea1352",
   "metadata": {},
   "outputs": [],
   "source": [
    "def chill_divs(soup):\n",
    "    return soup.find_all(\"div\", {\"class\": \"ml-item\"})"
   ]
  },
  {
   "cell_type": "code",
   "execution_count": null,
   "id": "7b62c880",
   "metadata": {},
   "outputs": [],
   "source": [
    "def chill_a_tags(soup):\n",
    "    return soup.find_all(\"a\", {\"class\": \"ml-mask\"})"
   ]
  },
  {
   "cell_type": "code",
   "execution_count": null,
   "id": "c638b4f4",
   "metadata": {},
   "outputs": [],
   "source": [
    "def chill_url(a_tag):\n",
    "    return a_tag[\"href\"]"
   ]
  },
  {
   "cell_type": "code",
   "execution_count": null,
   "id": "a7f28148",
   "metadata": {},
   "outputs": [],
   "source": [
    "def chill_movie_title(a_tag):\n",
    "    return a_tag.find(\"span\", {\"class\": \"mli-info\"}).find(\"h2\").text"
   ]
  },
  {
   "cell_type": "code",
   "execution_count": null,
   "id": "343603e9",
   "metadata": {},
   "outputs": [],
   "source": [
    "def chill_image(a_tag):\n",
    "    return a_tag.find(\"img\")[\"data-original\"]"
   ]
  },
  {
   "cell_type": "code",
   "execution_count": null,
   "id": "d297f607",
   "metadata": {},
   "outputs": [],
   "source": [
    "def chill_movie_quality(a_tag):\n",
    "    try:\n",
    "        return a_tag.find(\"span\", {\"class\": \"mli-quality\"}).text\n",
    "    except:\n",
    "        return None"
   ]
  },
  {
   "cell_type": "code",
   "execution_count": null,
   "id": "51afe8c8",
   "metadata": {},
   "outputs": [],
   "source": [
    "def chill_movie_info(a_tag):\n",
    "    return {\"link url\": chill_url(a_tag), \"movie_title\": chill_movie_title(a_tag), \n",
    "            \"image_url\":  chill_image(a_tag), \"quality\": chill_movie_quality(a_tag)}"
   ]
  },
  {
   "cell_type": "code",
   "execution_count": null,
   "id": "122355c5",
   "metadata": {},
   "outputs": [],
   "source": [
    "def chill_movies_info(page):\n",
    "    soup = get_soup_url(chill_page_url(page))\n",
    "    a_tags =  chill_a_tags(soup)\n",
    "    return [chill_movie_info(a_tag) for a_tag in a_tags]"
   ]
  },
  {
   "cell_type": "code",
   "execution_count": null,
   "id": "ddebc04e",
   "metadata": {},
   "outputs": [],
   "source": [
    "def run_chill_scraper():\n",
    "    data = list()\n",
    "    soup = get_soup_url(chill_page_url(1))\n",
    "    print(\"past first soup\")\n",
    "    time.sleep(3)\n",
    "    try:\n",
    "        page = 1\n",
    "        while (not chill_last_page(page)):\n",
    "            print(page)\n",
    "            time.sleep(3)\n",
    "            data.append(chill_movies_info(page))\n",
    "            page += 1\n",
    "        return pd.DataFrame(data=flatten(data))\n",
    "    except:\n",
    "        return data"
   ]
  },
  {
   "cell_type": "code",
   "execution_count": null,
   "id": "f5143dfd",
   "metadata": {},
   "outputs": [],
   "source": [
    "chill_info = chill_movies_info(1)"
   ]
  },
  {
   "cell_type": "code",
   "execution_count": null,
   "id": "9b42e883",
   "metadata": {},
   "outputs": [],
   "source": [
    "chill_data = run_chill_scraper()"
   ]
  },
  {
   "cell_type": "code",
   "execution_count": null,
   "id": "10beb5c1",
   "metadata": {},
   "outputs": [],
   "source": [
    "chill_data.to_csv(\"/Users/timdunn/Desktop/movie_chill.csv\", index=False)"
   ]
  },
  {
   "cell_type": "code",
   "execution_count": null,
   "id": "ad63bfd8",
   "metadata": {},
   "outputs": [],
   "source": [
    "chill_data = run_chill_scraper()"
   ]
  },
  {
   "cell_type": "code",
   "execution_count": null,
   "id": "adafea4c",
   "metadata": {},
   "outputs": [],
   "source": [
    "len(flatten(chill_data))"
   ]
  },
  {
   "cell_type": "code",
   "execution_count": null,
   "id": "c2f3dbdf",
   "metadata": {},
   "outputs": [],
   "source": [
    "pd.DataFrame(data=flatten(chill_data)).to_csv(\"/Users/timdunn/Desktop/movie_chill.csv\", index=False)"
   ]
  },
  {
   "cell_type": "code",
   "execution_count": null,
   "id": "34372ebc",
   "metadata": {},
   "outputs": [],
   "source": [
    "def cineb_page_url(page):\n",
    "    return \"https://cineb.net/movie?page={}\".format(page)"
   ]
  },
  {
   "cell_type": "code",
   "execution_count": null,
   "id": "727860f5",
   "metadata": {},
   "outputs": [],
   "source": [
    "def streamlord_page_url(page):\n",
    "    return \"http://www.streamlord.com/movies.php?page={}\".format(page)"
   ]
  },
  {
   "cell_type": "code",
   "execution_count": null,
   "id": "fbe56a3e",
   "metadata": {},
   "outputs": [],
   "source": [
    "def streamlord_last_page(page):\n",
    "    try:\n",
    "        soup = get_soup_url(streamlord_page_url(page))\n",
    "        return not soup.find(\"div\", {\"id\": \"pagination\"}).find_all(\"a\")[-1].text.strip().split(\" \")[0] == \"NEXT\"\n",
    "    except:\n",
    "        return True"
   ]
  },
  {
   "cell_type": "code",
   "execution_count": null,
   "id": "175b0235",
   "metadata": {},
   "outputs": [],
   "source": [
    "def div_title_div(div):\n",
    "    return div.find(\"div\", {\"class\": \"movie-grid-title\"})"
   ]
  },
  {
   "cell_type": "code",
   "execution_count": null,
   "id": "6a4478e3",
   "metadata": {},
   "outputs": [],
   "source": [
    "def streamlord_divs(soup):\n",
    "    return soup.find_all(\"div\", {\"class\": \"movie-grid\"})"
   ]
  },
  {
   "cell_type": "code",
   "execution_count": null,
   "id": "40aff571",
   "metadata": {},
   "outputs": [],
   "source": [
    "def streamlord_movie_title(div):\n",
    "    return div_title_div(div).text.strip()"
   ]
  },
  {
   "cell_type": "code",
   "execution_count": null,
   "id": "53f2d9bd",
   "metadata": {},
   "outputs": [],
   "source": [
    "def streamlord_duration(div):\n",
    "    return div_title_div(div).find(\"span\", {\"class\": \"movie-grid-runtime\"}).text"
   ]
  },
  {
   "cell_type": "code",
   "execution_count": null,
   "id": "c8094bd5",
   "metadata": {},
   "outputs": [],
   "source": [
    "def streamlord_year(div):\n",
    "    return div_title_div(div).find(\"span\", {\"class\": \"movie-grid-year\"}).text"
   ]
  },
  {
   "cell_type": "code",
   "execution_count": null,
   "id": "c5108a49",
   "metadata": {},
   "outputs": [],
   "source": [
    "def streamlord_movie_url(div):\n",
    "    return \"http://www.streamlord.com/{}\".format(div.find(\"li\", {\"class\": \"movie\"}).find_all(\"a\")[-1][\"href\"])"
   ]
  },
  {
   "cell_type": "code",
   "execution_count": null,
   "id": "a83a5581",
   "metadata": {},
   "outputs": [],
   "source": [
    "def streamlord_movie_info(div):\n",
    "    return {\"link url\": streamlord_movie_url(div), \"movie_title\": streamlord_movie_title(div), \n",
    "            \"year\": streamlord_year(div), \"duration\": streamlord_duration(div)}"
   ]
  },
  {
   "cell_type": "code",
   "execution_count": null,
   "id": "9d2d0c8e",
   "metadata": {},
   "outputs": [],
   "source": [
    "def streamlord_movies_info(page):\n",
    "    soup = get_soup_url(streamlord_page_url(page))\n",
    "    divs = streamlord_divs(soup)\n",
    "    return [streamlord_movie_info(div) for div in divs]"
   ]
  },
  {
   "cell_type": "code",
   "execution_count": null,
   "id": "d5cfc324",
   "metadata": {},
   "outputs": [],
   "source": [
    "def run_streamlord_scraper():\n",
    "    data = list()\n",
    "    soup = get_soup_url(streamlord_page_url(1))\n",
    "    print(\"past first soup\")\n",
    "    time.sleep(3)\n",
    "    try:\n",
    "        page = 1\n",
    "        while (not streamlord_last_page(page)):\n",
    "            print(page)\n",
    "            time.sleep(3)\n",
    "            data.append(streamlord_movies_info(page))\n",
    "            page += 1\n",
    "        return pd.DataFrame(data=flatten(data))\n",
    "    except:\n",
    "        return data"
   ]
  },
  {
   "cell_type": "code",
   "execution_count": null,
   "id": "c60ee934",
   "metadata": {},
   "outputs": [],
   "source": [
    "def soap_last_page(soup):\n",
    "    return int(soup.find(\"ul\", {\"class\": \"pagination\"}).find_all(\"li\")[-1].find(\"a\")[\"href\"].split(\"/\")[-2])"
   ]
  },
  {
   "cell_type": "code",
   "execution_count": null,
   "id": "8518e8bf",
   "metadata": {},
   "outputs": [],
   "source": [
    "def soap_page_url(page):\n",
    "    return \"https://soap2day.casa/movies/page/{}\".format(page)"
   ]
  },
  {
   "cell_type": "code",
   "execution_count": null,
   "id": "4a332b5b",
   "metadata": {},
   "outputs": [],
   "source": [
    "def soap_divs(soup):\n",
    "    return soup.find_all(\"div\", {\"class\": \"ml-item\"})"
   ]
  },
  {
   "cell_type": "code",
   "execution_count": null,
   "id": "c39f2546",
   "metadata": {},
   "outputs": [],
   "source": [
    "def soap_link_url(div):\n",
    "    return div.find(\"a\")[\"href\"]"
   ]
  },
  {
   "cell_type": "code",
   "execution_count": null,
   "id": "5b8738a8",
   "metadata": {},
   "outputs": [],
   "source": [
    "def soap_title(div):\n",
    "    return soap_tip_div(div).find(\"div\", {\"class\": \"qtip-title\"}).text"
   ]
  },
  {
   "cell_type": "code",
   "execution_count": null,
   "id": "cd570601",
   "metadata": {},
   "outputs": [],
   "source": [
    "def soap_tip_div(div):\n",
    "    return div.find(\"div\", {\"id\": \"hidden_tip\"})"
   ]
  },
  {
   "cell_type": "code",
   "execution_count": null,
   "id": "8b9b6e67",
   "metadata": {},
   "outputs": [],
   "source": [
    "def soap_quality(div):\n",
    "    try:\n",
    "        return soap_tip_div(div).find(\"div\", {\"class\": \"jtip-quality\"}).text\n",
    "    except:\n",
    "        return None"
   ]
  },
  {
   "cell_type": "code",
   "execution_count": null,
   "id": "c55cbb52",
   "metadata": {},
   "outputs": [],
   "source": [
    "def soap_year(div):\n",
    "    return soap_tip_div(div).find(\"a\").text"
   ]
  },
  {
   "cell_type": "code",
   "execution_count": null,
   "id": "b3f4acbc",
   "metadata": {},
   "outputs": [],
   "source": [
    "def soap_duration(div):\n",
    "    return soap_tip_div(div).find_all(\"div\", {\"class\": \"jt-info\"})[2].text"
   ]
  },
  {
   "cell_type": "code",
   "execution_count": null,
   "id": "55564ef0",
   "metadata": {},
   "outputs": [],
   "source": [
    "def soap_movie_info(div):\n",
    "    return {\"link url\": soap_link_url(div), \"quality\": soap_quality(div), \"movie_title\": soap_title(div),  \n",
    "           \"duration\": soap_duration(div)}"
   ]
  },
  {
   "cell_type": "code",
   "execution_count": null,
   "id": "08b45c38",
   "metadata": {},
   "outputs": [],
   "source": [
    "def soap_movies_info(page):\n",
    "    soup = get_soup_url(soap_page_url(page))\n",
    "    divs = soap_divs(soup)\n",
    "    return [soap_movie_info(div) for div in divs]"
   ]
  },
  {
   "cell_type": "code",
   "execution_count": null,
   "id": "e099ab03",
   "metadata": {},
   "outputs": [],
   "source": [
    "def run_soap_scraper():\n",
    "    data = list()\n",
    "    soup = get_soup_url(soap_page_url(1))\n",
    "    time.sleep(3)\n",
    "    last_page = soap_last_page(soup)\n",
    "    try:\n",
    "        for page in range(1,last_page + 1):\n",
    "            print(page)\n",
    "            time.sleep(3)\n",
    "            data.append(soap_movies_info(page))\n",
    "        return pd.DataFrame(data=flatten(data))\n",
    "    except:\n",
    "        return data"
   ]
  },
  {
   "cell_type": "code",
   "execution_count": null,
   "id": "7a998013",
   "metadata": {},
   "outputs": [],
   "source": [
    "soup_info = soap_movies_info(17)"
   ]
  },
  {
   "cell_type": "code",
   "execution_count": null,
   "id": "1699c302",
   "metadata": {},
   "outputs": [],
   "source": [
    "soup_info"
   ]
  },
  {
   "cell_type": "code",
   "execution_count": null,
   "id": "b20ba838",
   "metadata": {},
   "outputs": [],
   "source": [
    "divs[6]"
   ]
  },
  {
   "cell_type": "code",
   "execution_count": null,
   "id": "c77df154",
   "metadata": {},
   "outputs": [],
   "source": [
    "count = 0\n",
    "for div in divs:\n",
    "    print(count)\n",
    "    print(\"quality is\", soap_quality(div))\n",
    "    count += 1"
   ]
  },
  {
   "cell_type": "code",
   "execution_count": null,
   "id": "adbff671",
   "metadata": {},
   "outputs": [],
   "source": [
    "divs[3].find(\"div\", {\"class\": \"jtip-quality\"})"
   ]
  },
  {
   "cell_type": "code",
   "execution_count": null,
   "id": "b2b46e78",
   "metadata": {},
   "outputs": [],
   "source": [
    "soup.find(\"div\", {\"class\": \"jtip-quality\"}).text"
   ]
  },
  {
   "cell_type": "code",
   "execution_count": null,
   "id": "e1a0ab6d",
   "metadata": {},
   "outputs": [],
   "source": [
    "another_thing = soap_movies_info(17)"
   ]
  },
  {
   "cell_type": "code",
   "execution_count": null,
   "id": "bd6d52c8",
   "metadata": {},
   "outputs": [],
   "source": [
    "soap_data = run_soap_scraper()"
   ]
  },
  {
   "cell_type": "code",
   "execution_count": null,
   "id": "257e8298",
   "metadata": {},
   "outputs": [],
   "source": [
    "soap_data.to_csv(\"/Users/timdunn/Desktop/soap_movies.csv\", index=False)"
   ]
  },
  {
   "cell_type": "code",
   "execution_count": null,
   "id": "936beabe",
   "metadata": {},
   "outputs": [],
   "source": [
    "def vex_page_url(page):\n",
    "    return \"https://vexmovies.pw/movies?page={}\".format(page)"
   ]
  },
  {
   "cell_type": "code",
   "execution_count": null,
   "id": "cd75ccac",
   "metadata": {},
   "outputs": [],
   "source": [
    "def vex_last_page(soup):\n",
    "    return int(soup.find(\"a\", {\"title\": \"Last\"})[\"href\"].split(\"page=\")[-1])"
   ]
  },
  {
   "cell_type": "code",
   "execution_count": null,
   "id": "1d7e8df7",
   "metadata": {},
   "outputs": [],
   "source": [
    "def vex_divs(soup):\n",
    "    return soup.find_all(\"div\", {\"class\": \"film-detail\"})"
   ]
  },
  {
   "cell_type": "code",
   "execution_count": null,
   "id": "17e30041",
   "metadata": {},
   "outputs": [],
   "source": [
    "def vex_link_tag(div):\n",
    "    return div.find(\"a\")"
   ]
  },
  {
   "cell_type": "code",
   "execution_count": null,
   "id": "7b351ea3",
   "metadata": {},
   "outputs": [],
   "source": [
    "def vex_link_url(div):\n",
    "    return \"https://vexmovies.pw{}\".format(vex_link_tag(div)[\"href\"])"
   ]
  },
  {
   "cell_type": "code",
   "execution_count": null,
   "id": "5245af6c",
   "metadata": {},
   "outputs": [],
   "source": [
    "def vex_movie_title(div):\n",
    "    return vex_link_tag(div)[\"title\"]"
   ]
  },
  {
   "cell_type": "code",
   "execution_count": null,
   "id": "f756bad5",
   "metadata": {},
   "outputs": [],
   "source": [
    "def vex_year(div):\n",
    "    return div.find(\"span\", {\"class\": \"fdi-item\"}).text"
   ]
  },
  {
   "cell_type": "code",
   "execution_count": null,
   "id": "b90a4b04",
   "metadata": {},
   "outputs": [],
   "source": [
    "def vex_duration(div):\n",
    "    return div.find(\"span\", {\"class\": \"fdi-duration\"}).text"
   ]
  },
  {
   "cell_type": "code",
   "execution_count": null,
   "id": "65618e24",
   "metadata": {},
   "outputs": [],
   "source": [
    "def vex_movie_info(div):\n",
    "    return {\"link url\": vex_link_url(div), \"movie_title\": vex_movie_title(div), \"year\": vex_year(div), \n",
    "           \"duration\": vex_duration(div)}"
   ]
  },
  {
   "cell_type": "code",
   "execution_count": null,
   "id": "ea97cc9d",
   "metadata": {},
   "outputs": [],
   "source": [
    "def vex_movies_info(page):\n",
    "    soup = get_soup_url(vex_page_url(page))\n",
    "    divs = vex_divs(soup)\n",
    "    return [vex_movie_info(div) for div in divs]"
   ]
  },
  {
   "cell_type": "code",
   "execution_count": null,
   "id": "e77e45ca",
   "metadata": {},
   "outputs": [],
   "source": [
    "def run_vex_scraper():\n",
    "    data = list()\n",
    "    soup = get_soup_url(vex_page_url(1))\n",
    "    time.sleep(3)\n",
    "    last_page = vex_last_page(soup)\n",
    "    try:\n",
    "        for page in range(1,last_page + 1):\n",
    "            print(page)\n",
    "            time.sleep(3)\n",
    "            data.append(vex_movies_info(page))\n",
    "        return pd.DataFrame(data=flatten(data))\n",
    "    except:\n",
    "        return data"
   ]
  },
  {
   "cell_type": "code",
   "execution_count": null,
   "id": "1419cde0",
   "metadata": {},
   "outputs": [],
   "source": [
    "movie_info = vex_movies_info(1)"
   ]
  },
  {
   "cell_type": "code",
   "execution_count": null,
   "id": "1efdb406",
   "metadata": {},
   "outputs": [],
   "source": [
    "vex_data = run_vex_scraper()"
   ]
  },
  {
   "cell_type": "code",
   "execution_count": null,
   "id": "02003fd0",
   "metadata": {},
   "outputs": [],
   "source": [
    "vex_data.to_csv(\"/Users/timdunn/Desktop/vex_movies.csv\", index=False)"
   ]
  },
  {
   "cell_type": "code",
   "execution_count": null,
   "id": "89059f03",
   "metadata": {},
   "outputs": [],
   "source": [
    "def top_doc_last_page(page):\n",
    "    try:\n",
    "        soup = get_soup_url(top_doc_page_url(page))\n",
    "        return soup.find(\"div\", {\"class\": \"pagination\"}).find_all(\"a\")[-1].text == \"Next\"\n",
    "    except:\n",
    "        return True"
   ]
  },
  {
   "cell_type": "code",
   "execution_count": null,
   "id": "cfa605b8",
   "metadata": {},
   "outputs": [],
   "source": [
    "def top_doc_page_url(page):\n",
    "    return \"https://topdocumentaryfilms.com/all/page/{}\".format(page)"
   ]
  },
  {
   "cell_type": "code",
   "execution_count": null,
   "id": "4ed76614",
   "metadata": {},
   "outputs": [],
   "source": [
    "def top_doc_articles(soup):\n",
    "    return soup.find_all(\"article\", {\"class\": \"module clearfix\"})"
   ]
  },
  {
   "cell_type": "code",
   "execution_count": null,
   "id": "2b928dbb",
   "metadata": {},
   "outputs": [],
   "source": [
    "def top_doc_link_tag(article):\n",
    "    return article.find(\"a\")"
   ]
  },
  {
   "cell_type": "code",
   "execution_count": null,
   "id": "361d9d95",
   "metadata": {},
   "outputs": [],
   "source": [
    "def top_doc_link_url(article):\n",
    "    return top_doc_link_tag(article)[\"href\"]"
   ]
  },
  {
   "cell_type": "code",
   "execution_count": null,
   "id": "a6d97751",
   "metadata": {},
   "outputs": [],
   "source": [
    "def top_doc_movie_title(article):\n",
    "    return top_doc_link_tag(article)[\"title\"]"
   ]
  },
  {
   "cell_type": "code",
   "execution_count": null,
   "id": "9a998573",
   "metadata": {},
   "outputs": [],
   "source": [
    "def top_doc_year(article):\n",
    "    return article.find(\"div\", {\"class\": \"meta-bar\"}).text.strip().split(\",\")[0]"
   ]
  },
  {
   "cell_type": "code",
   "execution_count": null,
   "id": "c218922f",
   "metadata": {},
   "outputs": [],
   "source": [
    "def top_doc_movie_info(article):\n",
    "    return {\"link url\": top_doc_link_url(article), \"movie_title\": top_doc_movie_title(article), \n",
    "            \"year\": top_doc_year(article)}"
   ]
  },
  {
   "cell_type": "code",
   "execution_count": null,
   "id": "597fc327",
   "metadata": {},
   "outputs": [],
   "source": [
    "def top_doc_movies_info(page):\n",
    "    soup = get_soup_url(top_doc_page_url(page))\n",
    "    articles = top_doc_articles(soup)\n",
    "    return [top_doc_movie_info(article) for article in articles]"
   ]
  },
  {
   "cell_type": "code",
   "execution_count": null,
   "id": "8789788c",
   "metadata": {},
   "outputs": [],
   "source": [
    "def run_top_doc_scraper():\n",
    "    data = list()\n",
    "    soup = get_soup_url(top_doc_page_url(1))\n",
    "    print(\"past first soup\")\n",
    "    time.sleep(3)\n",
    "    try:\n",
    "        page = 1\n",
    "        while (not top_doc_last_page(page)):\n",
    "            print(page)\n",
    "            time.sleep(3)\n",
    "            data.append(top_doc_movies_info(page))\n",
    "            page += 1\n",
    "        return pd.DataFrame(data=flatten(data))\n",
    "    except:\n",
    "        return data"
   ]
  },
  {
   "cell_type": "code",
   "execution_count": null,
   "id": "b78503cd",
   "metadata": {},
   "outputs": [],
   "source": [
    "soup = get_soup_url(top_doc_page_url(1))"
   ]
  },
  {
   "cell_type": "code",
   "execution_count": null,
   "id": "33e15671",
   "metadata": {},
   "outputs": [],
   "source": [
    "soup"
   ]
  },
  {
   "cell_type": "code",
   "execution_count": null,
   "id": "6e07a1ee",
   "metadata": {},
   "outputs": [],
   "source": [
    "soup = get_soup_url(streamlord_page_url(1))"
   ]
  },
  {
   "cell_type": "code",
   "execution_count": null,
   "id": "a8fa44d5",
   "metadata": {},
   "outputs": [],
   "source": [
    "soup = get_soup_url(streamlord_page_url(1))\n",
    "divs = streamlord_divs(soup)"
   ]
  },
  {
   "cell_type": "code",
   "execution_count": null,
   "id": "3db83dee",
   "metadata": {},
   "outputs": [],
   "source": [
    "pd.read_csv(\"/Users/timdunn/Desktop/movie_chill.csv\").to_csv(\"/Users/timdunn/Desktop/streamloard_movies.csv\", index=False)"
   ]
  },
  {
   "cell_type": "code",
   "execution_count": null,
   "id": "b34663a3",
   "metadata": {},
   "outputs": [],
   "source": [
    "stars_info = movie_stars_movies_info(1)"
   ]
  },
  {
   "cell_type": "code",
   "execution_count": null,
   "id": "d7fbc022",
   "metadata": {},
   "outputs": [],
   "source": [
    "def download_a_video(video_link, ydl_opts={}):\n",
    "    with youtube_dl.YoutubeDL(ydl_opts) as ydl:\n",
    "            ydl.download([video_link])"
   ]
  },
  {
   "cell_type": "code",
   "execution_count": null,
   "id": "32be7c71",
   "metadata": {},
   "outputs": [],
   "source": [
    "download_a_video(\"https://ok.ru/video/327397411394\")"
   ]
  },
  {
   "cell_type": "code",
   "execution_count": null,
   "id": "5ab47397",
   "metadata": {},
   "outputs": [],
   "source": [
    "stars_data = run_stars_scraper()"
   ]
  },
  {
   "cell_type": "code",
   "execution_count": null,
   "id": "5f6371a9",
   "metadata": {},
   "outputs": [],
   "source": [
    "stars_data.to_csv(\"/Users/timdunn/Desktop/movie_stars.csv\", index=False)"
   ]
  },
  {
   "cell_type": "code",
   "execution_count": null,
   "id": "a6829f32",
   "metadata": {},
   "outputs": [],
   "source": [
    "go_info = go_movies_info(1)"
   ]
  },
  {
   "cell_type": "code",
   "execution_count": null,
   "id": "e9f120fb",
   "metadata": {},
   "outputs": [],
   "source": [
    "soup = get_soup_url(go_page_url(1))"
   ]
  },
  {
   "cell_type": "code",
   "execution_count": null,
   "id": "6d011ade",
   "metadata": {},
   "outputs": [],
   "source": [
    "go_data = run_go_scraper()"
   ]
  },
  {
   "cell_type": "code",
   "execution_count": null,
   "id": "01f863d8",
   "metadata": {},
   "outputs": [],
   "source": [
    "go_data.to_csv(\"/Users/timdunn/Desktop/go.csv\", index=False)"
   ]
  },
  {
   "cell_type": "code",
   "execution_count": null,
   "id": "61e40065",
   "metadata": {},
   "outputs": [],
   "source": [
    "divs = go_divs(soup)"
   ]
  },
  {
   "cell_type": "code",
   "execution_count": null,
   "id": "c68a1068",
   "metadata": {},
   "outputs": [],
   "source": [
    "divs[0]"
   ]
  },
  {
   "cell_type": "code",
   "execution_count": null,
   "id": "a7cc1152",
   "metadata": {},
   "outputs": [],
   "source": [
    "YES_URL = \"https://w5.yesmovies123.me/movies/\""
   ]
  },
  {
   "cell_type": "code",
   "execution_count": null,
   "id": "5b942a6c",
   "metadata": {},
   "outputs": [],
   "source": [
    "movie_infos_yes = movie_info_page(1)"
   ]
  },
  {
   "cell_type": "code",
   "execution_count": null,
   "id": "8352e09a",
   "metadata": {},
   "outputs": [],
   "source": [
    "pd.DataFrame(data=movie_infos_yes)"
   ]
  },
  {
   "cell_type": "code",
   "execution_count": null,
   "id": "29d73134",
   "metadata": {},
   "outputs": [],
   "source": [
    "len(divs)"
   ]
  },
  {
   "cell_type": "code",
   "execution_count": null,
   "id": "742c0f84",
   "metadata": {},
   "outputs": [],
   "source": [
    "def yes_soup_last_page(soup):\n",
    "    return int(soup.find(\"div\", {\"class\": \"pagination\"}).find(\"span\").text.split(\"of\")[-1].strip())"
   ]
  },
  {
   "cell_type": "code",
   "execution_count": null,
   "id": "7225eccb",
   "metadata": {},
   "outputs": [],
   "source": [
    "relevant_divs = list(filter(lambda div: None not in [div.find(\"a\", {\"class\": \"poster\"}), \n",
    "                                                     div.find(\"h2\", {\"class\": \"card-title\"})], divs))"
   ]
  },
  {
   "cell_type": "code",
   "execution_count": null,
   "id": "b3c0cf3a",
   "metadata": {},
   "outputs": [],
   "source": [
    "[movie_info_solar(div) for div in relevant_divs]"
   ]
  },
  {
   "cell_type": "code",
   "execution_count": null,
   "id": "1a8ee1e3",
   "metadata": {},
   "outputs": [],
   "source": [
    "divs[None not in [divs.find(\"a\", {\"class\": \"poster\"}), divs.find(\"h2\", {\"class\": \"card-title\"})]]"
   ]
  },
  {
   "cell_type": "code",
   "execution_count": null,
   "id": "fc4494d3",
   "metadata": {},
   "outputs": [],
   "source": [
    "divs[0].find(\"a\", {\"class\": \"poster\"})"
   ]
  },
  {
   "cell_type": "code",
   "execution_count": null,
   "id": "f7e94216",
   "metadata": {},
   "outputs": [],
   "source": [
    "divs[0]"
   ]
  },
  {
   "cell_type": "code",
   "execution_count": null,
   "id": "357cd79f",
   "metadata": {},
   "outputs": [],
   "source": [
    "movie_infos = [movie_info_solar(div) for div in divs]"
   ]
  },
  {
   "cell_type": "code",
   "execution_count": null,
   "id": "0dd5fe90",
   "metadata": {},
   "outputs": [],
   "source": [
    "solar_df = run_solar_scraper()"
   ]
  },
  {
   "cell_type": "code",
   "execution_count": null,
   "id": "762ee749",
   "metadata": {},
   "outputs": [],
   "source": [
    "solar_df.to_csv(\"/Users/timdunn/Desktop/solar_movie_index.csv\", index=False)"
   ]
  },
  {
   "cell_type": "code",
   "execution_count": null,
   "id": "6348896a",
   "metadata": {},
   "outputs": [],
   "source": [
    "filtered_solar_links = solar_df[(solar_df[\"movie_title\"].astype(str) != \"None\")]"
   ]
  },
  {
   "cell_type": "code",
   "execution_count": null,
   "id": "eec58744",
   "metadata": {},
   "outputs": [],
   "source": [
    "filtered_solar_links"
   ]
  },
  {
   "cell_type": "code",
   "execution_count": null,
   "id": "3cc435b7",
   "metadata": {},
   "outputs": [],
   "source": [
    "print(solar_df.loc[1, \"link url\"] == None)"
   ]
  },
  {
   "cell_type": "code",
   "execution_count": null,
   "id": "eb3bd446",
   "metadata": {},
   "outputs": [],
   "source": [
    "data = flatten([flatten(list(solar_df[column])) for column in range(0, 52)])"
   ]
  },
  {
   "cell_type": "code",
   "execution_count": null,
   "id": "1ba616fb",
   "metadata": {},
   "outputs": [],
   "source": [
    "solar_df['52]"
   ]
  },
  {
   "cell_type": "code",
   "execution_count": null,
   "id": "39ba12d5",
   "metadata": {},
   "outputs": [],
   "source": [
    "data = [list(filter(lambda item: item is not None, solar_df[num])) for num in range(0, 52)]"
   ]
  },
  {
   "cell_type": "code",
   "execution_count": null,
   "id": "f5fd3a0d",
   "metadata": {},
   "outputs": [],
   "source": [
    "solar_df = pd.DataFrame(data=flatten(data)).drop_duplicates()"
   ]
  },
  {
   "cell_type": "code",
   "execution_count": null,
   "id": "e124c124",
   "metadata": {},
   "outputs": [],
   "source": [
    "solar_df[\"link url\"]"
   ]
  },
  {
   "cell_type": "code",
   "execution_count": null,
   "id": "1134bff8",
   "metadata": {},
   "outputs": [],
   "source": [
    "solar_df = solar_df.drop([0], axis=0)"
   ]
  },
  {
   "cell_type": "code",
   "execution_count": null,
   "id": "3495eb5c",
   "metadata": {},
   "outputs": [],
   "source": [
    "last_page = solar_last_page(solar_soup)"
   ]
  },
  {
   "cell_type": "code",
   "execution_count": null,
   "id": "d02706d9",
   "metadata": {},
   "outputs": [],
   "source": [
    "int(last_page.split(\"/\")[-1].split(\".html\")[0])"
   ]
  },
  {
   "cell_type": "code",
   "execution_count": null,
   "id": "82391d89",
   "metadata": {},
   "outputs": [],
   "source": [
    "solar_soup = get_soup_url(SOLAR_URL)"
   ]
  },
  {
   "cell_type": "code",
   "execution_count": null,
   "id": "d6e55911",
   "metadata": {},
   "outputs": [],
   "source": [
    "SOLAR_URL.split(\"/movies\")[0] + solar_soup.find(\"a\", {\"aria-label\": \"Last\"})[\"href\"]"
   ]
  },
  {
   "cell_type": "code",
   "execution_count": null,
   "id": "db93f432",
   "metadata": {},
   "outputs": [],
   "source": [
    "solar_soup.find(\"a\", {\"aria-label\": \"Last\"})[\"href\"]"
   ]
  },
  {
   "cell_type": "code",
   "execution_count": null,
   "id": "bd245fc3",
   "metadata": {},
   "outputs": [],
   "source": [
    "m4u_soup"
   ]
  },
  {
   "cell_type": "code",
   "execution_count": null,
   "id": "df97aeb2",
   "metadata": {},
   "outputs": [],
   "source": [
    "m4u_data = run_m4u_scraper()"
   ]
  },
  {
   "cell_type": "code",
   "execution_count": null,
   "id": "03b8aab8",
   "metadata": {},
   "outputs": [],
   "source": [
    "elements = driver.find_elements(By.CLASS_NAME, \"item\")"
   ]
  },
  {
   "cell_type": "code",
   "execution_count": null,
   "id": "30961ae0",
   "metadata": {},
   "outputs": [],
   "source": [
    "\"https://ww1.m4uhd.cc/movies/all/all/english?page=1407&rate=id&sort=desc\""
   ]
  },
  {
   "cell_type": "code",
   "execution_count": null,
   "id": "daf543ee",
   "metadata": {},
   "outputs": [],
   "source": [
    "\"https://ww1.m4uhd.cc/movies/all/all/english?page=2&rate=id&sort=desc\""
   ]
  },
  {
   "cell_type": "code",
   "execution_count": null,
   "id": "ac39e2c2",
   "metadata": {},
   "outputs": [],
   "source": [
    "len([element.find_element(By.TAG_NAME, \"a\") for element in elements])"
   ]
  },
  {
   "cell_type": "code",
   "execution_count": null,
   "id": "562a5cb3",
   "metadata": {},
   "outputs": [],
   "source": [
    "# div class imagecover\n",
    "# href is the link\n",
    "#title is the movie name"
   ]
  },
  {
   "cell_type": "code",
   "execution_count": null,
   "id": "f87b00de",
   "metadata": {},
   "outputs": [],
   "source": [
    "browse_element = driver.find_element(By.XPATH, \"//select[@name='browse']\")"
   ]
  },
  {
   "cell_type": "code",
   "execution_count": null,
   "id": "5a864d0f",
   "metadata": {},
   "outputs": [],
   "source": [
    "option_element = browse_element.find_element(By.TAG_NAME, \"option\")"
   ]
  },
  {
   "cell_type": "code",
   "execution_count": null,
   "id": "12c1205f",
   "metadata": {},
   "outputs": [],
   "source": [
    "from selenium.webdriver.support.ui import Select"
   ]
  },
  {
   "cell_type": "code",
   "execution_count": null,
   "id": "c34ab39f",
   "metadata": {},
   "outputs": [],
   "source": [
    "select = Select(driver.find_element(By.NAME, 'browse'))"
   ]
  },
  {
   "cell_type": "code",
   "execution_count": null,
   "id": "fcdc9b7f",
   "metadata": {},
   "outputs": [],
   "source": [
    "select.select_by_value('browse')"
   ]
  },
  {
   "cell_type": "code",
   "execution_count": null,
   "id": "fdaf5bd0",
   "metadata": {},
   "outputs": [],
   "source": [
    "driver.quit()"
   ]
  },
  {
   "cell_type": "code",
   "execution_count": null,
   "id": "4247b62c",
   "metadata": {},
   "outputs": [],
   "source": [
    "other_results = run_look_scraper()"
   ]
  },
  {
   "cell_type": "code",
   "execution_count": null,
   "id": "55ca3be2",
   "metadata": {},
   "outputs": [],
   "source": [
    "some_data = pd.DataFrame(data=flatten(other_results))"
   ]
  },
  {
   "cell_type": "code",
   "execution_count": null,
   "id": "65504890",
   "metadata": {},
   "outputs": [],
   "source": [
    "final_df = pd.concat([some_data, pd.read_csv(\"/Users/timdunn/Desktop/look_movie_info.csv\")]).drop_duplicates(\n",
    ").reset_index(drop=True)"
   ]
  },
  {
   "cell_type": "code",
   "execution_count": null,
   "id": "c882ce40",
   "metadata": {},
   "outputs": [],
   "source": [
    "final_df.to_csv(\"/Users/timdunn/Desktop/look_movie_info.csv\", index=False)"
   ]
  },
  {
   "cell_type": "code",
   "execution_count": null,
   "id": "721110e4",
   "metadata": {},
   "outputs": [],
   "source": [
    "final_df[\"link url\"][0].split(\"/\")[-1]"
   ]
  },
  {
   "cell_type": "code",
   "execution_count": null,
   "id": "b62417ce",
   "metadata": {},
   "outputs": [],
   "source": [
    "results.to_csv(\"/Users/timdunn/Desktop/look_movie_info.csv\", index=False)"
   ]
  },
  {
   "cell_type": "code",
   "execution_count": null,
   "id": "33714aff",
   "metadata": {},
   "outputs": [],
   "source": [
    "np.unique(results[\"link url\"]).size"
   ]
  },
  {
   "cell_type": "code",
   "execution_count": null,
   "id": "1e08e59c",
   "metadata": {},
   "outputs": [],
   "source": [
    "np.unique([\"something\"]).size"
   ]
  },
  {
   "cell_type": "code",
   "execution_count": null,
   "id": "8ac5117c",
   "metadata": {},
   "outputs": [],
   "source": [
    "pagination_button = get_pagination_element(driver)"
   ]
  },
  {
   "cell_type": "code",
   "execution_count": null,
   "id": "b5f86842",
   "metadata": {},
   "outputs": [],
   "source": [
    "pagination_button.click()"
   ]
  },
  {
   "cell_type": "code",
   "execution_count": null,
   "id": "ba8c6aed",
   "metadata": {},
   "outputs": [],
   "source": [
    "driver.quit()"
   ]
  },
  {
   "cell_type": "code",
   "execution_count": null,
   "id": "8fb4e363",
   "metadata": {},
   "outputs": [],
   "source": [
    "titles = get_titles(driver)"
   ]
  },
  {
   "cell_type": "code",
   "execution_count": null,
   "id": "d75ed6ae",
   "metadata": {},
   "outputs": [],
   "source": [
    "len(titles)"
   ]
  },
  {
   "cell_type": "code",
   "execution_count": null,
   "id": "8b17af6d",
   "metadata": {},
   "outputs": [],
   "source": [
    "links[0]"
   ]
  },
  {
   "cell_type": "code",
   "execution_count": null,
   "id": "131d1c89",
   "metadata": {},
   "outputs": [],
   "source": [
    "len(driver.find_elements(By.CLASS_NAME,\"mv-item-infor\"))"
   ]
  }
 ],
 "metadata": {
  "kernelspec": {
   "display_name": "Python 3 (ipykernel)",
   "language": "python",
   "name": "python3"
  },
  "language_info": {
   "codemirror_mode": {
    "name": "ipython",
    "version": 3
   },
   "file_extension": ".py",
   "mimetype": "text/x-python",
   "name": "python",
   "nbconvert_exporter": "python",
   "pygments_lexer": "ipython3",
   "version": "3.9.7"
  }
 },
 "nbformat": 4,
 "nbformat_minor": 5
}
